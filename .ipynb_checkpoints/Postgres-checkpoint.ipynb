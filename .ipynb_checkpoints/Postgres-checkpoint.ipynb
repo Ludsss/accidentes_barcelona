{
 "cells": [
  {
   "cell_type": "code",
   "execution_count": 1,
   "metadata": {},
   "outputs": [],
   "source": [
    "conn = 'postgresql://192.168.146.77:5432/postgres'\n",
    "conn\n",
    "\n",
    "import psycopg2\n",
    "conn = psycopg2.connect(\"host='192.168.146.77' port=5432 dbname='accidentes_barcelona' user=postgres password=ludo\")"
   ]
  },
  {
   "cell_type": "code",
   "execution_count": 2,
   "metadata": {},
   "outputs": [],
   "source": [
    "import pandas as pd"
   ]
  },
  {
   "cell_type": "code",
   "execution_count": 3,
   "metadata": {},
   "outputs": [
    {
     "data": {
      "text/plain": [
       "<bound method NDFrame.head of       Num_expediente                   Tipo_accidente\n",
       "0        2015S000215          Colisión fronto-lateral\n",
       "1        2015S000787  Choque contra elemento estático\n",
       "2        2015S000390  Choque contra elemento estático\n",
       "3        2015S007294               Caída (dos ruedas)\n",
       "4        2015S009836                 Colisión lateral\n",
       "5        2015S009453                        Atropello\n",
       "6        2015S007312                          Alcance\n",
       "7        2015S004660          Colisión fronto-lateral\n",
       "8        2015S006407                        Atropello\n",
       "9        2015S009834                 Alcance multiple\n",
       "10       2015S002735                        Atropello\n",
       "11       2015S000784                 Colisión lateral\n",
       "12       2015S003464                 Colisión lateral\n",
       "13       2015S001064                 Colisión lateral\n",
       "14       2015S006090                 Colisión lateral\n",
       "15       2015S002841                        Atropello\n",
       "16       2015S006350                          Alcance\n",
       "17       2015S002520                        Atropello\n",
       "18       2015S008475                 Colisión lateral\n",
       "19       2015S006010  Choque contra elemento estático\n",
       "20       2015S001882                          Alcance\n",
       "21       2015S000598               Caída (dos ruedas)\n",
       "22       2015S002514               Caída (dos ruedas)\n",
       "23       2015S000496          Colisión fronto-lateral\n",
       "24       2015S009845                 Colisión lateral\n",
       "25       2015S005886                          Alcance\n",
       "26       2015S009924          Colisión fronto-lateral\n",
       "27       2015S006700                 Colisión lateral\n",
       "28       2015S002323          Colisión fronto-lateral\n",
       "29       2015S006305                 Colisión lateral\n",
       "...              ...                              ...\n",
       "32202    2017S007431                 Colisión lateral\n",
       "32203    2017S010672                          Alcance\n",
       "32204    2017S000915                 Colisión lateral\n",
       "32205    2017S006021                 Colisión lateral\n",
       "32206    2017S007347                            Otros\n",
       "32207    2017S007689                          Alcance\n",
       "32208    2017S001610          Colisión fronto-lateral\n",
       "32209    2017S002475                 Colisión lateral\n",
       "32210    2017S001315               Caída (dos ruedas)\n",
       "32211    2017S001017                          Alcance\n",
       "32212    2017S000187                        Atropello\n",
       "32213    2017S003254  Choque contra elemento estático\n",
       "32214    2017S008107                          Alcance\n",
       "32215    2017S003134                        Atropello\n",
       "32216    2017S002186                 Alcance multiple\n",
       "32217    2017S000703                          Alcance\n",
       "32218    2017S001890                 Colisión lateral\n",
       "32219    2017S006549                            Otros\n",
       "32220    2017S002188                        Atropello\n",
       "32221    2017S006053                          Alcance\n",
       "32222    2017S008369  Choque contra elemento estático\n",
       "32223    2017S008899                          Alcance\n",
       "32224    2017S000877                 Colisión lateral\n",
       "32225    2017S001377                            Otros\n",
       "32226    2017S008439                 Colisión lateral\n",
       "32227    2017S003667                 Colisión lateral\n",
       "32228    2017S002192          Colisión fronto-lateral\n",
       "32229    2017S001766               Caída (dos ruedas)\n",
       "32230    2017S009106                        Atropello\n",
       "32231    2017S006503          Colisión fronto-lateral\n",
       "\n",
       "[32232 rows x 2 columns]>"
      ]
     },
     "execution_count": 3,
     "metadata": {},
     "output_type": "execute_result"
    }
   ],
   "source": [
    "tipologia=pd.read_csv('Tipología Accidentes/Tipologia_Accidente.csv')\n",
    "tipologia.head"
   ]
  },
  {
   "cell_type": "code",
   "execution_count": 4,
   "metadata": {},
   "outputs": [],
   "source": [
    "descTipologia=tipologia.Tipo_accidente.unique()"
   ]
  },
  {
   "cell_type": "code",
   "execution_count": 5,
   "metadata": {},
   "outputs": [
    {
     "data": {
      "text/plain": [
       "array(['Colisión fronto-lateral', 'Choque contra elemento estático',\n",
       "       'Caída (dos ruedas)', 'Colisión lateral', 'Atropello', 'Alcance',\n",
       "       'Alcance multiple', 'Caída interior vehículo', 'Colisión frontal',\n",
       "       'Otros', 'Vuelco (más de dos ruedas)', 'Desconocido',\n",
       "       'Salida de vía con choque o colisión', 'Persecución',\n",
       "       'Salida de vía con vuelco', 'Choque con animal en la calzada'],\n",
       "      dtype=object)"
      ]
     },
     "execution_count": 5,
     "metadata": {},
     "output_type": "execute_result"
    }
   ],
   "source": [
    "descTipologia"
   ]
  },
  {
   "cell_type": "code",
   "execution_count": null,
   "metadata": {},
   "outputs": [],
   "source": []
  }
 ],
 "metadata": {
  "kernelspec": {
   "display_name": "Python 3",
   "language": "python",
   "name": "python3"
  },
  "language_info": {
   "codemirror_mode": {
    "name": "ipython",
    "version": 3
   },
   "file_extension": ".py",
   "mimetype": "text/x-python",
   "name": "python",
   "nbconvert_exporter": "python",
   "pygments_lexer": "ipython3",
   "version": "3.7.1"
  }
 },
 "nbformat": 4,
 "nbformat_minor": 2
}
