{
 "cells": [
  {
   "cell_type": "code",
   "execution_count": 129,
   "metadata": {},
   "outputs": [],
   "source": [
    "conn = 'postgresql://192.168.146.77:5432/postgres'\n",
    "conn\n",
    "\n",
    "import psycopg2\n",
    "conn = psycopg2.connect(\"host='192.168.146.77' port=5432 dbname='accidentes_barcelona' user=postgres password=ludo\")"
   ]
  },
  {
   "cell_type": "code",
   "execution_count": 130,
   "metadata": {},
   "outputs": [],
   "source": [
    "import pandas as pd"
   ]
  },
  {
   "cell_type": "code",
   "execution_count": 131,
   "metadata": {},
   "outputs": [
    {
     "data": {
      "text/plain": [
       "<bound method NDFrame.head of       Num_expediente                   Tipo_accidente\n",
       "0        2015S000215          Colisión fronto-lateral\n",
       "1        2015S000787  Choque contra elemento estático\n",
       "2        2015S000390  Choque contra elemento estático\n",
       "3        2015S007294               Caída (dos ruedas)\n",
       "4        2015S009836                 Colisión lateral\n",
       "5        2015S009453                        Atropello\n",
       "6        2015S007312                          Alcance\n",
       "7        2015S004660          Colisión fronto-lateral\n",
       "8        2015S006407                        Atropello\n",
       "9        2015S009834                 Alcance multiple\n",
       "10       2015S002735                        Atropello\n",
       "11       2015S000784                 Colisión lateral\n",
       "12       2015S003464                 Colisión lateral\n",
       "13       2015S001064                 Colisión lateral\n",
       "14       2015S006090                 Colisión lateral\n",
       "15       2015S002841                        Atropello\n",
       "16       2015S006350                          Alcance\n",
       "17       2015S002520                        Atropello\n",
       "18       2015S008475                 Colisión lateral\n",
       "19       2015S006010  Choque contra elemento estático\n",
       "20       2015S001882                          Alcance\n",
       "21       2015S000598               Caída (dos ruedas)\n",
       "22       2015S002514               Caída (dos ruedas)\n",
       "23       2015S000496          Colisión fronto-lateral\n",
       "24       2015S009845                 Colisión lateral\n",
       "25       2015S005886                          Alcance\n",
       "26       2015S009924          Colisión fronto-lateral\n",
       "27       2015S006700                 Colisión lateral\n",
       "28       2015S002323          Colisión fronto-lateral\n",
       "29       2015S006305                 Colisión lateral\n",
       "...              ...                              ...\n",
       "32202    2017S007431                 Colisión lateral\n",
       "32203    2017S010672                          Alcance\n",
       "32204    2017S000915                 Colisión lateral\n",
       "32205    2017S006021                 Colisión lateral\n",
       "32206    2017S007347                            Otros\n",
       "32207    2017S007689                          Alcance\n",
       "32208    2017S001610          Colisión fronto-lateral\n",
       "32209    2017S002475                 Colisión lateral\n",
       "32210    2017S001315               Caída (dos ruedas)\n",
       "32211    2017S001017                          Alcance\n",
       "32212    2017S000187                        Atropello\n",
       "32213    2017S003254  Choque contra elemento estático\n",
       "32214    2017S008107                          Alcance\n",
       "32215    2017S003134                        Atropello\n",
       "32216    2017S002186                 Alcance multiple\n",
       "32217    2017S000703                          Alcance\n",
       "32218    2017S001890                 Colisión lateral\n",
       "32219    2017S006549                            Otros\n",
       "32220    2017S002188                        Atropello\n",
       "32221    2017S006053                          Alcance\n",
       "32222    2017S008369  Choque contra elemento estático\n",
       "32223    2017S008899                          Alcance\n",
       "32224    2017S000877                 Colisión lateral\n",
       "32225    2017S001377                            Otros\n",
       "32226    2017S008439                 Colisión lateral\n",
       "32227    2017S003667                 Colisión lateral\n",
       "32228    2017S002192          Colisión fronto-lateral\n",
       "32229    2017S001766               Caída (dos ruedas)\n",
       "32230    2017S009106                        Atropello\n",
       "32231    2017S006503          Colisión fronto-lateral\n",
       "\n",
       "[32232 rows x 2 columns]>"
      ]
     },
     "execution_count": 131,
     "metadata": {},
     "output_type": "execute_result"
    }
   ],
   "source": [
    "tipologia=pd.read_csv('Tipología Accidentes/Tipologia_Accidente.csv')\n",
    "tipologia.head"
   ]
  },
  {
   "cell_type": "code",
   "execution_count": 132,
   "metadata": {},
   "outputs": [],
   "source": [
    "descTipologia=tipologia.Tipo_accidente.unique()"
   ]
  },
  {
   "cell_type": "code",
   "execution_count": 133,
   "metadata": {},
   "outputs": [
    {
     "data": {
      "text/plain": [
       "array(['Colisión fronto-lateral', 'Choque contra elemento estático',\n",
       "       'Caída (dos ruedas)', 'Colisión lateral', 'Atropello', 'Alcance',\n",
       "       'Alcance multiple', 'Caída interior vehículo', 'Colisión frontal',\n",
       "       'Otros', 'Vuelco (más de dos ruedas)', 'Desconocido',\n",
       "       'Salida de vía con choque o colisión', 'Persecución',\n",
       "       'Salida de vía con vuelco', 'Choque con animal en la calzada'],\n",
       "      dtype=object)"
      ]
     },
     "execution_count": 133,
     "metadata": {},
     "output_type": "execute_result"
    }
   ],
   "source": [
    "descTipologia"
   ]
  },
  {
   "cell_type": "code",
   "execution_count": 118,
   "metadata": {},
   "outputs": [],
   "source": [
    "# Get cursor object from the database connection\n",
    "\n",
    "cursor = conn.cursor()\n",
    "\n",
    "name_Table = \"descripcion_tipologia\"\n",
    "\n",
    "\n",
    " # Create table statement\n",
    "\n",
    "sqlCreateTable = \"CREATE TABLE IF NOT NULL \"+name_Table+\" (id_desc_tipologia SERIAL PRIMARY KEY, desc_tipologia VARCHAR(35));\"\n",
    "\n",
    " \n",
    "\n",
    "# Create a table in PostgreSQL database\n",
    "cursor.execute(\"drop table \"+name_Table+\";\")\n",
    "cursor.execute(sqlCreateTable)\n",
    "conn.commit()"
   ]
  },
  {
   "cell_type": "code",
   "execution_count": 102,
   "metadata": {},
   "outputs": [],
   "source": [
    "# Get cursor object from the database connection\n",
    "\n",
    "cursor = conn.cursor()\n",
    "\n",
    "\n",
    " # Create table statement\n",
    "\n",
    "sqlCreateTable = \"SELECT * FROM descripcion_tipologia;\"\n",
    "\n",
    " \n",
    "\n",
    "# Create a table in PostgreSQL database\n",
    "#cursor.execute(\"drop table \"+name_Table+\";\")\n",
    "cursor.execute(sqlCreateTable)\n",
    "conn.commit()"
   ]
  },
  {
   "cell_type": "code",
   "execution_count": 126,
   "metadata": {},
   "outputs": [],
   "source": [
    "# Get cursor object from the database connection\n",
    "\n",
    "cursor = conn.cursor()\n",
    "\n",
    "name_Table = \"descripcion_tipologia4\"\n",
    "\n",
    "\n",
    " # Create table statement\n",
    "\n",
    "sqlCreateTable = \"CREATE TABLE \"+name_Table+\" (id_desc_tipologia SERIAL PRIMARY KEY, desc_tipologia VARCHAR(45));\"\n",
    "\n",
    " \n",
    "\n",
    "# Create a table in PostgreSQL database\n",
    "#cursor.execute(\"drop table \"+name_Table+\";\")\n",
    "cursor.execute(sqlCreateTable)\n",
    "conn.commit()"
   ]
  },
  {
   "cell_type": "code",
   "execution_count": null,
   "metadata": {},
   "outputs": [],
   "source": [
    "import csv\n",
    "cur = conn.cursor()\n",
    "with open('Tipología Accidentes/Tipologia_Accidente.csv', 'r') as f:\n",
    "    reader = csv.reader(f)\n",
    "    next(reader)  # Skip the header row.\n",
    "    for row in reader:\n",
    "        cur.execute(\n",
    "            \"INSERT INTO descripcion_tipologia (desc_tipologia) VALUES (%s)\",\n",
    "            row\n",
    "        )\n",
    "conn.commit()"
   ]
  },
  {
   "cell_type": "code",
   "execution_count": 154,
   "metadata": {},
   "outputs": [
    {
     "data": {
      "text/plain": [
       "['Choque contra elemento estático']"
      ]
     },
     "execution_count": 154,
     "metadata": {},
     "output_type": "execute_result"
    }
   ],
   "source": [
    "v = list(descTipologia)\n",
    "v[1:2]"
   ]
  },
  {
   "cell_type": "code",
   "execution_count": 155,
   "metadata": {},
   "outputs": [
    {
     "ename": "ProgrammingError",
     "evalue": "syntax error at or near \"Choque\"\nLINE 1: ... descripcion_tipologia(desc_tipologia) values ('['Choque con...\n                                                             ^\n",
     "output_type": "error",
     "traceback": [
      "\u001b[0;31m---------------------------------------------------------------------------\u001b[0m",
      "\u001b[0;31mProgrammingError\u001b[0m                          Traceback (most recent call last)",
      "\u001b[0;32m<ipython-input-155-ef99017f6340>\u001b[0m in \u001b[0;36m<module>\u001b[0;34m()\u001b[0m\n\u001b[1;32m      1\u001b[0m \u001b[0mcur\u001b[0m \u001b[0;34m=\u001b[0m \u001b[0mconn\u001b[0m\u001b[0;34m.\u001b[0m\u001b[0mcursor\u001b[0m\u001b[0;34m(\u001b[0m\u001b[0;34m)\u001b[0m\u001b[0;34m\u001b[0m\u001b[0;34m\u001b[0m\u001b[0m\n\u001b[1;32m      2\u001b[0m \u001b[0msql\u001b[0m \u001b[0;34m=\u001b[0m \u001b[0;34m\"insert into descripcion_tipologia(desc_tipologia) values ('{vals}');\"\u001b[0m\u001b[0;34m.\u001b[0m\u001b[0mformat\u001b[0m\u001b[0;34m(\u001b[0m\u001b[0mvals\u001b[0m\u001b[0;34m=\u001b[0m\u001b[0mv\u001b[0m\u001b[0;34m[\u001b[0m\u001b[0;36m1\u001b[0m\u001b[0;34m:\u001b[0m\u001b[0;36m2\u001b[0m\u001b[0;34m]\u001b[0m\u001b[0;34m)\u001b[0m\u001b[0;34m\u001b[0m\u001b[0;34m\u001b[0m\u001b[0m\n\u001b[0;32m----> 3\u001b[0;31m \u001b[0mcursor\u001b[0m\u001b[0;34m.\u001b[0m\u001b[0mexecute\u001b[0m\u001b[0;34m(\u001b[0m\u001b[0msql\u001b[0m\u001b[0;34m)\u001b[0m\u001b[0;34m\u001b[0m\u001b[0;34m\u001b[0m\u001b[0m\n\u001b[0m\u001b[1;32m      4\u001b[0m \u001b[0mconn\u001b[0m\u001b[0;34m.\u001b[0m\u001b[0mcommit\u001b[0m\u001b[0;34m(\u001b[0m\u001b[0;34m)\u001b[0m\u001b[0;34m\u001b[0m\u001b[0;34m\u001b[0m\u001b[0m\n",
      "\u001b[0;31mProgrammingError\u001b[0m: syntax error at or near \"Choque\"\nLINE 1: ... descripcion_tipologia(desc_tipologia) values ('['Choque con...\n                                                             ^\n"
     ]
    }
   ],
   "source": [
    "cur = conn.cursor()\n",
    "sql = \"insert into descripcion_tipologia(desc_tipologia) values ('{vals}');\".format(vals=v[1:2])\n",
    "cursor.execute(sql)\n",
    "conn.commit()"
   ]
  },
  {
   "cell_type": "code",
   "execution_count": 142,
   "metadata": {},
   "outputs": [
    {
     "ename": "TypeError",
     "evalue": "not all arguments converted during string formatting",
     "output_type": "error",
     "traceback": [
      "\u001b[0;31m---------------------------------------------------------------------------\u001b[0m",
      "\u001b[0;31mTypeError\u001b[0m                                 Traceback (most recent call last)",
      "\u001b[0;32m<ipython-input-142-b0766b44795a>\u001b[0m in \u001b[0;36m<module>\u001b[0;34m()\u001b[0m\n\u001b[1;32m      1\u001b[0m \u001b[0mcursor\u001b[0m \u001b[0;34m=\u001b[0m \u001b[0mconn\u001b[0m\u001b[0;34m.\u001b[0m\u001b[0mcursor\u001b[0m\u001b[0;34m(\u001b[0m\u001b[0;34m)\u001b[0m\u001b[0;34m\u001b[0m\u001b[0;34m\u001b[0m\u001b[0m\n\u001b[0;32m----> 2\u001b[0;31m \u001b[0mcursor\u001b[0m\u001b[0;34m.\u001b[0m\u001b[0mexecute\u001b[0m\u001b[0;34m(\u001b[0m\u001b[0;34m\"INSERT INTO descripcion_tipologia4(desc_tipologia) VALUES (%s);\"\u001b[0m\u001b[0;34m,\u001b[0m \u001b[0mlist\u001b[0m\u001b[0;34m(\u001b[0m\u001b[0mstr\u001b[0m\u001b[0;34m(\u001b[0m\u001b[0mdescTipologia\u001b[0m\u001b[0;34m)\u001b[0m\u001b[0;34m)\u001b[0m\u001b[0;34m)\u001b[0m\u001b[0;34m\u001b[0m\u001b[0;34m\u001b[0m\u001b[0m\n\u001b[0m\u001b[1;32m      3\u001b[0m \u001b[0mconn\u001b[0m\u001b[0;34m.\u001b[0m\u001b[0mcommit\u001b[0m\u001b[0;34m(\u001b[0m\u001b[0;34m)\u001b[0m\u001b[0;34m\u001b[0m\u001b[0;34m\u001b[0m\u001b[0m\n",
      "\u001b[0;31mTypeError\u001b[0m: not all arguments converted during string formatting"
     ]
    }
   ],
   "source": [
    "cursor = conn.cursor()\n",
    "cursor.execute(\"INSERT INTO descripcion_tipologia4(desc_tipologia) VALUES (%s);\", list(str(descTipologia)))\n",
    "conn.commit()"
   ]
  },
  {
   "cell_type": "code",
   "execution_count": 138,
   "metadata": {},
   "outputs": [
    {
     "data": {
      "text/plain": [
       "array(['Colisión fronto-lateral', 'Choque contra elemento estático',\n",
       "       'Caída (dos ruedas)', 'Colisión lateral', 'Atropello', 'Alcance',\n",
       "       'Alcance multiple', 'Caída interior vehículo', 'Colisión frontal',\n",
       "       'Otros', 'Vuelco (más de dos ruedas)', 'Desconocido',\n",
       "       'Salida de vía con choque o colisión', 'Persecución',\n",
       "       'Salida de vía con vuelco', 'Choque con animal en la calzada'],\n",
       "      dtype=object)"
      ]
     },
     "execution_count": 138,
     "metadata": {},
     "output_type": "execute_result"
    }
   ],
   "source": [
    "descTipologia"
   ]
  },
  {
   "cell_type": "code",
   "execution_count": 139,
   "metadata": {},
   "outputs": [
    {
     "data": {
      "text/plain": [
       "['Colisión fronto-lateral',\n",
       " 'Choque contra elemento estático',\n",
       " 'Caída (dos ruedas)',\n",
       " 'Colisión lateral',\n",
       " 'Atropello',\n",
       " 'Alcance',\n",
       " 'Alcance multiple',\n",
       " 'Caída interior vehículo',\n",
       " 'Colisión frontal',\n",
       " 'Otros',\n",
       " 'Vuelco (más de dos ruedas)',\n",
       " 'Desconocido',\n",
       " 'Salida de vía con choque o colisión',\n",
       " 'Persecución',\n",
       " 'Salida de vía con vuelco',\n",
       " 'Choque con animal en la calzada']"
      ]
     },
     "execution_count": 139,
     "metadata": {},
     "output_type": "execute_result"
    }
   ],
   "source": [
    "list(descTipologia)"
   ]
  },
  {
   "cell_type": "code",
   "execution_count": null,
   "metadata": {},
   "outputs": [],
   "source": []
  }
 ],
 "metadata": {
  "kernelspec": {
   "display_name": "Python 3",
   "language": "python",
   "name": "python3"
  },
  "language_info": {
   "codemirror_mode": {
    "name": "ipython",
    "version": 3
   },
   "file_extension": ".py",
   "mimetype": "text/x-python",
   "name": "python",
   "nbconvert_exporter": "python",
   "pygments_lexer": "ipython3",
   "version": "3.7.2"
  }
 },
 "nbformat": 4,
 "nbformat_minor": 2
}
