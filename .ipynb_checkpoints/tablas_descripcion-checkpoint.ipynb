{
 "cells": [
  {
   "cell_type": "markdown",
   "metadata": {},
   "source": [
    "## POSTGRES: CONEXIÓN E INSERCIÓN DE DATOS A LA BBDD\n",
    "\n",
    "Para conectarse con postgres se ha decidido utilizar el ordenador de Ludovica como servidor local y se ha configurado para que se pudiera acceder de otros ordenadores. Esto trae como limitación que para trabajar se tiene que estar todos conectados desde la misma red y cambiar la configuración cada vez que cambia la IP."
   ]
  },
  {
   "cell_type": "markdown",
   "metadata": {},
   "source": [
    "En este notebook se explica el procedimiento seguido para crear y llenar la tabla de *descripcion_tipologia_accidente*. Este procedimiento se repitió para todas las tablas cuyo nombre empieza por *descripcion*, excepto la de *descripcion_fecha_accidente_y_su_clima*. "
   ]
  },
  {
   "cell_type": "markdown",
   "metadata": {},
   "source": [
    "Conexión con Postgres"
   ]
  },
  {
   "cell_type": "code",
   "execution_count": null,
   "metadata": {},
   "outputs": [],
   "source": [
    "conn = 'postgresql://192.168.145.240:5432/postgres'\n",
    "conn\n",
    "\n",
    "import psycopg2\n",
    "conn = psycopg2.connect(\"host='192.168.145.240' port=5432 dbname='accidentes_barcelona' user=postgres password=ludo\")"
   ]
  },
  {
   "cell_type": "code",
   "execution_count": null,
   "metadata": {},
   "outputs": [],
   "source": [
    "cursor = conn.cursor()"
   ]
  },
  {
   "cell_type": "markdown",
   "metadata": {},
   "source": [
    "Importación pandas"
   ]
  },
  {
   "cell_type": "code",
   "execution_count": null,
   "metadata": {},
   "outputs": [],
   "source": [
    "import pandas as pd"
   ]
  },
  {
   "cell_type": "markdown",
   "metadata": {},
   "source": [
    "Importación del CSV de tipología"
   ]
  },
  {
   "cell_type": "code",
   "execution_count": null,
   "metadata": {},
   "outputs": [],
   "source": [
    "tipologia = pd.read_csv('Tipología Accidentes/Tipologia_Accidente.csv')\n",
    "tipologia.head"
   ]
  },
  {
   "cell_type": "markdown",
   "metadata": {},
   "source": [
    "Creación de un array con los valores únicos de la descripción de la tipología"
   ]
  },
  {
   "cell_type": "code",
   "execution_count": null,
   "metadata": {},
   "outputs": [],
   "source": [
    "descTipologia = tipologia.Tipo_accidente.unique()"
   ]
  },
  {
   "cell_type": "code",
   "execution_count": null,
   "metadata": {},
   "outputs": [],
   "source": [
    "descTipologia"
   ]
  },
  {
   "cell_type": "markdown",
   "metadata": {},
   "source": [
    "Creación de la tabla de la descripción de la tipología de los accidentes"
   ]
  },
  {
   "cell_type": "code",
   "execution_count": null,
   "metadata": {},
   "outputs": [],
   "source": [
    "cursor = conn.cursor()\n",
    "\n",
    "name_Table = \"descripcion_tipologia_accidente\"\n",
    "sqlCreateTable = \"CREATE TABLE \" + name_Table + \" (id_desc_tipologia SERIAL PRIMARY KEY, desc_tipologia VARCHAR(35));\"\n",
    "\n",
    "cursor.execute(sqlCreateTable)\n",
    "conn.commit()"
   ]
  },
  {
   "cell_type": "markdown",
   "metadata": {},
   "source": [
    "Introducción de los datos en la tabla"
   ]
  },
  {
   "cell_type": "code",
   "execution_count": null,
   "metadata": {},
   "outputs": [],
   "source": [
    "tipo = list(descTipologia)\n",
    "cur = conn.cursor()\n",
    "for tipo in descTipologia:\n",
    "    sql = \"INSERT INTO descripcion_tipologia_accidente(desc_tipologia) VALUES ('{vals}');\".format(vals=str(tipo))\n",
    "    cur.execute(sql)\n",
    "conn.commit()"
   ]
  },
  {
   "cell_type": "markdown",
   "metadata": {},
   "source": [
    "Se revisa que se hayan insertado correctamente los datos"
   ]
  },
  {
   "cell_type": "code",
   "execution_count": null,
   "metadata": {},
   "outputs": [],
   "source": [
    "cur.execute(\"SELECT * FROM descripcion_tipologia_accidente;\")\n",
    "cur.fetchall()"
   ]
  }
 ],
 "metadata": {
  "kernelspec": {
   "display_name": "Python 3",
   "language": "python",
   "name": "python3"
  },
  "language_info": {
   "codemirror_mode": {
    "name": "ipython",
    "version": 3
   },
   "file_extension": ".py",
   "mimetype": "text/x-python",
   "name": "python",
   "nbconvert_exporter": "python",
   "pygments_lexer": "ipython3",
   "version": "3.7.2"
  }
 },
 "nbformat": 4,
 "nbformat_minor": 2
}
