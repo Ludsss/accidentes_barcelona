{
 "cells": [
  {
   "cell_type": "markdown",
   "metadata": {},
   "source": [
    "## Tipología\n",
    "A continuación se va a realizar la limpieza de los datos de accidentes gestionados por la Guardia Urbana en la ciudad de Barcelona según tipología obtenidos en la web de Open Data BCN\n",
    "\n"
   ]
  },
  {
   "cell_type": "markdown",
   "metadata": {},
   "source": [
    "Importo la herramienta de pandas que me permite trabajar sobre los datos "
   ]
  },
  {
   "cell_type": "code",
   "execution_count": 1,
   "metadata": {},
   "outputs": [],
   "source": [
    "import pandas as pd"
   ]
  },
  {
   "cell_type": "markdown",
   "metadata": {},
   "source": [
    "Exportamos los csv "
   ]
  },
  {
   "cell_type": "code",
   "execution_count": 2,
   "metadata": {},
   "outputs": [],
   "source": [
    "tipologia15=pd.read_csv('tipologia15.csv', index_col=False)\n",
    "tipologia16=pd.read_csv('tipologia16.csv', index_col=False)\n",
    "tipologia17=pd.read_csv('tipologia17.csv', index_col=False)"
   ]
  },
  {
   "cell_type": "markdown",
   "metadata": {},
   "source": [
    "Inspecciono los tipos de datos de cada tabla y la cantidad de filas y columnas"
   ]
  },
  {
   "cell_type": "code",
   "execution_count": 3,
   "metadata": {},
   "outputs": [
    {
     "data": {
      "text/plain": [
       "Número d expedient            object\n",
       "Codi districte               float64\n",
       "Nom districte                 object\n",
       "Codi barri                   float64\n",
       "Nom barri                     object\n",
       "Codi carrer                  float64\n",
       "Nom carrer                    object\n",
       "Num postal caption            object\n",
       "Descripció dia setmana        object\n",
       "Dia setmana                   object\n",
       "Descripció tipus dia          object\n",
       "NK Any                       float64\n",
       "Mes de any                   float64\n",
       "Nom mes                       object\n",
       "Dia de mes                   float64\n",
       "Hora de dia                  float64\n",
       "Descripció torn               object\n",
       "Descripció tipus accident     object\n",
       "Coordenada UTM (Y)            object\n",
       "Coordenada UTM (X)            object\n",
       "dtype: object"
      ]
     },
     "execution_count": 3,
     "metadata": {},
     "output_type": "execute_result"
    }
   ],
   "source": [
    "tipologia15.dtypes"
   ]
  },
  {
   "cell_type": "code",
   "execution_count": 4,
   "metadata": {},
   "outputs": [
    {
     "data": {
      "text/plain": [
       "(10522, 20)"
      ]
     },
     "execution_count": 4,
     "metadata": {},
     "output_type": "execute_result"
    }
   ],
   "source": [
    "tipologia15.shape"
   ]
  },
  {
   "cell_type": "code",
   "execution_count": 5,
   "metadata": {},
   "outputs": [
    {
     "data": {
      "text/plain": [
       "Número d'expedient            object\n",
       "Codi districte                 int64\n",
       "Nom districte                 object\n",
       "Codi barri                     int64\n",
       "Nom barri                     object\n",
       "Codi carrer                    int64\n",
       "Nom carrer                    object\n",
       "Num postal caption            object\n",
       "Descripció dia setmana        object\n",
       "Dia setmana                   object\n",
       "Descripció tipus dia          object\n",
       "NK Any                         int64\n",
       "Mes de any                     int64\n",
       "Nom mes                       object\n",
       "Dia de mes                     int64\n",
       "Hora de dia                    int64\n",
       "Descripció torn               object\n",
       "Descripció tipus accident     object\n",
       "Coordenada UTM (X)            object\n",
       "Coordenada UTM (Y)            object\n",
       "Long                         float64\n",
       "Lat                          float64\n",
       "dtype: object"
      ]
     },
     "execution_count": 5,
     "metadata": {},
     "output_type": "execute_result"
    }
   ],
   "source": [
    "tipologia16.dtypes"
   ]
  },
  {
   "cell_type": "code",
   "execution_count": 6,
   "metadata": {},
   "outputs": [
    {
     "data": {
      "text/plain": [
       "(10701, 22)"
      ]
     },
     "execution_count": 6,
     "metadata": {},
     "output_type": "execute_result"
    }
   ],
   "source": [
    "tipologia16.shape"
   ]
  },
  {
   "cell_type": "code",
   "execution_count": 7,
   "metadata": {},
   "outputs": [
    {
     "data": {
      "text/plain": [
       "Número d'expedient           object\n",
       "Codi districte                int64\n",
       "Nom districte                object\n",
       "Codi barri                    int64\n",
       "Nom barri                    object\n",
       "Codi carrer                   int64\n",
       "Nom carrer                   object\n",
       "Num postal caption           object\n",
       "Descripció dia setmana       object\n",
       "Dia setmana                  object\n",
       "Descripció tipus dia         object\n",
       "NK Any                        int64\n",
       "Mes de any                    int64\n",
       "Nom mes                      object\n",
       "Dia de mes                    int64\n",
       "Hora de dia                   int64\n",
       "Descripció torn              object\n",
       "Descripció tipus accident    object\n",
       "Coordenada UTM (X)           object\n",
       "Coordenada UTM (Y)           object\n",
       "Londitud                     object\n",
       "Latitud                      object\n",
       "dtype: object"
      ]
     },
     "execution_count": 7,
     "metadata": {},
     "output_type": "execute_result"
    }
   ],
   "source": [
    "tipologia17.dtypes"
   ]
  },
  {
   "cell_type": "code",
   "execution_count": 8,
   "metadata": {},
   "outputs": [
    {
     "data": {
      "text/plain": [
       "(11009, 22)"
      ]
     },
     "execution_count": 8,
     "metadata": {},
     "output_type": "execute_result"
    }
   ],
   "source": [
    "tipologia17.shape"
   ]
  },
  {
   "cell_type": "markdown",
   "metadata": {},
   "source": [
    "A continuación selecciono las columnas que me interesan de los DataFrames; en el caso de tipología vamos a utilizar el número de expediente y la descripción del tipo de accidente. "
   ]
  },
  {
   "cell_type": "code",
   "execution_count": 9,
   "metadata": {
    "scrolled": false
   },
   "outputs": [
    {
     "data": {
      "text/html": [
       "<div>\n",
       "<style scoped>\n",
       "    .dataframe tbody tr th:only-of-type {\n",
       "        vertical-align: middle;\n",
       "    }\n",
       "\n",
       "    .dataframe tbody tr th {\n",
       "        vertical-align: top;\n",
       "    }\n",
       "\n",
       "    .dataframe thead th {\n",
       "        text-align: right;\n",
       "    }\n",
       "</style>\n",
       "<table border=\"1\" class=\"dataframe\">\n",
       "  <thead>\n",
       "    <tr style=\"text-align: right;\">\n",
       "      <th></th>\n",
       "      <th>Número d expedient</th>\n",
       "      <th>Descripció tipus accident</th>\n",
       "    </tr>\n",
       "  </thead>\n",
       "  <tbody>\n",
       "    <tr>\n",
       "      <th>0</th>\n",
       "      <td>2015S000215</td>\n",
       "      <td>Col.lisió fronto-lateral</td>\n",
       "    </tr>\n",
       "    <tr>\n",
       "      <th>1</th>\n",
       "      <td>2015S000787</td>\n",
       "      <td>Xoc contra element estàtic</td>\n",
       "    </tr>\n",
       "    <tr>\n",
       "      <th>2</th>\n",
       "      <td>2015S000390</td>\n",
       "      <td>Xoc contra element estàtic</td>\n",
       "    </tr>\n",
       "    <tr>\n",
       "      <th>3</th>\n",
       "      <td>2015S007294</td>\n",
       "      <td>Caiguda (dues rodes)</td>\n",
       "    </tr>\n",
       "    <tr>\n",
       "      <th>4</th>\n",
       "      <td>2015S009836</td>\n",
       "      <td>Col.lisió lateral</td>\n",
       "    </tr>\n",
       "  </tbody>\n",
       "</table>\n",
       "</div>"
      ],
      "text/plain": [
       "  Número d expedient   Descripció tipus accident\n",
       "0        2015S000215    Col.lisió fronto-lateral\n",
       "1        2015S000787  Xoc contra element estàtic\n",
       "2        2015S000390  Xoc contra element estàtic\n",
       "3        2015S007294        Caiguda (dues rodes)\n",
       "4        2015S009836           Col.lisió lateral"
      ]
     },
     "execution_count": 9,
     "metadata": {},
     "output_type": "execute_result"
    }
   ],
   "source": [
    "tipo15 = tipologia15.iloc[:,[0,17]]\n",
    "tipo15.head()"
   ]
  },
  {
   "cell_type": "code",
   "execution_count": 10,
   "metadata": {},
   "outputs": [
    {
     "data": {
      "text/html": [
       "<div>\n",
       "<style scoped>\n",
       "    .dataframe tbody tr th:only-of-type {\n",
       "        vertical-align: middle;\n",
       "    }\n",
       "\n",
       "    .dataframe tbody tr th {\n",
       "        vertical-align: top;\n",
       "    }\n",
       "\n",
       "    .dataframe thead th {\n",
       "        text-align: right;\n",
       "    }\n",
       "</style>\n",
       "<table border=\"1\" class=\"dataframe\">\n",
       "  <thead>\n",
       "    <tr style=\"text-align: right;\">\n",
       "      <th></th>\n",
       "      <th>Número d'expedient</th>\n",
       "      <th>Descripció tipus accident</th>\n",
       "    </tr>\n",
       "  </thead>\n",
       "  <tbody>\n",
       "    <tr>\n",
       "      <th>0</th>\n",
       "      <td>2016S002575</td>\n",
       "      <td>Abast</td>\n",
       "    </tr>\n",
       "    <tr>\n",
       "      <th>1</th>\n",
       "      <td>2016S001146</td>\n",
       "      <td>Col.lisió lateral</td>\n",
       "    </tr>\n",
       "    <tr>\n",
       "      <th>2</th>\n",
       "      <td>2016S009619</td>\n",
       "      <td>Atropellament</td>\n",
       "    </tr>\n",
       "    <tr>\n",
       "      <th>3</th>\n",
       "      <td>2016S003881</td>\n",
       "      <td>Xoc contra element estàtic</td>\n",
       "    </tr>\n",
       "    <tr>\n",
       "      <th>4</th>\n",
       "      <td>2016S004162</td>\n",
       "      <td>Xoc contra element estàtic</td>\n",
       "    </tr>\n",
       "  </tbody>\n",
       "</table>\n",
       "</div>"
      ],
      "text/plain": [
       "  Número d'expedient   Descripció tipus accident\n",
       "0    2016S002575                           Abast\n",
       "1    2016S001146               Col.lisió lateral\n",
       "2    2016S009619                   Atropellament\n",
       "3    2016S003881      Xoc contra element estàtic\n",
       "4    2016S004162      Xoc contra element estàtic"
      ]
     },
     "execution_count": 10,
     "metadata": {},
     "output_type": "execute_result"
    }
   ],
   "source": [
    "tipo16 = tipologia16.iloc[:,[0,17]]\n",
    "tipo16.head()"
   ]
  },
  {
   "cell_type": "code",
   "execution_count": 11,
   "metadata": {},
   "outputs": [
    {
     "data": {
      "text/html": [
       "<div>\n",
       "<style scoped>\n",
       "    .dataframe tbody tr th:only-of-type {\n",
       "        vertical-align: middle;\n",
       "    }\n",
       "\n",
       "    .dataframe tbody tr th {\n",
       "        vertical-align: top;\n",
       "    }\n",
       "\n",
       "    .dataframe thead th {\n",
       "        text-align: right;\n",
       "    }\n",
       "</style>\n",
       "<table border=\"1\" class=\"dataframe\">\n",
       "  <thead>\n",
       "    <tr style=\"text-align: right;\">\n",
       "      <th></th>\n",
       "      <th>Número d'expedient</th>\n",
       "      <th>Descripció tipus accident</th>\n",
       "    </tr>\n",
       "  </thead>\n",
       "  <tbody>\n",
       "    <tr>\n",
       "      <th>0</th>\n",
       "      <td>2017S009418</td>\n",
       "      <td>Abast</td>\n",
       "    </tr>\n",
       "    <tr>\n",
       "      <th>1</th>\n",
       "      <td>2017S008852</td>\n",
       "      <td>Col.lisió fronto-lateral</td>\n",
       "    </tr>\n",
       "    <tr>\n",
       "      <th>2</th>\n",
       "      <td>2017S001023</td>\n",
       "      <td>Col.lisió lateral</td>\n",
       "    </tr>\n",
       "    <tr>\n",
       "      <th>3</th>\n",
       "      <td>2017S009198</td>\n",
       "      <td>Col.lisió fronto-lateral</td>\n",
       "    </tr>\n",
       "    <tr>\n",
       "      <th>4</th>\n",
       "      <td>2017S006546</td>\n",
       "      <td>Abast</td>\n",
       "    </tr>\n",
       "  </tbody>\n",
       "</table>\n",
       "</div>"
      ],
      "text/plain": [
       "  Número d'expedient Descripció tipus accident\n",
       "0    2017S009418                         Abast\n",
       "1    2017S008852      Col.lisió fronto-lateral\n",
       "2    2017S001023             Col.lisió lateral\n",
       "3    2017S009198      Col.lisió fronto-lateral\n",
       "4    2017S006546                         Abast"
      ]
     },
     "execution_count": 11,
     "metadata": {},
     "output_type": "execute_result"
    }
   ],
   "source": [
    "tipo17 = tipologia17.iloc[:,[0,17]]\n",
    "tipo17.head()"
   ]
  },
  {
   "cell_type": "markdown",
   "metadata": {},
   "source": [
    "En este caso, los nombres de las columnas no son iguales por lo que se deben renombrar antes de poder juntar. Además se traducen los nombres al castellano. "
   ]
  },
  {
   "cell_type": "code",
   "execution_count": 12,
   "metadata": {},
   "outputs": [
    {
     "name": "stderr",
     "output_type": "stream",
     "text": [
      "/anaconda3/lib/python3.7/site-packages/pandas/core/frame.py:3781: SettingWithCopyWarning: \n",
      "A value is trying to be set on a copy of a slice from a DataFrame\n",
      "\n",
      "See the caveats in the documentation: http://pandas.pydata.org/pandas-docs/stable/indexing.html#indexing-view-versus-copy\n",
      "  return super(DataFrame, self).rename(**kwargs)\n"
     ]
    },
    {
     "data": {
      "text/html": [
       "<div>\n",
       "<style scoped>\n",
       "    .dataframe tbody tr th:only-of-type {\n",
       "        vertical-align: middle;\n",
       "    }\n",
       "\n",
       "    .dataframe tbody tr th {\n",
       "        vertical-align: top;\n",
       "    }\n",
       "\n",
       "    .dataframe thead th {\n",
       "        text-align: right;\n",
       "    }\n",
       "</style>\n",
       "<table border=\"1\" class=\"dataframe\">\n",
       "  <thead>\n",
       "    <tr style=\"text-align: right;\">\n",
       "      <th></th>\n",
       "      <th>Num_expediente</th>\n",
       "      <th>Tipo_accidente</th>\n",
       "    </tr>\n",
       "  </thead>\n",
       "  <tbody>\n",
       "    <tr>\n",
       "      <th>0</th>\n",
       "      <td>2015S000215</td>\n",
       "      <td>Col.lisió fronto-lateral</td>\n",
       "    </tr>\n",
       "    <tr>\n",
       "      <th>1</th>\n",
       "      <td>2015S000787</td>\n",
       "      <td>Xoc contra element estàtic</td>\n",
       "    </tr>\n",
       "    <tr>\n",
       "      <th>2</th>\n",
       "      <td>2015S000390</td>\n",
       "      <td>Xoc contra element estàtic</td>\n",
       "    </tr>\n",
       "    <tr>\n",
       "      <th>3</th>\n",
       "      <td>2015S007294</td>\n",
       "      <td>Caiguda (dues rodes)</td>\n",
       "    </tr>\n",
       "    <tr>\n",
       "      <th>4</th>\n",
       "      <td>2015S009836</td>\n",
       "      <td>Col.lisió lateral</td>\n",
       "    </tr>\n",
       "  </tbody>\n",
       "</table>\n",
       "</div>"
      ],
      "text/plain": [
       "  Num_expediente              Tipo_accidente\n",
       "0    2015S000215    Col.lisió fronto-lateral\n",
       "1    2015S000787  Xoc contra element estàtic\n",
       "2    2015S000390  Xoc contra element estàtic\n",
       "3    2015S007294        Caiguda (dues rodes)\n",
       "4    2015S009836           Col.lisió lateral"
      ]
     },
     "execution_count": 12,
     "metadata": {},
     "output_type": "execute_result"
    }
   ],
   "source": [
    "tipo15.rename(columns={\"Número d expedient\":'Num_expediente',\"Descripció tipus accident\":\"Tipo_accidente\"},\n",
    "                      inplace=True)\n",
    "tipo15.head()"
   ]
  },
  {
   "cell_type": "code",
   "execution_count": 13,
   "metadata": {},
   "outputs": [
    {
     "name": "stderr",
     "output_type": "stream",
     "text": [
      "/anaconda3/lib/python3.7/site-packages/pandas/core/frame.py:3781: SettingWithCopyWarning: \n",
      "A value is trying to be set on a copy of a slice from a DataFrame\n",
      "\n",
      "See the caveats in the documentation: http://pandas.pydata.org/pandas-docs/stable/indexing.html#indexing-view-versus-copy\n",
      "  return super(DataFrame, self).rename(**kwargs)\n"
     ]
    },
    {
     "data": {
      "text/html": [
       "<div>\n",
       "<style scoped>\n",
       "    .dataframe tbody tr th:only-of-type {\n",
       "        vertical-align: middle;\n",
       "    }\n",
       "\n",
       "    .dataframe tbody tr th {\n",
       "        vertical-align: top;\n",
       "    }\n",
       "\n",
       "    .dataframe thead th {\n",
       "        text-align: right;\n",
       "    }\n",
       "</style>\n",
       "<table border=\"1\" class=\"dataframe\">\n",
       "  <thead>\n",
       "    <tr style=\"text-align: right;\">\n",
       "      <th></th>\n",
       "      <th>Num_expediente</th>\n",
       "      <th>Tipo_accidente</th>\n",
       "    </tr>\n",
       "  </thead>\n",
       "  <tbody>\n",
       "    <tr>\n",
       "      <th>0</th>\n",
       "      <td>2016S002575</td>\n",
       "      <td>Abast</td>\n",
       "    </tr>\n",
       "    <tr>\n",
       "      <th>1</th>\n",
       "      <td>2016S001146</td>\n",
       "      <td>Col.lisió lateral</td>\n",
       "    </tr>\n",
       "    <tr>\n",
       "      <th>2</th>\n",
       "      <td>2016S009619</td>\n",
       "      <td>Atropellament</td>\n",
       "    </tr>\n",
       "    <tr>\n",
       "      <th>3</th>\n",
       "      <td>2016S003881</td>\n",
       "      <td>Xoc contra element estàtic</td>\n",
       "    </tr>\n",
       "    <tr>\n",
       "      <th>4</th>\n",
       "      <td>2016S004162</td>\n",
       "      <td>Xoc contra element estàtic</td>\n",
       "    </tr>\n",
       "  </tbody>\n",
       "</table>\n",
       "</div>"
      ],
      "text/plain": [
       "    Num_expediente              Tipo_accidente\n",
       "0  2016S002575                           Abast\n",
       "1  2016S001146               Col.lisió lateral\n",
       "2  2016S009619                   Atropellament\n",
       "3  2016S003881      Xoc contra element estàtic\n",
       "4  2016S004162      Xoc contra element estàtic"
      ]
     },
     "execution_count": 13,
     "metadata": {},
     "output_type": "execute_result"
    }
   ],
   "source": [
    "tipo16.rename(columns={\"Número d'expedient\":'Num_expediente',\"Descripció tipus accident\":\"Tipo_accidente\"},\n",
    "                      inplace=True)\n",
    "tipo16.head()"
   ]
  },
  {
   "cell_type": "code",
   "execution_count": 14,
   "metadata": {},
   "outputs": [
    {
     "name": "stderr",
     "output_type": "stream",
     "text": [
      "/anaconda3/lib/python3.7/site-packages/pandas/core/frame.py:3781: SettingWithCopyWarning: \n",
      "A value is trying to be set on a copy of a slice from a DataFrame\n",
      "\n",
      "See the caveats in the documentation: http://pandas.pydata.org/pandas-docs/stable/indexing.html#indexing-view-versus-copy\n",
      "  return super(DataFrame, self).rename(**kwargs)\n"
     ]
    },
    {
     "data": {
      "text/html": [
       "<div>\n",
       "<style scoped>\n",
       "    .dataframe tbody tr th:only-of-type {\n",
       "        vertical-align: middle;\n",
       "    }\n",
       "\n",
       "    .dataframe tbody tr th {\n",
       "        vertical-align: top;\n",
       "    }\n",
       "\n",
       "    .dataframe thead th {\n",
       "        text-align: right;\n",
       "    }\n",
       "</style>\n",
       "<table border=\"1\" class=\"dataframe\">\n",
       "  <thead>\n",
       "    <tr style=\"text-align: right;\">\n",
       "      <th></th>\n",
       "      <th>Num_expediente</th>\n",
       "      <th>Tipo_accidente</th>\n",
       "    </tr>\n",
       "  </thead>\n",
       "  <tbody>\n",
       "    <tr>\n",
       "      <th>0</th>\n",
       "      <td>2017S009418</td>\n",
       "      <td>Abast</td>\n",
       "    </tr>\n",
       "    <tr>\n",
       "      <th>1</th>\n",
       "      <td>2017S008852</td>\n",
       "      <td>Col.lisió fronto-lateral</td>\n",
       "    </tr>\n",
       "    <tr>\n",
       "      <th>2</th>\n",
       "      <td>2017S001023</td>\n",
       "      <td>Col.lisió lateral</td>\n",
       "    </tr>\n",
       "    <tr>\n",
       "      <th>3</th>\n",
       "      <td>2017S009198</td>\n",
       "      <td>Col.lisió fronto-lateral</td>\n",
       "    </tr>\n",
       "    <tr>\n",
       "      <th>4</th>\n",
       "      <td>2017S006546</td>\n",
       "      <td>Abast</td>\n",
       "    </tr>\n",
       "  </tbody>\n",
       "</table>\n",
       "</div>"
      ],
      "text/plain": [
       "    Num_expediente            Tipo_accidente\n",
       "0  2017S009418                         Abast\n",
       "1  2017S008852      Col.lisió fronto-lateral\n",
       "2  2017S001023             Col.lisió lateral\n",
       "3  2017S009198      Col.lisió fronto-lateral\n",
       "4  2017S006546                         Abast"
      ]
     },
     "execution_count": 14,
     "metadata": {},
     "output_type": "execute_result"
    }
   ],
   "source": [
    "tipo17.rename(columns={\"Número d'expedient\":'Num_expediente',\"Descripció tipus accident\":\"Tipo_accidente\"},\n",
    "                      inplace=True)\n",
    "tipo17.head()"
   ]
  },
  {
   "cell_type": "markdown",
   "metadata": {},
   "source": [
    "Ahora se juntan en una sola tabla "
   ]
  },
  {
   "cell_type": "code",
   "execution_count": 15,
   "metadata": {},
   "outputs": [
    {
     "data": {
      "text/plain": [
       "True"
      ]
     },
     "execution_count": 15,
     "metadata": {},
     "output_type": "execute_result"
    }
   ],
   "source": [
    "tipologia = tipo15.append(tipo16, ignore_index=True, verify_integrity=True, sort=False)\n",
    "tipologia = tipologia.append(tipo17, ignore_index=True, verify_integrity=True, sort=False)\n",
    "len(tipologia) == len(tipo15) + len(tipo16) + len(tipo17)"
   ]
  },
  {
   "cell_type": "code",
   "execution_count": 16,
   "metadata": {},
   "outputs": [
    {
     "data": {
      "text/html": [
       "<div>\n",
       "<style scoped>\n",
       "    .dataframe tbody tr th:only-of-type {\n",
       "        vertical-align: middle;\n",
       "    }\n",
       "\n",
       "    .dataframe tbody tr th {\n",
       "        vertical-align: top;\n",
       "    }\n",
       "\n",
       "    .dataframe thead th {\n",
       "        text-align: right;\n",
       "    }\n",
       "</style>\n",
       "<table border=\"1\" class=\"dataframe\">\n",
       "  <thead>\n",
       "    <tr style=\"text-align: right;\">\n",
       "      <th></th>\n",
       "      <th>Num_expediente</th>\n",
       "      <th>Tipo_accidente</th>\n",
       "    </tr>\n",
       "  </thead>\n",
       "  <tbody>\n",
       "    <tr>\n",
       "      <th>0</th>\n",
       "      <td>2015S000215</td>\n",
       "      <td>Col.lisió fronto-lateral</td>\n",
       "    </tr>\n",
       "    <tr>\n",
       "      <th>1</th>\n",
       "      <td>2015S000787</td>\n",
       "      <td>Xoc contra element estàtic</td>\n",
       "    </tr>\n",
       "    <tr>\n",
       "      <th>2</th>\n",
       "      <td>2015S000390</td>\n",
       "      <td>Xoc contra element estàtic</td>\n",
       "    </tr>\n",
       "    <tr>\n",
       "      <th>3</th>\n",
       "      <td>2015S007294</td>\n",
       "      <td>Caiguda (dues rodes)</td>\n",
       "    </tr>\n",
       "    <tr>\n",
       "      <th>4</th>\n",
       "      <td>2015S009836</td>\n",
       "      <td>Col.lisió lateral</td>\n",
       "    </tr>\n",
       "  </tbody>\n",
       "</table>\n",
       "</div>"
      ],
      "text/plain": [
       "  Num_expediente              Tipo_accidente\n",
       "0    2015S000215    Col.lisió fronto-lateral\n",
       "1    2015S000787  Xoc contra element estàtic\n",
       "2    2015S000390  Xoc contra element estàtic\n",
       "3    2015S007294        Caiguda (dues rodes)\n",
       "4    2015S009836           Col.lisió lateral"
      ]
     },
     "execution_count": 16,
     "metadata": {},
     "output_type": "execute_result"
    }
   ],
   "source": [
    "tipologia.head()"
   ]
  },
  {
   "cell_type": "code",
   "execution_count": 17,
   "metadata": {},
   "outputs": [
    {
     "data": {
      "text/html": [
       "<div>\n",
       "<style scoped>\n",
       "    .dataframe tbody tr th:only-of-type {\n",
       "        vertical-align: middle;\n",
       "    }\n",
       "\n",
       "    .dataframe tbody tr th {\n",
       "        vertical-align: top;\n",
       "    }\n",
       "\n",
       "    .dataframe thead th {\n",
       "        text-align: right;\n",
       "    }\n",
       "</style>\n",
       "<table border=\"1\" class=\"dataframe\">\n",
       "  <thead>\n",
       "    <tr style=\"text-align: right;\">\n",
       "      <th></th>\n",
       "      <th>Num_expediente</th>\n",
       "      <th>Tipo_accidente</th>\n",
       "    </tr>\n",
       "  </thead>\n",
       "  <tbody>\n",
       "    <tr>\n",
       "      <th>32227</th>\n",
       "      <td>2017S003667</td>\n",
       "      <td>Col.lisió lateral</td>\n",
       "    </tr>\n",
       "    <tr>\n",
       "      <th>32228</th>\n",
       "      <td>2017S002192</td>\n",
       "      <td>Col.lisió fronto-lateral</td>\n",
       "    </tr>\n",
       "    <tr>\n",
       "      <th>32229</th>\n",
       "      <td>2017S001766</td>\n",
       "      <td>Caiguda (dues rodes)</td>\n",
       "    </tr>\n",
       "    <tr>\n",
       "      <th>32230</th>\n",
       "      <td>2017S009106</td>\n",
       "      <td>Atropellament</td>\n",
       "    </tr>\n",
       "    <tr>\n",
       "      <th>32231</th>\n",
       "      <td>2017S006503</td>\n",
       "      <td>Col.lisió fronto-lateral</td>\n",
       "    </tr>\n",
       "  </tbody>\n",
       "</table>\n",
       "</div>"
      ],
      "text/plain": [
       "        Num_expediente            Tipo_accidente\n",
       "32227  2017S003667             Col.lisió lateral\n",
       "32228  2017S002192      Col.lisió fronto-lateral\n",
       "32229  2017S001766          Caiguda (dues rodes)\n",
       "32230  2017S009106                 Atropellament\n",
       "32231  2017S006503      Col.lisió fronto-lateral"
      ]
     },
     "execution_count": 17,
     "metadata": {},
     "output_type": "execute_result"
    }
   ],
   "source": [
    "tipologia.tail()"
   ]
  },
  {
   "cell_type": "markdown",
   "metadata": {},
   "source": [
    "Ahora se procede con la limpieza del tipo de accidente: \n"
   ]
  },
  {
   "cell_type": "markdown",
   "metadata": {},
   "source": [
    "Se verifica que los números de expediente sean integros. Se observa que hay números que terminan con espacios blancos, entonces se quitan."
   ]
  },
  {
   "cell_type": "code",
   "execution_count": 18,
   "metadata": {},
   "outputs": [
    {
     "data": {
      "text/plain": [
       "array(['2015S000215', '2015S000787', '2015S000390', ...,\n",
       "       '2017S001766    ', '2017S009106    ', '2017S006503    '],\n",
       "      dtype=object)"
      ]
     },
     "execution_count": 18,
     "metadata": {},
     "output_type": "execute_result"
    }
   ],
   "source": [
    "tipologia['Num_expediente'].unique()"
   ]
  },
  {
   "cell_type": "code",
   "execution_count": 19,
   "metadata": {},
   "outputs": [
    {
     "data": {
      "text/plain": [
       "array(['2015S000215', '2015S000787', '2015S000390', ..., '2017S001766',\n",
       "       '2017S009106', '2017S006503'], dtype=object)"
      ]
     },
     "execution_count": 19,
     "metadata": {},
     "output_type": "execute_result"
    }
   ],
   "source": [
    "def elimina_espacios(fila):\n",
    "    return (fila.Num_expediente).strip()\n",
    "\n",
    "tipologia['Num_expediente'] = tipologia.apply(elimina_espacios, axis=1)\n",
    "tipologia['Num_expediente'].unique()"
   ]
  },
  {
   "cell_type": "markdown",
   "metadata": {},
   "source": [
    "Luego se verifica los tipos de accidentes, para comprobar que no haya ninguno que sea igual pero que este escrito de manera distinta. "
   ]
  },
  {
   "cell_type": "code",
   "execution_count": 20,
   "metadata": {},
   "outputs": [
    {
     "data": {
      "text/plain": [
       "array(['Col.lisió fronto-lateral', 'Xoc contra element estàtic',\n",
       "       'Caiguda (dues rodes)', 'Col.lisió lateral', 'Atropellament',\n",
       "       'Abast', 'Abast multiple', 'Caiguda interior vehicle',\n",
       "       'Col.lisió frontal', 'Altres', 'Bolcada (més de dues rodes)', nan,\n",
       "       'Desconegut', 'Sortida de via amb xoc o col.lisió', 'Encalç',\n",
       "       'Sortida de via amb bolcada', 'Xoc amb animal a la calçada',\n",
       "       'Resta sortides de via'], dtype=object)"
      ]
     },
     "execution_count": 20,
     "metadata": {},
     "output_type": "execute_result"
    }
   ],
   "source": [
    "tipologia.Tipo_accidente.unique()"
   ]
  },
  {
   "cell_type": "markdown",
   "metadata": {},
   "source": [
    "Se procede a traducir del catalán al español los tipos de accidentes "
   ]
  },
  {
   "cell_type": "code",
   "execution_count": 21,
   "metadata": {},
   "outputs": [],
   "source": [
    "Tipologia_accidente=tipologia.copy()\n",
    "\n",
    "def cambiar(a):\n",
    "    global b\n",
    "    if  a.Tipo_accidente == 'Col.lisió fronto-lateral':\n",
    "        b='Colisión fronto-lateral'\n",
    "    elif a.Tipo_accidente == 'Xoc contra element estàtic':\n",
    "        b='Choque contra elemento estático'\n",
    "    elif a.Tipo_accidente == 'Caiguda (dues rodes)':\n",
    "        b='Caída (dos ruedas)'\n",
    "    elif a.Tipo_accidente == 'Col.lisió lateral':\n",
    "        b='Colisión lateral'\n",
    "    elif a.Tipo_accidente == 'Atropellament':\n",
    "        b='Atropello'\n",
    "    elif a.Tipo_accidente == 'Abast':\n",
    "        b='Alcance'\n",
    "    elif a.Tipo_accidente == 'Abast multiple':\n",
    "        b='Alcance multiple'\n",
    "    elif a.Tipo_accidente == 'Caiguda interior vehicle':\n",
    "        b='Caída interior vehículo'\n",
    "    elif a.Tipo_accidente == 'Col.lisió frontal':\n",
    "        b='Colisión frontal'   \n",
    "    elif a.Tipo_accidente == 'Altres':\n",
    "        b='Otros'\n",
    "    elif a.Tipo_accidente == 'Bolcada (més de dues rodes)':\n",
    "        b='Vuelco (más de dos ruedas)'\n",
    "    elif a.Tipo_accidente == 'nan':\n",
    "        b='Desconocido'\n",
    "    elif a.Tipo_accidente == 'Desconegut':\n",
    "        b='Desconocido'   \n",
    "    elif a.Tipo_accidente == 'Sortida de via amb xoc o col.lisió':\n",
    "        b='Salida de vía con choque o colisión'\n",
    "    elif a.Tipo_accidente == 'Encalç':\n",
    "        b='Persecución'\n",
    "    elif a.Tipo_accidente == 'Sortida de via amb bolcada':\n",
    "        b='Salida de vía con vuelco'\n",
    "    elif a.Tipo_accidente == 'Xoc amb animal a la calçada':\n",
    "        b='Choque con animal en la calzada'\n",
    "    elif a.Tipo_accidente == 'Xoc amb animal a la calçada':\n",
    "        b='Resto salidas de vía'      \n",
    "    return b\n",
    "\n",
    "Tipologia_accidente['Tipo_accidente'] = Tipologia_accidente.apply(cambiar, axis=1)  \n"
   ]
  },
  {
   "cell_type": "code",
   "execution_count": 22,
   "metadata": {},
   "outputs": [
    {
     "data": {
      "text/html": [
       "<div>\n",
       "<style scoped>\n",
       "    .dataframe tbody tr th:only-of-type {\n",
       "        vertical-align: middle;\n",
       "    }\n",
       "\n",
       "    .dataframe tbody tr th {\n",
       "        vertical-align: top;\n",
       "    }\n",
       "\n",
       "    .dataframe thead th {\n",
       "        text-align: right;\n",
       "    }\n",
       "</style>\n",
       "<table border=\"1\" class=\"dataframe\">\n",
       "  <thead>\n",
       "    <tr style=\"text-align: right;\">\n",
       "      <th></th>\n",
       "      <th>Num_expediente</th>\n",
       "      <th>Tipo_accidente</th>\n",
       "    </tr>\n",
       "  </thead>\n",
       "  <tbody>\n",
       "    <tr>\n",
       "      <th>0</th>\n",
       "      <td>2015S000215</td>\n",
       "      <td>Colisión fronto-lateral</td>\n",
       "    </tr>\n",
       "    <tr>\n",
       "      <th>1</th>\n",
       "      <td>2015S000787</td>\n",
       "      <td>Choque contra elemento estático</td>\n",
       "    </tr>\n",
       "    <tr>\n",
       "      <th>2</th>\n",
       "      <td>2015S000390</td>\n",
       "      <td>Choque contra elemento estático</td>\n",
       "    </tr>\n",
       "    <tr>\n",
       "      <th>3</th>\n",
       "      <td>2015S007294</td>\n",
       "      <td>Caída (dos ruedas)</td>\n",
       "    </tr>\n",
       "    <tr>\n",
       "      <th>4</th>\n",
       "      <td>2015S009836</td>\n",
       "      <td>Colisión lateral</td>\n",
       "    </tr>\n",
       "  </tbody>\n",
       "</table>\n",
       "</div>"
      ],
      "text/plain": [
       "  Num_expediente                   Tipo_accidente\n",
       "0    2015S000215          Colisión fronto-lateral\n",
       "1    2015S000787  Choque contra elemento estático\n",
       "2    2015S000390  Choque contra elemento estático\n",
       "3    2015S007294               Caída (dos ruedas)\n",
       "4    2015S009836                 Colisión lateral"
      ]
     },
     "execution_count": 22,
     "metadata": {},
     "output_type": "execute_result"
    }
   ],
   "source": [
    "Tipologia_accidente.head()"
   ]
  },
  {
   "cell_type": "markdown",
   "metadata": {},
   "source": [
    "Se comprueba que se hayan aplicado los cambios"
   ]
  },
  {
   "cell_type": "code",
   "execution_count": 23,
   "metadata": {},
   "outputs": [
    {
     "data": {
      "text/plain": [
       "array(['Colisión fronto-lateral', 'Choque contra elemento estático',\n",
       "       'Caída (dos ruedas)', 'Colisión lateral', 'Atropello', 'Alcance',\n",
       "       'Alcance multiple', 'Caída interior vehículo', 'Colisión frontal',\n",
       "       'Otros', 'Vuelco (más de dos ruedas)', 'Desconocido',\n",
       "       'Salida de vía con choque o colisión', 'Persecución',\n",
       "       'Salida de vía con vuelco', 'Choque con animal en la calzada'],\n",
       "      dtype=object)"
      ]
     },
     "execution_count": 23,
     "metadata": {},
     "output_type": "execute_result"
    }
   ],
   "source": [
    "Tipologia_accidente.Tipo_accidente.unique()"
   ]
  },
  {
   "cell_type": "markdown",
   "metadata": {},
   "source": [
    "A continuación se exporta a un .csv"
   ]
  },
  {
   "cell_type": "code",
   "execution_count": 24,
   "metadata": {},
   "outputs": [],
   "source": [
    "Tipologia_accidente.to_csv(\"tipologia.csv\",index=0, encoding=\"utf-8\")"
   ]
  },
  {
   "cell_type": "markdown",
   "metadata": {},
   "source": [
    "Se repite el proceso de importación pero esta vez con el nuevo csv para comprobar que se transformó correctamente"
   ]
  },
  {
   "cell_type": "code",
   "execution_count": 25,
   "metadata": {},
   "outputs": [],
   "source": [
    "prueba=pd.read_csv('tipologia.csv', index_col=False)"
   ]
  },
  {
   "cell_type": "code",
   "execution_count": 26,
   "metadata": {},
   "outputs": [
    {
     "data": {
      "text/html": [
       "<div>\n",
       "<style scoped>\n",
       "    .dataframe tbody tr th:only-of-type {\n",
       "        vertical-align: middle;\n",
       "    }\n",
       "\n",
       "    .dataframe tbody tr th {\n",
       "        vertical-align: top;\n",
       "    }\n",
       "\n",
       "    .dataframe thead th {\n",
       "        text-align: right;\n",
       "    }\n",
       "</style>\n",
       "<table border=\"1\" class=\"dataframe\">\n",
       "  <thead>\n",
       "    <tr style=\"text-align: right;\">\n",
       "      <th></th>\n",
       "      <th>Num_expediente</th>\n",
       "      <th>Tipo_accidente</th>\n",
       "    </tr>\n",
       "  </thead>\n",
       "  <tbody>\n",
       "    <tr>\n",
       "      <th>0</th>\n",
       "      <td>2015S000215</td>\n",
       "      <td>Colisión fronto-lateral</td>\n",
       "    </tr>\n",
       "    <tr>\n",
       "      <th>1</th>\n",
       "      <td>2015S000787</td>\n",
       "      <td>Choque contra elemento estático</td>\n",
       "    </tr>\n",
       "    <tr>\n",
       "      <th>2</th>\n",
       "      <td>2015S000390</td>\n",
       "      <td>Choque contra elemento estático</td>\n",
       "    </tr>\n",
       "    <tr>\n",
       "      <th>3</th>\n",
       "      <td>2015S007294</td>\n",
       "      <td>Caída (dos ruedas)</td>\n",
       "    </tr>\n",
       "    <tr>\n",
       "      <th>4</th>\n",
       "      <td>2015S009836</td>\n",
       "      <td>Colisión lateral</td>\n",
       "    </tr>\n",
       "  </tbody>\n",
       "</table>\n",
       "</div>"
      ],
      "text/plain": [
       "  Num_expediente                   Tipo_accidente\n",
       "0    2015S000215          Colisión fronto-lateral\n",
       "1    2015S000787  Choque contra elemento estático\n",
       "2    2015S000390  Choque contra elemento estático\n",
       "3    2015S007294               Caída (dos ruedas)\n",
       "4    2015S009836                 Colisión lateral"
      ]
     },
     "execution_count": 26,
     "metadata": {},
     "output_type": "execute_result"
    }
   ],
   "source": [
    "prueba.head()"
   ]
  },
  {
   "cell_type": "code",
   "execution_count": 27,
   "metadata": {},
   "outputs": [
    {
     "data": {
      "text/html": [
       "<div>\n",
       "<style scoped>\n",
       "    .dataframe tbody tr th:only-of-type {\n",
       "        vertical-align: middle;\n",
       "    }\n",
       "\n",
       "    .dataframe tbody tr th {\n",
       "        vertical-align: top;\n",
       "    }\n",
       "\n",
       "    .dataframe thead th {\n",
       "        text-align: right;\n",
       "    }\n",
       "</style>\n",
       "<table border=\"1\" class=\"dataframe\">\n",
       "  <thead>\n",
       "    <tr style=\"text-align: right;\">\n",
       "      <th></th>\n",
       "      <th>Num_expediente</th>\n",
       "      <th>Tipo_accidente</th>\n",
       "    </tr>\n",
       "  </thead>\n",
       "  <tbody>\n",
       "    <tr>\n",
       "      <th>32227</th>\n",
       "      <td>2017S003667</td>\n",
       "      <td>Colisión lateral</td>\n",
       "    </tr>\n",
       "    <tr>\n",
       "      <th>32228</th>\n",
       "      <td>2017S002192</td>\n",
       "      <td>Colisión fronto-lateral</td>\n",
       "    </tr>\n",
       "    <tr>\n",
       "      <th>32229</th>\n",
       "      <td>2017S001766</td>\n",
       "      <td>Caída (dos ruedas)</td>\n",
       "    </tr>\n",
       "    <tr>\n",
       "      <th>32230</th>\n",
       "      <td>2017S009106</td>\n",
       "      <td>Atropello</td>\n",
       "    </tr>\n",
       "    <tr>\n",
       "      <th>32231</th>\n",
       "      <td>2017S006503</td>\n",
       "      <td>Colisión fronto-lateral</td>\n",
       "    </tr>\n",
       "  </tbody>\n",
       "</table>\n",
       "</div>"
      ],
      "text/plain": [
       "      Num_expediente           Tipo_accidente\n",
       "32227    2017S003667         Colisión lateral\n",
       "32228    2017S002192  Colisión fronto-lateral\n",
       "32229    2017S001766       Caída (dos ruedas)\n",
       "32230    2017S009106                Atropello\n",
       "32231    2017S006503  Colisión fronto-lateral"
      ]
     },
     "execution_count": 27,
     "metadata": {},
     "output_type": "execute_result"
    }
   ],
   "source": [
    "prueba.tail()"
   ]
  },
  {
   "cell_type": "code",
   "execution_count": 28,
   "metadata": {},
   "outputs": [
    {
     "data": {
      "text/plain": [
       "(32232, 2)"
      ]
     },
     "execution_count": 28,
     "metadata": {},
     "output_type": "execute_result"
    }
   ],
   "source": [
    "Tipologia_accidente.shape"
   ]
  },
  {
   "cell_type": "code",
   "execution_count": null,
   "metadata": {},
   "outputs": [],
   "source": []
  }
 ],
 "metadata": {
  "kernelspec": {
   "display_name": "Python 3",
   "language": "python",
   "name": "python3"
  },
  "language_info": {
   "codemirror_mode": {
    "name": "ipython",
    "version": 3
   },
   "file_extension": ".py",
   "mimetype": "text/x-python",
   "name": "python",
   "nbconvert_exporter": "python",
   "pygments_lexer": "ipython3",
   "version": "3.7.2"
  }
 },
 "nbformat": 4,
 "nbformat_minor": 2
}
