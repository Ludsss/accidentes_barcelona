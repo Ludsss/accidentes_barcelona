{
 "cells": [
  {
   "cell_type": "code",
   "execution_count": 17,
   "metadata": {},
   "outputs": [],
   "source": [
    "import pymssql "
   ]
  },
  {
   "cell_type": "code",
   "execution_count": 18,
   "metadata": {},
   "outputs": [],
   "source": [
    "conn= pymssql.connect(server='serveraccidentes.database.windows.net', user='byludo@serveraccidentes', password='Mariop96', database='accidentes')"
   ]
  },
  {
   "cell_type": "markdown",
   "metadata": {},
   "source": [
    "Importo el csv y lo convierto en dataframe "
   ]
  },
  {
   "cell_type": "code",
   "execution_count": 19,
   "metadata": {},
   "outputs": [],
   "source": [
    "import pandas as pd"
   ]
  },
  {
   "cell_type": "code",
   "execution_count": 20,
   "metadata": {},
   "outputs": [
    {
     "data": {
      "text/plain": [
       "<bound method NDFrame.head of       Num_expediente                   Tipo_accidente\n",
       "0        2015S000215          Colisión fronto-lateral\n",
       "1        2015S000787  Choque contra elemento estático\n",
       "2        2015S000390  Choque contra elemento estático\n",
       "3        2015S007294               Caída (dos ruedas)\n",
       "4        2015S009836                 Colisión lateral\n",
       "5        2015S009453                        Atropello\n",
       "6        2015S007312                          Alcance\n",
       "7        2015S004660          Colisión fronto-lateral\n",
       "8        2015S006407                        Atropello\n",
       "9        2015S009834                 Alcance multiple\n",
       "10       2015S002735                        Atropello\n",
       "11       2015S000784                 Colisión lateral\n",
       "12       2015S003464                 Colisión lateral\n",
       "13       2015S001064                 Colisión lateral\n",
       "14       2015S006090                 Colisión lateral\n",
       "15       2015S002841                        Atropello\n",
       "16       2015S006350                          Alcance\n",
       "17       2015S002520                        Atropello\n",
       "18       2015S008475                 Colisión lateral\n",
       "19       2015S006010  Choque contra elemento estático\n",
       "20       2015S001882                          Alcance\n",
       "21       2015S000598               Caída (dos ruedas)\n",
       "22       2015S002514               Caída (dos ruedas)\n",
       "23       2015S000496          Colisión fronto-lateral\n",
       "24       2015S009845                 Colisión lateral\n",
       "25       2015S005886                          Alcance\n",
       "26       2015S009924          Colisión fronto-lateral\n",
       "27       2015S006700                 Colisión lateral\n",
       "28       2015S002323          Colisión fronto-lateral\n",
       "29       2015S006305                 Colisión lateral\n",
       "...              ...                              ...\n",
       "32202    2017S007431                 Colisión lateral\n",
       "32203    2017S010672                          Alcance\n",
       "32204    2017S000915                 Colisión lateral\n",
       "32205    2017S006021                 Colisión lateral\n",
       "32206    2017S007347                            Otros\n",
       "32207    2017S007689                          Alcance\n",
       "32208    2017S001610          Colisión fronto-lateral\n",
       "32209    2017S002475                 Colisión lateral\n",
       "32210    2017S001315               Caída (dos ruedas)\n",
       "32211    2017S001017                          Alcance\n",
       "32212    2017S000187                        Atropello\n",
       "32213    2017S003254  Choque contra elemento estático\n",
       "32214    2017S008107                          Alcance\n",
       "32215    2017S003134                        Atropello\n",
       "32216    2017S002186                 Alcance multiple\n",
       "32217    2017S000703                          Alcance\n",
       "32218    2017S001890                 Colisión lateral\n",
       "32219    2017S006549                            Otros\n",
       "32220    2017S002188                        Atropello\n",
       "32221    2017S006053                          Alcance\n",
       "32222    2017S008369  Choque contra elemento estático\n",
       "32223    2017S008899                          Alcance\n",
       "32224    2017S000877                 Colisión lateral\n",
       "32225    2017S001377                            Otros\n",
       "32226    2017S008439                 Colisión lateral\n",
       "32227    2017S003667                 Colisión lateral\n",
       "32228    2017S002192          Colisión fronto-lateral\n",
       "32229    2017S001766               Caída (dos ruedas)\n",
       "32230    2017S009106                        Atropello\n",
       "32231    2017S006503          Colisión fronto-lateral\n",
       "\n",
       "[32232 rows x 2 columns]>"
      ]
     },
     "execution_count": 20,
     "metadata": {},
     "output_type": "execute_result"
    }
   ],
   "source": [
    "tipologia=pd.read_csv('Tipología Accidentes/Tipologia_Accidente.csv')\n",
    "tipologia.head"
   ]
  },
  {
   "cell_type": "markdown",
   "metadata": {},
   "source": [
    "Busco los valores únicos del tipo de accidente"
   ]
  },
  {
   "cell_type": "code",
   "execution_count": 21,
   "metadata": {},
   "outputs": [],
   "source": [
    "descTipologia=tipologia.Tipo_accidente.unique()"
   ]
  },
  {
   "cell_type": "code",
   "execution_count": 22,
   "metadata": {},
   "outputs": [
    {
     "ename": "AttributeError",
     "evalue": "module 'pandas' has no attribute 'dataframe'",
     "output_type": "error",
     "traceback": [
      "\u001b[0;31m---------------------------------------------------------------------------\u001b[0m",
      "\u001b[0;31mAttributeError\u001b[0m                            Traceback (most recent call last)",
      "\u001b[0;32m<ipython-input-22-6da34f867638>\u001b[0m in \u001b[0;36m<module>\u001b[0;34m\u001b[0m\n\u001b[0;32m----> 1\u001b[0;31m \u001b[0mdescTipologia\u001b[0m\u001b[0;34m=\u001b[0m\u001b[0mpd\u001b[0m\u001b[0;34m.\u001b[0m\u001b[0mdataframe\u001b[0m\u001b[0;34m(\u001b[0m\u001b[0mdescTipologia\u001b[0m\u001b[0;34m)\u001b[0m\u001b[0;34m\u001b[0m\u001b[0;34m\u001b[0m\u001b[0m\n\u001b[0m",
      "\u001b[0;31mAttributeError\u001b[0m: module 'pandas' has no attribute 'dataframe'"
     ]
    }
   ],
   "source": [
    "descTipologia=pd.dataframe(descTipologia)"
   ]
  },
  {
   "cell_type": "markdown",
   "metadata": {},
   "source": [
    "Creo la tabla en mi base de datos "
   ]
  },
  {
   "cell_type": "code",
   "execution_count": 11,
   "metadata": {},
   "outputs": [],
   "source": [
    "cursor= conn.cursor()  "
   ]
  },
  {
   "cell_type": "code",
   "execution_count": 12,
   "metadata": {},
   "outputs": [],
   "source": [
    "sqlQuery= \"CREATE TABLE tipologia(idTipologia int, descTipologia varchar(32))\"   "
   ]
  },
  {
   "cell_type": "code",
   "execution_count": 13,
   "metadata": {},
   "outputs": [
    {
     "ename": "OperationalError",
     "evalue": "(2714, b\"There is already an object named 'tipologia' in the database.DB-Lib error message 20018, severity 16:\\nGeneral SQL Server error: Check messages from the SQL Server\\n\")",
     "output_type": "error",
     "traceback": [
      "\u001b[0;31m---------------------------------------------------------------------------\u001b[0m",
      "\u001b[0;31mMSSQLDatabaseException\u001b[0m                    Traceback (most recent call last)",
      "\u001b[0;32msrc/pymssql.pyx\u001b[0m in \u001b[0;36mpymssql.Cursor.execute\u001b[0;34m()\u001b[0m\n",
      "\u001b[0;32msrc/_mssql.pyx\u001b[0m in \u001b[0;36m_mssql.MSSQLConnection.execute_query\u001b[0;34m()\u001b[0m\n",
      "\u001b[0;32msrc/_mssql.pyx\u001b[0m in \u001b[0;36m_mssql.MSSQLConnection.execute_query\u001b[0;34m()\u001b[0m\n",
      "\u001b[0;32msrc/_mssql.pyx\u001b[0m in \u001b[0;36m_mssql.MSSQLConnection.format_and_run_query\u001b[0;34m()\u001b[0m\n",
      "\u001b[0;32msrc/_mssql.pyx\u001b[0m in \u001b[0;36m_mssql.check_cancel_and_raise\u001b[0;34m()\u001b[0m\n",
      "\u001b[0;32msrc/_mssql.pyx\u001b[0m in \u001b[0;36m_mssql.maybe_raise_MSSQLDatabaseException\u001b[0;34m()\u001b[0m\n",
      "\u001b[0;31mMSSQLDatabaseException\u001b[0m: (2714, b\"There is already an object named 'tipologia' in the database.DB-Lib error message 20018, severity 16:\\nGeneral SQL Server error: Check messages from the SQL Server\\n\")",
      "\nDuring handling of the above exception, another exception occurred:\n",
      "\u001b[0;31mOperationalError\u001b[0m                          Traceback (most recent call last)",
      "\u001b[0;32m<ipython-input-13-0b890ce33e3d>\u001b[0m in \u001b[0;36m<module>\u001b[0;34m\u001b[0m\n\u001b[0;32m----> 1\u001b[0;31m \u001b[0mcursor\u001b[0m\u001b[0;34m.\u001b[0m\u001b[0mexecute\u001b[0m\u001b[0;34m(\u001b[0m\u001b[0msqlQuery\u001b[0m\u001b[0;34m)\u001b[0m\u001b[0;34m\u001b[0m\u001b[0;34m\u001b[0m\u001b[0m\n\u001b[0m",
      "\u001b[0;32msrc/pymssql.pyx\u001b[0m in \u001b[0;36mpymssql.Cursor.execute\u001b[0;34m()\u001b[0m\n",
      "\u001b[0;31mOperationalError\u001b[0m: (2714, b\"There is already an object named 'tipologia' in the database.DB-Lib error message 20018, severity 16:\\nGeneral SQL Server error: Check messages from the SQL Server\\n\")"
     ]
    }
   ],
   "source": [
    "cursor.execute(sqlQuery)"
   ]
  },
  {
   "cell_type": "markdown",
   "metadata": {},
   "source": [
    "Ahora inserto los datos en la tabla "
   ]
  },
  {
   "cell_type": "code",
   "execution_count": null,
   "metadata": {},
   "outputs": [],
   "source": [
    "sqlQuery= \"INSERT INTO tipologia VALUES \" "
   ]
  },
  {
   "cell_type": "code",
   "execution_count": 23,
   "metadata": {},
   "outputs": [],
   "source": [
    "sqlQuery=\"INSERT INTO tipologia(descTipologia) VALUES [('Colisión fronto-lateral'), ('Choque contra elemento estático')]\"\n"
   ]
  },
  {
   "cell_type": "code",
   "execution_count": 24,
   "metadata": {},
   "outputs": [
    {
     "ename": "ProgrammingError",
     "evalue": "(102, b\"Incorrect syntax near '('Colisi\\xc3\\xb3n fronto-lateral'), ('Choque contra elemento est\\xc3\\xa1tico')'.DB-Lib error message 20018, severity 15:\\nGeneral SQL Server error: Check messages from the SQL Server\\n\")",
     "output_type": "error",
     "traceback": [
      "\u001b[0;31m---------------------------------------------------------------------------\u001b[0m",
      "\u001b[0;31mMSSQLDatabaseException\u001b[0m                    Traceback (most recent call last)",
      "\u001b[0;32msrc/pymssql.pyx\u001b[0m in \u001b[0;36mpymssql.Cursor.execute\u001b[0;34m()\u001b[0m\n",
      "\u001b[0;32msrc/_mssql.pyx\u001b[0m in \u001b[0;36m_mssql.MSSQLConnection.execute_query\u001b[0;34m()\u001b[0m\n",
      "\u001b[0;32msrc/_mssql.pyx\u001b[0m in \u001b[0;36m_mssql.MSSQLConnection.execute_query\u001b[0;34m()\u001b[0m\n",
      "\u001b[0;32msrc/_mssql.pyx\u001b[0m in \u001b[0;36m_mssql.MSSQLConnection.format_and_run_query\u001b[0;34m()\u001b[0m\n",
      "\u001b[0;32msrc/_mssql.pyx\u001b[0m in \u001b[0;36m_mssql.check_cancel_and_raise\u001b[0;34m()\u001b[0m\n",
      "\u001b[0;32msrc/_mssql.pyx\u001b[0m in \u001b[0;36m_mssql.maybe_raise_MSSQLDatabaseException\u001b[0;34m()\u001b[0m\n",
      "\u001b[0;31mMSSQLDatabaseException\u001b[0m: (102, b\"Incorrect syntax near '('Colisi\\xc3\\xb3n fronto-lateral'), ('Choque contra elemento est\\xc3\\xa1tico')'.DB-Lib error message 20018, severity 15:\\nGeneral SQL Server error: Check messages from the SQL Server\\n\")",
      "\nDuring handling of the above exception, another exception occurred:\n",
      "\u001b[0;31mProgrammingError\u001b[0m                          Traceback (most recent call last)",
      "\u001b[0;32m<ipython-input-24-0b890ce33e3d>\u001b[0m in \u001b[0;36m<module>\u001b[0;34m\u001b[0m\n\u001b[0;32m----> 1\u001b[0;31m \u001b[0mcursor\u001b[0m\u001b[0;34m.\u001b[0m\u001b[0mexecute\u001b[0m\u001b[0;34m(\u001b[0m\u001b[0msqlQuery\u001b[0m\u001b[0;34m)\u001b[0m\u001b[0;34m\u001b[0m\u001b[0;34m\u001b[0m\u001b[0m\n\u001b[0m",
      "\u001b[0;32msrc/pymssql.pyx\u001b[0m in \u001b[0;36mpymssql.Cursor.execute\u001b[0;34m()\u001b[0m\n",
      "\u001b[0;31mProgrammingError\u001b[0m: (102, b\"Incorrect syntax near '('Colisi\\xc3\\xb3n fronto-lateral'), ('Choque contra elemento est\\xc3\\xa1tico')'.DB-Lib error message 20018, severity 15:\\nGeneral SQL Server error: Check messages from the SQL Server\\n\")"
     ]
    }
   ],
   "source": [
    "cursor.execute(sqlQuery)"
   ]
  },
  {
   "cell_type": "code",
   "execution_count": null,
   "metadata": {},
   "outputs": [],
   "source": []
  }
 ],
 "metadata": {
  "kernelspec": {
   "display_name": "Python 3",
   "language": "python",
   "name": "python3"
  },
  "language_info": {
   "codemirror_mode": {
    "name": "ipython",
    "version": 3
   },
   "file_extension": ".py",
   "mimetype": "text/x-python",
   "name": "python",
   "nbconvert_exporter": "python",
   "pygments_lexer": "ipython3",
   "version": "3.7.1"
  }
 },
 "nbformat": 4,
 "nbformat_minor": 2
}
