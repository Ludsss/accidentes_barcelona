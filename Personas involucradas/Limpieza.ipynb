{
 "cells": [
  {
   "cell_type": "markdown",
   "metadata": {},
   "source": [
    "## ACCIDENTES DE TRÁFICO EN BARCELONA##\n"
   ]
  },
  {
   "cell_type": "markdown",
   "metadata": {},
   "source": [
    "A continuación se vaa realizar la limpieza de los datos de accidentes gestionados por la Guardia Urbana en la ciudad de Barcelona según las Víctimas obtenidos en la web de Open Data BCN"
   ]
  },
  {
   "cell_type": "markdown",
   "metadata": {},
   "source": [
    "## Limpieza de datos##"
   ]
  },
  {
   "cell_type": "markdown",
   "metadata": {},
   "source": [
    "Importación librería Pandas que me permite trabajar sobre los datos "
   ]
  },
  {
   "cell_type": "code",
   "execution_count": 1,
   "metadata": {},
   "outputs": [],
   "source": [
    "import pandas as pd"
   ]
  },
  {
   "cell_type": "markdown",
   "metadata": {},
   "source": [
    "Exportación CSVs"
   ]
  },
  {
   "cell_type": "code",
   "execution_count": 2,
   "metadata": {},
   "outputs": [],
   "source": [
    "victimas15 = pd.read_csv('victimas15.csv', index_col=False)\n",
    "victimas16 = pd.read_csv('victimas16.csv', index_col=False)\n",
    "victimas17 = pd.read_csv('victimas17.csv', index_col=False)"
   ]
  },
  {
   "cell_type": "markdown",
   "metadata": {},
   "source": [
    "Inspección de los tipos de datos de cada tabla y la cantidad de filas y columnas"
   ]
  },
  {
   "cell_type": "code",
   "execution_count": 3,
   "metadata": {},
   "outputs": [
    {
     "data": {
      "text/plain": [
       "Número d expedient              object\n",
       "Codi districte                 float64\n",
       "Nom districte                   object\n",
       "Codi barri                     float64\n",
       "Nom barri                       object\n",
       "Codi carrer                    float64\n",
       "Nom carrer                      object\n",
       "Num postal caption              object\n",
       "Descripció dia setmana          object\n",
       "Dia setmana                     object\n",
       "Descripció tipus dia            object\n",
       "NK Any                         float64\n",
       "Mes de any                     float64\n",
       "Nom mes                         object\n",
       "Dia de mes                     float64\n",
       "Hora de dia                    float64\n",
       "Descripció causa vianant        object\n",
       "Desc Tipus vehicle implicat     object\n",
       "Descripció sexe                 object\n",
       "Descripció tipus persona        object\n",
       "Edat                            object\n",
       "Descripció victimització        object\n",
       "Coordenada UTM (Y)              object\n",
       "Coordenada UTM (X)              object\n",
       "dtype: object"
      ]
     },
     "execution_count": 3,
     "metadata": {},
     "output_type": "execute_result"
    }
   ],
   "source": [
    "victimas15.dtypes"
   ]
  },
  {
   "cell_type": "code",
   "execution_count": 4,
   "metadata": {},
   "outputs": [
    {
     "data": {
      "text/plain": [
       "(11781, 24)"
      ]
     },
     "execution_count": 4,
     "metadata": {},
     "output_type": "execute_result"
    }
   ],
   "source": [
    "victimas15.shape"
   ]
  },
  {
   "cell_type": "code",
   "execution_count": 5,
   "metadata": {},
   "outputs": [
    {
     "data": {
      "text/plain": [
       "Número d'expedient               object\n",
       "Codi districte                    int64\n",
       "Nom districte                    object\n",
       "Codi barri                        int64\n",
       "Nom barri                        object\n",
       "Codi carrer                       int64\n",
       "Nom carrer                       object\n",
       "Num postal caption               object\n",
       "Descripció dia setmana           object\n",
       "Dia setmana                      object\n",
       "Descripció tipus dia             object\n",
       "NK Any                            int64\n",
       "Mes de any                        int64\n",
       "Nom mes                          object\n",
       "Dia de mes                        int64\n",
       "Descripció torn                  object\n",
       "Hora de dia                       int64\n",
       "Descripció causa vianant         object\n",
       "Desc. Tipus vehicle implicat     object\n",
       "Descripció sexe                  object\n",
       "Edat                             object\n",
       "Descripció tipus persona         object\n",
       "Descripció situació              object\n",
       "Descripció victimització         object\n",
       "Coordenada UTM (X)               object\n",
       "Coordenada UTM (Y)               object\n",
       "Long                            float64\n",
       "Lat                             float64\n",
       "dtype: object"
      ]
     },
     "execution_count": 5,
     "metadata": {},
     "output_type": "execute_result"
    }
   ],
   "source": [
    "victimas16.dtypes"
   ]
  },
  {
   "cell_type": "code",
   "execution_count": 6,
   "metadata": {},
   "outputs": [
    {
     "data": {
      "text/plain": [
       "(12072, 28)"
      ]
     },
     "execution_count": 6,
     "metadata": {},
     "output_type": "execute_result"
    }
   ],
   "source": [
    "victimas16.shape"
   ]
  },
  {
   "cell_type": "code",
   "execution_count": 7,
   "metadata": {},
   "outputs": [
    {
     "data": {
      "text/plain": [
       "Número_d'expedient              object\n",
       "Codi_districte                   int64\n",
       "Nom districte                   object\n",
       "Codi_barri                       int64\n",
       "Nom_barri                       object\n",
       "Codi_carrer                      int64\n",
       "Nom carrer                      object\n",
       "Num_postal                      object\n",
       "Descripció_dia_setmana          object\n",
       "Dia setmana                     object\n",
       "Descripció tipus dia            object\n",
       "NK Any                           int64\n",
       "Mes de any                       int64\n",
       "Nom mes                         object\n",
       "Dia de mes                       int64\n",
       "Descripció torn                 object\n",
       "Hora de dia                      int64\n",
       "Descripció causa vianant        object\n",
       "Desc._Tipus_vehicle_implicat    object\n",
       "Descripció_sexe                 object\n",
       "Edat                            object\n",
       "Descripció_tipus_persona        object\n",
       "Descripció_situació             object\n",
       "Descripció_victimització        object\n",
       "Coordenada_UTM_(X)              object\n",
       "Coordenada_UTM_(Y)              object\n",
       "Long                            object\n",
       "Lat                             object\n",
       "dtype: object"
      ]
     },
     "execution_count": 7,
     "metadata": {},
     "output_type": "execute_result"
    }
   ],
   "source": [
    "victimas17.dtypes"
   ]
  },
  {
   "cell_type": "code",
   "execution_count": 8,
   "metadata": {},
   "outputs": [
    {
     "data": {
      "text/plain": [
       "(12148, 28)"
      ]
     },
     "execution_count": 8,
     "metadata": {},
     "output_type": "execute_result"
    }
   ],
   "source": [
    "victimas17.shape"
   ]
  },
  {
   "cell_type": "markdown",
   "metadata": {},
   "source": [
    "Selección de columnas a considerar; en el caso de víctimas se utilizarán Número de expediente, \n",
    "Descripción causa peatón, Descripción tipo de vehículo implicado, Descripción de victimización, Edad y Sexo."
   ]
  },
  {
   "cell_type": "code",
   "execution_count": 9,
   "metadata": {},
   "outputs": [
    {
     "data": {
      "text/html": [
       "<div>\n",
       "<style scoped>\n",
       "    .dataframe tbody tr th:only-of-type {\n",
       "        vertical-align: middle;\n",
       "    }\n",
       "\n",
       "    .dataframe tbody tr th {\n",
       "        vertical-align: top;\n",
       "    }\n",
       "\n",
       "    .dataframe thead th {\n",
       "        text-align: right;\n",
       "    }\n",
       "</style>\n",
       "<table border=\"1\" class=\"dataframe\">\n",
       "  <thead>\n",
       "    <tr style=\"text-align: right;\">\n",
       "      <th></th>\n",
       "      <th>Número d expedient</th>\n",
       "      <th>Descripció causa vianant</th>\n",
       "      <th>Desc Tipus vehicle implicat</th>\n",
       "      <th>Descripció sexe</th>\n",
       "      <th>Descripció tipus persona</th>\n",
       "      <th>Edat</th>\n",
       "      <th>Descripció victimització</th>\n",
       "    </tr>\n",
       "  </thead>\n",
       "  <tbody>\n",
       "    <tr>\n",
       "      <th>0</th>\n",
       "      <td>2015S005991</td>\n",
       "      <td>No és causa del  vianant</td>\n",
       "      <td>Motocicleta</td>\n",
       "      <td>Home</td>\n",
       "      <td>Conductor</td>\n",
       "      <td>36</td>\n",
       "      <td>Ferit lleu</td>\n",
       "    </tr>\n",
       "    <tr>\n",
       "      <th>1</th>\n",
       "      <td>2015S004912</td>\n",
       "      <td>No és causa del  vianant</td>\n",
       "      <td>Turismo</td>\n",
       "      <td>Home</td>\n",
       "      <td>Conductor</td>\n",
       "      <td>54</td>\n",
       "      <td>Ferit lleu</td>\n",
       "    </tr>\n",
       "    <tr>\n",
       "      <th>2</th>\n",
       "      <td>2015S009751</td>\n",
       "      <td>No és causa del  vianant</td>\n",
       "      <td>Motocicleta</td>\n",
       "      <td>Home</td>\n",
       "      <td>Conductor</td>\n",
       "      <td>49</td>\n",
       "      <td>Ferit lleu</td>\n",
       "    </tr>\n",
       "    <tr>\n",
       "      <th>3</th>\n",
       "      <td>2015S002580</td>\n",
       "      <td>Creuar per fora pas de vianants</td>\n",
       "      <td>Motocicleta</td>\n",
       "      <td>Home</td>\n",
       "      <td>Vianant</td>\n",
       "      <td>13</td>\n",
       "      <td>Ferit lleu</td>\n",
       "    </tr>\n",
       "    <tr>\n",
       "      <th>4</th>\n",
       "      <td>2015S008919</td>\n",
       "      <td>No és causa del  vianant</td>\n",
       "      <td>Motocicleta</td>\n",
       "      <td>Home</td>\n",
       "      <td>Conductor</td>\n",
       "      <td>49</td>\n",
       "      <td>Ferit lleu</td>\n",
       "    </tr>\n",
       "  </tbody>\n",
       "</table>\n",
       "</div>"
      ],
      "text/plain": [
       "  Número d expedient         Descripció causa vianant  \\\n",
       "0        2015S005991         No és causa del  vianant   \n",
       "1        2015S004912         No és causa del  vianant   \n",
       "2        2015S009751         No és causa del  vianant   \n",
       "3        2015S002580  Creuar per fora pas de vianants   \n",
       "4        2015S008919         No és causa del  vianant   \n",
       "\n",
       "  Desc Tipus vehicle implicat Descripció sexe Descripció tipus persona Edat  \\\n",
       "0                 Motocicleta            Home                Conductor   36   \n",
       "1                     Turismo            Home                Conductor   54   \n",
       "2                 Motocicleta            Home                Conductor   49   \n",
       "3                 Motocicleta            Home                  Vianant   13   \n",
       "4                 Motocicleta            Home                Conductor   49   \n",
       "\n",
       "  Descripció victimització  \n",
       "0               Ferit lleu  \n",
       "1               Ferit lleu  \n",
       "2               Ferit lleu  \n",
       "3               Ferit lleu  \n",
       "4               Ferit lleu  "
      ]
     },
     "execution_count": 9,
     "metadata": {},
     "output_type": "execute_result"
    }
   ],
   "source": [
    "vict15 = victimas15.iloc[:,[0,16,17,18,19,20,21]]\n",
    "vict15.head()"
   ]
  },
  {
   "cell_type": "code",
   "execution_count": 10,
   "metadata": {},
   "outputs": [
    {
     "data": {
      "text/html": [
       "<div>\n",
       "<style scoped>\n",
       "    .dataframe tbody tr th:only-of-type {\n",
       "        vertical-align: middle;\n",
       "    }\n",
       "\n",
       "    .dataframe tbody tr th {\n",
       "        vertical-align: top;\n",
       "    }\n",
       "\n",
       "    .dataframe thead th {\n",
       "        text-align: right;\n",
       "    }\n",
       "</style>\n",
       "<table border=\"1\" class=\"dataframe\">\n",
       "  <thead>\n",
       "    <tr style=\"text-align: right;\">\n",
       "      <th></th>\n",
       "      <th>Número d'expedient</th>\n",
       "      <th>Descripció causa vianant</th>\n",
       "      <th>Desc. Tipus vehicle implicat</th>\n",
       "      <th>Descripció sexe</th>\n",
       "      <th>Edat</th>\n",
       "      <th>Descripció tipus persona</th>\n",
       "      <th>Descripció victimització</th>\n",
       "    </tr>\n",
       "  </thead>\n",
       "  <tbody>\n",
       "    <tr>\n",
       "      <th>0</th>\n",
       "      <td>2016S008630</td>\n",
       "      <td>No és causa del  vianant</td>\n",
       "      <td>Turismo</td>\n",
       "      <td>Home</td>\n",
       "      <td>29</td>\n",
       "      <td>Conductor</td>\n",
       "      <td>Ferit lleu</td>\n",
       "    </tr>\n",
       "    <tr>\n",
       "      <th>1</th>\n",
       "      <td>2016S009877</td>\n",
       "      <td>No és causa del  vianant</td>\n",
       "      <td>Motocicleta</td>\n",
       "      <td>Home</td>\n",
       "      <td>30</td>\n",
       "      <td>Conductor</td>\n",
       "      <td>Ferit lleu</td>\n",
       "    </tr>\n",
       "    <tr>\n",
       "      <th>2</th>\n",
       "      <td>2016S002188</td>\n",
       "      <td>No és causa del  vianant</td>\n",
       "      <td>Motocicleta</td>\n",
       "      <td>Home</td>\n",
       "      <td>39</td>\n",
       "      <td>Conductor</td>\n",
       "      <td>Ferit lleu</td>\n",
       "    </tr>\n",
       "    <tr>\n",
       "      <th>3</th>\n",
       "      <td>2016S004036</td>\n",
       "      <td>No és causa del  vianant</td>\n",
       "      <td>Motocicleta</td>\n",
       "      <td>Home</td>\n",
       "      <td>28</td>\n",
       "      <td>Conductor</td>\n",
       "      <td>Ferit lleu</td>\n",
       "    </tr>\n",
       "    <tr>\n",
       "      <th>4</th>\n",
       "      <td>2016S007973</td>\n",
       "      <td>Creuar per fora pas de vianants</td>\n",
       "      <td>Turismo</td>\n",
       "      <td>Dona</td>\n",
       "      <td>14</td>\n",
       "      <td>Vianant</td>\n",
       "      <td>Ferit lleu</td>\n",
       "    </tr>\n",
       "  </tbody>\n",
       "</table>\n",
       "</div>"
      ],
      "text/plain": [
       "  Número d'expedient         Descripció causa vianant  \\\n",
       "0    2016S008630             No és causa del  vianant   \n",
       "1    2016S009877             No és causa del  vianant   \n",
       "2    2016S002188             No és causa del  vianant   \n",
       "3    2016S004036             No és causa del  vianant   \n",
       "4    2016S007973      Creuar per fora pas de vianants   \n",
       "\n",
       "  Desc. Tipus vehicle implicat Descripció sexe Edat Descripció tipus persona  \\\n",
       "0                      Turismo            Home   29                Conductor   \n",
       "1                  Motocicleta            Home   30                Conductor   \n",
       "2                  Motocicleta            Home   39                Conductor   \n",
       "3                  Motocicleta            Home   28                Conductor   \n",
       "4                      Turismo            Dona   14                  Vianant   \n",
       "\n",
       "  Descripció victimització  \n",
       "0               Ferit lleu  \n",
       "1               Ferit lleu  \n",
       "2               Ferit lleu  \n",
       "3               Ferit lleu  \n",
       "4               Ferit lleu  "
      ]
     },
     "execution_count": 10,
     "metadata": {},
     "output_type": "execute_result"
    }
   ],
   "source": [
    "vict16 = victimas16.iloc[:,[0,17,18,19,20,21,23]]\n",
    "vict16.head()"
   ]
  },
  {
   "cell_type": "code",
   "execution_count": 11,
   "metadata": {},
   "outputs": [
    {
     "data": {
      "text/html": [
       "<div>\n",
       "<style scoped>\n",
       "    .dataframe tbody tr th:only-of-type {\n",
       "        vertical-align: middle;\n",
       "    }\n",
       "\n",
       "    .dataframe tbody tr th {\n",
       "        vertical-align: top;\n",
       "    }\n",
       "\n",
       "    .dataframe thead th {\n",
       "        text-align: right;\n",
       "    }\n",
       "</style>\n",
       "<table border=\"1\" class=\"dataframe\">\n",
       "  <thead>\n",
       "    <tr style=\"text-align: right;\">\n",
       "      <th></th>\n",
       "      <th>Número_d'expedient</th>\n",
       "      <th>Descripció causa vianant</th>\n",
       "      <th>Desc._Tipus_vehicle_implicat</th>\n",
       "      <th>Descripció_sexe</th>\n",
       "      <th>Edat</th>\n",
       "      <th>Descripció_tipus_persona</th>\n",
       "      <th>Descripció_victimització</th>\n",
       "    </tr>\n",
       "  </thead>\n",
       "  <tbody>\n",
       "    <tr>\n",
       "      <th>0</th>\n",
       "      <td>2017S000001</td>\n",
       "      <td>No és causa del  vianant</td>\n",
       "      <td>Turismo</td>\n",
       "      <td>Home</td>\n",
       "      <td>50</td>\n",
       "      <td>Conductor</td>\n",
       "      <td>Ferit lleu</td>\n",
       "    </tr>\n",
       "    <tr>\n",
       "      <th>1</th>\n",
       "      <td>2017S000002</td>\n",
       "      <td>No és causa del  vianant</td>\n",
       "      <td>Motocicleta</td>\n",
       "      <td>Home</td>\n",
       "      <td>47</td>\n",
       "      <td>Conductor</td>\n",
       "      <td>Ferit lleu</td>\n",
       "    </tr>\n",
       "    <tr>\n",
       "      <th>2</th>\n",
       "      <td>2017S000004</td>\n",
       "      <td>No és causa del  vianant</td>\n",
       "      <td>Motocicleta</td>\n",
       "      <td>Dona</td>\n",
       "      <td>27</td>\n",
       "      <td>Conductor</td>\n",
       "      <td>Ferit lleu</td>\n",
       "    </tr>\n",
       "    <tr>\n",
       "      <th>3</th>\n",
       "      <td>2017S000005</td>\n",
       "      <td>No és causa del  vianant</td>\n",
       "      <td>Ciclomotor</td>\n",
       "      <td>Dona</td>\n",
       "      <td>40</td>\n",
       "      <td>Passatger</td>\n",
       "      <td>Ferit lleu</td>\n",
       "    </tr>\n",
       "    <tr>\n",
       "      <th>4</th>\n",
       "      <td>2017S000005</td>\n",
       "      <td>No és causa del  vianant</td>\n",
       "      <td>Ciclomotor</td>\n",
       "      <td>Home</td>\n",
       "      <td>37</td>\n",
       "      <td>Conductor</td>\n",
       "      <td>Ferit lleu</td>\n",
       "    </tr>\n",
       "  </tbody>\n",
       "</table>\n",
       "</div>"
      ],
      "text/plain": [
       "  Número_d'expedient  Descripció causa vianant Desc._Tipus_vehicle_implicat  \\\n",
       "0    2017S000001      No és causa del  vianant                      Turismo   \n",
       "1    2017S000002      No és causa del  vianant                  Motocicleta   \n",
       "2    2017S000004      No és causa del  vianant                  Motocicleta   \n",
       "3    2017S000005      No és causa del  vianant                   Ciclomotor   \n",
       "4    2017S000005      No és causa del  vianant                   Ciclomotor   \n",
       "\n",
       "  Descripció_sexe Edat Descripció_tipus_persona Descripció_victimització  \n",
       "0            Home   50                Conductor               Ferit lleu  \n",
       "1            Home   47                Conductor               Ferit lleu  \n",
       "2            Dona   27                Conductor               Ferit lleu  \n",
       "3            Dona   40                Passatger               Ferit lleu  \n",
       "4            Home   37                Conductor               Ferit lleu  "
      ]
     },
     "execution_count": 11,
     "metadata": {},
     "output_type": "execute_result"
    }
   ],
   "source": [
    "vict17 = victimas17.iloc[:,[0,17,18,19,20,21,23]]\n",
    "vict17.head()"
   ]
  },
  {
   "cell_type": "markdown",
   "metadata": {},
   "source": [
    "Los nombres de las columnas no son iguales por lo que se deben renombrar (traducir al español) antes de poder juntar"
   ]
  },
  {
   "cell_type": "code",
   "execution_count": 12,
   "metadata": {},
   "outputs": [
    {
     "name": "stderr",
     "output_type": "stream",
     "text": [
      "C:\\Users\\ale_r\\Anaconda3\\lib\\site-packages\\pandas\\core\\frame.py:3781: SettingWithCopyWarning: \n",
      "A value is trying to be set on a copy of a slice from a DataFrame\n",
      "\n",
      "See the caveats in the documentation: http://pandas.pydata.org/pandas-docs/stable/indexing.html#indexing-view-versus-copy\n",
      "  return super(DataFrame, self).rename(**kwargs)\n"
     ]
    },
    {
     "data": {
      "text/html": [
       "<div>\n",
       "<style scoped>\n",
       "    .dataframe tbody tr th:only-of-type {\n",
       "        vertical-align: middle;\n",
       "    }\n",
       "\n",
       "    .dataframe tbody tr th {\n",
       "        vertical-align: top;\n",
       "    }\n",
       "\n",
       "    .dataframe thead th {\n",
       "        text-align: right;\n",
       "    }\n",
       "</style>\n",
       "<table border=\"1\" class=\"dataframe\">\n",
       "  <thead>\n",
       "    <tr style=\"text-align: right;\">\n",
       "      <th></th>\n",
       "      <th>Num_expediente</th>\n",
       "      <th>Causa_peaton</th>\n",
       "      <th>Tipo_vehiculo</th>\n",
       "      <th>Sexo</th>\n",
       "      <th>Tipo_persona</th>\n",
       "      <th>Edad</th>\n",
       "      <th>Condicion_fisica</th>\n",
       "    </tr>\n",
       "  </thead>\n",
       "  <tbody>\n",
       "    <tr>\n",
       "      <th>0</th>\n",
       "      <td>2015S005991</td>\n",
       "      <td>No és causa del  vianant</td>\n",
       "      <td>Motocicleta</td>\n",
       "      <td>Home</td>\n",
       "      <td>Conductor</td>\n",
       "      <td>36</td>\n",
       "      <td>Ferit lleu</td>\n",
       "    </tr>\n",
       "    <tr>\n",
       "      <th>1</th>\n",
       "      <td>2015S004912</td>\n",
       "      <td>No és causa del  vianant</td>\n",
       "      <td>Turismo</td>\n",
       "      <td>Home</td>\n",
       "      <td>Conductor</td>\n",
       "      <td>54</td>\n",
       "      <td>Ferit lleu</td>\n",
       "    </tr>\n",
       "    <tr>\n",
       "      <th>2</th>\n",
       "      <td>2015S009751</td>\n",
       "      <td>No és causa del  vianant</td>\n",
       "      <td>Motocicleta</td>\n",
       "      <td>Home</td>\n",
       "      <td>Conductor</td>\n",
       "      <td>49</td>\n",
       "      <td>Ferit lleu</td>\n",
       "    </tr>\n",
       "    <tr>\n",
       "      <th>3</th>\n",
       "      <td>2015S002580</td>\n",
       "      <td>Creuar per fora pas de vianants</td>\n",
       "      <td>Motocicleta</td>\n",
       "      <td>Home</td>\n",
       "      <td>Vianant</td>\n",
       "      <td>13</td>\n",
       "      <td>Ferit lleu</td>\n",
       "    </tr>\n",
       "    <tr>\n",
       "      <th>4</th>\n",
       "      <td>2015S008919</td>\n",
       "      <td>No és causa del  vianant</td>\n",
       "      <td>Motocicleta</td>\n",
       "      <td>Home</td>\n",
       "      <td>Conductor</td>\n",
       "      <td>49</td>\n",
       "      <td>Ferit lleu</td>\n",
       "    </tr>\n",
       "  </tbody>\n",
       "</table>\n",
       "</div>"
      ],
      "text/plain": [
       "  Num_expediente                     Causa_peaton Tipo_vehiculo  Sexo  \\\n",
       "0    2015S005991         No és causa del  vianant   Motocicleta  Home   \n",
       "1    2015S004912         No és causa del  vianant       Turismo  Home   \n",
       "2    2015S009751         No és causa del  vianant   Motocicleta  Home   \n",
       "3    2015S002580  Creuar per fora pas de vianants   Motocicleta  Home   \n",
       "4    2015S008919         No és causa del  vianant   Motocicleta  Home   \n",
       "\n",
       "  Tipo_persona Edad Condicion_fisica  \n",
       "0    Conductor   36       Ferit lleu  \n",
       "1    Conductor   54       Ferit lleu  \n",
       "2    Conductor   49       Ferit lleu  \n",
       "3      Vianant   13       Ferit lleu  \n",
       "4    Conductor   49       Ferit lleu  "
      ]
     },
     "execution_count": 12,
     "metadata": {},
     "output_type": "execute_result"
    }
   ],
   "source": [
    "vict15.rename(columns={\"Número d expedient\":'Num_expediente',\"Descripció causa vianant\":\"Causa_peaton\",\"Descripció tipus persona\":\"Tipo_persona\",\"Descripció victimització\": \"Condicion_fisica\",\"Edat\":\"Edad\",\"Descripció sexe\":\"Sexo\",'Desc Tipus vehicle implicat':'Tipo_vehiculo'},\n",
    "                      inplace=True)\n",
    "vict15.head()"
   ]
  },
  {
   "cell_type": "code",
   "execution_count": 13,
   "metadata": {},
   "outputs": [
    {
     "data": {
      "text/html": [
       "<div>\n",
       "<style scoped>\n",
       "    .dataframe tbody tr th:only-of-type {\n",
       "        vertical-align: middle;\n",
       "    }\n",
       "\n",
       "    .dataframe tbody tr th {\n",
       "        vertical-align: top;\n",
       "    }\n",
       "\n",
       "    .dataframe thead th {\n",
       "        text-align: right;\n",
       "    }\n",
       "</style>\n",
       "<table border=\"1\" class=\"dataframe\">\n",
       "  <thead>\n",
       "    <tr style=\"text-align: right;\">\n",
       "      <th></th>\n",
       "      <th>Num_expediente</th>\n",
       "      <th>Causa_peaton</th>\n",
       "      <th>Tipo_vehiculo</th>\n",
       "      <th>Sexo</th>\n",
       "      <th>Edad</th>\n",
       "      <th>Tipo_persona</th>\n",
       "      <th>Condicion_fisica</th>\n",
       "    </tr>\n",
       "  </thead>\n",
       "  <tbody>\n",
       "    <tr>\n",
       "      <th>0</th>\n",
       "      <td>2016S008630</td>\n",
       "      <td>No és causa del  vianant</td>\n",
       "      <td>Turismo</td>\n",
       "      <td>Home</td>\n",
       "      <td>29</td>\n",
       "      <td>Conductor</td>\n",
       "      <td>Ferit lleu</td>\n",
       "    </tr>\n",
       "    <tr>\n",
       "      <th>1</th>\n",
       "      <td>2016S009877</td>\n",
       "      <td>No és causa del  vianant</td>\n",
       "      <td>Motocicleta</td>\n",
       "      <td>Home</td>\n",
       "      <td>30</td>\n",
       "      <td>Conductor</td>\n",
       "      <td>Ferit lleu</td>\n",
       "    </tr>\n",
       "    <tr>\n",
       "      <th>2</th>\n",
       "      <td>2016S002188</td>\n",
       "      <td>No és causa del  vianant</td>\n",
       "      <td>Motocicleta</td>\n",
       "      <td>Home</td>\n",
       "      <td>39</td>\n",
       "      <td>Conductor</td>\n",
       "      <td>Ferit lleu</td>\n",
       "    </tr>\n",
       "    <tr>\n",
       "      <th>3</th>\n",
       "      <td>2016S004036</td>\n",
       "      <td>No és causa del  vianant</td>\n",
       "      <td>Motocicleta</td>\n",
       "      <td>Home</td>\n",
       "      <td>28</td>\n",
       "      <td>Conductor</td>\n",
       "      <td>Ferit lleu</td>\n",
       "    </tr>\n",
       "    <tr>\n",
       "      <th>4</th>\n",
       "      <td>2016S007973</td>\n",
       "      <td>Creuar per fora pas de vianants</td>\n",
       "      <td>Turismo</td>\n",
       "      <td>Dona</td>\n",
       "      <td>14</td>\n",
       "      <td>Vianant</td>\n",
       "      <td>Ferit lleu</td>\n",
       "    </tr>\n",
       "  </tbody>\n",
       "</table>\n",
       "</div>"
      ],
      "text/plain": [
       "    Num_expediente                     Causa_peaton Tipo_vehiculo  Sexo Edad  \\\n",
       "0  2016S008630             No és causa del  vianant       Turismo  Home   29   \n",
       "1  2016S009877             No és causa del  vianant   Motocicleta  Home   30   \n",
       "2  2016S002188             No és causa del  vianant   Motocicleta  Home   39   \n",
       "3  2016S004036             No és causa del  vianant   Motocicleta  Home   28   \n",
       "4  2016S007973      Creuar per fora pas de vianants       Turismo  Dona   14   \n",
       "\n",
       "  Tipo_persona Condicion_fisica  \n",
       "0    Conductor       Ferit lleu  \n",
       "1    Conductor       Ferit lleu  \n",
       "2    Conductor       Ferit lleu  \n",
       "3    Conductor       Ferit lleu  \n",
       "4      Vianant       Ferit lleu  "
      ]
     },
     "execution_count": 13,
     "metadata": {},
     "output_type": "execute_result"
    }
   ],
   "source": [
    "vict16.rename(columns={\"Número d'expedient\":'Num_expediente',\"Descripció causa vianant\":\"Causa_peaton\", \"Descripció tipus persona\":\"Tipo_persona\", \"Descripció victimització\": \"Condicion_fisica\", \"Edat\":\"Edad\", \"Descripció sexe\":\"Sexo\",'Desc. Tipus vehicle implicat':'Tipo_vehiculo'},\n",
    "                      inplace=True)\n",
    "vict16.head()"
   ]
  },
  {
   "cell_type": "code",
   "execution_count": 14,
   "metadata": {},
   "outputs": [
    {
     "data": {
      "text/html": [
       "<div>\n",
       "<style scoped>\n",
       "    .dataframe tbody tr th:only-of-type {\n",
       "        vertical-align: middle;\n",
       "    }\n",
       "\n",
       "    .dataframe tbody tr th {\n",
       "        vertical-align: top;\n",
       "    }\n",
       "\n",
       "    .dataframe thead th {\n",
       "        text-align: right;\n",
       "    }\n",
       "</style>\n",
       "<table border=\"1\" class=\"dataframe\">\n",
       "  <thead>\n",
       "    <tr style=\"text-align: right;\">\n",
       "      <th></th>\n",
       "      <th>Num_expediente</th>\n",
       "      <th>Causa_peaton</th>\n",
       "      <th>Tipo_vehiculo</th>\n",
       "      <th>Sexo</th>\n",
       "      <th>Edad</th>\n",
       "      <th>Tipo_persona</th>\n",
       "      <th>Condicion_fisica</th>\n",
       "    </tr>\n",
       "  </thead>\n",
       "  <tbody>\n",
       "    <tr>\n",
       "      <th>0</th>\n",
       "      <td>2017S000001</td>\n",
       "      <td>No és causa del  vianant</td>\n",
       "      <td>Turismo</td>\n",
       "      <td>Home</td>\n",
       "      <td>50</td>\n",
       "      <td>Conductor</td>\n",
       "      <td>Ferit lleu</td>\n",
       "    </tr>\n",
       "    <tr>\n",
       "      <th>1</th>\n",
       "      <td>2017S000002</td>\n",
       "      <td>No és causa del  vianant</td>\n",
       "      <td>Motocicleta</td>\n",
       "      <td>Home</td>\n",
       "      <td>47</td>\n",
       "      <td>Conductor</td>\n",
       "      <td>Ferit lleu</td>\n",
       "    </tr>\n",
       "    <tr>\n",
       "      <th>2</th>\n",
       "      <td>2017S000004</td>\n",
       "      <td>No és causa del  vianant</td>\n",
       "      <td>Motocicleta</td>\n",
       "      <td>Dona</td>\n",
       "      <td>27</td>\n",
       "      <td>Conductor</td>\n",
       "      <td>Ferit lleu</td>\n",
       "    </tr>\n",
       "    <tr>\n",
       "      <th>3</th>\n",
       "      <td>2017S000005</td>\n",
       "      <td>No és causa del  vianant</td>\n",
       "      <td>Ciclomotor</td>\n",
       "      <td>Dona</td>\n",
       "      <td>40</td>\n",
       "      <td>Passatger</td>\n",
       "      <td>Ferit lleu</td>\n",
       "    </tr>\n",
       "    <tr>\n",
       "      <th>4</th>\n",
       "      <td>2017S000005</td>\n",
       "      <td>No és causa del  vianant</td>\n",
       "      <td>Ciclomotor</td>\n",
       "      <td>Home</td>\n",
       "      <td>37</td>\n",
       "      <td>Conductor</td>\n",
       "      <td>Ferit lleu</td>\n",
       "    </tr>\n",
       "  </tbody>\n",
       "</table>\n",
       "</div>"
      ],
      "text/plain": [
       "    Num_expediente              Causa_peaton Tipo_vehiculo  Sexo Edad  \\\n",
       "0  2017S000001      No és causa del  vianant       Turismo  Home   50   \n",
       "1  2017S000002      No és causa del  vianant   Motocicleta  Home   47   \n",
       "2  2017S000004      No és causa del  vianant   Motocicleta  Dona   27   \n",
       "3  2017S000005      No és causa del  vianant    Ciclomotor  Dona   40   \n",
       "4  2017S000005      No és causa del  vianant    Ciclomotor  Home   37   \n",
       "\n",
       "  Tipo_persona Condicion_fisica  \n",
       "0    Conductor       Ferit lleu  \n",
       "1    Conductor       Ferit lleu  \n",
       "2    Conductor       Ferit lleu  \n",
       "3    Passatger       Ferit lleu  \n",
       "4    Conductor       Ferit lleu  "
      ]
     },
     "execution_count": 14,
     "metadata": {},
     "output_type": "execute_result"
    }
   ],
   "source": [
    "vict17.rename(columns={\"Número_d'expedient\":'Num_expediente',\"Descripció causa vianant\":\"Causa_peaton\", \"Descripció_tipus_persona\":\"Tipo_persona\", \"Descripció_victimització\": \"Condicion_fisica\", \"Edat\":\"Edad\", \"Descripció_sexe\":\"Sexo\",'Desc._Tipus_vehicle_implicat':'Tipo_vehiculo'},\n",
    "                      inplace=True)\n",
    "vict17.head()"
   ]
  },
  {
   "cell_type": "markdown",
   "metadata": {},
   "source": [
    "Juntar todas las bases"
   ]
  },
  {
   "cell_type": "code",
   "execution_count": 15,
   "metadata": {},
   "outputs": [
    {
     "name": "stderr",
     "output_type": "stream",
     "text": [
      "C:\\Users\\ale_r\\Anaconda3\\lib\\site-packages\\pandas\\core\\frame.py:6211: FutureWarning: Sorting because non-concatenation axis is not aligned. A future version\n",
      "of pandas will change to not sort by default.\n",
      "\n",
      "To accept the future behavior, pass 'sort=False'.\n",
      "\n",
      "To retain the current behavior and silence the warning, pass 'sort=True'.\n",
      "\n",
      "  sort=sort)\n"
     ]
    },
    {
     "data": {
      "text/html": [
       "<div>\n",
       "<style scoped>\n",
       "    .dataframe tbody tr th:only-of-type {\n",
       "        vertical-align: middle;\n",
       "    }\n",
       "\n",
       "    .dataframe tbody tr th {\n",
       "        vertical-align: top;\n",
       "    }\n",
       "\n",
       "    .dataframe thead th {\n",
       "        text-align: right;\n",
       "    }\n",
       "</style>\n",
       "<table border=\"1\" class=\"dataframe\">\n",
       "  <thead>\n",
       "    <tr style=\"text-align: right;\">\n",
       "      <th></th>\n",
       "      <th>Causa_peaton</th>\n",
       "      <th>Condicion_fisica</th>\n",
       "      <th>Edad</th>\n",
       "      <th>Num_expediente</th>\n",
       "      <th>Sexo</th>\n",
       "      <th>Tipo_persona</th>\n",
       "      <th>Tipo_vehiculo</th>\n",
       "    </tr>\n",
       "  </thead>\n",
       "  <tbody>\n",
       "    <tr>\n",
       "      <th>0</th>\n",
       "      <td>No és causa del  vianant</td>\n",
       "      <td>Ferit lleu</td>\n",
       "      <td>36</td>\n",
       "      <td>2015S005991</td>\n",
       "      <td>Home</td>\n",
       "      <td>Conductor</td>\n",
       "      <td>Motocicleta</td>\n",
       "    </tr>\n",
       "    <tr>\n",
       "      <th>1</th>\n",
       "      <td>No és causa del  vianant</td>\n",
       "      <td>Ferit lleu</td>\n",
       "      <td>54</td>\n",
       "      <td>2015S004912</td>\n",
       "      <td>Home</td>\n",
       "      <td>Conductor</td>\n",
       "      <td>Turismo</td>\n",
       "    </tr>\n",
       "    <tr>\n",
       "      <th>2</th>\n",
       "      <td>No és causa del  vianant</td>\n",
       "      <td>Ferit lleu</td>\n",
       "      <td>49</td>\n",
       "      <td>2015S009751</td>\n",
       "      <td>Home</td>\n",
       "      <td>Conductor</td>\n",
       "      <td>Motocicleta</td>\n",
       "    </tr>\n",
       "    <tr>\n",
       "      <th>3</th>\n",
       "      <td>Creuar per fora pas de vianants</td>\n",
       "      <td>Ferit lleu</td>\n",
       "      <td>13</td>\n",
       "      <td>2015S002580</td>\n",
       "      <td>Home</td>\n",
       "      <td>Vianant</td>\n",
       "      <td>Motocicleta</td>\n",
       "    </tr>\n",
       "    <tr>\n",
       "      <th>4</th>\n",
       "      <td>No és causa del  vianant</td>\n",
       "      <td>Ferit lleu</td>\n",
       "      <td>49</td>\n",
       "      <td>2015S008919</td>\n",
       "      <td>Home</td>\n",
       "      <td>Conductor</td>\n",
       "      <td>Motocicleta</td>\n",
       "    </tr>\n",
       "  </tbody>\n",
       "</table>\n",
       "</div>"
      ],
      "text/plain": [
       "                      Causa_peaton Condicion_fisica Edad Num_expediente  Sexo  \\\n",
       "0         No és causa del  vianant       Ferit lleu   36    2015S005991  Home   \n",
       "1         No és causa del  vianant       Ferit lleu   54    2015S004912  Home   \n",
       "2         No és causa del  vianant       Ferit lleu   49    2015S009751  Home   \n",
       "3  Creuar per fora pas de vianants       Ferit lleu   13    2015S002580  Home   \n",
       "4         No és causa del  vianant       Ferit lleu   49    2015S008919  Home   \n",
       "\n",
       "  Tipo_persona Tipo_vehiculo  \n",
       "0    Conductor   Motocicleta  \n",
       "1    Conductor       Turismo  \n",
       "2    Conductor   Motocicleta  \n",
       "3      Vianant   Motocicleta  \n",
       "4    Conductor   Motocicleta  "
      ]
     },
     "execution_count": 15,
     "metadata": {},
     "output_type": "execute_result"
    }
   ],
   "source": [
    "vic = vict15.append(vict16, ignore_index=True, verify_integrity=True, sort=None)\n",
    "vic.head()"
   ]
  },
  {
   "cell_type": "code",
   "execution_count": 16,
   "metadata": {},
   "outputs": [
    {
     "data": {
      "text/html": [
       "<div>\n",
       "<style scoped>\n",
       "    .dataframe tbody tr th:only-of-type {\n",
       "        vertical-align: middle;\n",
       "    }\n",
       "\n",
       "    .dataframe tbody tr th {\n",
       "        vertical-align: top;\n",
       "    }\n",
       "\n",
       "    .dataframe thead th {\n",
       "        text-align: right;\n",
       "    }\n",
       "</style>\n",
       "<table border=\"1\" class=\"dataframe\">\n",
       "  <thead>\n",
       "    <tr style=\"text-align: right;\">\n",
       "      <th></th>\n",
       "      <th>Causa_peaton</th>\n",
       "      <th>Condicion_fisica</th>\n",
       "      <th>Edad</th>\n",
       "      <th>Num_expediente</th>\n",
       "      <th>Sexo</th>\n",
       "      <th>Tipo_persona</th>\n",
       "      <th>Tipo_vehiculo</th>\n",
       "    </tr>\n",
       "  </thead>\n",
       "  <tbody>\n",
       "    <tr>\n",
       "      <th>0</th>\n",
       "      <td>No és causa del  vianant</td>\n",
       "      <td>Ferit lleu</td>\n",
       "      <td>36</td>\n",
       "      <td>2015S005991</td>\n",
       "      <td>Home</td>\n",
       "      <td>Conductor</td>\n",
       "      <td>Motocicleta</td>\n",
       "    </tr>\n",
       "    <tr>\n",
       "      <th>1</th>\n",
       "      <td>No és causa del  vianant</td>\n",
       "      <td>Ferit lleu</td>\n",
       "      <td>54</td>\n",
       "      <td>2015S004912</td>\n",
       "      <td>Home</td>\n",
       "      <td>Conductor</td>\n",
       "      <td>Turismo</td>\n",
       "    </tr>\n",
       "    <tr>\n",
       "      <th>2</th>\n",
       "      <td>No és causa del  vianant</td>\n",
       "      <td>Ferit lleu</td>\n",
       "      <td>49</td>\n",
       "      <td>2015S009751</td>\n",
       "      <td>Home</td>\n",
       "      <td>Conductor</td>\n",
       "      <td>Motocicleta</td>\n",
       "    </tr>\n",
       "    <tr>\n",
       "      <th>3</th>\n",
       "      <td>Creuar per fora pas de vianants</td>\n",
       "      <td>Ferit lleu</td>\n",
       "      <td>13</td>\n",
       "      <td>2015S002580</td>\n",
       "      <td>Home</td>\n",
       "      <td>Vianant</td>\n",
       "      <td>Motocicleta</td>\n",
       "    </tr>\n",
       "    <tr>\n",
       "      <th>4</th>\n",
       "      <td>No és causa del  vianant</td>\n",
       "      <td>Ferit lleu</td>\n",
       "      <td>49</td>\n",
       "      <td>2015S008919</td>\n",
       "      <td>Home</td>\n",
       "      <td>Conductor</td>\n",
       "      <td>Motocicleta</td>\n",
       "    </tr>\n",
       "  </tbody>\n",
       "</table>\n",
       "</div>"
      ],
      "text/plain": [
       "                      Causa_peaton Condicion_fisica Edad Num_expediente  Sexo  \\\n",
       "0         No és causa del  vianant       Ferit lleu   36    2015S005991  Home   \n",
       "1         No és causa del  vianant       Ferit lleu   54    2015S004912  Home   \n",
       "2         No és causa del  vianant       Ferit lleu   49    2015S009751  Home   \n",
       "3  Creuar per fora pas de vianants       Ferit lleu   13    2015S002580  Home   \n",
       "4         No és causa del  vianant       Ferit lleu   49    2015S008919  Home   \n",
       "\n",
       "  Tipo_persona Tipo_vehiculo  \n",
       "0    Conductor   Motocicleta  \n",
       "1    Conductor       Turismo  \n",
       "2    Conductor   Motocicleta  \n",
       "3      Vianant   Motocicleta  \n",
       "4    Conductor   Motocicleta  "
      ]
     },
     "execution_count": 16,
     "metadata": {},
     "output_type": "execute_result"
    }
   ],
   "source": [
    "victimas = vic.append(vict17, ignore_index=True, verify_integrity=True, sort=None)\n",
    "victimas.head()"
   ]
  },
  {
   "cell_type": "markdown",
   "metadata": {},
   "source": [
    "Verificación"
   ]
  },
  {
   "cell_type": "code",
   "execution_count": 17,
   "metadata": {},
   "outputs": [
    {
     "data": {
      "text/plain": [
       "(36001, 7)"
      ]
     },
     "execution_count": 17,
     "metadata": {},
     "output_type": "execute_result"
    }
   ],
   "source": [
    "victimas.shape"
   ]
  },
  {
   "cell_type": "markdown",
   "metadata": {},
   "source": [
    "Aislar fila erronea (interrumpe la limpieza de datos)"
   ]
  },
  {
   "cell_type": "code",
   "execution_count": 18,
   "metadata": {},
   "outputs": [
    {
     "data": {
      "text/html": [
       "<div>\n",
       "<style scoped>\n",
       "    .dataframe tbody tr th:only-of-type {\n",
       "        vertical-align: middle;\n",
       "    }\n",
       "\n",
       "    .dataframe tbody tr th {\n",
       "        vertical-align: top;\n",
       "    }\n",
       "\n",
       "    .dataframe thead th {\n",
       "        text-align: right;\n",
       "    }\n",
       "</style>\n",
       "<table border=\"1\" class=\"dataframe\">\n",
       "  <thead>\n",
       "    <tr style=\"text-align: right;\">\n",
       "      <th></th>\n",
       "      <th>Causa_peaton</th>\n",
       "      <th>Condicion_fisica</th>\n",
       "      <th>Edad</th>\n",
       "      <th>Num_expediente</th>\n",
       "      <th>Sexo</th>\n",
       "      <th>Tipo_persona</th>\n",
       "      <th>Tipo_vehiculo</th>\n",
       "    </tr>\n",
       "  </thead>\n",
       "  <tbody>\n",
       "    <tr>\n",
       "      <th>11780</th>\n",
       "      <td>10:08:59</td>\n",
       "      <td>NaN</td>\n",
       "      <td>NaN</td>\n",
       "      <td>2/11/16</td>\n",
       "      <td>NaN</td>\n",
       "      <td>NaN</td>\n",
       "      <td>NaN</td>\n",
       "    </tr>\n",
       "  </tbody>\n",
       "</table>\n",
       "</div>"
      ],
      "text/plain": [
       "      Causa_peaton Condicion_fisica Edad Num_expediente Sexo Tipo_persona  \\\n",
       "11780     10:08:59              NaN  NaN        2/11/16  NaN          NaN   \n",
       "\n",
       "      Tipo_vehiculo  \n",
       "11780           NaN  "
      ]
     },
     "execution_count": 18,
     "metadata": {},
     "output_type": "execute_result"
    }
   ],
   "source": [
    "victimas[victimas.index.values == 11780]"
   ]
  },
  {
   "cell_type": "code",
   "execution_count": 19,
   "metadata": {},
   "outputs": [],
   "source": [
    "victimas = victimas.drop(victimas.index[[11780]])"
   ]
  },
  {
   "cell_type": "code",
   "execution_count": 20,
   "metadata": {},
   "outputs": [
    {
     "data": {
      "text/html": [
       "<div>\n",
       "<style scoped>\n",
       "    .dataframe tbody tr th:only-of-type {\n",
       "        vertical-align: middle;\n",
       "    }\n",
       "\n",
       "    .dataframe tbody tr th {\n",
       "        vertical-align: top;\n",
       "    }\n",
       "\n",
       "    .dataframe thead th {\n",
       "        text-align: right;\n",
       "    }\n",
       "</style>\n",
       "<table border=\"1\" class=\"dataframe\">\n",
       "  <thead>\n",
       "    <tr style=\"text-align: right;\">\n",
       "      <th></th>\n",
       "      <th>Causa_peaton</th>\n",
       "      <th>Condicion_fisica</th>\n",
       "      <th>Edad</th>\n",
       "      <th>Num_expediente</th>\n",
       "      <th>Sexo</th>\n",
       "      <th>Tipo_persona</th>\n",
       "      <th>Tipo_vehiculo</th>\n",
       "    </tr>\n",
       "  </thead>\n",
       "  <tbody>\n",
       "  </tbody>\n",
       "</table>\n",
       "</div>"
      ],
      "text/plain": [
       "Empty DataFrame\n",
       "Columns: [Causa_peaton, Condicion_fisica, Edad, Num_expediente, Sexo, Tipo_persona, Tipo_vehiculo]\n",
       "Index: []"
      ]
     },
     "execution_count": 20,
     "metadata": {},
     "output_type": "execute_result"
    }
   ],
   "source": [
    "victimas[victimas.index.values == 11780]"
   ]
  },
  {
   "cell_type": "code",
   "execution_count": 21,
   "metadata": {},
   "outputs": [
    {
     "data": {
      "text/plain": [
       "(36000, 7)"
      ]
     },
     "execution_count": 21,
     "metadata": {},
     "output_type": "execute_result"
    }
   ],
   "source": [
    "victimas.shape"
   ]
  },
  {
   "cell_type": "markdown",
   "metadata": {},
   "source": [
    "Limpieza dato Número de Expediente"
   ]
  },
  {
   "cell_type": "code",
   "execution_count": 22,
   "metadata": {},
   "outputs": [
    {
     "data": {
      "text/plain": [
       "array(['2015S005991', '2015S004912', '2015S009751', ...,\n",
       "       '2017S010782    ', '2017S010783    ', '2017S010784    '],\n",
       "      dtype=object)"
      ]
     },
     "execution_count": 22,
     "metadata": {},
     "output_type": "execute_result"
    }
   ],
   "source": [
    "victimas.Num_expediente.unique()"
   ]
  },
  {
   "cell_type": "code",
   "execution_count": 23,
   "metadata": {},
   "outputs": [
    {
     "data": {
      "text/html": [
       "<div>\n",
       "<style scoped>\n",
       "    .dataframe tbody tr th:only-of-type {\n",
       "        vertical-align: middle;\n",
       "    }\n",
       "\n",
       "    .dataframe tbody tr th {\n",
       "        vertical-align: top;\n",
       "    }\n",
       "\n",
       "    .dataframe thead th {\n",
       "        text-align: right;\n",
       "    }\n",
       "</style>\n",
       "<table border=\"1\" class=\"dataframe\">\n",
       "  <thead>\n",
       "    <tr style=\"text-align: right;\">\n",
       "      <th></th>\n",
       "      <th>Causa_peaton</th>\n",
       "      <th>Condicion_fisica</th>\n",
       "      <th>Edad</th>\n",
       "      <th>Num_expediente</th>\n",
       "      <th>Sexo</th>\n",
       "      <th>Tipo_persona</th>\n",
       "      <th>Tipo_vehiculo</th>\n",
       "    </tr>\n",
       "  </thead>\n",
       "  <tbody>\n",
       "    <tr>\n",
       "      <th>0</th>\n",
       "      <td>No és causa del  vianant</td>\n",
       "      <td>Ferit lleu</td>\n",
       "      <td>36</td>\n",
       "      <td>2015S005991</td>\n",
       "      <td>Home</td>\n",
       "      <td>Conductor</td>\n",
       "      <td>Motocicleta</td>\n",
       "    </tr>\n",
       "    <tr>\n",
       "      <th>1</th>\n",
       "      <td>No és causa del  vianant</td>\n",
       "      <td>Ferit lleu</td>\n",
       "      <td>54</td>\n",
       "      <td>2015S004912</td>\n",
       "      <td>Home</td>\n",
       "      <td>Conductor</td>\n",
       "      <td>Turismo</td>\n",
       "    </tr>\n",
       "    <tr>\n",
       "      <th>2</th>\n",
       "      <td>No és causa del  vianant</td>\n",
       "      <td>Ferit lleu</td>\n",
       "      <td>49</td>\n",
       "      <td>2015S009751</td>\n",
       "      <td>Home</td>\n",
       "      <td>Conductor</td>\n",
       "      <td>Motocicleta</td>\n",
       "    </tr>\n",
       "    <tr>\n",
       "      <th>3</th>\n",
       "      <td>Creuar per fora pas de vianants</td>\n",
       "      <td>Ferit lleu</td>\n",
       "      <td>13</td>\n",
       "      <td>2015S002580</td>\n",
       "      <td>Home</td>\n",
       "      <td>Vianant</td>\n",
       "      <td>Motocicleta</td>\n",
       "    </tr>\n",
       "    <tr>\n",
       "      <th>4</th>\n",
       "      <td>No és causa del  vianant</td>\n",
       "      <td>Ferit lleu</td>\n",
       "      <td>49</td>\n",
       "      <td>2015S008919</td>\n",
       "      <td>Home</td>\n",
       "      <td>Conductor</td>\n",
       "      <td>Motocicleta</td>\n",
       "    </tr>\n",
       "  </tbody>\n",
       "</table>\n",
       "</div>"
      ],
      "text/plain": [
       "                      Causa_peaton Condicion_fisica Edad Num_expediente  Sexo  \\\n",
       "0         No és causa del  vianant       Ferit lleu   36    2015S005991  Home   \n",
       "1         No és causa del  vianant       Ferit lleu   54    2015S004912  Home   \n",
       "2         No és causa del  vianant       Ferit lleu   49    2015S009751  Home   \n",
       "3  Creuar per fora pas de vianants       Ferit lleu   13    2015S002580  Home   \n",
       "4         No és causa del  vianant       Ferit lleu   49    2015S008919  Home   \n",
       "\n",
       "  Tipo_persona Tipo_vehiculo  \n",
       "0    Conductor   Motocicleta  \n",
       "1    Conductor       Turismo  \n",
       "2    Conductor   Motocicleta  \n",
       "3      Vianant   Motocicleta  \n",
       "4    Conductor   Motocicleta  "
      ]
     },
     "execution_count": 23,
     "metadata": {},
     "output_type": "execute_result"
    }
   ],
   "source": [
    "def espacio(fila):\n",
    "    return (fila.Num_expediente).strip()\n",
    "\n",
    "victimas['Num_expediente'] = victimas.apply(espacio,axis=1)\n",
    "victimas.head()"
   ]
  },
  {
   "cell_type": "code",
   "execution_count": 24,
   "metadata": {},
   "outputs": [
    {
     "data": {
      "text/plain": [
       "array(['2015S005991', '2015S004912', '2015S009751', ..., '2017S010782',\n",
       "       '2017S010783', '2017S010784'], dtype=object)"
      ]
     },
     "execution_count": 24,
     "metadata": {},
     "output_type": "execute_result"
    }
   ],
   "source": [
    "victimas.Num_expediente.unique()"
   ]
  },
  {
   "cell_type": "markdown",
   "metadata": {},
   "source": [
    "Limpieza datos Causa_peaton (traducción al español)"
   ]
  },
  {
   "cell_type": "code",
   "execution_count": 25,
   "metadata": {},
   "outputs": [
    {
     "data": {
      "text/plain": [
       "array(['No és causa del  vianant', 'Creuar per fora pas de vianants',\n",
       "       'Desobeir el senyal del semàfor', 'Altres',\n",
       "       'Transitar a peu per la calçada', 'Desobeir altres senyals'],\n",
       "      dtype=object)"
      ]
     },
     "execution_count": 25,
     "metadata": {},
     "output_type": "execute_result"
    }
   ],
   "source": [
    "victimas.Causa_peaton.unique()"
   ]
  },
  {
   "cell_type": "code",
   "execution_count": 26,
   "metadata": {},
   "outputs": [
    {
     "data": {
      "text/html": [
       "<div>\n",
       "<style scoped>\n",
       "    .dataframe tbody tr th:only-of-type {\n",
       "        vertical-align: middle;\n",
       "    }\n",
       "\n",
       "    .dataframe tbody tr th {\n",
       "        vertical-align: top;\n",
       "    }\n",
       "\n",
       "    .dataframe thead th {\n",
       "        text-align: right;\n",
       "    }\n",
       "</style>\n",
       "<table border=\"1\" class=\"dataframe\">\n",
       "  <thead>\n",
       "    <tr style=\"text-align: right;\">\n",
       "      <th></th>\n",
       "      <th>Causa_peaton</th>\n",
       "      <th>Condicion_fisica</th>\n",
       "      <th>Edad</th>\n",
       "      <th>Num_expediente</th>\n",
       "      <th>Sexo</th>\n",
       "      <th>Tipo_persona</th>\n",
       "      <th>Tipo_vehiculo</th>\n",
       "    </tr>\n",
       "  </thead>\n",
       "  <tbody>\n",
       "    <tr>\n",
       "      <th>0</th>\n",
       "      <td>No es debido al peatón</td>\n",
       "      <td>Ferit lleu</td>\n",
       "      <td>36</td>\n",
       "      <td>2015S005991</td>\n",
       "      <td>Home</td>\n",
       "      <td>Conductor</td>\n",
       "      <td>Motocicleta</td>\n",
       "    </tr>\n",
       "    <tr>\n",
       "      <th>1</th>\n",
       "      <td>No es debido al peatón</td>\n",
       "      <td>Ferit lleu</td>\n",
       "      <td>54</td>\n",
       "      <td>2015S004912</td>\n",
       "      <td>Home</td>\n",
       "      <td>Conductor</td>\n",
       "      <td>Turismo</td>\n",
       "    </tr>\n",
       "    <tr>\n",
       "      <th>2</th>\n",
       "      <td>No es debido al peatón</td>\n",
       "      <td>Ferit lleu</td>\n",
       "      <td>49</td>\n",
       "      <td>2015S009751</td>\n",
       "      <td>Home</td>\n",
       "      <td>Conductor</td>\n",
       "      <td>Motocicleta</td>\n",
       "    </tr>\n",
       "    <tr>\n",
       "      <th>3</th>\n",
       "      <td>Cruzar por fuera paso de peatones</td>\n",
       "      <td>Ferit lleu</td>\n",
       "      <td>13</td>\n",
       "      <td>2015S002580</td>\n",
       "      <td>Home</td>\n",
       "      <td>Vianant</td>\n",
       "      <td>Motocicleta</td>\n",
       "    </tr>\n",
       "    <tr>\n",
       "      <th>4</th>\n",
       "      <td>No es debido al peatón</td>\n",
       "      <td>Ferit lleu</td>\n",
       "      <td>49</td>\n",
       "      <td>2015S008919</td>\n",
       "      <td>Home</td>\n",
       "      <td>Conductor</td>\n",
       "      <td>Motocicleta</td>\n",
       "    </tr>\n",
       "  </tbody>\n",
       "</table>\n",
       "</div>"
      ],
      "text/plain": [
       "                        Causa_peaton Condicion_fisica Edad Num_expediente  \\\n",
       "0             No es debido al peatón       Ferit lleu   36    2015S005991   \n",
       "1             No es debido al peatón       Ferit lleu   54    2015S004912   \n",
       "2             No es debido al peatón       Ferit lleu   49    2015S009751   \n",
       "3  Cruzar por fuera paso de peatones       Ferit lleu   13    2015S002580   \n",
       "4             No es debido al peatón       Ferit lleu   49    2015S008919   \n",
       "\n",
       "   Sexo Tipo_persona Tipo_vehiculo  \n",
       "0  Home    Conductor   Motocicleta  \n",
       "1  Home    Conductor       Turismo  \n",
       "2  Home    Conductor   Motocicleta  \n",
       "3  Home      Vianant   Motocicleta  \n",
       "4  Home    Conductor   Motocicleta  "
      ]
     },
     "execution_count": 26,
     "metadata": {},
     "output_type": "execute_result"
    }
   ],
   "source": [
    "def causapeaton(a):\n",
    "    if a.Causa_peaton == 'No és causa del  vianant':\n",
    "        b='No es debido al peatón'\n",
    "    elif a.Causa_peaton == 'Creuar per fora pas de vianants':\n",
    "        b='Cruzar por fuera paso de peatones'\n",
    "    elif a.Causa_peaton == 'Desobeir el senyal del semàfor':\n",
    "        b='Desobedecer la señan del semáforo'\n",
    "    elif a.Causa_peaton == 'Altres':\n",
    "        b='Otros'\n",
    "    elif a.Causa_peaton == 'Transitar a peu per la calçada':\n",
    "        b='Transitar a pie por la calzada'\n",
    "    elif a.Causa_peaton == 'Desobeir altres senyals':\n",
    "        b='Desobedecer otras señales'\n",
    "    return b\n",
    "   \n",
    "victimas['Causa_peaton'] = victimas.apply(causapeaton, axis=1)\n",
    "victimas.head()"
   ]
  },
  {
   "cell_type": "code",
   "execution_count": 27,
   "metadata": {},
   "outputs": [
    {
     "data": {
      "text/plain": [
       "array(['No es debido al peatón', 'Cruzar por fuera paso de peatones',\n",
       "       'Desobedecer la señan del semáforo', 'Otros',\n",
       "       'Transitar a pie por la calzada', 'Desobedecer otras señales'],\n",
       "      dtype=object)"
      ]
     },
     "execution_count": 27,
     "metadata": {},
     "output_type": "execute_result"
    }
   ],
   "source": [
    "victimas.Causa_peaton.unique()"
   ]
  },
  {
   "cell_type": "markdown",
   "metadata": {},
   "source": [
    "Limpieza datos Tipo_Persona"
   ]
  },
  {
   "cell_type": "code",
   "execution_count": 28,
   "metadata": {},
   "outputs": [
    {
     "data": {
      "text/plain": [
       "array(['Conductor', 'Vianant', 'Passatger'], dtype=object)"
      ]
     },
     "execution_count": 28,
     "metadata": {},
     "output_type": "execute_result"
    }
   ],
   "source": [
    "victimas.Tipo_persona.unique()"
   ]
  },
  {
   "cell_type": "code",
   "execution_count": 29,
   "metadata": {
    "scrolled": true
   },
   "outputs": [
    {
     "data": {
      "text/html": [
       "<div>\n",
       "<style scoped>\n",
       "    .dataframe tbody tr th:only-of-type {\n",
       "        vertical-align: middle;\n",
       "    }\n",
       "\n",
       "    .dataframe tbody tr th {\n",
       "        vertical-align: top;\n",
       "    }\n",
       "\n",
       "    .dataframe thead th {\n",
       "        text-align: right;\n",
       "    }\n",
       "</style>\n",
       "<table border=\"1\" class=\"dataframe\">\n",
       "  <thead>\n",
       "    <tr style=\"text-align: right;\">\n",
       "      <th></th>\n",
       "      <th>Causa_peaton</th>\n",
       "      <th>Condicion_fisica</th>\n",
       "      <th>Edad</th>\n",
       "      <th>Num_expediente</th>\n",
       "      <th>Sexo</th>\n",
       "      <th>Tipo_persona</th>\n",
       "      <th>Tipo_vehiculo</th>\n",
       "    </tr>\n",
       "  </thead>\n",
       "  <tbody>\n",
       "    <tr>\n",
       "      <th>0</th>\n",
       "      <td>No es debido al peatón</td>\n",
       "      <td>Ferit lleu</td>\n",
       "      <td>36</td>\n",
       "      <td>2015S005991</td>\n",
       "      <td>Home</td>\n",
       "      <td>Conductor</td>\n",
       "      <td>Motocicleta</td>\n",
       "    </tr>\n",
       "    <tr>\n",
       "      <th>1</th>\n",
       "      <td>No es debido al peatón</td>\n",
       "      <td>Ferit lleu</td>\n",
       "      <td>54</td>\n",
       "      <td>2015S004912</td>\n",
       "      <td>Home</td>\n",
       "      <td>Conductor</td>\n",
       "      <td>Turismo</td>\n",
       "    </tr>\n",
       "    <tr>\n",
       "      <th>2</th>\n",
       "      <td>No es debido al peatón</td>\n",
       "      <td>Ferit lleu</td>\n",
       "      <td>49</td>\n",
       "      <td>2015S009751</td>\n",
       "      <td>Home</td>\n",
       "      <td>Conductor</td>\n",
       "      <td>Motocicleta</td>\n",
       "    </tr>\n",
       "    <tr>\n",
       "      <th>3</th>\n",
       "      <td>Cruzar por fuera paso de peatones</td>\n",
       "      <td>Ferit lleu</td>\n",
       "      <td>13</td>\n",
       "      <td>2015S002580</td>\n",
       "      <td>Home</td>\n",
       "      <td>Peatón</td>\n",
       "      <td>Motocicleta</td>\n",
       "    </tr>\n",
       "    <tr>\n",
       "      <th>4</th>\n",
       "      <td>No es debido al peatón</td>\n",
       "      <td>Ferit lleu</td>\n",
       "      <td>49</td>\n",
       "      <td>2015S008919</td>\n",
       "      <td>Home</td>\n",
       "      <td>Conductor</td>\n",
       "      <td>Motocicleta</td>\n",
       "    </tr>\n",
       "  </tbody>\n",
       "</table>\n",
       "</div>"
      ],
      "text/plain": [
       "                        Causa_peaton Condicion_fisica Edad Num_expediente  \\\n",
       "0             No es debido al peatón       Ferit lleu   36    2015S005991   \n",
       "1             No es debido al peatón       Ferit lleu   54    2015S004912   \n",
       "2             No es debido al peatón       Ferit lleu   49    2015S009751   \n",
       "3  Cruzar por fuera paso de peatones       Ferit lleu   13    2015S002580   \n",
       "4             No es debido al peatón       Ferit lleu   49    2015S008919   \n",
       "\n",
       "   Sexo Tipo_persona Tipo_vehiculo  \n",
       "0  Home    Conductor   Motocicleta  \n",
       "1  Home    Conductor       Turismo  \n",
       "2  Home    Conductor   Motocicleta  \n",
       "3  Home       Peatón   Motocicleta  \n",
       "4  Home    Conductor   Motocicleta  "
      ]
     },
     "execution_count": 29,
     "metadata": {},
     "output_type": "execute_result"
    }
   ],
   "source": [
    "def tipopersona(a):\n",
    "    if a.Tipo_persona == 'Conductor':\n",
    "        b='Conductor'\n",
    "    elif a.Tipo_persona == 'Vianant':\n",
    "        b='Peatón'\n",
    "    elif a.Tipo_persona == 'Passatger':\n",
    "        b='Pasajero'\n",
    "    return b\n",
    "   \n",
    "victimas['Tipo_persona'] = victimas.apply(tipopersona, axis=1)\n",
    "victimas.head()"
   ]
  },
  {
   "cell_type": "code",
   "execution_count": 30,
   "metadata": {},
   "outputs": [
    {
     "data": {
      "text/plain": [
       "array(['Conductor', 'Peatón', 'Pasajero'], dtype=object)"
      ]
     },
     "execution_count": 30,
     "metadata": {},
     "output_type": "execute_result"
    }
   ],
   "source": [
    "victimas.Tipo_persona.unique()"
   ]
  },
  {
   "cell_type": "markdown",
   "metadata": {},
   "source": [
    "Limpieza datos Condicion_fisica"
   ]
  },
  {
   "cell_type": "code",
   "execution_count": 31,
   "metadata": {},
   "outputs": [
    {
     "data": {
      "text/plain": [
       "array(['Ferit lleu', 'Ferit greu', 'Mort',\n",
       "       'Ferit lleu: Hospitalització fins a 24h',\n",
       "       'Ferit greu: hospitalització superior a 24h',\n",
       "       \"Ferit lleu: Amb assistència sanitària en lloc d'accident\",\n",
       "       'Ferit lleu: Rebutja assistència sanitària',\n",
       "       'Mort (dins 24h posteriors accident)'], dtype=object)"
      ]
     },
     "execution_count": 31,
     "metadata": {},
     "output_type": "execute_result"
    }
   ],
   "source": [
    "victimas.Condicion_fisica.unique()"
   ]
  },
  {
   "cell_type": "code",
   "execution_count": 32,
   "metadata": {},
   "outputs": [
    {
     "data": {
      "text/html": [
       "<div>\n",
       "<style scoped>\n",
       "    .dataframe tbody tr th:only-of-type {\n",
       "        vertical-align: middle;\n",
       "    }\n",
       "\n",
       "    .dataframe tbody tr th {\n",
       "        vertical-align: top;\n",
       "    }\n",
       "\n",
       "    .dataframe thead th {\n",
       "        text-align: right;\n",
       "    }\n",
       "</style>\n",
       "<table border=\"1\" class=\"dataframe\">\n",
       "  <thead>\n",
       "    <tr style=\"text-align: right;\">\n",
       "      <th></th>\n",
       "      <th>Causa_peaton</th>\n",
       "      <th>Condicion_fisica</th>\n",
       "      <th>Edad</th>\n",
       "      <th>Num_expediente</th>\n",
       "      <th>Sexo</th>\n",
       "      <th>Tipo_persona</th>\n",
       "      <th>Tipo_vehiculo</th>\n",
       "    </tr>\n",
       "  </thead>\n",
       "  <tbody>\n",
       "    <tr>\n",
       "      <th>0</th>\n",
       "      <td>No es debido al peatón</td>\n",
       "      <td>Herido leve</td>\n",
       "      <td>36</td>\n",
       "      <td>2015S005991</td>\n",
       "      <td>Home</td>\n",
       "      <td>Conductor</td>\n",
       "      <td>Motocicleta</td>\n",
       "    </tr>\n",
       "    <tr>\n",
       "      <th>1</th>\n",
       "      <td>No es debido al peatón</td>\n",
       "      <td>Herido leve</td>\n",
       "      <td>54</td>\n",
       "      <td>2015S004912</td>\n",
       "      <td>Home</td>\n",
       "      <td>Conductor</td>\n",
       "      <td>Turismo</td>\n",
       "    </tr>\n",
       "    <tr>\n",
       "      <th>2</th>\n",
       "      <td>No es debido al peatón</td>\n",
       "      <td>Herido leve</td>\n",
       "      <td>49</td>\n",
       "      <td>2015S009751</td>\n",
       "      <td>Home</td>\n",
       "      <td>Conductor</td>\n",
       "      <td>Motocicleta</td>\n",
       "    </tr>\n",
       "    <tr>\n",
       "      <th>3</th>\n",
       "      <td>Cruzar por fuera paso de peatones</td>\n",
       "      <td>Herido leve</td>\n",
       "      <td>13</td>\n",
       "      <td>2015S002580</td>\n",
       "      <td>Home</td>\n",
       "      <td>Peatón</td>\n",
       "      <td>Motocicleta</td>\n",
       "    </tr>\n",
       "    <tr>\n",
       "      <th>4</th>\n",
       "      <td>No es debido al peatón</td>\n",
       "      <td>Herido leve</td>\n",
       "      <td>49</td>\n",
       "      <td>2015S008919</td>\n",
       "      <td>Home</td>\n",
       "      <td>Conductor</td>\n",
       "      <td>Motocicleta</td>\n",
       "    </tr>\n",
       "  </tbody>\n",
       "</table>\n",
       "</div>"
      ],
      "text/plain": [
       "                        Causa_peaton Condicion_fisica Edad Num_expediente  \\\n",
       "0             No es debido al peatón      Herido leve   36    2015S005991   \n",
       "1             No es debido al peatón      Herido leve   54    2015S004912   \n",
       "2             No es debido al peatón      Herido leve   49    2015S009751   \n",
       "3  Cruzar por fuera paso de peatones      Herido leve   13    2015S002580   \n",
       "4             No es debido al peatón      Herido leve   49    2015S008919   \n",
       "\n",
       "   Sexo Tipo_persona Tipo_vehiculo  \n",
       "0  Home    Conductor   Motocicleta  \n",
       "1  Home    Conductor       Turismo  \n",
       "2  Home    Conductor   Motocicleta  \n",
       "3  Home       Peatón   Motocicleta  \n",
       "4  Home    Conductor   Motocicleta  "
      ]
     },
     "execution_count": 32,
     "metadata": {},
     "output_type": "execute_result"
    }
   ],
   "source": [
    "def condicionfisica(a):\n",
    "    if a.Condicion_fisica == 'Ferit lleu':\n",
    "        b='Herido leve'\n",
    "    elif a.Condicion_fisica == 'Ferit greu':\n",
    "        b='Herido grave'\n",
    "    elif a.Condicion_fisica == 'Mort':\n",
    "        b='Muerte'\n",
    "    elif a.Condicion_fisica == 'Ferit lleu: Hospitalització fins a 24h':\n",
    "        b='Herido leve: Hospitalización hasta 24h'\n",
    "    elif a.Condicion_fisica == 'Ferit greu: hospitalització superior a 24h':\n",
    "        b='Herido grave: Hospitalización superior a 24h'\n",
    "    elif a.Condicion_fisica == \"Ferit lleu: Amb assistència sanitària en lloc d'accident\":\n",
    "        b='Herido leve: Con asistencia sanitaria en lugar de accidente'\n",
    "    elif a.Condicion_fisica == 'Ferit lleu: Rebutja assistència sanitària':\n",
    "        b='Herido leve: Rechaza asistencia sanitaria'\n",
    "    elif a.Condicion_fisica == 'Mort (dins 24h posteriors accident)':\n",
    "        b='Muerte (dentro 24h posteriores accidente)'\n",
    "    return b\n",
    "   \n",
    "victimas['Condicion_fisica'] = victimas.apply(condicionfisica, axis=1)\n",
    "victimas.head()"
   ]
  },
  {
   "cell_type": "code",
   "execution_count": 33,
   "metadata": {},
   "outputs": [
    {
     "data": {
      "text/plain": [
       "array(['Herido leve', 'Herido grave', 'Muerte',\n",
       "       'Herido leve: Hospitalización hasta 24h',\n",
       "       'Herido grave: Hospitalización superior a 24h',\n",
       "       'Herido leve: Con asistencia sanitaria en lugar de accidente',\n",
       "       'Herido leve: Rechaza asistencia sanitaria',\n",
       "       'Muerte (dentro 24h posteriores accidente)'], dtype=object)"
      ]
     },
     "execution_count": 33,
     "metadata": {},
     "output_type": "execute_result"
    }
   ],
   "source": [
    "victimas.Condicion_fisica.unique()"
   ]
  },
  {
   "cell_type": "markdown",
   "metadata": {},
   "source": [
    "Limpieza datos Edad"
   ]
  },
  {
   "cell_type": "code",
   "execution_count": 34,
   "metadata": {},
   "outputs": [
    {
     "data": {
      "text/plain": [
       "array(['36', '54', '49', '13', '68', '33', '37', '23', '31', '26', '19',\n",
       "       '80', '32', '41', '22', '18', '58', '62', '34', '43', '20', '30',\n",
       "       '4', '9', '24', '44', '38', '28', '89', '63', '52', '60', '65',\n",
       "       '27', '17', '56', '53', '40', '21', '59', '48', '39', '51', '57',\n",
       "       '70', '45', '29', '71', '25', '55', '14', '42', '50', '66', '94',\n",
       "       '72', '47', '69', 'Desconegut', '64', '61', '11', '0', '85', '12',\n",
       "       '46', '16', '1', '5', '82', '6', '3', '67', '35', '81', '7', '2',\n",
       "       '92', '88', '87', '15', '10', '90', '86', '74', '73', '83', '79',\n",
       "       '75', '96', '78', '84', '8', '77', '91', '106', '76', '101', '93',\n",
       "       '119', '98', '117', '97', '95'], dtype=object)"
      ]
     },
     "execution_count": 34,
     "metadata": {},
     "output_type": "execute_result"
    }
   ],
   "source": [
    "victimas.Edad.unique()"
   ]
  },
  {
   "cell_type": "code",
   "execution_count": 35,
   "metadata": {},
   "outputs": [
    {
     "data": {
      "text/plain": [
       "Causa_peaton        object\n",
       "Condicion_fisica    object\n",
       "Edad                 int64\n",
       "Num_expediente      object\n",
       "Sexo                object\n",
       "Tipo_persona        object\n",
       "Tipo_vehiculo       object\n",
       "dtype: object"
      ]
     },
     "execution_count": 35,
     "metadata": {},
     "output_type": "execute_result"
    }
   ],
   "source": [
    "def edad(a):\n",
    "    if a == 'Desconegut':\n",
    "        return -1\n",
    "    return int(a)\n",
    "\n",
    "victimas.Edad = victimas.Edad.apply(edad)\n",
    "victimas.dtypes"
   ]
  },
  {
   "cell_type": "code",
   "execution_count": 36,
   "metadata": {},
   "outputs": [
    {
     "data": {
      "text/plain": [
       "array([ 36,  54,  49,  13,  68,  33,  37,  23,  31,  26,  19,  80,  32,\n",
       "        41,  22,  18,  58,  62,  34,  43,  20,  30,   4,   9,  24,  44,\n",
       "        38,  28,  89,  63,  52,  60,  65,  27,  17,  56,  53,  40,  21,\n",
       "        59,  48,  39,  51,  57,  70,  45,  29,  71,  25,  55,  14,  42,\n",
       "        50,  66,  94,  72,  47,  69,  -1,  64,  61,  11,   0,  85,  12,\n",
       "        46,  16,   1,   5,  82,   6,   3,  67,  35,  81,   7,   2,  92,\n",
       "        88,  87,  15,  10,  90,  86,  74,  73,  83,  79,  75,  96,  78,\n",
       "        84,   8,  77,  91, 106,  76, 101,  93, 119,  98, 117,  97,  95],\n",
       "      dtype=int64)"
      ]
     },
     "execution_count": 36,
     "metadata": {},
     "output_type": "execute_result"
    }
   ],
   "source": [
    "victimas.Edad.unique()"
   ]
  },
  {
   "cell_type": "markdown",
   "metadata": {},
   "source": [
    "Limpieza datos Sexo"
   ]
  },
  {
   "cell_type": "code",
   "execution_count": 37,
   "metadata": {},
   "outputs": [
    {
     "data": {
      "text/plain": [
       "array(['Home', 'Dona', 'Desconegut'], dtype=object)"
      ]
     },
     "execution_count": 37,
     "metadata": {},
     "output_type": "execute_result"
    }
   ],
   "source": [
    "victimas.Sexo.unique()"
   ]
  },
  {
   "cell_type": "code",
   "execution_count": 38,
   "metadata": {},
   "outputs": [
    {
     "data": {
      "text/html": [
       "<div>\n",
       "<style scoped>\n",
       "    .dataframe tbody tr th:only-of-type {\n",
       "        vertical-align: middle;\n",
       "    }\n",
       "\n",
       "    .dataframe tbody tr th {\n",
       "        vertical-align: top;\n",
       "    }\n",
       "\n",
       "    .dataframe thead th {\n",
       "        text-align: right;\n",
       "    }\n",
       "</style>\n",
       "<table border=\"1\" class=\"dataframe\">\n",
       "  <thead>\n",
       "    <tr style=\"text-align: right;\">\n",
       "      <th></th>\n",
       "      <th>Causa_peaton</th>\n",
       "      <th>Condicion_fisica</th>\n",
       "      <th>Edad</th>\n",
       "      <th>Num_expediente</th>\n",
       "      <th>Sexo</th>\n",
       "      <th>Tipo_persona</th>\n",
       "      <th>Tipo_vehiculo</th>\n",
       "    </tr>\n",
       "  </thead>\n",
       "  <tbody>\n",
       "    <tr>\n",
       "      <th>0</th>\n",
       "      <td>No es debido al peatón</td>\n",
       "      <td>Herido leve</td>\n",
       "      <td>36</td>\n",
       "      <td>2015S005991</td>\n",
       "      <td>Hombre</td>\n",
       "      <td>Conductor</td>\n",
       "      <td>Motocicleta</td>\n",
       "    </tr>\n",
       "    <tr>\n",
       "      <th>1</th>\n",
       "      <td>No es debido al peatón</td>\n",
       "      <td>Herido leve</td>\n",
       "      <td>54</td>\n",
       "      <td>2015S004912</td>\n",
       "      <td>Hombre</td>\n",
       "      <td>Conductor</td>\n",
       "      <td>Turismo</td>\n",
       "    </tr>\n",
       "    <tr>\n",
       "      <th>2</th>\n",
       "      <td>No es debido al peatón</td>\n",
       "      <td>Herido leve</td>\n",
       "      <td>49</td>\n",
       "      <td>2015S009751</td>\n",
       "      <td>Hombre</td>\n",
       "      <td>Conductor</td>\n",
       "      <td>Motocicleta</td>\n",
       "    </tr>\n",
       "    <tr>\n",
       "      <th>3</th>\n",
       "      <td>Cruzar por fuera paso de peatones</td>\n",
       "      <td>Herido leve</td>\n",
       "      <td>13</td>\n",
       "      <td>2015S002580</td>\n",
       "      <td>Hombre</td>\n",
       "      <td>Peatón</td>\n",
       "      <td>Motocicleta</td>\n",
       "    </tr>\n",
       "    <tr>\n",
       "      <th>4</th>\n",
       "      <td>No es debido al peatón</td>\n",
       "      <td>Herido leve</td>\n",
       "      <td>49</td>\n",
       "      <td>2015S008919</td>\n",
       "      <td>Hombre</td>\n",
       "      <td>Conductor</td>\n",
       "      <td>Motocicleta</td>\n",
       "    </tr>\n",
       "  </tbody>\n",
       "</table>\n",
       "</div>"
      ],
      "text/plain": [
       "                        Causa_peaton Condicion_fisica  Edad Num_expediente  \\\n",
       "0             No es debido al peatón      Herido leve    36    2015S005991   \n",
       "1             No es debido al peatón      Herido leve    54    2015S004912   \n",
       "2             No es debido al peatón      Herido leve    49    2015S009751   \n",
       "3  Cruzar por fuera paso de peatones      Herido leve    13    2015S002580   \n",
       "4             No es debido al peatón      Herido leve    49    2015S008919   \n",
       "\n",
       "     Sexo Tipo_persona Tipo_vehiculo  \n",
       "0  Hombre    Conductor   Motocicleta  \n",
       "1  Hombre    Conductor       Turismo  \n",
       "2  Hombre    Conductor   Motocicleta  \n",
       "3  Hombre       Peatón   Motocicleta  \n",
       "4  Hombre    Conductor   Motocicleta  "
      ]
     },
     "execution_count": 38,
     "metadata": {},
     "output_type": "execute_result"
    }
   ],
   "source": [
    "def sexo(a):\n",
    "    if a.Sexo == 'Home':\n",
    "        b='Hombre'\n",
    "    elif a.Sexo == 'Dona':\n",
    "        b='Mujer'\n",
    "    elif a.Sexo == 'Desconegut':\n",
    "        b='Desconocido'\n",
    "    return b\n",
    "   \n",
    "victimas['Sexo'] = victimas.apply(sexo, axis=1) \n",
    "victimas.head()"
   ]
  },
  {
   "cell_type": "code",
   "execution_count": 39,
   "metadata": {},
   "outputs": [
    {
     "data": {
      "text/plain": [
       "array(['Hombre', 'Mujer', 'Desconocido'], dtype=object)"
      ]
     },
     "execution_count": 39,
     "metadata": {},
     "output_type": "execute_result"
    }
   ],
   "source": [
    "victimas.Sexo.unique()"
   ]
  },
  {
   "cell_type": "markdown",
   "metadata": {},
   "source": [
    "Limpieza datos Tipo Vehículo"
   ]
  },
  {
   "cell_type": "code",
   "execution_count": 40,
   "metadata": {},
   "outputs": [
    {
     "data": {
      "text/plain": [
       "array(['Motocicleta', 'Turismo', 'Ciclomotor', 'Autobús', 'Bicicleta',\n",
       "       'Taxi', 'Furgoneta', 'Camión <= 3,5 Tm', 'Otros vehíc. a motor',\n",
       "       'Autobús articulado', 'Cuadriciclo <75cc', 'Cuadriciclo >=75cc',\n",
       "       'Camión > 3,5 Tm', 'Todo terreno', 'Tractocamión',\n",
       "       'Tranvía o tren', 'Microbus <=17 plazas', 'Autocar',\n",
       "       'Maquinaria de obras', 'Autocaravana', 'Turisme',\n",
       "       'Autobús articulat', 'Altres vehicles sense motor',\n",
       "       'Camió rígid <= 3,5 tones', 'Altres vehicles amb motor',\n",
       "       'Quadricicle > 75 cc', 'Camió rígid > 3,5 tones', 'Tren o tramvia',\n",
       "       \"Maquinària d'obres i serveis\", 'Tractor camió', 'Tot terreny',\n",
       "       'Quadricicle < 75 cc', 'Desconegut', 'Microbus <= 17'],\n",
       "      dtype=object)"
      ]
     },
     "execution_count": 40,
     "metadata": {},
     "output_type": "execute_result"
    }
   ],
   "source": [
    "victimas.Tipo_vehiculo.unique()"
   ]
  },
  {
   "cell_type": "code",
   "execution_count": 41,
   "metadata": {},
   "outputs": [
    {
     "data": {
      "text/html": [
       "<div>\n",
       "<style scoped>\n",
       "    .dataframe tbody tr th:only-of-type {\n",
       "        vertical-align: middle;\n",
       "    }\n",
       "\n",
       "    .dataframe tbody tr th {\n",
       "        vertical-align: top;\n",
       "    }\n",
       "\n",
       "    .dataframe thead th {\n",
       "        text-align: right;\n",
       "    }\n",
       "</style>\n",
       "<table border=\"1\" class=\"dataframe\">\n",
       "  <thead>\n",
       "    <tr style=\"text-align: right;\">\n",
       "      <th></th>\n",
       "      <th>Causa_peaton</th>\n",
       "      <th>Condicion_fisica</th>\n",
       "      <th>Edad</th>\n",
       "      <th>Num_expediente</th>\n",
       "      <th>Sexo</th>\n",
       "      <th>Tipo_persona</th>\n",
       "      <th>Tipo_vehiculo</th>\n",
       "    </tr>\n",
       "  </thead>\n",
       "  <tbody>\n",
       "    <tr>\n",
       "      <th>0</th>\n",
       "      <td>No es debido al peatón</td>\n",
       "      <td>Herido leve</td>\n",
       "      <td>36</td>\n",
       "      <td>2015S005991</td>\n",
       "      <td>Hombre</td>\n",
       "      <td>Conductor</td>\n",
       "      <td>Motocicleta</td>\n",
       "    </tr>\n",
       "    <tr>\n",
       "      <th>1</th>\n",
       "      <td>No es debido al peatón</td>\n",
       "      <td>Herido leve</td>\n",
       "      <td>54</td>\n",
       "      <td>2015S004912</td>\n",
       "      <td>Hombre</td>\n",
       "      <td>Conductor</td>\n",
       "      <td>Turismo</td>\n",
       "    </tr>\n",
       "    <tr>\n",
       "      <th>2</th>\n",
       "      <td>No es debido al peatón</td>\n",
       "      <td>Herido leve</td>\n",
       "      <td>49</td>\n",
       "      <td>2015S009751</td>\n",
       "      <td>Hombre</td>\n",
       "      <td>Conductor</td>\n",
       "      <td>Motocicleta</td>\n",
       "    </tr>\n",
       "    <tr>\n",
       "      <th>3</th>\n",
       "      <td>Cruzar por fuera paso de peatones</td>\n",
       "      <td>Herido leve</td>\n",
       "      <td>13</td>\n",
       "      <td>2015S002580</td>\n",
       "      <td>Hombre</td>\n",
       "      <td>Peatón</td>\n",
       "      <td>Motocicleta</td>\n",
       "    </tr>\n",
       "    <tr>\n",
       "      <th>4</th>\n",
       "      <td>No es debido al peatón</td>\n",
       "      <td>Herido leve</td>\n",
       "      <td>49</td>\n",
       "      <td>2015S008919</td>\n",
       "      <td>Hombre</td>\n",
       "      <td>Conductor</td>\n",
       "      <td>Motocicleta</td>\n",
       "    </tr>\n",
       "  </tbody>\n",
       "</table>\n",
       "</div>"
      ],
      "text/plain": [
       "                        Causa_peaton Condicion_fisica  Edad Num_expediente  \\\n",
       "0             No es debido al peatón      Herido leve    36    2015S005991   \n",
       "1             No es debido al peatón      Herido leve    54    2015S004912   \n",
       "2             No es debido al peatón      Herido leve    49    2015S009751   \n",
       "3  Cruzar por fuera paso de peatones      Herido leve    13    2015S002580   \n",
       "4             No es debido al peatón      Herido leve    49    2015S008919   \n",
       "\n",
       "     Sexo Tipo_persona Tipo_vehiculo  \n",
       "0  Hombre    Conductor   Motocicleta  \n",
       "1  Hombre    Conductor       Turismo  \n",
       "2  Hombre    Conductor   Motocicleta  \n",
       "3  Hombre       Peatón   Motocicleta  \n",
       "4  Hombre    Conductor   Motocicleta  "
      ]
     },
     "execution_count": 41,
     "metadata": {},
     "output_type": "execute_result"
    }
   ],
   "source": [
    "def tipovehiculo(a):\n",
    "    if a.Tipo_vehiculo == 'Turisme':\n",
    "        b='Turismo'\n",
    "    elif a.Tipo_vehiculo == 'Autobús articulat':\n",
    "        b='Autobús articulado'\n",
    "    elif a.Tipo_vehiculo == 'Altres vehicles sense motor':\n",
    "        b='Otros vehíc. sin motor'\n",
    "    elif a.Tipo_vehiculo == 'Altres vehicles amb motor':\n",
    "        b='Otros vehíc. a motor'\n",
    "    elif a.Tipo_vehiculo == 'Quadricicle > 75 cc':\n",
    "        b='Cuadriciclo >=75cc'\n",
    "    elif a.Tipo_vehiculo == 'Quadricicle < 75 cc':\n",
    "        b='Cuadriciclo <75cc'\n",
    "    elif a.Tipo_vehiculo == 'Camió rígid > 3,5 tones':\n",
    "        b='Camión > 3,5 Tm'\n",
    "    elif a.Tipo_vehiculo == 'Camió rígid <= 3,5 tones':\n",
    "        b='Camión <= 3,5 Tm'\n",
    "    elif a.Tipo_vehiculo == 'Tren o tramvia':\n",
    "        b='Tranvía o tren'\n",
    "    elif a.Tipo_vehiculo == \"Maquinària d'obres i serveis\":\n",
    "        b='Maquinaria de obras'\n",
    "    elif a.Tipo_vehiculo == 'Tractor camió':\n",
    "        b='Tractocamión'\n",
    "    elif a.Tipo_vehiculo == 'Tot terreny':\n",
    "        b='Todo terreno'\n",
    "    elif a.Tipo_vehiculo == 'Desconegut':\n",
    "        b='Desconocido'\n",
    "    elif a.Tipo_vehiculo == 'Microbus <= 17':\n",
    "        b='Microbus <=17 plazas'\n",
    "    elif a.Tipo_vehiculo == 'Autocar':\n",
    "        b='Autobús'\n",
    "    else: b = a.Tipo_vehiculo\n",
    "    return b\n",
    "   \n",
    "victimas['Tipo_vehiculo'] = victimas.apply(tipovehiculo, axis=1)\n",
    "victimas.head()"
   ]
  },
  {
   "cell_type": "code",
   "execution_count": 42,
   "metadata": {},
   "outputs": [
    {
     "data": {
      "text/plain": [
       "array(['Motocicleta', 'Turismo', 'Ciclomotor', 'Autobús', 'Bicicleta',\n",
       "       'Taxi', 'Furgoneta', 'Camión <= 3,5 Tm', 'Otros vehíc. a motor',\n",
       "       'Autobús articulado', 'Cuadriciclo <75cc', 'Cuadriciclo >=75cc',\n",
       "       'Camión > 3,5 Tm', 'Todo terreno', 'Tractocamión',\n",
       "       'Tranvía o tren', 'Microbus <=17 plazas', 'Maquinaria de obras',\n",
       "       'Autocaravana', 'Otros vehíc. sin motor', 'Desconocido'],\n",
       "      dtype=object)"
      ]
     },
     "execution_count": 42,
     "metadata": {},
     "output_type": "execute_result"
    }
   ],
   "source": [
    "victimas.Tipo_vehiculo.unique()"
   ]
  },
  {
   "cell_type": "markdown",
   "metadata": {},
   "source": [
    "A continuación se exporta a un .csv"
   ]
  },
  {
   "cell_type": "code",
   "execution_count": 43,
   "metadata": {},
   "outputs": [],
   "source": [
    "victimas.to_csv(\"victimas.csv\",index=0, encoding=\"utf-8\")"
   ]
  },
  {
   "cell_type": "markdown",
   "metadata": {},
   "source": [
    "Se repite el proceso de importación pero esta vez con el nuevo csv para comprobar que se transformó correctamente"
   ]
  },
  {
   "cell_type": "code",
   "execution_count": 44,
   "metadata": {},
   "outputs": [],
   "source": [
    "prueba=pd.read_csv('victimas.csv', index_col=False)"
   ]
  },
  {
   "cell_type": "code",
   "execution_count": 45,
   "metadata": {},
   "outputs": [
    {
     "data": {
      "text/html": [
       "<div>\n",
       "<style scoped>\n",
       "    .dataframe tbody tr th:only-of-type {\n",
       "        vertical-align: middle;\n",
       "    }\n",
       "\n",
       "    .dataframe tbody tr th {\n",
       "        vertical-align: top;\n",
       "    }\n",
       "\n",
       "    .dataframe thead th {\n",
       "        text-align: right;\n",
       "    }\n",
       "</style>\n",
       "<table border=\"1\" class=\"dataframe\">\n",
       "  <thead>\n",
       "    <tr style=\"text-align: right;\">\n",
       "      <th></th>\n",
       "      <th>Causa_peaton</th>\n",
       "      <th>Condicion_fisica</th>\n",
       "      <th>Edad</th>\n",
       "      <th>Num_expediente</th>\n",
       "      <th>Sexo</th>\n",
       "      <th>Tipo_persona</th>\n",
       "      <th>Tipo_vehiculo</th>\n",
       "    </tr>\n",
       "  </thead>\n",
       "  <tbody>\n",
       "    <tr>\n",
       "      <th>0</th>\n",
       "      <td>No es debido al peatón</td>\n",
       "      <td>Herido leve</td>\n",
       "      <td>36</td>\n",
       "      <td>2015S005991</td>\n",
       "      <td>Hombre</td>\n",
       "      <td>Conductor</td>\n",
       "      <td>Motocicleta</td>\n",
       "    </tr>\n",
       "    <tr>\n",
       "      <th>1</th>\n",
       "      <td>No es debido al peatón</td>\n",
       "      <td>Herido leve</td>\n",
       "      <td>54</td>\n",
       "      <td>2015S004912</td>\n",
       "      <td>Hombre</td>\n",
       "      <td>Conductor</td>\n",
       "      <td>Turismo</td>\n",
       "    </tr>\n",
       "    <tr>\n",
       "      <th>2</th>\n",
       "      <td>No es debido al peatón</td>\n",
       "      <td>Herido leve</td>\n",
       "      <td>49</td>\n",
       "      <td>2015S009751</td>\n",
       "      <td>Hombre</td>\n",
       "      <td>Conductor</td>\n",
       "      <td>Motocicleta</td>\n",
       "    </tr>\n",
       "    <tr>\n",
       "      <th>3</th>\n",
       "      <td>Cruzar por fuera paso de peatones</td>\n",
       "      <td>Herido leve</td>\n",
       "      <td>13</td>\n",
       "      <td>2015S002580</td>\n",
       "      <td>Hombre</td>\n",
       "      <td>Peatón</td>\n",
       "      <td>Motocicleta</td>\n",
       "    </tr>\n",
       "    <tr>\n",
       "      <th>4</th>\n",
       "      <td>No es debido al peatón</td>\n",
       "      <td>Herido leve</td>\n",
       "      <td>49</td>\n",
       "      <td>2015S008919</td>\n",
       "      <td>Hombre</td>\n",
       "      <td>Conductor</td>\n",
       "      <td>Motocicleta</td>\n",
       "    </tr>\n",
       "  </tbody>\n",
       "</table>\n",
       "</div>"
      ],
      "text/plain": [
       "                        Causa_peaton Condicion_fisica  Edad Num_expediente  \\\n",
       "0             No es debido al peatón      Herido leve    36    2015S005991   \n",
       "1             No es debido al peatón      Herido leve    54    2015S004912   \n",
       "2             No es debido al peatón      Herido leve    49    2015S009751   \n",
       "3  Cruzar por fuera paso de peatones      Herido leve    13    2015S002580   \n",
       "4             No es debido al peatón      Herido leve    49    2015S008919   \n",
       "\n",
       "     Sexo Tipo_persona Tipo_vehiculo  \n",
       "0  Hombre    Conductor   Motocicleta  \n",
       "1  Hombre    Conductor       Turismo  \n",
       "2  Hombre    Conductor   Motocicleta  \n",
       "3  Hombre       Peatón   Motocicleta  \n",
       "4  Hombre    Conductor   Motocicleta  "
      ]
     },
     "execution_count": 45,
     "metadata": {},
     "output_type": "execute_result"
    }
   ],
   "source": [
    "prueba.head()"
   ]
  },
  {
   "cell_type": "code",
   "execution_count": 46,
   "metadata": {},
   "outputs": [
    {
     "data": {
      "text/html": [
       "<div>\n",
       "<style scoped>\n",
       "    .dataframe tbody tr th:only-of-type {\n",
       "        vertical-align: middle;\n",
       "    }\n",
       "\n",
       "    .dataframe tbody tr th {\n",
       "        vertical-align: top;\n",
       "    }\n",
       "\n",
       "    .dataframe thead th {\n",
       "        text-align: right;\n",
       "    }\n",
       "</style>\n",
       "<table border=\"1\" class=\"dataframe\">\n",
       "  <thead>\n",
       "    <tr style=\"text-align: right;\">\n",
       "      <th></th>\n",
       "      <th>Causa_peaton</th>\n",
       "      <th>Condicion_fisica</th>\n",
       "      <th>Edad</th>\n",
       "      <th>Num_expediente</th>\n",
       "      <th>Sexo</th>\n",
       "      <th>Tipo_persona</th>\n",
       "      <th>Tipo_vehiculo</th>\n",
       "    </tr>\n",
       "  </thead>\n",
       "  <tbody>\n",
       "    <tr>\n",
       "      <th>35995</th>\n",
       "      <td>No es debido al peatón</td>\n",
       "      <td>Herido leve: Hospitalización hasta 24h</td>\n",
       "      <td>39</td>\n",
       "      <td>2017S010782</td>\n",
       "      <td>Mujer</td>\n",
       "      <td>Pasajero</td>\n",
       "      <td>Taxi</td>\n",
       "    </tr>\n",
       "    <tr>\n",
       "      <th>35996</th>\n",
       "      <td>No es debido al peatón</td>\n",
       "      <td>Herido leve: Con asistencia sanitaria en lugar...</td>\n",
       "      <td>40</td>\n",
       "      <td>2017S010782</td>\n",
       "      <td>Hombre</td>\n",
       "      <td>Conductor</td>\n",
       "      <td>Taxi</td>\n",
       "    </tr>\n",
       "    <tr>\n",
       "      <th>35997</th>\n",
       "      <td>No es debido al peatón</td>\n",
       "      <td>Herido leve: Con asistencia sanitaria en lugar...</td>\n",
       "      <td>56</td>\n",
       "      <td>2017S010782</td>\n",
       "      <td>Hombre</td>\n",
       "      <td>Conductor</td>\n",
       "      <td>Taxi</td>\n",
       "    </tr>\n",
       "    <tr>\n",
       "      <th>35998</th>\n",
       "      <td>No es debido al peatón</td>\n",
       "      <td>Herido leve: Hospitalización hasta 24h</td>\n",
       "      <td>31</td>\n",
       "      <td>2017S010783</td>\n",
       "      <td>Hombre</td>\n",
       "      <td>Conductor</td>\n",
       "      <td>Motocicleta</td>\n",
       "    </tr>\n",
       "    <tr>\n",
       "      <th>35999</th>\n",
       "      <td>No es debido al peatón</td>\n",
       "      <td>Herido leve: Hospitalización hasta 24h</td>\n",
       "      <td>68</td>\n",
       "      <td>2017S010784</td>\n",
       "      <td>Mujer</td>\n",
       "      <td>Pasajero</td>\n",
       "      <td>Taxi</td>\n",
       "    </tr>\n",
       "  </tbody>\n",
       "</table>\n",
       "</div>"
      ],
      "text/plain": [
       "                 Causa_peaton  \\\n",
       "35995  No es debido al peatón   \n",
       "35996  No es debido al peatón   \n",
       "35997  No es debido al peatón   \n",
       "35998  No es debido al peatón   \n",
       "35999  No es debido al peatón   \n",
       "\n",
       "                                        Condicion_fisica  Edad Num_expediente  \\\n",
       "35995             Herido leve: Hospitalización hasta 24h    39    2017S010782   \n",
       "35996  Herido leve: Con asistencia sanitaria en lugar...    40    2017S010782   \n",
       "35997  Herido leve: Con asistencia sanitaria en lugar...    56    2017S010782   \n",
       "35998             Herido leve: Hospitalización hasta 24h    31    2017S010783   \n",
       "35999             Herido leve: Hospitalización hasta 24h    68    2017S010784   \n",
       "\n",
       "         Sexo Tipo_persona Tipo_vehiculo  \n",
       "35995   Mujer     Pasajero          Taxi  \n",
       "35996  Hombre    Conductor          Taxi  \n",
       "35997  Hombre    Conductor          Taxi  \n",
       "35998  Hombre    Conductor   Motocicleta  \n",
       "35999   Mujer     Pasajero          Taxi  "
      ]
     },
     "execution_count": 46,
     "metadata": {},
     "output_type": "execute_result"
    }
   ],
   "source": [
    "prueba.tail()"
   ]
  },
  {
   "cell_type": "code",
   "execution_count": null,
   "metadata": {},
   "outputs": [],
   "source": []
  }
 ],
 "metadata": {
  "kernelspec": {
   "display_name": "Python 3",
   "language": "python",
   "name": "python3"
  },
  "language_info": {
   "codemirror_mode": {
    "name": "ipython",
    "version": 3
   },
   "file_extension": ".py",
   "mimetype": "text/x-python",
   "name": "python",
   "nbconvert_exporter": "python",
   "pygments_lexer": "ipython3",
   "version": "3.7.1"
  }
 },
 "nbformat": 4,
 "nbformat_minor": 2
}
