{
 "cells": [
  {
   "cell_type": "markdown",
   "metadata": {},
   "source": [
    "## POSTGRES: CONEXIÓN E INSERCIÓN DE DATOS A LA BASE \n",
    "\n",
    "Para conectarnos con postgres decidimos utilizar el ordenador de Ludovica como servidor local y se configuró para que se pudiera acceder de otros ordenadores. Esto trae como limitación que para trabajar debemos estar todos conectados desde la misma red y cambiar la configuración cada vez que cambia la IP. \n"
   ]
  },
  {
   "cell_type": "markdown",
   "metadata": {},
   "source": [
    "Conectamos con postgres"
   ]
  },
  {
   "cell_type": "code",
   "execution_count": 1,
   "metadata": {},
   "outputs": [],
   "source": [
    "conn = 'postgresql://192.168.0.158:5432/postgres'\n",
    "conn\n",
    "\n",
    "import psycopg2\n",
    "conn = psycopg2.connect(\"host='192.168.0.158' port=5432 dbname='accidentes_barcelona' user=postgres password=ludo\")"
   ]
  },
  {
   "cell_type": "code",
   "execution_count": 2,
   "metadata": {},
   "outputs": [],
   "source": [
    "cursor = conn.cursor()"
   ]
  },
  {
   "cell_type": "markdown",
   "metadata": {},
   "source": [
    "Importamos pandas"
   ]
  },
  {
   "cell_type": "code",
   "execution_count": 4,
   "metadata": {},
   "outputs": [],
   "source": [
    "import pandas as pd"
   ]
  },
  {
   "cell_type": "markdown",
   "metadata": {},
   "source": [
    "Importamos el CSV de tipología"
   ]
  },
  {
   "cell_type": "code",
   "execution_count": 23,
   "metadata": {},
   "outputs": [
    {
     "data": {
      "text/plain": [
       "<bound method NDFrame.head of       Num_expediente                   Tipo_accidente\n",
       "0        2015S000215          Colisión fronto-lateral\n",
       "1        2015S000787  Choque contra elemento estático\n",
       "2        2015S000390  Choque contra elemento estático\n",
       "3        2015S007294               Caída (dos ruedas)\n",
       "4        2015S009836                 Colisión lateral\n",
       "5        2015S009453                        Atropello\n",
       "6        2015S007312                          Alcance\n",
       "7        2015S004660          Colisión fronto-lateral\n",
       "8        2015S006407                        Atropello\n",
       "9        2015S009834                 Alcance multiple\n",
       "10       2015S002735                        Atropello\n",
       "11       2015S000784                 Colisión lateral\n",
       "12       2015S003464                 Colisión lateral\n",
       "13       2015S001064                 Colisión lateral\n",
       "14       2015S006090                 Colisión lateral\n",
       "15       2015S002841                        Atropello\n",
       "16       2015S006350                          Alcance\n",
       "17       2015S002520                        Atropello\n",
       "18       2015S008475                 Colisión lateral\n",
       "19       2015S006010  Choque contra elemento estático\n",
       "20       2015S001882                          Alcance\n",
       "21       2015S000598               Caída (dos ruedas)\n",
       "22       2015S002514               Caída (dos ruedas)\n",
       "23       2015S000496          Colisión fronto-lateral\n",
       "24       2015S009845                 Colisión lateral\n",
       "25       2015S005886                          Alcance\n",
       "26       2015S009924          Colisión fronto-lateral\n",
       "27       2015S006700                 Colisión lateral\n",
       "28       2015S002323          Colisión fronto-lateral\n",
       "29       2015S006305                 Colisión lateral\n",
       "...              ...                              ...\n",
       "32202    2017S007431                 Colisión lateral\n",
       "32203    2017S010672                          Alcance\n",
       "32204    2017S000915                 Colisión lateral\n",
       "32205    2017S006021                 Colisión lateral\n",
       "32206    2017S007347                            Otros\n",
       "32207    2017S007689                          Alcance\n",
       "32208    2017S001610          Colisión fronto-lateral\n",
       "32209    2017S002475                 Colisión lateral\n",
       "32210    2017S001315               Caída (dos ruedas)\n",
       "32211    2017S001017                          Alcance\n",
       "32212    2017S000187                        Atropello\n",
       "32213    2017S003254  Choque contra elemento estático\n",
       "32214    2017S008107                          Alcance\n",
       "32215    2017S003134                        Atropello\n",
       "32216    2017S002186                 Alcance multiple\n",
       "32217    2017S000703                          Alcance\n",
       "32218    2017S001890                 Colisión lateral\n",
       "32219    2017S006549                            Otros\n",
       "32220    2017S002188                        Atropello\n",
       "32221    2017S006053                          Alcance\n",
       "32222    2017S008369  Choque contra elemento estático\n",
       "32223    2017S008899                          Alcance\n",
       "32224    2017S000877                 Colisión lateral\n",
       "32225    2017S001377                            Otros\n",
       "32226    2017S008439                 Colisión lateral\n",
       "32227    2017S003667                 Colisión lateral\n",
       "32228    2017S002192          Colisión fronto-lateral\n",
       "32229    2017S001766               Caída (dos ruedas)\n",
       "32230    2017S009106                        Atropello\n",
       "32231    2017S006503          Colisión fronto-lateral\n",
       "\n",
       "[32232 rows x 2 columns]>"
      ]
     },
     "execution_count": 23,
     "metadata": {},
     "output_type": "execute_result"
    }
   ],
   "source": [
    "tipologia=pd.read_csv('Tipología Accidentes/Tipologia_Accidente.csv')\n",
    "tipologia.head"
   ]
  },
  {
   "cell_type": "markdown",
   "metadata": {},
   "source": [
    "Creamos un array con los valores únicos de la descripción de la tipologia "
   ]
  },
  {
   "cell_type": "code",
   "execution_count": 104,
   "metadata": {},
   "outputs": [],
   "source": [
    "descTipologia=tipologia.Tipo_accidente.unique()"
   ]
  },
  {
   "cell_type": "code",
   "execution_count": 105,
   "metadata": {},
   "outputs": [
    {
     "data": {
      "text/plain": [
       "array(['Colisión fronto-lateral', 'Choque contra elemento estático',\n",
       "       'Caída (dos ruedas)', 'Colisión lateral', 'Atropello', 'Alcance',\n",
       "       'Alcance multiple', 'Caída interior vehículo', 'Colisión frontal',\n",
       "       'Otros', 'Vuelco (más de dos ruedas)', 'Desconocido',\n",
       "       'Salida de vía con choque o colisión', 'Persecución',\n",
       "       'Salida de vía con vuelco', 'Choque con animal en la calzada'],\n",
       "      dtype=object)"
      ]
     },
     "execution_count": 105,
     "metadata": {},
     "output_type": "execute_result"
    }
   ],
   "source": [
    "descTipologia"
   ]
  },
  {
   "cell_type": "markdown",
   "metadata": {},
   "source": [
    "Creamos la tabla de la descripción de tipología "
   ]
  },
  {
   "cell_type": "code",
   "execution_count": 113,
   "metadata": {},
   "outputs": [],
   "source": [
    "# Get cursor object from the database connection\n",
    "\n",
    "cursor = conn.cursor()\n",
    "\n",
    "name_Table = \"descripcion_tipologia_accidente\"\n",
    "\n",
    "\n",
    " # Create table statement\n",
    "\n",
    "sqlCreateTable = \"CREATE TABLE \"+name_Table+\" (id_desc_tipologia SERIAL PRIMARY KEY, desc_tipologia VARCHAR(35));\"\n",
    "\n",
    " \n",
    "\n",
    "# Create a table in PostgreSQL database\n",
    "#cursor.execute(\"DROP TABLE descripcion_tipologia ;\")\n",
    "cursor.execute(sqlCreateTable)\n",
    "conn.commit()"
   ]
  },
  {
   "cell_type": "markdown",
   "metadata": {},
   "source": [
    "Introducimos los datos en la tabla"
   ]
  },
  {
   "cell_type": "code",
   "execution_count": 114,
   "metadata": {},
   "outputs": [],
   "source": [
    "#NO VOLVER A CORRER PORQUE DUPLICA LOS DATOS DE LA TABLA\n",
    "#tipo= list(descTipologia)\n",
    "#cur = conn.cursor()\n",
    "#for tipo in descTipologia:\n",
    "    #sql = \"insert into descripcion_tipologia_accidente(desc_tipologia) values ('{vals}');\".format(vals=str(tipo))\n",
    "    #cur.execute(sql)\n",
    "#conn.commit()"
   ]
  },
  {
   "cell_type": "markdown",
   "metadata": {},
   "source": [
    "Revisamos que se insertaran correctamente los datos"
   ]
  },
  {
   "cell_type": "code",
   "execution_count": 35,
   "metadata": {},
   "outputs": [
    {
     "ename": "NameError",
     "evalue": "name 'cur' is not defined",
     "output_type": "error",
     "traceback": [
      "\u001b[0;31m---------------------------------------------------------------------------\u001b[0m",
      "\u001b[0;31mNameError\u001b[0m                                 Traceback (most recent call last)",
      "\u001b[0;32m<ipython-input-35-0ed8ce4dd5c0>\u001b[0m in \u001b[0;36m<module>\u001b[0;34m()\u001b[0m\n\u001b[0;32m----> 1\u001b[0;31m \u001b[0mcur\u001b[0m\u001b[0;34m.\u001b[0m\u001b[0mexecute\u001b[0m\u001b[0;34m(\u001b[0m\u001b[0;34m\"SELECT * FROM descripcion_tipologia_accidente;\"\u001b[0m\u001b[0;34m)\u001b[0m\u001b[0;34m\u001b[0m\u001b[0;34m\u001b[0m\u001b[0m\n\u001b[0m\u001b[1;32m      2\u001b[0m \u001b[0mcur\u001b[0m\u001b[0;34m.\u001b[0m\u001b[0mfetchall\u001b[0m\u001b[0;34m(\u001b[0m\u001b[0;34m)\u001b[0m \u001b[0;31m#fetchall porque son pocos datos más adelante usaremos fetchone\u001b[0m\u001b[0;34m\u001b[0m\u001b[0;34m\u001b[0m\u001b[0m\n",
      "\u001b[0;31mNameError\u001b[0m: name 'cur' is not defined"
     ]
    }
   ],
   "source": [
    "cur.execute(\"SELECT * FROM descripcion_tipologia_accidente;\")\n",
    "cur.fetchall() #fetchall porque son pocos datos más adelante usaremos fetchone"
   ]
  },
  {
   "cell_type": "markdown",
   "metadata": {},
   "source": [
    "Ahora importamos descripción accidente"
   ]
  },
  {
   "cell_type": "code",
   "execution_count": 78,
   "metadata": {},
   "outputs": [
    {
     "data": {
      "text/plain": [
       "<bound method NDFrame.head of       Num_expediente  Cod_distrito      Nombre_distrito  Cod_barrio  \\\n",
       "0        2015S005022            10           Sant Martí          64   \n",
       "1        2015S000390            10           Sant Martí          64   \n",
       "2        2015S001866            10           Sant Martí          64   \n",
       "3        2015S004932            10           Sant Martí          64   \n",
       "4        2015S007776            10           Sant Martí          64   \n",
       "5        2015S005088            10           Sant Martí          64   \n",
       "6        2015S007146            10           Sant Martí          64   \n",
       "7        2015S002937            10           Sant Martí          64   \n",
       "8        2015S001952            10           Sant Martí          64   \n",
       "9        2015S004924            10           Sant Martí          64   \n",
       "10       2015S006567            10           Sant Martí          64   \n",
       "11       2015S005987            10           Sant Martí          64   \n",
       "12       2015S005717            10           Sant Martí          64   \n",
       "13       2015S000670            10           Sant Martí          64   \n",
       "14       2015S003464            10           Sant Martí          64   \n",
       "15       2015S008600            10           Sant Martí          64   \n",
       "16       2015S001064            10           Sant Martí          64   \n",
       "17       2015S001514            10           Sant Martí          64   \n",
       "18       2015S006771            10           Sant Martí          64   \n",
       "19       2015S002703            10           Sant Martí          64   \n",
       "20       2015S004293            10           Sant Martí          64   \n",
       "21       2015S004557            10           Sant Martí          65   \n",
       "22       2015S003043            10           Sant Martí          65   \n",
       "23       2015S002514            10           Sant Martí          65   \n",
       "24       2015S001831            10           Sant Martí          65   \n",
       "25       2015S003861            10           Sant Martí          64   \n",
       "26       2015S000381            10           Sant Martí          64   \n",
       "27       2015S009845            10           Sant Martí          64   \n",
       "28       2015S007010            10           Sant Martí          64   \n",
       "29       2015S009968            10           Sant Martí          65   \n",
       "...              ...           ...                  ...         ...   \n",
       "30490    2017S009532             1         Ciutat Vella           1   \n",
       "30491    2017S005753             1         Ciutat Vella           2   \n",
       "30492    2017S007602             7       Horta-Guinardó          35   \n",
       "30493    2017S003772             4            Les Corts          21   \n",
       "30494    2017S007255             3       Sants-Montjuïc          11   \n",
       "30495    2017S007677             8           Nou Barris          48   \n",
       "30496    2017S009782             9          Sant Andreu          59   \n",
       "30497    2017S008100             8           Nou Barris          53   \n",
       "30498    2017S008276             2             Eixample           8   \n",
       "30499    2017S009558             2             Eixample           7   \n",
       "30500    2017S005149             2             Eixample           7   \n",
       "30501    2017S005199             2             Eixample           5   \n",
       "30502    2017S008250             4            Les Corts          20   \n",
       "30503    2017S009402             2             Eixample           8   \n",
       "30504    2017S005236            10           Sant Martí          65   \n",
       "30505    2017S006060             6               Gràcia          28   \n",
       "30506    2017S009990            10           Sant Martí          64   \n",
       "30507    2017S008141             2             Eixample           7   \n",
       "30508    2017S004761             2             Eixample           8   \n",
       "30509    2017S005183             1         Ciutat Vella           4   \n",
       "30510    2017S008336             2             Eixample           9   \n",
       "30511    2017S009048            10           Sant Martí          72   \n",
       "30512    2017S007964             8           Nou Barris          53   \n",
       "30513    2017S008032             8           Nou Barris          53   \n",
       "30514    2017S006761             6               Gràcia          28   \n",
       "30515    2017S004066             3       Sants-Montjuïc          12   \n",
       "30516    2017S009306             7       Horta-Guinardó          33   \n",
       "30517    2017S009755            10           Sant Martí          71   \n",
       "30518    2017S008017             5  Sarrià-Sant Gervasi          26   \n",
       "30519    2017S009181             6               Gràcia          32   \n",
       "\n",
       "                               Nombre_barrio Dia_semana  Hora  \\\n",
       "0                 el Camp de l'Arpa del Clot     martes     0   \n",
       "1                 el Camp de l'Arpa del Clot     sabado     0   \n",
       "2                 el Camp de l'Arpa del Clot  miercoles     8   \n",
       "3                 el Camp de l'Arpa del Clot    viernes    14   \n",
       "4                 el Camp de l'Arpa del Clot    viernes    16   \n",
       "5                 el Camp de l'Arpa del Clot     jueves    14   \n",
       "6                 el Camp de l'Arpa del Clot  miercoles     0   \n",
       "7                 el Camp de l'Arpa del Clot    domingo    22   \n",
       "8                 el Camp de l'Arpa del Clot     sabado    10   \n",
       "9                 el Camp de l'Arpa del Clot    viernes    11   \n",
       "10                el Camp de l'Arpa del Clot     martes     7   \n",
       "11                el Camp de l'Arpa del Clot     martes    15   \n",
       "12                el Camp de l'Arpa del Clot    viernes    17   \n",
       "13                el Camp de l'Arpa del Clot     martes    20   \n",
       "14                el Camp de l'Arpa del Clot     jueves    12   \n",
       "15                el Camp de l'Arpa del Clot     sabado    16   \n",
       "16                el Camp de l'Arpa del Clot  miercoles    13   \n",
       "17                el Camp de l'Arpa del Clot     jueves    21   \n",
       "18                el Camp de l'Arpa del Clot     martes    22   \n",
       "19                el Camp de l'Arpa del Clot     sabado    23   \n",
       "20                el Camp de l'Arpa del Clot     jueves    11   \n",
       "21                                   el Clot    viernes    23   \n",
       "22                                   el Clot  miercoles    18   \n",
       "23                                   el Clot    viernes    21   \n",
       "24                                   el Clot     martes     7   \n",
       "25                el Camp de l'Arpa del Clot     martes    18   \n",
       "26                el Camp de l'Arpa del Clot    viernes    17   \n",
       "27                el Camp de l'Arpa del Clot    viernes    18   \n",
       "28                el Camp de l'Arpa del Clot    viernes     9   \n",
       "29                                   el Clot  miercoles    13   \n",
       "...                                      ...        ...   ...   \n",
       "30490                               el Raval     jueves    20   \n",
       "30491                         el Barri Gòtic      lunes     1   \n",
       "30492                            el Guinardó     jueves    11   \n",
       "30493                              Pedralbes     jueves    23   \n",
       "30494                           el Poble Sec  miercoles    14   \n",
       "30495                           la Guineueta     sabado    20   \n",
       "30496                          el Bon Pastor    viernes    13   \n",
       "30497                       la Trinitat Nova     sabado    21   \n",
       "30498        l'Antiga Esquerra de l'Eixample     sabado     9   \n",
       "30499                 la Dreta de l'Eixample    viernes    14   \n",
       "30500                 la Dreta de l'Eixample      lunes    17   \n",
       "30501                          el Fort Pienc     martes    20   \n",
       "30502             la Maternitat i Sant Ramon    viernes    14   \n",
       "30503        l'Antiga Esquerra de l'Eixample      lunes    11   \n",
       "30504                                el Clot     jueves    10   \n",
       "30505              Vallcarca i els Penitents  miercoles     8   \n",
       "30506             el Camp de l'Arpa del Clot     jueves    13   \n",
       "30507                 la Dreta de l'Eixample     martes     8   \n",
       "30508        l'Antiga Esquerra de l'Eixample     martes    16   \n",
       "30509  Sant Pere, Santa Caterina i la Ribera      lunes    19   \n",
       "30510         la Nova Esquerra de l'Eixample      lunes    20   \n",
       "30511               Sant Martí de Provençals     jueves    12   \n",
       "30512                       la Trinitat Nova     martes    18   \n",
       "30513                       la Trinitat Nova    viernes    10   \n",
       "30514              Vallcarca i els Penitents    viernes    12   \n",
       "30515             la Marina del Prat Vermell      lunes    13   \n",
       "30516                       el Baix Guinardó    viernes    11   \n",
       "30517                Provençals del Poblenou     jueves    19   \n",
       "30518                 Sant Gervasi - Galvany     jueves    20   \n",
       "30519     el Camp d'en Grassot i Gràcia Nova     martes     9   \n",
       "\n",
       "                 Causalidad       Fecha    Latitud  Longitud  \n",
       "0      No hay causa mediata  2015-06-30  41.416294  2.184294  \n",
       "1      No hay causa mediata  2015-01-17  41.415053  2.180017  \n",
       "2      No hay causa mediata  2015-03-11  41.417770  2.181927  \n",
       "3      No hay causa mediata  2015-06-26  41.413289  2.180064  \n",
       "4      No hay causa mediata  2015-10-16  41.413716  2.178909  \n",
       "5      No hay causa mediata  2015-07-02  41.415055  2.181596  \n",
       "6      No hay causa mediata  2015-09-23  41.414521  2.179723  \n",
       "7      No hay causa mediata  2015-04-19  41.410652  2.181158  \n",
       "8      No hay causa mediata  2015-03-14  41.410564  2.183681  \n",
       "9      No hay causa mediata  2015-06-26  41.411081  2.184379  \n",
       "10     No hay causa mediata  2015-09-01  41.411434  2.184882  \n",
       "11     No hay causa mediata  2015-08-04  41.409667  2.182514  \n",
       "12     No hay causa mediata  2015-07-24  41.409566  2.184206  \n",
       "13     No hay causa mediata  2015-01-27  41.411178  2.186387  \n",
       "14     No hay causa mediata  2015-05-07  41.411902  2.187347  \n",
       "15     No hay causa mediata  2015-11-14  41.410344  2.187573  \n",
       "16     No hay causa mediata  2015-02-11  41.410344  2.187573  \n",
       "17     No hay causa mediata  2015-02-26  41.414327  2.181994  \n",
       "18     No hay causa mediata  2015-09-08  41.415130  2.182470  \n",
       "19     No hay causa mediata  2015-04-11  41.415130  2.182470  \n",
       "20     No hay causa mediata  2015-06-04  41.415187  2.183002  \n",
       "21     No hay causa mediata  2015-06-12  41.414058  2.191866  \n",
       "22     No hay causa mediata  2015-04-22  41.414058  2.191866  \n",
       "23     No hay causa mediata  2015-04-03  41.413178  2.190536  \n",
       "24     No hay causa mediata  2015-03-10  41.411759  2.195756  \n",
       "25     No hay causa mediata  2015-05-19  41.413468  2.187165  \n",
       "26     No hay causa mediata  2015-01-16  41.413624  2.187372  \n",
       "27     No hay causa mediata  2015-12-25  41.413800  2.187575  \n",
       "28     No hay causa mediata  2015-09-18  41.413800  2.187575  \n",
       "29     No hay causa mediata  2015-12-30  41.414938  2.191117  \n",
       "...                     ...         ...        ...       ...  \n",
       "30490  No hay causa mediata  2017-11-16  41.382073  2.168213  \n",
       "30491  No hay causa mediata  2017-07-03  41.380176  2.177204  \n",
       "30492  No hay causa mediata  2017-09-14  41.425800  2.177855  \n",
       "30493  No hay causa mediata  2017-04-27  41.398256  2.115496  \n",
       "30494  No hay causa mediata  2017-08-30  41.376645  2.163960  \n",
       "30495  No hay causa mediata  2017-09-16  41.439951  2.175257  \n",
       "30496  No hay causa mediata  2017-11-24  41.444799  2.203214  \n",
       "30497  No hay causa mediata  2017-09-30  41.450545  2.189025  \n",
       "30498  No hay causa mediata  2017-10-07  41.388215  2.155820  \n",
       "30499  No hay causa mediata  2017-11-17  41.394422  2.168237  \n",
       "30500  No hay causa mediata  2017-06-12  41.395813  2.164287  \n",
       "30501  No hay causa mediata  2017-06-13  41.397359  2.186797  \n",
       "30502  No hay causa mediata  2017-10-06  41.387196  2.118127  \n",
       "30503  No hay causa mediata  2017-11-13  41.392406  2.145140  \n",
       "30504  No hay causa mediata  2017-06-15  41.412343  2.190077  \n",
       "30505  No hay causa mediata  2017-07-12  41.419330  2.139373  \n",
       "30506  No hay causa mediata  2017-11-30  41.418157  2.186448  \n",
       "30507  No hay causa mediata  2017-10-03  41.397964  2.170963  \n",
       "30508  No hay causa mediata  2017-05-30  41.395052  2.158134  \n",
       "30509  No hay causa mediata  2017-06-12  41.388913  2.193436  \n",
       "30510  No hay causa mediata  2017-10-09  41.383938  2.159181  \n",
       "30511  No hay causa mediata  2017-11-02  41.418336  2.195744  \n",
       "30512  No hay causa mediata  2017-09-26  41.450545  2.189025  \n",
       "30513  No hay causa mediata  2017-09-29  41.453898  2.187442  \n",
       "30514  No hay causa mediata  2017-08-04  41.418418  2.138442  \n",
       "30515  No hay causa mediata  2017-05-08  41.372110  2.175281  \n",
       "30516  No hay causa mediata  2017-11-10  41.415769  2.168453  \n",
       "30517  No hay causa mediata  2017-11-23  41.410320  2.195000  \n",
       "30518  No hay causa mediata  2017-09-28  41.395153  2.146905  \n",
       "30519  No hay causa mediata  2017-11-07  41.406651  2.166765  \n",
       "\n",
       "[30520 rows x 11 columns]>"
      ]
     },
     "execution_count": 78,
     "metadata": {},
     "output_type": "execute_result"
    }
   ],
   "source": [
    "causalidad=pd.read_csv('Causalidad accidentes/Causalidad_accidentes.csv', index_col = False, engine = 'python')\n",
    "causalidad.head"
   ]
  },
  {
   "cell_type": "markdown",
   "metadata": {},
   "source": [
    "Creamos un array con los valores únicos de la descripción de la causalidad"
   ]
  },
  {
   "cell_type": "code",
   "execution_count": 126,
   "metadata": {},
   "outputs": [],
   "source": [
    "desccausalidad=causalidad.Causalidad.unique()"
   ]
  },
  {
   "cell_type": "code",
   "execution_count": 127,
   "metadata": {},
   "outputs": [
    {
     "data": {
      "text/plain": [
       "array(['No hay causa mediata', 'Exceso de velocidad o inadecuada',\n",
       "       'Alcoholemia', 'Calzada en mal estado', 'Drogas o medicamentos',\n",
       "       'Estado de la señalización', 'Factores meteorológicos',\n",
       "       'Objetos o animales en la calzada'], dtype=object)"
      ]
     },
     "execution_count": 127,
     "metadata": {},
     "output_type": "execute_result"
    }
   ],
   "source": [
    "desccausalidad"
   ]
  },
  {
   "cell_type": "markdown",
   "metadata": {},
   "source": [
    "Creamos la tabla"
   ]
  },
  {
   "cell_type": "code",
   "execution_count": 128,
   "metadata": {},
   "outputs": [],
   "source": [
    "# Get cursor object from the database connection\n",
    "\n",
    "cursor = conn.cursor()\n",
    "\n",
    "name_Table = \"descripcion_causalidad_accidente\"\n",
    "\n",
    "\n",
    " # Create table statement\n",
    "\n",
    "sqlCreateTable = \"CREATE TABLE \"+name_Table+\" (id_desc_causalidad SERIAL PRIMARY KEY, desc_causalidad VARCHAR(35));\"\n",
    "\n",
    " \n",
    "\n",
    "# Create a table in PostgreSQL database\n",
    "#cursor.execute(\"drop table \"+name_Table+\";\")\n",
    "cursor.execute(sqlCreateTable)\n",
    "conn.commit()"
   ]
  },
  {
   "cell_type": "markdown",
   "metadata": {},
   "source": [
    "Insertamos los datos en la tabla"
   ]
  },
  {
   "cell_type": "code",
   "execution_count": 129,
   "metadata": {},
   "outputs": [],
   "source": [
    "#tipo= list(desccausalidad)\n",
    "#cur = conn.cursor()\n",
    "#for tipo in desccausalidad:\n",
    "    #sql = \"insert into descripcion_causalidad_accidente(desc_causalidad) values ('{vals}');\".format(vals=str(tipo))\n",
    "    #cur.execute(sql)\n",
    "#conn.commit()"
   ]
  },
  {
   "cell_type": "markdown",
   "metadata": {},
   "source": [
    "Revisamos que este correctamente"
   ]
  },
  {
   "cell_type": "code",
   "execution_count": 131,
   "metadata": {},
   "outputs": [
    {
     "data": {
      "text/plain": [
       "[(1, 'No hay causa mediata'),\n",
       " (2, 'Exceso de velocidad o inadecuada'),\n",
       " (3, 'Alcoholemia'),\n",
       " (4, 'Calzada en mal estado'),\n",
       " (5, 'Drogas o medicamentos'),\n",
       " (6, 'Estado de la señalización'),\n",
       " (7, 'Factores meteorológicos'),\n",
       " (8, 'Objetos o animales en la calzada')]"
      ]
     },
     "execution_count": 131,
     "metadata": {},
     "output_type": "execute_result"
    }
   ],
   "source": [
    "cur.execute(\"SELECT * FROM descripcion_causalidad_accidente;\")\n",
    "cur.fetchall() #fetchall porque son pocos datos más adelante usaremos fetchone"
   ]
  },
  {
   "cell_type": "markdown",
   "metadata": {},
   "source": [
    "Desde este mismo csv vamos a importar día de la semana y la fecha. \n",
    "En primer lugar creamos un array con los días de la semana "
   ]
  },
  {
   "cell_type": "code",
   "execution_count": 132,
   "metadata": {},
   "outputs": [
    {
     "data": {
      "text/plain": [
       "array(['martes', 'sabado', 'miercoles', 'viernes', 'jueves', 'domingo',\n",
       "       'lunes'], dtype=object)"
      ]
     },
     "execution_count": 132,
     "metadata": {},
     "output_type": "execute_result"
    }
   ],
   "source": [
    "diasemana=causalidad.Dia_semana.unique()\n",
    "diasemana"
   ]
  },
  {
   "cell_type": "markdown",
   "metadata": {},
   "source": [
    "Creamos la tabla"
   ]
  },
  {
   "cell_type": "code",
   "execution_count": 133,
   "metadata": {},
   "outputs": [],
   "source": [
    "# Get cursor object from the database connection\n",
    "\n",
    "cursor = conn.cursor()\n",
    "\n",
    "name_Table = \"descripcion_dia_semana_accidente\"\n",
    "\n",
    "\n",
    " # Create table statement\n",
    "\n",
    "sqlCreateTable = \"CREATE TABLE \"+name_Table+\" (id_desc_dia_semana SERIAL PRIMARY KEY, desc_dia_semana VARCHAR(35));\"\n",
    "\n",
    " \n",
    "\n",
    "# Create a table in PostgreSQL database\n",
    "#cursor.execute(\"drop table \"+name_Table+\";\")\n",
    "cursor.execute(sqlCreateTable)\n",
    "conn.commit()"
   ]
  },
  {
   "cell_type": "markdown",
   "metadata": {},
   "source": [
    "Insertamos los datos en la tablas"
   ]
  },
  {
   "cell_type": "code",
   "execution_count": 134,
   "metadata": {},
   "outputs": [],
   "source": [
    "#tipo= list(diasemana)\n",
    "#cur = conn.cursor()\n",
    "#for tipo in diasemana:\n",
    "    #sql = \"insert into descripcion_dia_semana_accidente(desc_dia_semana) values ('{vals}');\".format(vals=str(tipo))\n",
    "    #cur.execute(sql)\n",
    "#conn.commit()"
   ]
  },
  {
   "cell_type": "markdown",
   "metadata": {},
   "source": [
    "Revisamos que se hayan insertado"
   ]
  },
  {
   "cell_type": "code",
   "execution_count": 46,
   "metadata": {},
   "outputs": [
    {
     "ename": "NameError",
     "evalue": "name 'cur' is not defined",
     "output_type": "error",
     "traceback": [
      "\u001b[0;31m---------------------------------------------------------------------------\u001b[0m",
      "\u001b[0;31mNameError\u001b[0m                                 Traceback (most recent call last)",
      "\u001b[0;32m<ipython-input-46-44841e7af44e>\u001b[0m in \u001b[0;36m<module>\u001b[0;34m()\u001b[0m\n\u001b[0;32m----> 1\u001b[0;31m \u001b[0mcur\u001b[0m\u001b[0;34m.\u001b[0m\u001b[0mexecute\u001b[0m\u001b[0;34m(\u001b[0m\u001b[0;34m\"SELECT * FROM descripcion_dia_semana_accidente;\"\u001b[0m\u001b[0;34m)\u001b[0m\u001b[0;34m\u001b[0m\u001b[0;34m\u001b[0m\u001b[0m\n\u001b[0m\u001b[1;32m      2\u001b[0m \u001b[0mcur\u001b[0m\u001b[0;34m.\u001b[0m\u001b[0mfetchall\u001b[0m\u001b[0;34m(\u001b[0m\u001b[0;34m)\u001b[0m \u001b[0;31m#fetchall porque son pocos datos más adelante usaremos fetchone\u001b[0m\u001b[0;34m\u001b[0m\u001b[0;34m\u001b[0m\u001b[0m\n",
      "\u001b[0;31mNameError\u001b[0m: name 'cur' is not defined"
     ]
    }
   ],
   "source": [
    "cur.execute(\"SELECT * FROM descripcion_dia_semana_accidente;\")\n",
    "cur.fetchall() #fetchall porque son pocos datos más adelante usaremos fetchone"
   ]
  },
  {
   "cell_type": "markdown",
   "metadata": {},
   "source": [
    "Ahora creamos el array con las fechas"
   ]
  },
  {
   "cell_type": "code",
   "execution_count": 136,
   "metadata": {},
   "outputs": [
    {
     "data": {
      "text/plain": [
       "array(['2015-06-30', '2015-01-17', '2015-03-11', ..., '2017-09-03',\n",
       "       '2017-08-14', '2017-05-28'], dtype=object)"
      ]
     },
     "execution_count": 136,
     "metadata": {},
     "output_type": "execute_result"
    }
   ],
   "source": [
    "fecha=causalidad.Fecha.unique()\n",
    "fecha"
   ]
  },
  {
   "cell_type": "markdown",
   "metadata": {},
   "source": [
    "Creamos la tabla de fecha"
   ]
  },
  {
   "cell_type": "code",
   "execution_count": 140,
   "metadata": {},
   "outputs": [],
   "source": [
    "# Get cursor object from the database connection\n",
    "\n",
    "cursor = conn.cursor()\n",
    "\n",
    "name_Table = \"descripcion_fecha_accidente\"\n",
    "\n",
    "\n",
    " # Create table statement\n",
    "\n",
    "sqlCreateTable = \"CREATE TABLE \"+name_Table+\" (id_desc_fecha SERIAL PRIMARY KEY, desc_fecha DATE);\"\n",
    "\n",
    " \n",
    "\n",
    "# Create a table in PostgreSQL database\n",
    "#cursor.execute(\"drop table \"+name_Table+\";\")\n",
    "cursor.execute(sqlCreateTable)\n",
    "conn.commit()"
   ]
  },
  {
   "cell_type": "markdown",
   "metadata": {},
   "source": [
    "Insertamos los datos"
   ]
  },
  {
   "cell_type": "code",
   "execution_count": 141,
   "metadata": {},
   "outputs": [],
   "source": [
    "tipo=(fecha)\n",
    "cur = conn.cursor()\n",
    "for tipo in fecha:\n",
    "    sql = \"insert into descripcion_fecha_accidente(desc_fecha) values ('{vals}');\".format(vals=tipo)\n",
    "    cur.execute(sql)\n",
    "conn.commit()"
   ]
  },
  {
   "cell_type": "code",
   "execution_count": 142,
   "metadata": {},
   "outputs": [
    {
     "data": {
      "text/plain": [
       "(1, datetime.date(2015, 6, 30))"
      ]
     },
     "execution_count": 142,
     "metadata": {},
     "output_type": "execute_result"
    }
   ],
   "source": [
    "cur.execute(\"SELECT * FROM descripcion_fecha_accidente;\")\n",
    "cur.fetchone()"
   ]
  },
  {
   "cell_type": "code",
   "execution_count": 26,
   "metadata": {},
   "outputs": [
    {
     "data": {
      "text/plain": [
       "Index(['Num_expediente', 'Cod_distrito', 'Nombre_distrito', 'Cod_barrio',\n",
       "       'Nombre_barrio', 'Dia_semana', 'Hora', 'Causalidad', 'Fecha', 'Latitud',\n",
       "       'Longitud'],\n",
       "      dtype='object')"
      ]
     },
     "execution_count": 26,
     "metadata": {},
     "output_type": "execute_result"
    }
   ],
   "source": [
    "causalidad.columns"
   ]
  },
  {
   "cell_type": "markdown",
   "metadata": {},
   "source": [
    "Creamos la tabla de accidentes"
   ]
  },
  {
   "cell_type": "code",
   "execution_count": 5,
   "metadata": {},
   "outputs": [],
   "source": [
    "# Get cursor object from the database connection\n",
    "\n",
    "cursor = conn.cursor()\n",
    "\n",
    "name_Table = \"accidente\"\n",
    "\n",
    "\n",
    "# Create table statement\n",
    "\n",
    "sqlCreateTable = \"CREATE TABLE \"+name_Table+\" (id_accidente SERIAL PRIMARY KEY, id_desc_dia_semana INTEGER REFERENCES descripcion_dia_semana_accidente(id_desc_dia_semana), id_desc_fecha INTEGER REFERENCES descripcion_fecha_accidente(id_desc_fecha), hora SMALLINT, latitud FLOAT, longitud FLOAT, id_desc_causalidad INTEGER REFERENCES descripcion_causalidad_accidente(id_desc_causalidad), id_desc_tipologia INTEGER REFERENCES descripcion_tipologia_accidente(id_desc_tipologia));\" \n",
    "\n",
    "# Create a table in PostgreSQL database\n",
    "#cursor.execute(\"drop table \"+name_Table+\";\")\n",
    "cursor.execute(sqlCreateTable)\n",
    "conn.commit()"
   ]
  },
  {
   "cell_type": "code",
   "execution_count": 40,
   "metadata": {},
   "outputs": [
    {
     "data": {
      "text/plain": [
       "0       martes\n",
       "1       sabado\n",
       "2    miercoles\n",
       "3      viernes\n",
       "4      viernes\n",
       "Name: Dia_semana, dtype: object"
      ]
     },
     "execution_count": 40,
     "metadata": {},
     "output_type": "execute_result"
    }
   ],
   "source": [
    "cursor.execute(\"SELECT * FROM descripcion_dia_semana_accidente;\")\n",
    "descripcion_dia_semana = cursor.fetchall()\n",
    "descripcion_dia_semana\n",
    "causalidad.Dia_semana.head()\n",
    "#causalidad[\"id_desc_dia_semana]\n",
    "#descripcion_dia_semana = pd.DataFrame(descripcion_dia_semana)\n",
    "#descripcion_dia_semana.head()"
   ]
  },
  {
   "cell_type": "code",
   "execution_count": 132,
   "metadata": {},
   "outputs": [
    {
     "data": {
      "text/html": [
       "<div>\n",
       "<style scoped>\n",
       "    .dataframe tbody tr th:only-of-type {\n",
       "        vertical-align: middle;\n",
       "    }\n",
       "\n",
       "    .dataframe tbody tr th {\n",
       "        vertical-align: top;\n",
       "    }\n",
       "\n",
       "    .dataframe thead th {\n",
       "        text-align: right;\n",
       "    }\n",
       "</style>\n",
       "<table border=\"1\" class=\"dataframe\">\n",
       "  <thead>\n",
       "    <tr style=\"text-align: right;\">\n",
       "      <th></th>\n",
       "      <th>Num_expediente</th>\n",
       "      <th>Cod_distrito</th>\n",
       "      <th>Nombre_distrito</th>\n",
       "      <th>Cod_barrio</th>\n",
       "      <th>Nombre_barrio</th>\n",
       "      <th>Dia_semana</th>\n",
       "      <th>Hora</th>\n",
       "      <th>Causalidad</th>\n",
       "      <th>Fecha</th>\n",
       "      <th>Latitud</th>\n",
       "      <th>Longitud</th>\n",
       "    </tr>\n",
       "  </thead>\n",
       "  <tbody>\n",
       "    <tr>\n",
       "      <th>0</th>\n",
       "      <td>2015S005022</td>\n",
       "      <td>10</td>\n",
       "      <td>Sant Martí</td>\n",
       "      <td>64</td>\n",
       "      <td>el Camp de l'Arpa del Clot</td>\n",
       "      <td>martes</td>\n",
       "      <td>0</td>\n",
       "      <td>No hay causa mediata</td>\n",
       "      <td>2015-06-30</td>\n",
       "      <td>41.416294</td>\n",
       "      <td>2.184294</td>\n",
       "    </tr>\n",
       "    <tr>\n",
       "      <th>1</th>\n",
       "      <td>2015S000390</td>\n",
       "      <td>10</td>\n",
       "      <td>Sant Martí</td>\n",
       "      <td>64</td>\n",
       "      <td>el Camp de l'Arpa del Clot</td>\n",
       "      <td>sabado</td>\n",
       "      <td>0</td>\n",
       "      <td>No hay causa mediata</td>\n",
       "      <td>2015-01-17</td>\n",
       "      <td>41.415053</td>\n",
       "      <td>2.180017</td>\n",
       "    </tr>\n",
       "    <tr>\n",
       "      <th>2</th>\n",
       "      <td>2015S001866</td>\n",
       "      <td>10</td>\n",
       "      <td>Sant Martí</td>\n",
       "      <td>64</td>\n",
       "      <td>el Camp de l'Arpa del Clot</td>\n",
       "      <td>miercoles</td>\n",
       "      <td>8</td>\n",
       "      <td>No hay causa mediata</td>\n",
       "      <td>2015-03-11</td>\n",
       "      <td>41.417770</td>\n",
       "      <td>2.181927</td>\n",
       "    </tr>\n",
       "    <tr>\n",
       "      <th>3</th>\n",
       "      <td>2015S004932</td>\n",
       "      <td>10</td>\n",
       "      <td>Sant Martí</td>\n",
       "      <td>64</td>\n",
       "      <td>el Camp de l'Arpa del Clot</td>\n",
       "      <td>viernes</td>\n",
       "      <td>14</td>\n",
       "      <td>No hay causa mediata</td>\n",
       "      <td>2015-06-26</td>\n",
       "      <td>41.413289</td>\n",
       "      <td>2.180064</td>\n",
       "    </tr>\n",
       "    <tr>\n",
       "      <th>4</th>\n",
       "      <td>2015S007776</td>\n",
       "      <td>10</td>\n",
       "      <td>Sant Martí</td>\n",
       "      <td>64</td>\n",
       "      <td>el Camp de l'Arpa del Clot</td>\n",
       "      <td>viernes</td>\n",
       "      <td>16</td>\n",
       "      <td>No hay causa mediata</td>\n",
       "      <td>2015-10-16</td>\n",
       "      <td>41.413716</td>\n",
       "      <td>2.178909</td>\n",
       "    </tr>\n",
       "  </tbody>\n",
       "</table>\n",
       "</div>"
      ],
      "text/plain": [
       "  Num_expediente  Cod_distrito Nombre_distrito  Cod_barrio  \\\n",
       "0    2015S005022            10      Sant Martí          64   \n",
       "1    2015S000390            10      Sant Martí          64   \n",
       "2    2015S001866            10      Sant Martí          64   \n",
       "3    2015S004932            10      Sant Martí          64   \n",
       "4    2015S007776            10      Sant Martí          64   \n",
       "\n",
       "                Nombre_barrio Dia_semana  Hora            Causalidad  \\\n",
       "0  el Camp de l'Arpa del Clot     martes     0  No hay causa mediata   \n",
       "1  el Camp de l'Arpa del Clot     sabado     0  No hay causa mediata   \n",
       "2  el Camp de l'Arpa del Clot  miercoles     8  No hay causa mediata   \n",
       "3  el Camp de l'Arpa del Clot    viernes    14  No hay causa mediata   \n",
       "4  el Camp de l'Arpa del Clot    viernes    16  No hay causa mediata   \n",
       "\n",
       "        Fecha    Latitud  Longitud  \n",
       "0  2015-06-30  41.416294  2.184294  \n",
       "1  2015-01-17  41.415053  2.180017  \n",
       "2  2015-03-11  41.417770  2.181927  \n",
       "3  2015-06-26  41.413289  2.180064  \n",
       "4  2015-10-16  41.413716  2.178909  "
      ]
     },
     "execution_count": 132,
     "metadata": {},
     "output_type": "execute_result"
    }
   ],
   "source": [
    "causalidad = pd.DataFrame(causalidad)\n",
    "causalidad.head()"
   ]
  },
  {
   "cell_type": "code",
   "execution_count": 104,
   "metadata": {},
   "outputs": [
    {
     "data": {
      "text/plain": [
       "0           martes\n",
       "1           sabado\n",
       "2        miercoles\n",
       "3          viernes\n",
       "4          viernes\n",
       "5           jueves\n",
       "6        miercoles\n",
       "7          domingo\n",
       "8           sabado\n",
       "9          viernes\n",
       "10          martes\n",
       "11          martes\n",
       "12         viernes\n",
       "13          martes\n",
       "14          jueves\n",
       "15          sabado\n",
       "16       miercoles\n",
       "17          jueves\n",
       "18          martes\n",
       "19          sabado\n",
       "20          jueves\n",
       "21         viernes\n",
       "22       miercoles\n",
       "23         viernes\n",
       "24          martes\n",
       "25          martes\n",
       "26         viernes\n",
       "27         viernes\n",
       "28         viernes\n",
       "29       miercoles\n",
       "           ...    \n",
       "30490       jueves\n",
       "30491        lunes\n",
       "30492       jueves\n",
       "30493       jueves\n",
       "30494    miercoles\n",
       "30495       sabado\n",
       "30496      viernes\n",
       "30497       sabado\n",
       "30498       sabado\n",
       "30499      viernes\n",
       "30500        lunes\n",
       "30501       martes\n",
       "30502      viernes\n",
       "30503        lunes\n",
       "30504       jueves\n",
       "30505    miercoles\n",
       "30506       jueves\n",
       "30507       martes\n",
       "30508       martes\n",
       "30509        lunes\n",
       "30510        lunes\n",
       "30511       jueves\n",
       "30512       martes\n",
       "30513      viernes\n",
       "30514      viernes\n",
       "30515        lunes\n",
       "30516      viernes\n",
       "30517       jueves\n",
       "30518       jueves\n",
       "30519       martes\n",
       "Name: Dia_semana, Length: 30520, dtype: object"
      ]
     },
     "execution_count": 104,
     "metadata": {},
     "output_type": "execute_result"
    }
   ],
   "source": [
    "causalidad['Dia_semana']"
   ]
  },
  {
   "cell_type": "code",
   "execution_count": 134,
   "metadata": {},
   "outputs": [
    {
     "ename": "DataError",
     "evalue": "invalid input syntax for integer: \"None\"\nLINE 1: INSERT INTO accidente (id_desc_dia_semana) VALUES ('None');\n                                                           ^\n",
     "output_type": "error",
     "traceback": [
      "\u001b[0;31m---------------------------------------------------------------------------\u001b[0m",
      "\u001b[0;31mDataError\u001b[0m                                 Traceback (most recent call last)",
      "\u001b[0;32m<ipython-input-134-fd4c2c18ffe0>\u001b[0m in \u001b[0;36m<module>\u001b[0;34m()\u001b[0m\n\u001b[1;32m      1\u001b[0m \u001b[0;32mfor\u001b[0m \u001b[0mrow\u001b[0m \u001b[0;32min\u001b[0m \u001b[0mcausalidad\u001b[0m\u001b[0;34m.\u001b[0m\u001b[0mitertuples\u001b[0m\u001b[0;34m(\u001b[0m\u001b[0;34m)\u001b[0m\u001b[0;34m:\u001b[0m\u001b[0;34m\u001b[0m\u001b[0;34m\u001b[0m\u001b[0m\n\u001b[0;32m----> 2\u001b[0;31m     \u001b[0mcursor\u001b[0m\u001b[0;34m.\u001b[0m\u001b[0mexecute\u001b[0m\u001b[0;34m(\u001b[0m\u001b[0;34m\"INSERT INTO accidente (id_desc_dia_semana) VALUES ('{vals}');\"\u001b[0m\u001b[0;34m.\u001b[0m\u001b[0mformat\u001b[0m\u001b[0;34m(\u001b[0m\u001b[0mvals\u001b[0m\u001b[0;34m=\u001b[0m\u001b[0;34m(\u001b[0m\u001b[0mcursor\u001b[0m\u001b[0;34m.\u001b[0m\u001b[0mexecute\u001b[0m\u001b[0;34m(\u001b[0m\u001b[0;34m\"SELECT id_desc_dia_semana FROM descripcion_dia_semana_accidente WHERE desc_dia_semana='\"\u001b[0m\u001b[0;34m+\u001b[0m\u001b[0;34m(\u001b[0m\u001b[0mrow\u001b[0m\u001b[0;34m.\u001b[0m\u001b[0mDia_semana\u001b[0m\u001b[0;34m)\u001b[0m\u001b[0;34m+\u001b[0m\u001b[0;34m\"';\"\u001b[0m\u001b[0;34m)\u001b[0m\u001b[0;34m)\u001b[0m\u001b[0;34m)\u001b[0m\u001b[0;34m)\u001b[0m\u001b[0;34m\u001b[0m\u001b[0;34m\u001b[0m\u001b[0m\n\u001b[0m\u001b[1;32m      3\u001b[0m \u001b[0mconn\u001b[0m\u001b[0;34m.\u001b[0m\u001b[0mcommit\u001b[0m\u001b[0;34m(\u001b[0m\u001b[0;34m)\u001b[0m\u001b[0;34m\u001b[0m\u001b[0;34m\u001b[0m\u001b[0m\n",
      "\u001b[0;31mDataError\u001b[0m: invalid input syntax for integer: \"None\"\nLINE 1: INSERT INTO accidente (id_desc_dia_semana) VALUES ('None');\n                                                           ^\n"
     ]
    }
   ],
   "source": [
    "for row in causalidad.itertuples():\n",
    "    cursor.execute(\"INSERT INTO accidente (id_desc_dia_semana) VALUES ('{vals}');\".format(vals=list(cursor.execute(\"SELECT id_desc_dia_semana FROM descripcion_dia_semana_accidente WHERE desc_dia_semana='\"+(row.Dia_semana)+\"';\"))))\n",
    "conn.commit()"
   ]
  },
  {
   "cell_type": "code",
   "execution_count": 167,
   "metadata": {},
   "outputs": [
    {
     "ename": "SystemError",
     "evalue": "<class '_frozen_importlib._ModuleLockManager'> returned a result with an error set",
     "output_type": "error",
     "traceback": [
      "\u001b[0;31m---------------------------------------------------------------------------\u001b[0m",
      "\u001b[0;31mValueError\u001b[0m                                Traceback (most recent call last)",
      "\u001b[0;32m/anaconda3/lib/python3.7/site-packages/pandas/core/generic.py\u001b[0m in \u001b[0;36m__nonzero__\u001b[0;34m(self)\u001b[0m\n\u001b[1;32m   1575\u001b[0m                          \u001b[0;34m\"Use a.empty, a.bool(), a.item(), a.any() or a.all().\"\u001b[0m\u001b[0;34m\u001b[0m\u001b[0;34m\u001b[0m\u001b[0m\n\u001b[0;32m-> 1576\u001b[0;31m                          .format(self.__class__.__name__))\n\u001b[0m\u001b[1;32m   1577\u001b[0m \u001b[0;34m\u001b[0m\u001b[0m\n",
      "\u001b[0;31mValueError\u001b[0m: The truth value of a Series is ambiguous. Use a.empty, a.bool(), a.item(), a.any() or a.all().",
      "\nThe above exception was the direct cause of the following exception:\n",
      "\u001b[0;31mSystemError\u001b[0m                               Traceback (most recent call last)",
      "\u001b[0;32m<ipython-input-167-2c02b8a25542>\u001b[0m in \u001b[0;36m<module>\u001b[0;34m()\u001b[0m\n\u001b[0;32m----> 1\u001b[0;31m \u001b[0mcursor\u001b[0m\u001b[0;34m.\u001b[0m\u001b[0mexecute\u001b[0m\u001b[0;34m(\u001b[0m\u001b[0;34m\"SELECT id_desc_dia_semana FROM descripcion_dia_semana_accidente WHERE desc_dia_semana='\"\u001b[0m\u001b[0;34m+\u001b[0m\u001b[0;34m(\u001b[0m\u001b[0mcausalidad\u001b[0m\u001b[0;34m.\u001b[0m\u001b[0mDia_semana\u001b[0m\u001b[0;34m)\u001b[0m\u001b[0;34m+\u001b[0m\u001b[0;34m\"'\"\u001b[0m\u001b[0;34m)\u001b[0m\u001b[0;34m\u001b[0m\u001b[0;34m\u001b[0m\u001b[0m\n\u001b[0m\u001b[1;32m      2\u001b[0m \u001b[0mcausalidad\u001b[0m\u001b[0;34m[\u001b[0m\u001b[0;34m\"id_desc_dia_semana\"\u001b[0m\u001b[0;34m]\u001b[0m \u001b[0;34m=\u001b[0m \u001b[0mcursor\u001b[0m\u001b[0;34m.\u001b[0m\u001b[0mfetchone\u001b[0m\u001b[0;34m(\u001b[0m\u001b[0;34m)\u001b[0m\u001b[0;34m\u001b[0m\u001b[0;34m\u001b[0m\u001b[0m\n",
      "\u001b[0;32m/anaconda3/lib/python3.7/importlib/_bootstrap.py\u001b[0m in \u001b[0;36m_find_and_load\u001b[0;34m(name, import_)\u001b[0m\n",
      "\u001b[0;31mSystemError\u001b[0m: <class '_frozen_importlib._ModuleLockManager'> returned a result with an error set"
     ]
    }
   ],
   "source": [
    "cursor.execute(\"SELECT id_desc_dia_semana FROM descripcion_dia_semana_accidente WHERE desc_dia_semana='\"+(causalidad.Dia_semana)+\"'\")\n",
    "causalidad[\"id_desc_dia_semana\"] = cursor.fetchone()"
   ]
  },
  {
   "cell_type": "code",
   "execution_count": 165,
   "metadata": {},
   "outputs": [
    {
     "ename": "ValueError",
     "evalue": "Length of values does not match length of index",
     "output_type": "error",
     "traceback": [
      "\u001b[0;31m---------------------------------------------------------------------------\u001b[0m",
      "\u001b[0;31mValueError\u001b[0m                                Traceback (most recent call last)",
      "\u001b[0;32m<ipython-input-165-105530775f16>\u001b[0m in \u001b[0;36m<module>\u001b[0;34m()\u001b[0m\n\u001b[1;32m      1\u001b[0m \u001b[0;32mfor\u001b[0m \u001b[0mrow\u001b[0m \u001b[0;32min\u001b[0m \u001b[0mcausalidad\u001b[0m\u001b[0;34m.\u001b[0m\u001b[0mitertuples\u001b[0m\u001b[0;34m(\u001b[0m\u001b[0;34m)\u001b[0m\u001b[0;34m:\u001b[0m\u001b[0;34m\u001b[0m\u001b[0;34m\u001b[0m\u001b[0m\n\u001b[1;32m      2\u001b[0m     \u001b[0mcursor\u001b[0m\u001b[0;34m.\u001b[0m\u001b[0mexecute\u001b[0m\u001b[0;34m(\u001b[0m\u001b[0;34m\"SELECT id_desc_dia_semana FROM descripcion_dia_semana_accidente WHERE desc_dia_semana='\"\u001b[0m\u001b[0;34m+\u001b[0m\u001b[0;34m(\u001b[0m\u001b[0mrow\u001b[0m\u001b[0;34m.\u001b[0m\u001b[0mDia_semana\u001b[0m\u001b[0;34m)\u001b[0m\u001b[0;34m+\u001b[0m\u001b[0;34m\"'\"\u001b[0m\u001b[0;34m)\u001b[0m\u001b[0;34m\u001b[0m\u001b[0;34m\u001b[0m\u001b[0m\n\u001b[0;32m----> 3\u001b[0;31m \u001b[0mcausalidad\u001b[0m\u001b[0;34m[\u001b[0m\u001b[0;34m\"id_desc_dia_semana\"\u001b[0m\u001b[0;34m]\u001b[0m \u001b[0;34m=\u001b[0m \u001b[0mcursor\u001b[0m\u001b[0;34m.\u001b[0m\u001b[0mfetchall\u001b[0m\u001b[0;34m(\u001b[0m\u001b[0;34m)\u001b[0m\u001b[0;34m\u001b[0m\u001b[0;34m\u001b[0m\u001b[0m\n\u001b[0m",
      "\u001b[0;32m/anaconda3/lib/python3.7/site-packages/pandas/core/frame.py\u001b[0m in \u001b[0;36m__setitem__\u001b[0;34m(self, key, value)\u001b[0m\n\u001b[1;32m   3117\u001b[0m         \u001b[0;32melse\u001b[0m\u001b[0;34m:\u001b[0m\u001b[0;34m\u001b[0m\u001b[0;34m\u001b[0m\u001b[0m\n\u001b[1;32m   3118\u001b[0m             \u001b[0;31m# set column\u001b[0m\u001b[0;34m\u001b[0m\u001b[0;34m\u001b[0m\u001b[0;34m\u001b[0m\u001b[0m\n\u001b[0;32m-> 3119\u001b[0;31m             \u001b[0mself\u001b[0m\u001b[0;34m.\u001b[0m\u001b[0m_set_item\u001b[0m\u001b[0;34m(\u001b[0m\u001b[0mkey\u001b[0m\u001b[0;34m,\u001b[0m \u001b[0mvalue\u001b[0m\u001b[0;34m)\u001b[0m\u001b[0;34m\u001b[0m\u001b[0;34m\u001b[0m\u001b[0m\n\u001b[0m\u001b[1;32m   3120\u001b[0m \u001b[0;34m\u001b[0m\u001b[0m\n\u001b[1;32m   3121\u001b[0m     \u001b[0;32mdef\u001b[0m \u001b[0m_setitem_slice\u001b[0m\u001b[0;34m(\u001b[0m\u001b[0mself\u001b[0m\u001b[0;34m,\u001b[0m \u001b[0mkey\u001b[0m\u001b[0;34m,\u001b[0m \u001b[0mvalue\u001b[0m\u001b[0;34m)\u001b[0m\u001b[0;34m:\u001b[0m\u001b[0;34m\u001b[0m\u001b[0;34m\u001b[0m\u001b[0m\n",
      "\u001b[0;32m/anaconda3/lib/python3.7/site-packages/pandas/core/frame.py\u001b[0m in \u001b[0;36m_set_item\u001b[0;34m(self, key, value)\u001b[0m\n\u001b[1;32m   3192\u001b[0m \u001b[0;34m\u001b[0m\u001b[0m\n\u001b[1;32m   3193\u001b[0m         \u001b[0mself\u001b[0m\u001b[0;34m.\u001b[0m\u001b[0m_ensure_valid_index\u001b[0m\u001b[0;34m(\u001b[0m\u001b[0mvalue\u001b[0m\u001b[0;34m)\u001b[0m\u001b[0;34m\u001b[0m\u001b[0;34m\u001b[0m\u001b[0m\n\u001b[0;32m-> 3194\u001b[0;31m         \u001b[0mvalue\u001b[0m \u001b[0;34m=\u001b[0m \u001b[0mself\u001b[0m\u001b[0;34m.\u001b[0m\u001b[0m_sanitize_column\u001b[0m\u001b[0;34m(\u001b[0m\u001b[0mkey\u001b[0m\u001b[0;34m,\u001b[0m \u001b[0mvalue\u001b[0m\u001b[0;34m)\u001b[0m\u001b[0;34m\u001b[0m\u001b[0;34m\u001b[0m\u001b[0m\n\u001b[0m\u001b[1;32m   3195\u001b[0m         \u001b[0mNDFrame\u001b[0m\u001b[0;34m.\u001b[0m\u001b[0m_set_item\u001b[0m\u001b[0;34m(\u001b[0m\u001b[0mself\u001b[0m\u001b[0;34m,\u001b[0m \u001b[0mkey\u001b[0m\u001b[0;34m,\u001b[0m \u001b[0mvalue\u001b[0m\u001b[0;34m)\u001b[0m\u001b[0;34m\u001b[0m\u001b[0;34m\u001b[0m\u001b[0m\n\u001b[1;32m   3196\u001b[0m \u001b[0;34m\u001b[0m\u001b[0m\n",
      "\u001b[0;32m/anaconda3/lib/python3.7/site-packages/pandas/core/frame.py\u001b[0m in \u001b[0;36m_sanitize_column\u001b[0;34m(self, key, value, broadcast)\u001b[0m\n\u001b[1;32m   3389\u001b[0m \u001b[0;34m\u001b[0m\u001b[0m\n\u001b[1;32m   3390\u001b[0m             \u001b[0;31m# turn me into an ndarray\u001b[0m\u001b[0;34m\u001b[0m\u001b[0;34m\u001b[0m\u001b[0;34m\u001b[0m\u001b[0m\n\u001b[0;32m-> 3391\u001b[0;31m             \u001b[0mvalue\u001b[0m \u001b[0;34m=\u001b[0m \u001b[0m_sanitize_index\u001b[0m\u001b[0;34m(\u001b[0m\u001b[0mvalue\u001b[0m\u001b[0;34m,\u001b[0m \u001b[0mself\u001b[0m\u001b[0;34m.\u001b[0m\u001b[0mindex\u001b[0m\u001b[0;34m,\u001b[0m \u001b[0mcopy\u001b[0m\u001b[0;34m=\u001b[0m\u001b[0;32mFalse\u001b[0m\u001b[0;34m)\u001b[0m\u001b[0;34m\u001b[0m\u001b[0;34m\u001b[0m\u001b[0m\n\u001b[0m\u001b[1;32m   3392\u001b[0m             \u001b[0;32mif\u001b[0m \u001b[0;32mnot\u001b[0m \u001b[0misinstance\u001b[0m\u001b[0;34m(\u001b[0m\u001b[0mvalue\u001b[0m\u001b[0;34m,\u001b[0m \u001b[0;34m(\u001b[0m\u001b[0mnp\u001b[0m\u001b[0;34m.\u001b[0m\u001b[0mndarray\u001b[0m\u001b[0;34m,\u001b[0m \u001b[0mIndex\u001b[0m\u001b[0;34m)\u001b[0m\u001b[0;34m)\u001b[0m\u001b[0;34m:\u001b[0m\u001b[0;34m\u001b[0m\u001b[0;34m\u001b[0m\u001b[0m\n\u001b[1;32m   3393\u001b[0m                 \u001b[0;32mif\u001b[0m \u001b[0misinstance\u001b[0m\u001b[0;34m(\u001b[0m\u001b[0mvalue\u001b[0m\u001b[0;34m,\u001b[0m \u001b[0mlist\u001b[0m\u001b[0;34m)\u001b[0m \u001b[0;32mand\u001b[0m \u001b[0mlen\u001b[0m\u001b[0;34m(\u001b[0m\u001b[0mvalue\u001b[0m\u001b[0;34m)\u001b[0m \u001b[0;34m>\u001b[0m \u001b[0;36m0\u001b[0m\u001b[0;34m:\u001b[0m\u001b[0;34m\u001b[0m\u001b[0;34m\u001b[0m\u001b[0m\n",
      "\u001b[0;32m/anaconda3/lib/python3.7/site-packages/pandas/core/series.py\u001b[0m in \u001b[0;36m_sanitize_index\u001b[0;34m(data, index, copy)\u001b[0m\n\u001b[1;32m   3999\u001b[0m \u001b[0;34m\u001b[0m\u001b[0m\n\u001b[1;32m   4000\u001b[0m     \u001b[0;32mif\u001b[0m \u001b[0mlen\u001b[0m\u001b[0;34m(\u001b[0m\u001b[0mdata\u001b[0m\u001b[0;34m)\u001b[0m \u001b[0;34m!=\u001b[0m \u001b[0mlen\u001b[0m\u001b[0;34m(\u001b[0m\u001b[0mindex\u001b[0m\u001b[0;34m)\u001b[0m\u001b[0;34m:\u001b[0m\u001b[0;34m\u001b[0m\u001b[0;34m\u001b[0m\u001b[0m\n\u001b[0;32m-> 4001\u001b[0;31m         \u001b[0;32mraise\u001b[0m \u001b[0mValueError\u001b[0m\u001b[0;34m(\u001b[0m\u001b[0;34m'Length of values does not match length of '\u001b[0m \u001b[0;34m'index'\u001b[0m\u001b[0;34m)\u001b[0m\u001b[0;34m\u001b[0m\u001b[0;34m\u001b[0m\u001b[0m\n\u001b[0m\u001b[1;32m   4002\u001b[0m \u001b[0;34m\u001b[0m\u001b[0m\n\u001b[1;32m   4003\u001b[0m     \u001b[0;32mif\u001b[0m \u001b[0misinstance\u001b[0m\u001b[0;34m(\u001b[0m\u001b[0mdata\u001b[0m\u001b[0;34m,\u001b[0m \u001b[0mABCIndexClass\u001b[0m\u001b[0;34m)\u001b[0m \u001b[0;32mand\u001b[0m \u001b[0;32mnot\u001b[0m \u001b[0mcopy\u001b[0m\u001b[0;34m:\u001b[0m\u001b[0;34m\u001b[0m\u001b[0;34m\u001b[0m\u001b[0m\n",
      "\u001b[0;31mValueError\u001b[0m: Length of values does not match length of index"
     ]
    }
   ],
   "source": [
    "for row in causalidad.itertuples():\n",
    "    cursor.execute(\"SELECT id_desc_dia_semana FROM descripcion_dia_semana_accidente WHERE desc_dia_semana='\"+(row.Dia_semana)+\"'\")\n",
    "causalidad[\"id_desc_dia_semana\"] = cursor.fetchall()"
   ]
  },
  {
   "cell_type": "code",
   "execution_count": null,
   "metadata": {},
   "outputs": [],
   "source": [
    "for row in causalidad:\n",
    "    cursor.execute(\"INSERT INTO accidente (id_desc_dia_semana) VALUES (%s)\", cursor.execute(\"SELECT id_desc_dia_semana FROM descripcion_dia_semana_accidente WHERE desc_dia_semana=\"+(str(causalidad.Dia_semana))+\";\"))))\n",
    "conn.commit()\n",
    "cur.execute(\"insert into airlines values (6049, 19847, ?, '', '', null, null, null, ?)\", values)"
   ]
  },
  {
   "cell_type": "code",
   "execution_count": null,
   "metadata": {},
   "outputs": [],
   "source": [
    "for row in descripcion_dia_semana:\n",
    "    cursor.execute(\"INSERT INTO accidente (id_desc_dia_semana, id_desc_fecha, hora, latitud, longitud, id_desc_causalidad, id_desc_tipologia) VALUES\n",
    "    ('{vals}');\".format(vals=((SELECT id_desc_dia_semana FROM descripcion_dia_semana_accidente WHERE desc_dia_semana=causalidad.Dia_semana),))"
   ]
  },
  {
   "cell_type": "code",
   "execution_count": 31,
   "metadata": {},
   "outputs": [
    {
     "data": {
      "text/plain": [
       "<bound method NDFrame.head of       Num_expediente  Cod_distrito      Nombre_distrito  Cod_barrio  \\\n",
       "0        2015S005022            10           Sant Martí          64   \n",
       "1        2015S000390            10           Sant Martí          64   \n",
       "2        2015S001866            10           Sant Martí          64   \n",
       "3        2015S004932            10           Sant Martí          64   \n",
       "4        2015S007776            10           Sant Martí          64   \n",
       "5        2015S005088            10           Sant Martí          64   \n",
       "6        2015S007146            10           Sant Martí          64   \n",
       "7        2015S002937            10           Sant Martí          64   \n",
       "8        2015S001952            10           Sant Martí          64   \n",
       "9        2015S004924            10           Sant Martí          64   \n",
       "10       2015S006567            10           Sant Martí          64   \n",
       "11       2015S005987            10           Sant Martí          64   \n",
       "12       2015S005717            10           Sant Martí          64   \n",
       "13       2015S000670            10           Sant Martí          64   \n",
       "14       2015S003464            10           Sant Martí          64   \n",
       "15       2015S008600            10           Sant Martí          64   \n",
       "16       2015S001064            10           Sant Martí          64   \n",
       "17       2015S001514            10           Sant Martí          64   \n",
       "18       2015S006771            10           Sant Martí          64   \n",
       "19       2015S002703            10           Sant Martí          64   \n",
       "20       2015S004293            10           Sant Martí          64   \n",
       "21       2015S004557            10           Sant Martí          65   \n",
       "22       2015S003043            10           Sant Martí          65   \n",
       "23       2015S002514            10           Sant Martí          65   \n",
       "24       2015S001831            10           Sant Martí          65   \n",
       "25       2015S003861            10           Sant Martí          64   \n",
       "26       2015S000381            10           Sant Martí          64   \n",
       "27       2015S009845            10           Sant Martí          64   \n",
       "28       2015S007010            10           Sant Martí          64   \n",
       "29       2015S009968            10           Sant Martí          65   \n",
       "...              ...           ...                  ...         ...   \n",
       "30490    2017S009532             1         Ciutat Vella           1   \n",
       "30491    2017S005753             1         Ciutat Vella           2   \n",
       "30492    2017S007602             7       Horta-Guinardó          35   \n",
       "30493    2017S003772             4            Les Corts          21   \n",
       "30494    2017S007255             3       Sants-Montjuïc          11   \n",
       "30495    2017S007677             8           Nou Barris          48   \n",
       "30496    2017S009782             9          Sant Andreu          59   \n",
       "30497    2017S008100             8           Nou Barris          53   \n",
       "30498    2017S008276             2             Eixample           8   \n",
       "30499    2017S009558             2             Eixample           7   \n",
       "30500    2017S005149             2             Eixample           7   \n",
       "30501    2017S005199             2             Eixample           5   \n",
       "30502    2017S008250             4            Les Corts          20   \n",
       "30503    2017S009402             2             Eixample           8   \n",
       "30504    2017S005236            10           Sant Martí          65   \n",
       "30505    2017S006060             6               Gràcia          28   \n",
       "30506    2017S009990            10           Sant Martí          64   \n",
       "30507    2017S008141             2             Eixample           7   \n",
       "30508    2017S004761             2             Eixample           8   \n",
       "30509    2017S005183             1         Ciutat Vella           4   \n",
       "30510    2017S008336             2             Eixample           9   \n",
       "30511    2017S009048            10           Sant Martí          72   \n",
       "30512    2017S007964             8           Nou Barris          53   \n",
       "30513    2017S008032             8           Nou Barris          53   \n",
       "30514    2017S006761             6               Gràcia          28   \n",
       "30515    2017S004066             3       Sants-Montjuïc          12   \n",
       "30516    2017S009306             7       Horta-Guinardó          33   \n",
       "30517    2017S009755            10           Sant Martí          71   \n",
       "30518    2017S008017             5  Sarrià-Sant Gervasi          26   \n",
       "30519    2017S009181             6               Gràcia          32   \n",
       "\n",
       "                               Nombre_barrio Dia_semana  Hora  \\\n",
       "0                 el Camp de l'Arpa del Clot     martes     0   \n",
       "1                 el Camp de l'Arpa del Clot     sabado     0   \n",
       "2                 el Camp de l'Arpa del Clot  miercoles     8   \n",
       "3                 el Camp de l'Arpa del Clot    viernes    14   \n",
       "4                 el Camp de l'Arpa del Clot    viernes    16   \n",
       "5                 el Camp de l'Arpa del Clot     jueves    14   \n",
       "6                 el Camp de l'Arpa del Clot  miercoles     0   \n",
       "7                 el Camp de l'Arpa del Clot    domingo    22   \n",
       "8                 el Camp de l'Arpa del Clot     sabado    10   \n",
       "9                 el Camp de l'Arpa del Clot    viernes    11   \n",
       "10                el Camp de l'Arpa del Clot     martes     7   \n",
       "11                el Camp de l'Arpa del Clot     martes    15   \n",
       "12                el Camp de l'Arpa del Clot    viernes    17   \n",
       "13                el Camp de l'Arpa del Clot     martes    20   \n",
       "14                el Camp de l'Arpa del Clot     jueves    12   \n",
       "15                el Camp de l'Arpa del Clot     sabado    16   \n",
       "16                el Camp de l'Arpa del Clot  miercoles    13   \n",
       "17                el Camp de l'Arpa del Clot     jueves    21   \n",
       "18                el Camp de l'Arpa del Clot     martes    22   \n",
       "19                el Camp de l'Arpa del Clot     sabado    23   \n",
       "20                el Camp de l'Arpa del Clot     jueves    11   \n",
       "21                                   el Clot    viernes    23   \n",
       "22                                   el Clot  miercoles    18   \n",
       "23                                   el Clot    viernes    21   \n",
       "24                                   el Clot     martes     7   \n",
       "25                el Camp de l'Arpa del Clot     martes    18   \n",
       "26                el Camp de l'Arpa del Clot    viernes    17   \n",
       "27                el Camp de l'Arpa del Clot    viernes    18   \n",
       "28                el Camp de l'Arpa del Clot    viernes     9   \n",
       "29                                   el Clot  miercoles    13   \n",
       "...                                      ...        ...   ...   \n",
       "30490                               el Raval     jueves    20   \n",
       "30491                         el Barri Gòtic      lunes     1   \n",
       "30492                            el Guinardó     jueves    11   \n",
       "30493                              Pedralbes     jueves    23   \n",
       "30494                           el Poble Sec  miercoles    14   \n",
       "30495                           la Guineueta     sabado    20   \n",
       "30496                          el Bon Pastor    viernes    13   \n",
       "30497                       la Trinitat Nova     sabado    21   \n",
       "30498        l'Antiga Esquerra de l'Eixample     sabado     9   \n",
       "30499                 la Dreta de l'Eixample    viernes    14   \n",
       "30500                 la Dreta de l'Eixample      lunes    17   \n",
       "30501                          el Fort Pienc     martes    20   \n",
       "30502             la Maternitat i Sant Ramon    viernes    14   \n",
       "30503        l'Antiga Esquerra de l'Eixample      lunes    11   \n",
       "30504                                el Clot     jueves    10   \n",
       "30505              Vallcarca i els Penitents  miercoles     8   \n",
       "30506             el Camp de l'Arpa del Clot     jueves    13   \n",
       "30507                 la Dreta de l'Eixample     martes     8   \n",
       "30508        l'Antiga Esquerra de l'Eixample     martes    16   \n",
       "30509  Sant Pere, Santa Caterina i la Ribera      lunes    19   \n",
       "30510         la Nova Esquerra de l'Eixample      lunes    20   \n",
       "30511               Sant Martí de Provençals     jueves    12   \n",
       "30512                       la Trinitat Nova     martes    18   \n",
       "30513                       la Trinitat Nova    viernes    10   \n",
       "30514              Vallcarca i els Penitents    viernes    12   \n",
       "30515             la Marina del Prat Vermell      lunes    13   \n",
       "30516                       el Baix Guinardó    viernes    11   \n",
       "30517                Provençals del Poblenou     jueves    19   \n",
       "30518                 Sant Gervasi - Galvany     jueves    20   \n",
       "30519     el Camp d'en Grassot i Gràcia Nova     martes     9   \n",
       "\n",
       "                 Causalidad       Fecha    Latitud  Longitud  \\\n",
       "0      No hay causa mediata  2015-06-30  41.416294  2.184294   \n",
       "1      No hay causa mediata  2015-01-17  41.415053  2.180017   \n",
       "2      No hay causa mediata  2015-03-11  41.417770  2.181927   \n",
       "3      No hay causa mediata  2015-06-26  41.413289  2.180064   \n",
       "4      No hay causa mediata  2015-10-16  41.413716  2.178909   \n",
       "5      No hay causa mediata  2015-07-02  41.415055  2.181596   \n",
       "6      No hay causa mediata  2015-09-23  41.414521  2.179723   \n",
       "7      No hay causa mediata  2015-04-19  41.410652  2.181158   \n",
       "8      No hay causa mediata  2015-03-14  41.410564  2.183681   \n",
       "9      No hay causa mediata  2015-06-26  41.411081  2.184379   \n",
       "10     No hay causa mediata  2015-09-01  41.411434  2.184882   \n",
       "11     No hay causa mediata  2015-08-04  41.409667  2.182514   \n",
       "12     No hay causa mediata  2015-07-24  41.409566  2.184206   \n",
       "13     No hay causa mediata  2015-01-27  41.411178  2.186387   \n",
       "14     No hay causa mediata  2015-05-07  41.411902  2.187347   \n",
       "15     No hay causa mediata  2015-11-14  41.410344  2.187573   \n",
       "16     No hay causa mediata  2015-02-11  41.410344  2.187573   \n",
       "17     No hay causa mediata  2015-02-26  41.414327  2.181994   \n",
       "18     No hay causa mediata  2015-09-08  41.415130  2.182470   \n",
       "19     No hay causa mediata  2015-04-11  41.415130  2.182470   \n",
       "20     No hay causa mediata  2015-06-04  41.415187  2.183002   \n",
       "21     No hay causa mediata  2015-06-12  41.414058  2.191866   \n",
       "22     No hay causa mediata  2015-04-22  41.414058  2.191866   \n",
       "23     No hay causa mediata  2015-04-03  41.413178  2.190536   \n",
       "24     No hay causa mediata  2015-03-10  41.411759  2.195756   \n",
       "25     No hay causa mediata  2015-05-19  41.413468  2.187165   \n",
       "26     No hay causa mediata  2015-01-16  41.413624  2.187372   \n",
       "27     No hay causa mediata  2015-12-25  41.413800  2.187575   \n",
       "28     No hay causa mediata  2015-09-18  41.413800  2.187575   \n",
       "29     No hay causa mediata  2015-12-30  41.414938  2.191117   \n",
       "...                     ...         ...        ...       ...   \n",
       "30490  No hay causa mediata  2017-11-16  41.382073  2.168213   \n",
       "30491  No hay causa mediata  2017-07-03  41.380176  2.177204   \n",
       "30492  No hay causa mediata  2017-09-14  41.425800  2.177855   \n",
       "30493  No hay causa mediata  2017-04-27  41.398256  2.115496   \n",
       "30494  No hay causa mediata  2017-08-30  41.376645  2.163960   \n",
       "30495  No hay causa mediata  2017-09-16  41.439951  2.175257   \n",
       "30496  No hay causa mediata  2017-11-24  41.444799  2.203214   \n",
       "30497  No hay causa mediata  2017-09-30  41.450545  2.189025   \n",
       "30498  No hay causa mediata  2017-10-07  41.388215  2.155820   \n",
       "30499  No hay causa mediata  2017-11-17  41.394422  2.168237   \n",
       "30500  No hay causa mediata  2017-06-12  41.395813  2.164287   \n",
       "30501  No hay causa mediata  2017-06-13  41.397359  2.186797   \n",
       "30502  No hay causa mediata  2017-10-06  41.387196  2.118127   \n",
       "30503  No hay causa mediata  2017-11-13  41.392406  2.145140   \n",
       "30504  No hay causa mediata  2017-06-15  41.412343  2.190077   \n",
       "30505  No hay causa mediata  2017-07-12  41.419330  2.139373   \n",
       "30506  No hay causa mediata  2017-11-30  41.418157  2.186448   \n",
       "30507  No hay causa mediata  2017-10-03  41.397964  2.170963   \n",
       "30508  No hay causa mediata  2017-05-30  41.395052  2.158134   \n",
       "30509  No hay causa mediata  2017-06-12  41.388913  2.193436   \n",
       "30510  No hay causa mediata  2017-10-09  41.383938  2.159181   \n",
       "30511  No hay causa mediata  2017-11-02  41.418336  2.195744   \n",
       "30512  No hay causa mediata  2017-09-26  41.450545  2.189025   \n",
       "30513  No hay causa mediata  2017-09-29  41.453898  2.187442   \n",
       "30514  No hay causa mediata  2017-08-04  41.418418  2.138442   \n",
       "30515  No hay causa mediata  2017-05-08  41.372110  2.175281   \n",
       "30516  No hay causa mediata  2017-11-10  41.415769  2.168453   \n",
       "30517  No hay causa mediata  2017-11-23  41.410320  2.195000   \n",
       "30518  No hay causa mediata  2017-09-28  41.395153  2.146905   \n",
       "30519  No hay causa mediata  2017-11-07  41.406651  2.166765   \n",
       "\n",
       "       id_desc_dia_semana  \n",
       "0                       1  \n",
       "1                       1  \n",
       "2                       1  \n",
       "3                       1  \n",
       "4                       1  \n",
       "5                       1  \n",
       "6                       1  \n",
       "7                       1  \n",
       "8                       1  \n",
       "9                       1  \n",
       "10                      1  \n",
       "11                      1  \n",
       "12                      1  \n",
       "13                      1  \n",
       "14                      1  \n",
       "15                      1  \n",
       "16                      1  \n",
       "17                      1  \n",
       "18                      1  \n",
       "19                      1  \n",
       "20                      1  \n",
       "21                      1  \n",
       "22                      1  \n",
       "23                      1  \n",
       "24                      1  \n",
       "25                      1  \n",
       "26                      1  \n",
       "27                      1  \n",
       "28                      1  \n",
       "29                      1  \n",
       "...                   ...  \n",
       "30490                   1  \n",
       "30491                   1  \n",
       "30492                   1  \n",
       "30493                   1  \n",
       "30494                   1  \n",
       "30495                   1  \n",
       "30496                   1  \n",
       "30497                   1  \n",
       "30498                   1  \n",
       "30499                   1  \n",
       "30500                   1  \n",
       "30501                   1  \n",
       "30502                   1  \n",
       "30503                   1  \n",
       "30504                   1  \n",
       "30505                   1  \n",
       "30506                   1  \n",
       "30507                   1  \n",
       "30508                   1  \n",
       "30509                   1  \n",
       "30510                   1  \n",
       "30511                   1  \n",
       "30512                   1  \n",
       "30513                   1  \n",
       "30514                   1  \n",
       "30515                   1  \n",
       "30516                   1  \n",
       "30517                   1  \n",
       "30518                   1  \n",
       "30519                   1  \n",
       "\n",
       "[30520 rows x 12 columns]>"
      ]
     },
     "execution_count": 31,
     "metadata": {},
     "output_type": "execute_result"
    }
   ],
   "source": [
    "descripcion_dia_semana = cur.execute(\"SELECT * FROM descripcion_dia_semana;\")\n",
    "causalidad[\"id_desc_dia_semana\"] = \n",
    "causalidad.head\n",
    "causalidad[\"id_desc_dia_semana\"] = causalidad.apply(lambda row: descripcion_dia_semana[] ,  axis=1) "
   ]
  },
  {
   "cell_type": "code",
   "execution_count": null,
   "metadata": {},
   "outputs": [],
   "source": [
    "tipo=(fecha)\n",
    "cur = conn.cursor()\n",
    "for tipo in fecha:\n",
    "    sql = \"insert into descripcion_fecha_accidente(desc_fecha) values ('{vals}');\".format(vals=tipo)\n",
    "    cur.execute(sql)\n",
    "conn.commit()"
   ]
  },
  {
   "cell_type": "code",
   "execution_count": 24,
   "metadata": {},
   "outputs": [
    {
     "data": {
      "text/plain": [
       "<bound method NDFrame.head of         Num_expediente         Tipo_vehiculo       Modelo        Marca  \\\n",
       "0          2015S004912               Turismo       ALMERA       NISSAN   \n",
       "1          2015S002169               Turismo        ASTRA         OPEL   \n",
       "2          2015S003045               Turismo         SAXO      CITROEN   \n",
       "3          2015S002476               Turismo         JAZZ        HONDA   \n",
       "4          2015S009751           Motocicleta  AGILITY 125        KYMCO   \n",
       "5          2015S001125               Turismo      COROLLA       TOYOTA   \n",
       "6          2015S001125                  Taxi      OCTAVIA        SKODA   \n",
       "7          2015S007041               Autobús        NL 18          MAN   \n",
       "8          2015S007294           Motocicleta       SH 100        HONDA   \n",
       "9          2015S002616           Motocicleta       SH 150        HONDA   \n",
       "10         2015S009981           Motocicleta      CBR 125        HONDA   \n",
       "11         2015S006832             Furgoneta     BERLINGO      CITROEN   \n",
       "12         2015S003314               Turismo           93         SAAB   \n",
       "13         2015S006533           Motocicleta       SH 300        HONDA   \n",
       "14         2015S008631               Autobús    CITYCLASS      IRISBUS   \n",
       "15         2015S007312               Turismo          206      PEUGEOT   \n",
       "16         2015S002937                  Taxi       TOLEDO         SEAT   \n",
       "17         2015S004660               Turismo        CORSA         OPEL   \n",
       "18         2015S000505               Turismo        IBIZA         SEAT   \n",
       "19         2015S000654             Bicicleta  Desconocido       BICING   \n",
       "20         2015S009330           Motocicleta  Desconocido      BULTACO   \n",
       "21         2015S009038           Motocicleta       SCV100        HONDA   \n",
       "22         2015S002735             Furgoneta         NEMO      CITROEN   \n",
       "23         2015S004581               Turismo        XSARA      CITROEN   \n",
       "24         2015S000395               Turismo        YARIS       TOYOTA   \n",
       "25         2015S008179               Turismo        PUNTO         FIAT   \n",
       "26         2015S002056             Furgoneta        DOBLO         FIAT   \n",
       "27         2015S001788            Ciclomotor        SH 50        HONDA   \n",
       "28         2015S008501               Turismo     CARNIVAL          KIA   \n",
       "29         2015S008501           Motocicleta           ER     KAWASAKI   \n",
       "...                ...                   ...          ...          ...   \n",
       "58412  2017S010769                   Turismo       MEGANE      RENAULT   \n",
       "58413  2017S010770      Otros vehíc. a motor  Desconocido  Desconocido   \n",
       "58414  2017S010771                   Turismo     FORESTER       SUBARU   \n",
       "58415  2017S010771                   Turismo        IBIZA         SEAT   \n",
       "58416  2017S010771                   Turismo         LEON         SEAT   \n",
       "58417  2017S010772               Motocicleta  AGILITY 125        KYMCO   \n",
       "58418  2017S010772                   Turismo           A3         AUDI   \n",
       "58419  2017S010773                 Bicicleta  Desconocido        BTWIN   \n",
       "58420  2017S010773                   Turismo       MEGANE      RENAULT   \n",
       "58421  2017S010774                   Turismo        FOCUS         FORD   \n",
       "58422  2017S010774                   Turismo         GOLF   VOLKSWAGEN   \n",
       "58423  2017S010775               Motocicleta       SH 125        HONDA   \n",
       "58424  2017S010775                   Turismo        AGILA         OPEL   \n",
       "58425  2017S010776                   Turismo         POLO   VOLKSWAGEN   \n",
       "58426  2017S010777                Ciclomotor    LIBERTY S      PIAGGIO   \n",
       "58427  2017S010777                   Turismo           C2      CITROEN   \n",
       "58428  2017S010778                   Turismo        IBIZA         SEAT   \n",
       "58429  2017S010779               Motocicleta       SH 125        HONDA   \n",
       "58430  2017S010779              Todo terreno  Desconocido  Desconocido   \n",
       "58431  2017S010780                      Taxi        PRIUS       TOYOTA   \n",
       "58432  2017S010781               Motocicleta   PEOPLE 125        KYMCO   \n",
       "58433  2017S010781                   Turismo          207      PEUGEOT   \n",
       "58434  2017S010782                      Taxi       ELYSEE      CITROEN   \n",
       "58435  2017S010782                      Taxi        PRIUS       TOYOTA   \n",
       "58436  2017S010782                   Turismo        FOCUS         FORD   \n",
       "58437  2017S010782                   Turismo        IBIZA         SEAT   \n",
       "58438  2017S010783               Motocicleta   SCOOPY 125        HONDA   \n",
       "58439  2017S010783                      Taxi        PRIUS       TOYOTA   \n",
       "58440  2017S010784                      Taxi        CADDY   VOLKSWAGEN   \n",
       "58441  2017S010785                      Taxi      OCTAVIA        SKODA   \n",
       "\n",
       "                Color  Tipo_carnet Antiguedad_carnet  \n",
       "0                Gris            B                36  \n",
       "1                Gris            B                 1  \n",
       "2              Blanco            B                 3  \n",
       "3                Gris            B                 2  \n",
       "4               Negro            B                 4  \n",
       "5                Gris            B                16  \n",
       "6      Negro/Amarillo          BTP                 6  \n",
       "7                Rojo            D                17  \n",
       "8                Azul            A                26  \n",
       "9                Gris           A1                 5  \n",
       "10              Negro            B                19  \n",
       "11        Desconocido            B                16  \n",
       "12              Negro            B                17  \n",
       "13             Blanco            A                 4  \n",
       "14               Rojo            D                24  \n",
       "15               Azul            B                20  \n",
       "16        Desconocido          BTP                 3  \n",
       "17             Blanco            B                15  \n",
       "18               Azul            B                10  \n",
       "19               Rojo  Desconocido       Desconocido  \n",
       "20               Gris            A                28  \n",
       "21              Negro            B                15  \n",
       "22             Blanco            B                 9  \n",
       "23              Verde            B                25  \n",
       "24               Gris            B                 4  \n",
       "25               Rojo            B                 7  \n",
       "26             Blanco            B                10  \n",
       "27               Gris           AM                 8  \n",
       "28               Gris            B                 7  \n",
       "29              Negro           A2                 1  \n",
       "...               ...          ...               ...  \n",
       "58412     Desconocido            B       Desconocido  \n",
       "58413     Desconocido  Desconocido       Desconocido  \n",
       "58414            Gris            B                42  \n",
       "58415            Gris            B                 4  \n",
       "58416          Blanco            B                15  \n",
       "58417     Desconocido            B                 5  \n",
       "58418            Gris  Desconocido       Desconocido  \n",
       "58419            Rojo  Desconocido       Desconocido  \n",
       "58420            Rojo            B                 7  \n",
       "58421            Gris  Desconocido       Desconocido  \n",
       "58422            Gris            B                21  \n",
       "58423           Negro           A1                 6  \n",
       "58424            Gris            B                 3  \n",
       "58425           Negro            B                27  \n",
       "58426           Negro           AM                10  \n",
       "58427            Gris            B                 3  \n",
       "58428            Rojo            B                 3  \n",
       "58429           Negro            B                25  \n",
       "58430           Negro  Desconocido       Desconocido  \n",
       "58431     Desconocido            B                15  \n",
       "58432          Blanco           A1                 2  \n",
       "58433           Negro            B                26  \n",
       "58434  Negro/Amarillo            B                 8  \n",
       "58435  Negro/Amarillo            B                 9  \n",
       "58436            Gris  Desconocido       Desconocido  \n",
       "58437          Blanco  Desconocido       Desconocido  \n",
       "58438           Negro            B                11  \n",
       "58439     Desconocido          BTP                35  \n",
       "58440  Negro/Amarillo            B                 5  \n",
       "58441  Negro/Amarillo  Desconocido       Desconocido  \n",
       "\n",
       "[58442 rows x 7 columns]>"
      ]
     },
     "execution_count": 24,
     "metadata": {},
     "output_type": "execute_result"
    }
   ],
   "source": [
    "vehiculos=pd.read_csv('Vehiculos/vehiculos.csv')\n",
    "vehiculos.head"
   ]
  },
  {
   "cell_type": "code",
   "execution_count": 25,
   "metadata": {},
   "outputs": [
    {
     "data": {
      "text/plain": [
       "array(['NISSAN', 'OPEL', 'CITROEN', 'HONDA', 'KYMCO', 'TOYOTA', 'SKODA',\n",
       "       'MAN', 'SAAB', 'IRISBUS', 'PEUGEOT', 'SEAT', 'BICING', 'BULTACO',\n",
       "       'FIAT', 'KIA', 'KAWASAKI', 'VOLKSWAGEN', 'YAMAHA', 'Desconocido',\n",
       "       'SUZUKI', 'RENAULT', 'APRILIA', 'SYM', 'MERCEDES-BENZ', 'FORD',\n",
       "       'DUCATI', 'IVECO FIAT', 'AUDI', 'DERBI', 'BMW', 'DAELIM',\n",
       "       'PIAGGIO', 'MAZDA', 'ISUZU', 'CHEVROLET', 'HYOSUNG', 'ALFA ROMEO',\n",
       "       'JEEP', 'DAEWOO', 'HARLEY DAVIDSON', 'MICRO-VETT', 'ROVER',\n",
       "       'VESPA', 'GME (General Motors)', 'RIEJU', 'DAF-HERMANNS',\n",
       "       'DECATHLON', 'ORBEA', 'GIANTCO', 'KTM', 'LEXUS', 'MINI', 'SMART',\n",
       "       'HYUNDAI', 'VOLVO', 'DENNIS', 'DACIA', 'MITSUBISHI', 'AIXAM', 'BH',\n",
       "       'MBK', 'SCANIA', 'TRIUMPH', 'JAGUAR', 'YIBEN', 'YIYING', 'GILERA',\n",
       "       'VAN HOOL', 'GENERIC', 'SSANGYONG', 'DODGE', 'BTWIN', 'VDL BOVA',\n",
       "       'LAND ROVER', 'LINDE', 'CPI', 'KEEWAY', 'LINHAI', 'CHRYSLER',\n",
       "       'SUBARU', 'ALSTOM', 'BENELLI', 'PORSCHE', 'AIYUMO', 'LML', 'MONTY',\n",
       "       'TGB', 'MONTESA', 'JONWAY ITALIA', 'AUSA', 'DAHON', 'GUZZI',\n",
       "       'MALAGUTI', 'CSR', 'AYATS', 'ROLLS-ROYCE', 'GOVECS', 'INFINITI',\n",
       "       'MTR', 'CITADIS', 'LANCIA', 'V MOTO', 'HUSQVARNA', 'KSR', 'RAVO',\n",
       "       'MICROCAR', 'CONOR', 'HAMM', 'MG', 'BETA', 'ITALJET', 'SETRA',\n",
       "       'SANYANG', 'BUELL', 'TATA', 'PEGASO', 'IRIZAR', 'HAOTIAN', 'MASH',\n",
       "       'DAIMLER', 'ROYAL ENFIELD', 'BSA', 'LEONART', 'GUOBEN', 'FMC',\n",
       "       'MOTOR HISPANIA', 'XINGYUE', 'IPV', 'QINGQI', 'AUSTIN', 'PGO',\n",
       "       'RIDE', 'SUNSUNDEGUI', 'VECTRIX', 'ZNEN', 'TRUEBA', 'LAMBRETTA',\n",
       "       'ZONGSHEN', 'SUMCO', 'HANWAY', 'BYD', 'BRAMMO', 'TRIGGER',\n",
       "       'MV AUGUSTA', 'CHATENET', 'CADILLAC', 'KENROD', 'CAGIVA',\n",
       "       'ASTON MARTIN', 'CLIPIC', 'Moto GAC', 'STILL', 'ERIDER', 'OSSA',\n",
       "       'SUPER EUROPA', 'MOTORMANIA', 'JINLUN', 'BTM', 'SAMADA',\n",
       "       'MONKEY BIKES', 'KEMMEL', 'MATHIEU-YNO', 'COOLTRA', 'SCOMADI',\n",
       "       'FAIRWAY', 'M.Z.', 'ALEXANDER DENNIS', 'GINYS AMB MOTOR', 'E-TON',\n",
       "       'MASERATI', 'FERRARI', 'GRISLEY', 'MAHINDRA', 'SORIBERICA',\n",
       "       'SANGLAS', 'EMCO', 'SCHMITZ', 'SECMA', 'PIONEER', 'AVIA', 'SCUTUM',\n",
       "       'FAZTEK', 'TECNUVE', 'SOLARIS', 'GOWINN', 'FACTORY BIKE',\n",
       "       'GALLOPER', 'HUMMER', 'BERGADANA', 'BAOTIAN', 'GARELLI',\n",
       "       'MAC CORMICK', 'CATERHAM', 'EVF SPA', 'FYM', 'BELLIER',\n",
       "       'GOING GREEN', 'HM', 'TORROT', 'CARROCERA CASTR', 'MONDIAL',\n",
       "       'DAIHATSU', 'NEOPLAN', 'TALBOT', 'LOHR', 'MAURICIO', 'TISONG',\n",
       "       'Brixton', 'WUYANG', 'JDM', 'ALDY', 'VICTORY MOTOR D'],\n",
       "      dtype=object)"
      ]
     },
     "execution_count": 25,
     "metadata": {},
     "output_type": "execute_result"
    }
   ],
   "source": [
    "color=vehiculos.Marca.unique()\n",
    "color"
   ]
  },
  {
   "cell_type": "code",
   "execution_count": 26,
   "metadata": {},
   "outputs": [],
   "source": [
    "# Get cursor object from the database connection\n",
    "\n",
    "cursor = conn.cursor()\n",
    "\n",
    "name_Table = \"descripcion_marca_vehiculo\"\n",
    "\n",
    "\n",
    " # Create table statement\n",
    "\n",
    "sqlCreateTable = \"CREATE TABLE \"+name_Table+\" (id_desc_marca SERIAL PRIMARY KEY, desc_marca VARCHAR(35));\"\n",
    "\n",
    " \n",
    "\n",
    "# Create a table in PostgreSQL database\n",
    "#cursor.execute(\"DROP TABLE descripcion_tipologia ;\")\n",
    "cursor.execute(sqlCreateTable)\n",
    "conn.commit()"
   ]
  },
  {
   "cell_type": "code",
   "execution_count": 27,
   "metadata": {},
   "outputs": [],
   "source": [
    "tipo = list(color)\n",
    "cur = conn.cursor()\n",
    "for tipo in color:\n",
    "    sql = \"insert into descripcion_marca_vehiculo(desc_marca) values ('{vals}');\".format(vals=str(tipo))\n",
    "    cur.execute(sql)\n",
    "conn.commit()"
   ]
  },
  {
   "cell_type": "code",
   "execution_count": null,
   "metadata": {},
   "outputs": [],
   "source": []
  }
 ],
 "metadata": {
  "kernelspec": {
   "display_name": "Python 3",
   "language": "python",
   "name": "python3"
  },
  "language_info": {
   "codemirror_mode": {
    "name": "ipython",
    "version": 3
   },
   "file_extension": ".py",
   "mimetype": "text/x-python",
   "name": "python",
   "nbconvert_exporter": "python",
   "pygments_lexer": "ipython3",
   "version": "3.7.2"
  }
 },
 "nbformat": 4,
 "nbformat_minor": 2
}
