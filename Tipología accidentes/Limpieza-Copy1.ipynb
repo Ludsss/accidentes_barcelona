{
 "cells": [
  {
   "cell_type": "markdown",
   "metadata": {},
   "source": [
    "## Tipología\n",
    "A continuación se vaa realizar la limpieza de los datos de accidentes gestionados por la Guardia Urbana en la ciudad de Barcelona según tipología obtenidos en la web de Open Data BCN\n",
    "\n"
   ]
  },
  {
   "cell_type": "markdown",
   "metadata": {},
   "source": [
    "Importo la herramienta de pandas que me permite trabajar sobre los datos "
   ]
  },
  {
   "cell_type": "code",
   "execution_count": 2,
   "metadata": {},
   "outputs": [],
   "source": [
    "import pandas as pd"
   ]
  },
  {
   "cell_type": "markdown",
   "metadata": {},
   "source": [
    "Exportamos los csv "
   ]
  },
  {
   "cell_type": "code",
   "execution_count": 42,
   "metadata": {},
   "outputs": [],
   "source": [
    "tipologia15=pd.read_csv('tipologia2015.csv', index_col=False)\n",
    "tipologia16=pd.read_csv('tipologia2016.csv', index_col=False)\n",
    "tipologia17=pd.read_csv('tipologia2017.csv', index_col=False)"
   ]
  },
  {
   "cell_type": "markdown",
   "metadata": {},
   "source": [
    "Inspecciono los tipos de datos de cada tabla y la cantidad de filas y columnas"
   ]
  },
  {
   "cell_type": "code",
   "execution_count": 43,
   "metadata": {},
   "outputs": [
    {
     "data": {
      "text/plain": [
       "Número d expedient            object\n",
       "Codi districte               float64\n",
       "Nom districte                 object\n",
       "Codi barri                   float64\n",
       "Nom barri                     object\n",
       "Codi carrer                  float64\n",
       "Nom carrer                    object\n",
       "Num postal caption            object\n",
       "Descripció dia setmana        object\n",
       "Dia setmana                   object\n",
       "Descripció tipus dia          object\n",
       "NK Any                       float64\n",
       "Mes de any                   float64\n",
       "Nom mes                       object\n",
       "Dia de mes                   float64\n",
       "Hora de dia                  float64\n",
       "Descripció torn               object\n",
       "Descripció tipus accident     object\n",
       "Coordenada UTM (Y)            object\n",
       "Coordenada UTM (X)            object\n",
       "dtype: object"
      ]
     },
     "execution_count": 43,
     "metadata": {},
     "output_type": "execute_result"
    }
   ],
   "source": [
    "tipologia15.dtypes"
   ]
  },
  {
   "cell_type": "code",
   "execution_count": 44,
   "metadata": {},
   "outputs": [
    {
     "data": {
      "text/plain": [
       "(10522, 20)"
      ]
     },
     "execution_count": 44,
     "metadata": {},
     "output_type": "execute_result"
    }
   ],
   "source": [
    "tipologia15.shape"
   ]
  },
  {
   "cell_type": "code",
   "execution_count": 45,
   "metadata": {},
   "outputs": [
    {
     "data": {
      "text/plain": [
       "Número d'expedient            object\n",
       "Codi districte                 int64\n",
       "Nom districte                 object\n",
       "Codi barri                     int64\n",
       "Nom barri                     object\n",
       "Codi carrer                    int64\n",
       "Nom carrer                    object\n",
       "Num postal caption            object\n",
       "Descripció dia setmana        object\n",
       "Dia setmana                   object\n",
       "Descripció tipus dia          object\n",
       "NK Any                         int64\n",
       "Mes de any                     int64\n",
       "Nom mes                       object\n",
       "Dia de mes                     int64\n",
       "Hora de dia                    int64\n",
       "Descripció torn               object\n",
       "Descripció tipus accident     object\n",
       "Coordenada UTM (X)            object\n",
       "Coordenada UTM (Y)            object\n",
       "Long                         float64\n",
       "Lat                          float64\n",
       "dtype: object"
      ]
     },
     "execution_count": 45,
     "metadata": {},
     "output_type": "execute_result"
    }
   ],
   "source": [
    "tipologia16.dtypes"
   ]
  },
  {
   "cell_type": "code",
   "execution_count": 46,
   "metadata": {},
   "outputs": [
    {
     "data": {
      "text/plain": [
       "(10701, 22)"
      ]
     },
     "execution_count": 46,
     "metadata": {},
     "output_type": "execute_result"
    }
   ],
   "source": [
    "tipologia16.shape"
   ]
  },
  {
   "cell_type": "code",
   "execution_count": 10,
   "metadata": {},
   "outputs": [
    {
     "data": {
      "text/plain": [
       "Número d expedient            object\n",
       "Codi districte               float64\n",
       "Nom districte                 object\n",
       "Codi barri                   float64\n",
       "Nom barri                     object\n",
       "Codi carrer                  float64\n",
       "Nom carrer                    object\n",
       "Num postal caption            object\n",
       "Descripció dia setmana        object\n",
       "Dia setmana                   object\n",
       "Descripció tipus dia          object\n",
       "NK Any                       float64\n",
       "Mes de any                   float64\n",
       "Nom mes                       object\n",
       "Dia de mes                   float64\n",
       "Hora de dia                  float64\n",
       "Descripció torn               object\n",
       "Descripció tipus accident     object\n",
       "Coordenada UTM (Y)            object\n",
       "Coordenada UTM (X)            object\n",
       "dtype: object"
      ]
     },
     "execution_count": 10,
     "metadata": {},
     "output_type": "execute_result"
    }
   ],
   "source": [
    "tipologia17.dtypes"
   ]
  },
  {
   "cell_type": "code",
   "execution_count": 48,
   "metadata": {},
   "outputs": [
    {
     "data": {
      "text/plain": [
       "(11009, 22)"
      ]
     },
     "execution_count": 48,
     "metadata": {},
     "output_type": "execute_result"
    }
   ],
   "source": [
    "tipologia17.shape"
   ]
  },
  {
   "cell_type": "markdown",
   "metadata": {},
   "source": [
    "A continuación selecciono las columnas que me interesan de los DataFrames; en el caso de tipología vamos a utilizar el número de expediente y la descripción del tipo de accidente. "
   ]
  },
  {
   "cell_type": "code",
   "execution_count": 14,
   "metadata": {
    "scrolled": false
   },
   "outputs": [
    {
     "data": {
      "text/html": [
       "<div>\n",
       "<style scoped>\n",
       "    .dataframe tbody tr th:only-of-type {\n",
       "        vertical-align: middle;\n",
       "    }\n",
       "\n",
       "    .dataframe tbody tr th {\n",
       "        vertical-align: top;\n",
       "    }\n",
       "\n",
       "    .dataframe thead th {\n",
       "        text-align: right;\n",
       "    }\n",
       "</style>\n",
       "<table border=\"1\" class=\"dataframe\">\n",
       "  <thead>\n",
       "    <tr style=\"text-align: right;\">\n",
       "      <th></th>\n",
       "      <th>Número d expedient</th>\n",
       "      <th>Descripció tipus accident</th>\n",
       "    </tr>\n",
       "  </thead>\n",
       "  <tbody>\n",
       "    <tr>\n",
       "      <th>0</th>\n",
       "      <td>2015S000215</td>\n",
       "      <td>Col.lisió fronto-lateral</td>\n",
       "    </tr>\n",
       "    <tr>\n",
       "      <th>1</th>\n",
       "      <td>2015S000787</td>\n",
       "      <td>Xoc contra element estàtic</td>\n",
       "    </tr>\n",
       "    <tr>\n",
       "      <th>2</th>\n",
       "      <td>2015S000390</td>\n",
       "      <td>Xoc contra element estàtic</td>\n",
       "    </tr>\n",
       "    <tr>\n",
       "      <th>3</th>\n",
       "      <td>2015S007294</td>\n",
       "      <td>Caiguda (dues rodes)</td>\n",
       "    </tr>\n",
       "    <tr>\n",
       "      <th>4</th>\n",
       "      <td>2015S009836</td>\n",
       "      <td>Col.lisió lateral</td>\n",
       "    </tr>\n",
       "  </tbody>\n",
       "</table>\n",
       "</div>"
      ],
      "text/plain": [
       "  Número d expedient   Descripció tipus accident\n",
       "0        2015S000215    Col.lisió fronto-lateral\n",
       "1        2015S000787  Xoc contra element estàtic\n",
       "2        2015S000390  Xoc contra element estàtic\n",
       "3        2015S007294        Caiguda (dues rodes)\n",
       "4        2015S009836           Col.lisió lateral"
      ]
     },
     "execution_count": 14,
     "metadata": {},
     "output_type": "execute_result"
    }
   ],
   "source": [
    "tipo15 = tipologia15.iloc[:,[0,17]]\n",
    "tipo15.head()"
   ]
  },
  {
   "cell_type": "code",
   "execution_count": 15,
   "metadata": {},
   "outputs": [
    {
     "data": {
      "text/html": [
       "<div>\n",
       "<style scoped>\n",
       "    .dataframe tbody tr th:only-of-type {\n",
       "        vertical-align: middle;\n",
       "    }\n",
       "\n",
       "    .dataframe tbody tr th {\n",
       "        vertical-align: top;\n",
       "    }\n",
       "\n",
       "    .dataframe thead th {\n",
       "        text-align: right;\n",
       "    }\n",
       "</style>\n",
       "<table border=\"1\" class=\"dataframe\">\n",
       "  <thead>\n",
       "    <tr style=\"text-align: right;\">\n",
       "      <th></th>\n",
       "      <th>Número d'expedient</th>\n",
       "      <th>Descripció tipus accident</th>\n",
       "    </tr>\n",
       "  </thead>\n",
       "  <tbody>\n",
       "    <tr>\n",
       "      <th>0</th>\n",
       "      <td>2016S002575</td>\n",
       "      <td>Abast</td>\n",
       "    </tr>\n",
       "    <tr>\n",
       "      <th>1</th>\n",
       "      <td>2016S001146</td>\n",
       "      <td>Col.lisió lateral</td>\n",
       "    </tr>\n",
       "    <tr>\n",
       "      <th>2</th>\n",
       "      <td>2016S009619</td>\n",
       "      <td>Atropellament</td>\n",
       "    </tr>\n",
       "    <tr>\n",
       "      <th>3</th>\n",
       "      <td>2016S003881</td>\n",
       "      <td>Xoc contra element estàtic</td>\n",
       "    </tr>\n",
       "    <tr>\n",
       "      <th>4</th>\n",
       "      <td>2016S004162</td>\n",
       "      <td>Xoc contra element estàtic</td>\n",
       "    </tr>\n",
       "  </tbody>\n",
       "</table>\n",
       "</div>"
      ],
      "text/plain": [
       "  Número d'expedient   Descripció tipus accident\n",
       "0    2016S002575                           Abast\n",
       "1    2016S001146               Col.lisió lateral\n",
       "2    2016S009619                   Atropellament\n",
       "3    2016S003881      Xoc contra element estàtic\n",
       "4    2016S004162      Xoc contra element estàtic"
      ]
     },
     "execution_count": 15,
     "metadata": {},
     "output_type": "execute_result"
    }
   ],
   "source": [
    "tipo16 = tipologia16.iloc[:,[0,17]]\n",
    "tipo16.head()"
   ]
  },
  {
   "cell_type": "code",
   "execution_count": 16,
   "metadata": {},
   "outputs": [
    {
     "data": {
      "text/html": [
       "<div>\n",
       "<style scoped>\n",
       "    .dataframe tbody tr th:only-of-type {\n",
       "        vertical-align: middle;\n",
       "    }\n",
       "\n",
       "    .dataframe tbody tr th {\n",
       "        vertical-align: top;\n",
       "    }\n",
       "\n",
       "    .dataframe thead th {\n",
       "        text-align: right;\n",
       "    }\n",
       "</style>\n",
       "<table border=\"1\" class=\"dataframe\">\n",
       "  <thead>\n",
       "    <tr style=\"text-align: right;\">\n",
       "      <th></th>\n",
       "      <th>Número d'expedient</th>\n",
       "      <th>Descripció tipus accident</th>\n",
       "    </tr>\n",
       "  </thead>\n",
       "  <tbody>\n",
       "    <tr>\n",
       "      <th>0</th>\n",
       "      <td>2017S009418</td>\n",
       "      <td>Abast</td>\n",
       "    </tr>\n",
       "    <tr>\n",
       "      <th>1</th>\n",
       "      <td>2017S008852</td>\n",
       "      <td>Col.lisió fronto-lateral</td>\n",
       "    </tr>\n",
       "    <tr>\n",
       "      <th>2</th>\n",
       "      <td>2017S001023</td>\n",
       "      <td>Col.lisió lateral</td>\n",
       "    </tr>\n",
       "    <tr>\n",
       "      <th>3</th>\n",
       "      <td>2017S009198</td>\n",
       "      <td>Col.lisió fronto-lateral</td>\n",
       "    </tr>\n",
       "    <tr>\n",
       "      <th>4</th>\n",
       "      <td>2017S006546</td>\n",
       "      <td>Abast</td>\n",
       "    </tr>\n",
       "  </tbody>\n",
       "</table>\n",
       "</div>"
      ],
      "text/plain": [
       "  Número d'expedient Descripció tipus accident\n",
       "0    2017S009418                         Abast\n",
       "1    2017S008852      Col.lisió fronto-lateral\n",
       "2    2017S001023             Col.lisió lateral\n",
       "3    2017S009198      Col.lisió fronto-lateral\n",
       "4    2017S006546                         Abast"
      ]
     },
     "execution_count": 16,
     "metadata": {},
     "output_type": "execute_result"
    }
   ],
   "source": [
    "tipo17 = tipologia17.iloc[:,[0,17]]\n",
    "tipo17.head()"
   ]
  },
  {
   "cell_type": "markdown",
   "metadata": {},
   "source": [
    "En este caso, los nombres de las columnas no son iguales por lo que se deben renombrar antes de poder juntar. Además se traducen los nombres al castellano. "
   ]
  },
  {
   "cell_type": "code",
   "execution_count": 31,
   "metadata": {},
   "outputs": [
    {
     "data": {
      "text/html": [
       "<div>\n",
       "<style scoped>\n",
       "    .dataframe tbody tr th:only-of-type {\n",
       "        vertical-align: middle;\n",
       "    }\n",
       "\n",
       "    .dataframe tbody tr th {\n",
       "        vertical-align: top;\n",
       "    }\n",
       "\n",
       "    .dataframe thead th {\n",
       "        text-align: right;\n",
       "    }\n",
       "</style>\n",
       "<table border=\"1\" class=\"dataframe\">\n",
       "  <thead>\n",
       "    <tr style=\"text-align: right;\">\n",
       "      <th></th>\n",
       "      <th>Num_expediente</th>\n",
       "      <th>Tipo_accidente</th>\n",
       "    </tr>\n",
       "  </thead>\n",
       "  <tbody>\n",
       "    <tr>\n",
       "      <th>0</th>\n",
       "      <td>2015S000215</td>\n",
       "      <td>Col.lisió fronto-lateral</td>\n",
       "    </tr>\n",
       "    <tr>\n",
       "      <th>1</th>\n",
       "      <td>2015S000787</td>\n",
       "      <td>Xoc contra element estàtic</td>\n",
       "    </tr>\n",
       "    <tr>\n",
       "      <th>2</th>\n",
       "      <td>2015S000390</td>\n",
       "      <td>Xoc contra element estàtic</td>\n",
       "    </tr>\n",
       "    <tr>\n",
       "      <th>3</th>\n",
       "      <td>2015S007294</td>\n",
       "      <td>Caiguda (dues rodes)</td>\n",
       "    </tr>\n",
       "    <tr>\n",
       "      <th>4</th>\n",
       "      <td>2015S009836</td>\n",
       "      <td>Col.lisió lateral</td>\n",
       "    </tr>\n",
       "  </tbody>\n",
       "</table>\n",
       "</div>"
      ],
      "text/plain": [
       "  Num_expediente              Tipo_accidente\n",
       "0    2015S000215    Col.lisió fronto-lateral\n",
       "1    2015S000787  Xoc contra element estàtic\n",
       "2    2015S000390  Xoc contra element estàtic\n",
       "3    2015S007294        Caiguda (dues rodes)\n",
       "4    2015S009836           Col.lisió lateral"
      ]
     },
     "execution_count": 31,
     "metadata": {},
     "output_type": "execute_result"
    }
   ],
   "source": [
    "tipo15.rename(columns={\"Número d expedient\":'Num_expediente',\"Descripció tipus accident\":\"Tipo_accidente\"},\n",
    "                      inplace=True)\n",
    "tipo15.head()"
   ]
  },
  {
   "cell_type": "code",
   "execution_count": 32,
   "metadata": {},
   "outputs": [
    {
     "data": {
      "text/html": [
       "<div>\n",
       "<style scoped>\n",
       "    .dataframe tbody tr th:only-of-type {\n",
       "        vertical-align: middle;\n",
       "    }\n",
       "\n",
       "    .dataframe tbody tr th {\n",
       "        vertical-align: top;\n",
       "    }\n",
       "\n",
       "    .dataframe thead th {\n",
       "        text-align: right;\n",
       "    }\n",
       "</style>\n",
       "<table border=\"1\" class=\"dataframe\">\n",
       "  <thead>\n",
       "    <tr style=\"text-align: right;\">\n",
       "      <th></th>\n",
       "      <th>Num_expediente</th>\n",
       "      <th>Tipo_accidente</th>\n",
       "    </tr>\n",
       "  </thead>\n",
       "  <tbody>\n",
       "    <tr>\n",
       "      <th>0</th>\n",
       "      <td>2016S002575</td>\n",
       "      <td>Abast</td>\n",
       "    </tr>\n",
       "    <tr>\n",
       "      <th>1</th>\n",
       "      <td>2016S001146</td>\n",
       "      <td>Col.lisió lateral</td>\n",
       "    </tr>\n",
       "    <tr>\n",
       "      <th>2</th>\n",
       "      <td>2016S009619</td>\n",
       "      <td>Atropellament</td>\n",
       "    </tr>\n",
       "    <tr>\n",
       "      <th>3</th>\n",
       "      <td>2016S003881</td>\n",
       "      <td>Xoc contra element estàtic</td>\n",
       "    </tr>\n",
       "    <tr>\n",
       "      <th>4</th>\n",
       "      <td>2016S004162</td>\n",
       "      <td>Xoc contra element estàtic</td>\n",
       "    </tr>\n",
       "  </tbody>\n",
       "</table>\n",
       "</div>"
      ],
      "text/plain": [
       "    Num_expediente              Tipo_accidente\n",
       "0  2016S002575                           Abast\n",
       "1  2016S001146               Col.lisió lateral\n",
       "2  2016S009619                   Atropellament\n",
       "3  2016S003881      Xoc contra element estàtic\n",
       "4  2016S004162      Xoc contra element estàtic"
      ]
     },
     "execution_count": 32,
     "metadata": {},
     "output_type": "execute_result"
    }
   ],
   "source": [
    "tipo16.rename(columns={\"Número d'expedient\":'Num_expediente',\"Descripció tipus accident\":\"Tipo_accidente\"},\n",
    "                      inplace=True)\n",
    "tipo16.head()"
   ]
  },
  {
   "cell_type": "code",
   "execution_count": 33,
   "metadata": {},
   "outputs": [
    {
     "data": {
      "text/html": [
       "<div>\n",
       "<style scoped>\n",
       "    .dataframe tbody tr th:only-of-type {\n",
       "        vertical-align: middle;\n",
       "    }\n",
       "\n",
       "    .dataframe tbody tr th {\n",
       "        vertical-align: top;\n",
       "    }\n",
       "\n",
       "    .dataframe thead th {\n",
       "        text-align: right;\n",
       "    }\n",
       "</style>\n",
       "<table border=\"1\" class=\"dataframe\">\n",
       "  <thead>\n",
       "    <tr style=\"text-align: right;\">\n",
       "      <th></th>\n",
       "      <th>Num_expediente</th>\n",
       "      <th>Tipo_accidente</th>\n",
       "    </tr>\n",
       "  </thead>\n",
       "  <tbody>\n",
       "    <tr>\n",
       "      <th>0</th>\n",
       "      <td>2017S009418</td>\n",
       "      <td>Abast</td>\n",
       "    </tr>\n",
       "    <tr>\n",
       "      <th>1</th>\n",
       "      <td>2017S008852</td>\n",
       "      <td>Col.lisió fronto-lateral</td>\n",
       "    </tr>\n",
       "    <tr>\n",
       "      <th>2</th>\n",
       "      <td>2017S001023</td>\n",
       "      <td>Col.lisió lateral</td>\n",
       "    </tr>\n",
       "    <tr>\n",
       "      <th>3</th>\n",
       "      <td>2017S009198</td>\n",
       "      <td>Col.lisió fronto-lateral</td>\n",
       "    </tr>\n",
       "    <tr>\n",
       "      <th>4</th>\n",
       "      <td>2017S006546</td>\n",
       "      <td>Abast</td>\n",
       "    </tr>\n",
       "  </tbody>\n",
       "</table>\n",
       "</div>"
      ],
      "text/plain": [
       "    Num_expediente            Tipo_accidente\n",
       "0  2017S009418                         Abast\n",
       "1  2017S008852      Col.lisió fronto-lateral\n",
       "2  2017S001023             Col.lisió lateral\n",
       "3  2017S009198      Col.lisió fronto-lateral\n",
       "4  2017S006546                         Abast"
      ]
     },
     "execution_count": 33,
     "metadata": {},
     "output_type": "execute_result"
    }
   ],
   "source": [
    "tipo17.rename(columns={\"Número d'expedient\":'Num_expediente',\"Descripció tipus accident\":\"Tipo_accidente\"},\n",
    "                      inplace=True)\n",
    "tipo17.head()"
   ]
  },
  {
   "cell_type": "markdown",
   "metadata": {},
   "source": [
    "Ahora se juntan en una sola tabla "
   ]
  },
  {
   "cell_type": "code",
   "execution_count": 36,
   "metadata": {},
   "outputs": [
    {
     "data": {
      "text/html": [
       "<div>\n",
       "<style scoped>\n",
       "    .dataframe tbody tr th:only-of-type {\n",
       "        vertical-align: middle;\n",
       "    }\n",
       "\n",
       "    .dataframe tbody tr th {\n",
       "        vertical-align: top;\n",
       "    }\n",
       "\n",
       "    .dataframe thead th {\n",
       "        text-align: right;\n",
       "    }\n",
       "</style>\n",
       "<table border=\"1\" class=\"dataframe\">\n",
       "  <thead>\n",
       "    <tr style=\"text-align: right;\">\n",
       "      <th></th>\n",
       "      <th>Num_expediente</th>\n",
       "      <th>Tipo_accidente</th>\n",
       "    </tr>\n",
       "  </thead>\n",
       "  <tbody>\n",
       "    <tr>\n",
       "      <th>0</th>\n",
       "      <td>2015S000215</td>\n",
       "      <td>Col.lisió fronto-lateral</td>\n",
       "    </tr>\n",
       "    <tr>\n",
       "      <th>1</th>\n",
       "      <td>2015S000787</td>\n",
       "      <td>Xoc contra element estàtic</td>\n",
       "    </tr>\n",
       "    <tr>\n",
       "      <th>2</th>\n",
       "      <td>2015S000390</td>\n",
       "      <td>Xoc contra element estàtic</td>\n",
       "    </tr>\n",
       "    <tr>\n",
       "      <th>3</th>\n",
       "      <td>2015S007294</td>\n",
       "      <td>Caiguda (dues rodes)</td>\n",
       "    </tr>\n",
       "    <tr>\n",
       "      <th>4</th>\n",
       "      <td>2015S009836</td>\n",
       "      <td>Col.lisió lateral</td>\n",
       "    </tr>\n",
       "  </tbody>\n",
       "</table>\n",
       "</div>"
      ],
      "text/plain": [
       "  Num_expediente              Tipo_accidente\n",
       "0    2015S000215    Col.lisió fronto-lateral\n",
       "1    2015S000787  Xoc contra element estàtic\n",
       "2    2015S000390  Xoc contra element estàtic\n",
       "3    2015S007294        Caiguda (dues rodes)\n",
       "4    2015S009836           Col.lisió lateral"
      ]
     },
     "execution_count": 36,
     "metadata": {},
     "output_type": "execute_result"
    }
   ],
   "source": [
    "tipo = tipo15.append(tipo16)\n",
    "tipo.head()"
   ]
  },
  {
   "cell_type": "code",
   "execution_count": 40,
   "metadata": {},
   "outputs": [
    {
     "data": {
      "text/html": [
       "<div>\n",
       "<style scoped>\n",
       "    .dataframe tbody tr th:only-of-type {\n",
       "        vertical-align: middle;\n",
       "    }\n",
       "\n",
       "    .dataframe tbody tr th {\n",
       "        vertical-align: top;\n",
       "    }\n",
       "\n",
       "    .dataframe thead th {\n",
       "        text-align: right;\n",
       "    }\n",
       "</style>\n",
       "<table border=\"1\" class=\"dataframe\">\n",
       "  <thead>\n",
       "    <tr style=\"text-align: right;\">\n",
       "      <th></th>\n",
       "      <th>Num_expediente</th>\n",
       "      <th>Tipo_accidente</th>\n",
       "    </tr>\n",
       "  </thead>\n",
       "  <tbody>\n",
       "    <tr>\n",
       "      <th>0</th>\n",
       "      <td>2015S000215</td>\n",
       "      <td>Col.lisió fronto-lateral</td>\n",
       "    </tr>\n",
       "    <tr>\n",
       "      <th>1</th>\n",
       "      <td>2015S000787</td>\n",
       "      <td>Xoc contra element estàtic</td>\n",
       "    </tr>\n",
       "    <tr>\n",
       "      <th>2</th>\n",
       "      <td>2015S000390</td>\n",
       "      <td>Xoc contra element estàtic</td>\n",
       "    </tr>\n",
       "    <tr>\n",
       "      <th>3</th>\n",
       "      <td>2015S007294</td>\n",
       "      <td>Caiguda (dues rodes)</td>\n",
       "    </tr>\n",
       "    <tr>\n",
       "      <th>4</th>\n",
       "      <td>2015S009836</td>\n",
       "      <td>Col.lisió lateral</td>\n",
       "    </tr>\n",
       "  </tbody>\n",
       "</table>\n",
       "</div>"
      ],
      "text/plain": [
       "  Num_expediente              Tipo_accidente\n",
       "0    2015S000215    Col.lisió fronto-lateral\n",
       "1    2015S000787  Xoc contra element estàtic\n",
       "2    2015S000390  Xoc contra element estàtic\n",
       "3    2015S007294        Caiguda (dues rodes)\n",
       "4    2015S009836           Col.lisió lateral"
      ]
     },
     "execution_count": 40,
     "metadata": {},
     "output_type": "execute_result"
    }
   ],
   "source": [
    "tipologia = tipo.append(tipo17)\n",
    "tipologia.head()"
   ]
  },
  {
   "cell_type": "code",
   "execution_count": 41,
   "metadata": {},
   "outputs": [
    {
     "data": {
      "text/html": [
       "<div>\n",
       "<style scoped>\n",
       "    .dataframe tbody tr th:only-of-type {\n",
       "        vertical-align: middle;\n",
       "    }\n",
       "\n",
       "    .dataframe tbody tr th {\n",
       "        vertical-align: top;\n",
       "    }\n",
       "\n",
       "    .dataframe thead th {\n",
       "        text-align: right;\n",
       "    }\n",
       "</style>\n",
       "<table border=\"1\" class=\"dataframe\">\n",
       "  <thead>\n",
       "    <tr style=\"text-align: right;\">\n",
       "      <th></th>\n",
       "      <th>Num_expediente</th>\n",
       "      <th>Tipo_accidente</th>\n",
       "    </tr>\n",
       "  </thead>\n",
       "  <tbody>\n",
       "    <tr>\n",
       "      <th>11004</th>\n",
       "      <td>2017S003667</td>\n",
       "      <td>Col.lisió lateral</td>\n",
       "    </tr>\n",
       "    <tr>\n",
       "      <th>11005</th>\n",
       "      <td>2017S002192</td>\n",
       "      <td>Col.lisió fronto-lateral</td>\n",
       "    </tr>\n",
       "    <tr>\n",
       "      <th>11006</th>\n",
       "      <td>2017S001766</td>\n",
       "      <td>Caiguda (dues rodes)</td>\n",
       "    </tr>\n",
       "    <tr>\n",
       "      <th>11007</th>\n",
       "      <td>2017S009106</td>\n",
       "      <td>Atropellament</td>\n",
       "    </tr>\n",
       "    <tr>\n",
       "      <th>11008</th>\n",
       "      <td>2017S006503</td>\n",
       "      <td>Col.lisió fronto-lateral</td>\n",
       "    </tr>\n",
       "  </tbody>\n",
       "</table>\n",
       "</div>"
      ],
      "text/plain": [
       "        Num_expediente            Tipo_accidente\n",
       "11004  2017S003667             Col.lisió lateral\n",
       "11005  2017S002192      Col.lisió fronto-lateral\n",
       "11006  2017S001766          Caiguda (dues rodes)\n",
       "11007  2017S009106                 Atropellament\n",
       "11008  2017S006503      Col.lisió fronto-lateral"
      ]
     },
     "execution_count": 41,
     "metadata": {},
     "output_type": "execute_result"
    }
   ],
   "source": [
    "tipologia.tail()"
   ]
  },
  {
   "cell_type": "markdown",
   "metadata": {},
   "source": [
    "Ahora se procede con la limpieza del tipo de accidente: \n"
   ]
  },
  {
   "cell_type": "markdown",
   "metadata": {},
   "source": [
    "Primero se verifica los tipos de accidentes, para comprobar que no haya ninguno que sea igual pero que este escrito de manera distinta. "
   ]
  },
  {
   "cell_type": "code",
   "execution_count": 51,
   "metadata": {},
   "outputs": [
    {
     "data": {
      "text/plain": [
       "array(['Col.lisió fronto-lateral', 'Xoc contra element estàtic',\n",
       "       'Caiguda (dues rodes)', 'Col.lisió lateral', 'Atropellament',\n",
       "       'Abast', 'Abast multiple', 'Caiguda interior vehicle',\n",
       "       'Col.lisió frontal', 'Altres', 'Bolcada (més de dues rodes)', nan,\n",
       "       'Desconegut', 'Sortida de via amb xoc o col.lisió', 'Encalç',\n",
       "       'Sortida de via amb bolcada', 'Xoc amb animal a la calçada',\n",
       "       'Resta sortides de via'], dtype=object)"
      ]
     },
     "execution_count": 51,
     "metadata": {},
     "output_type": "execute_result"
    }
   ],
   "source": [
    "tipologia.Tipo_accidente.unique()"
   ]
  },
  {
   "cell_type": "code",
   "execution_count": null,
   "metadata": {},
   "outputs": [],
   "source": []
  }
 ],
 "metadata": {
  "kernelspec": {
   "display_name": "Python 3",
   "language": "python",
   "name": "python3"
  },
  "language_info": {
   "codemirror_mode": {
    "name": "ipython",
    "version": 3
   },
   "file_extension": ".py",
   "mimetype": "text/x-python",
   "name": "python",
   "nbconvert_exporter": "python",
   "pygments_lexer": "ipython3",
   "version": "3.7.1"
  }
 },
 "nbformat": 4,
 "nbformat_minor": 2
}
