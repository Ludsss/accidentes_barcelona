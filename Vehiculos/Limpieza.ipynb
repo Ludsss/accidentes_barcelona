{
 "cells": [
  {
   "cell_type": "markdown",
   "metadata": {},
   "source": [
    "# Vehículos\n",
    "\n",
    "A continuación se va a realizar la limpieza de los datos de accidentes gestionados por la Guardia Urbana en la ciudad de Barcelona según el tipo de vehículo obtenidos en la web de Open Data BCN"
   ]
  },
  {
   "cell_type": "markdown",
   "metadata": {},
   "source": [
    "Importo librería Pandas que permite trabajar sobre los datos"
   ]
  },
  {
   "cell_type": "code",
   "execution_count": 1,
   "metadata": {},
   "outputs": [],
   "source": [
    "import pandas as pd"
   ]
  },
  {
   "cell_type": "markdown",
   "metadata": {},
   "source": [
    "Importamos los csv"
   ]
  },
  {
   "cell_type": "code",
   "execution_count": 2,
   "metadata": {},
   "outputs": [],
   "source": [
    "vehiculo15=pd.read_csv('vehiculos15.csv', index_col=False)\n",
    "vehiculo16=pd.read_csv('vehiculos16.csv', index_col=False)\n",
    "vehiculo17=pd.read_csv('vehiculos17.csv', index_col=False)"
   ]
  },
  {
   "cell_type": "markdown",
   "metadata": {},
   "source": [
    "Inspección de los tipos de datos de cada tabla y la cantidad de filas y columnas"
   ]
  },
  {
   "cell_type": "code",
   "execution_count": 3,
   "metadata": {},
   "outputs": [
    {
     "data": {
      "text/plain": [
       "Codi d expedient               object\n",
       "Codi districte                  int64\n",
       "Nom districte                  object\n",
       "Codi barri                      int64\n",
       "Nom barri                      object\n",
       "Codi carrer                     int64\n",
       "Nom carrer                     object\n",
       "Num postal caption             object\n",
       "Descripció dia setmana         object\n",
       "Dia setmana                    object\n",
       "Descripció tipus dia           object\n",
       "NK Any                          int64\n",
       "Mes de any                      int64\n",
       "Nom mes                        object\n",
       "Dia de mes                      int64\n",
       "Hora de dia                     int64\n",
       "Descripció causa vianant       object\n",
       "Descripció tipus de vehicle    object\n",
       "Descripció model               object\n",
       "Descripció marca               object\n",
       "Descripció color               object\n",
       "Descripció carnet              object\n",
       "Antiguitat carnet              object\n",
       "Coordenada UTM (Y)             object\n",
       "Coordenada UTM (X)             object\n",
       "dtype: object"
      ]
     },
     "execution_count": 3,
     "metadata": {},
     "output_type": "execute_result"
    }
   ],
   "source": [
    "vehiculo15.dtypes"
   ]
  },
  {
   "cell_type": "code",
   "execution_count": 4,
   "metadata": {},
   "outputs": [
    {
     "data": {
      "text/plain": [
       "(19237, 25)"
      ]
     },
     "execution_count": 4,
     "metadata": {},
     "output_type": "execute_result"
    }
   ],
   "source": [
    "vehiculo15.shape"
   ]
  },
  {
   "cell_type": "code",
   "execution_count": 5,
   "metadata": {},
   "outputs": [
    {
     "data": {
      "text/plain": [
       "Codi d'expedient                object\n",
       "Codi districte                   int64\n",
       "Nom districte                   object\n",
       "Codi barri                       int64\n",
       "Nom barri                       object\n",
       "Codi carrer                      int64\n",
       "Nom carrer                      object\n",
       "Num postal caption              object\n",
       "Descripció dia setmana          object\n",
       "Dia setmana                     object\n",
       "Descripció tipus dia            object\n",
       "NK Any                           int64\n",
       "Mes de any                       int64\n",
       "Nom mes                         object\n",
       "Dia de mes                       int64\n",
       "Hora de dia                      int64\n",
       "Descripció causa vianant        object\n",
       "Descripció tipus de vehicle     object\n",
       "Descripció model                object\n",
       "Descripció marca                object\n",
       "Descripció color                object\n",
       "Descripció carnet               object\n",
       "Antiguitat carnet               object\n",
       "Coordenada UTM (X)              object\n",
       "Coordenada UTM (Y)              object\n",
       "Unnamed: 25                    float64\n",
       "Unnamed: 26                    float64\n",
       "dtype: object"
      ]
     },
     "execution_count": 5,
     "metadata": {},
     "output_type": "execute_result"
    }
   ],
   "source": [
    "vehiculo16.dtypes"
   ]
  },
  {
   "cell_type": "code",
   "execution_count": 6,
   "metadata": {},
   "outputs": [
    {
     "data": {
      "text/plain": [
       "(19410, 27)"
      ]
     },
     "execution_count": 6,
     "metadata": {},
     "output_type": "execute_result"
    }
   ],
   "source": [
    "vehiculo16.shape"
   ]
  },
  {
   "cell_type": "code",
   "execution_count": 7,
   "metadata": {},
   "outputs": [
    {
     "data": {
      "text/plain": [
       "Codi d'expedient               object\n",
       "Codi districte                  int64\n",
       "Nom districte                  object\n",
       "Codi barri                      int64\n",
       "Nom barri                      object\n",
       "Codi carrer                     int64\n",
       "Nom carrer                     object\n",
       "Num postal caption             object\n",
       "Descripció dia setmana         object\n",
       "Dia setmana                    object\n",
       "Descripció tipus dia           object\n",
       "NK Any                          int64\n",
       "Mes de any                      int64\n",
       "Nom mes                        object\n",
       "Dia de mes                      int64\n",
       "Hora de dia                     int64\n",
       "Descripció causa vianant       object\n",
       "Descripció tipus de vehicle    object\n",
       "Descripció model               object\n",
       "Descripció marca               object\n",
       "Descripció color               object\n",
       "Descripció carnet              object\n",
       "Antiguitat carnet              object\n",
       "Coordenada UTM (X)             object\n",
       "Coordenada UTM (Y)             object\n",
       "Longitud                       object\n",
       "Latitud                        object\n",
       "dtype: object"
      ]
     },
     "execution_count": 7,
     "metadata": {},
     "output_type": "execute_result"
    }
   ],
   "source": [
    "vehiculo17.dtypes"
   ]
  },
  {
   "cell_type": "code",
   "execution_count": 8,
   "metadata": {},
   "outputs": [
    {
     "data": {
      "text/plain": [
       "(19795, 27)"
      ]
     },
     "execution_count": 8,
     "metadata": {},
     "output_type": "execute_result"
    }
   ],
   "source": [
    "vehiculo17.shape"
   ]
  },
  {
   "cell_type": "markdown",
   "metadata": {},
   "source": [
    "Seleccionar columnas que interesan de los DataFrames; para los vehículos se utilizará el número de expediente, descripcipción causa peatón, descripción tipo de vehículo, descripción modelo, descripción marca, descripción color, descripción carnet y antiguedad carnet"
   ]
  },
  {
   "cell_type": "code",
   "execution_count": 9,
   "metadata": {},
   "outputs": [
    {
     "data": {
      "text/html": [
       "<div>\n",
       "<style scoped>\n",
       "    .dataframe tbody tr th:only-of-type {\n",
       "        vertical-align: middle;\n",
       "    }\n",
       "\n",
       "    .dataframe tbody tr th {\n",
       "        vertical-align: top;\n",
       "    }\n",
       "\n",
       "    .dataframe thead th {\n",
       "        text-align: right;\n",
       "    }\n",
       "</style>\n",
       "<table border=\"1\" class=\"dataframe\">\n",
       "  <thead>\n",
       "    <tr style=\"text-align: right;\">\n",
       "      <th></th>\n",
       "      <th>Codi d expedient</th>\n",
       "      <th>Descripció tipus de vehicle</th>\n",
       "      <th>Descripció model</th>\n",
       "      <th>Descripció marca</th>\n",
       "      <th>Descripció color</th>\n",
       "      <th>Descripció carnet</th>\n",
       "      <th>Antiguitat carnet</th>\n",
       "    </tr>\n",
       "  </thead>\n",
       "  <tbody>\n",
       "    <tr>\n",
       "      <th>0</th>\n",
       "      <td>2015S004912</td>\n",
       "      <td>Turismo</td>\n",
       "      <td>ALMERA</td>\n",
       "      <td>NISSAN</td>\n",
       "      <td>Gris</td>\n",
       "      <td>B</td>\n",
       "      <td>36</td>\n",
       "    </tr>\n",
       "    <tr>\n",
       "      <th>1</th>\n",
       "      <td>2015S002169</td>\n",
       "      <td>Turismo</td>\n",
       "      <td>ASTRA</td>\n",
       "      <td>OPEL</td>\n",
       "      <td>Gris</td>\n",
       "      <td>B</td>\n",
       "      <td>1</td>\n",
       "    </tr>\n",
       "    <tr>\n",
       "      <th>2</th>\n",
       "      <td>2015S003045</td>\n",
       "      <td>Turismo</td>\n",
       "      <td>SAXO</td>\n",
       "      <td>CITROEN</td>\n",
       "      <td>Blanc</td>\n",
       "      <td>B</td>\n",
       "      <td>3</td>\n",
       "    </tr>\n",
       "    <tr>\n",
       "      <th>3</th>\n",
       "      <td>2015S002476</td>\n",
       "      <td>Turismo</td>\n",
       "      <td>JAZZ</td>\n",
       "      <td>HONDA</td>\n",
       "      <td>Gris</td>\n",
       "      <td>B</td>\n",
       "      <td>2</td>\n",
       "    </tr>\n",
       "    <tr>\n",
       "      <th>4</th>\n",
       "      <td>2015S009751</td>\n",
       "      <td>Motocicleta</td>\n",
       "      <td>AGILITY 125</td>\n",
       "      <td>KYMCO</td>\n",
       "      <td>Negre</td>\n",
       "      <td>B</td>\n",
       "      <td>4</td>\n",
       "    </tr>\n",
       "  </tbody>\n",
       "</table>\n",
       "</div>"
      ],
      "text/plain": [
       "  Codi d expedient Descripció tipus de vehicle Descripció model  \\\n",
       "0      2015S004912                     Turismo           ALMERA   \n",
       "1      2015S002169                     Turismo            ASTRA   \n",
       "2      2015S003045                     Turismo             SAXO   \n",
       "3      2015S002476                     Turismo             JAZZ   \n",
       "4      2015S009751                 Motocicleta      AGILITY 125   \n",
       "\n",
       "  Descripció marca Descripció color Descripció carnet Antiguitat carnet  \n",
       "0           NISSAN             Gris                 B                36  \n",
       "1             OPEL             Gris                 B                 1  \n",
       "2          CITROEN            Blanc                 B                 3  \n",
       "3            HONDA             Gris                 B                 2  \n",
       "4            KYMCO            Negre                 B                 4  "
      ]
     },
     "execution_count": 9,
     "metadata": {},
     "output_type": "execute_result"
    }
   ],
   "source": [
    "veh15 = vehiculo15.iloc[:,[0,17,18,19,20,21,22]]\n",
    "veh15.head()"
   ]
  },
  {
   "cell_type": "code",
   "execution_count": 10,
   "metadata": {},
   "outputs": [
    {
     "data": {
      "text/html": [
       "<div>\n",
       "<style scoped>\n",
       "    .dataframe tbody tr th:only-of-type {\n",
       "        vertical-align: middle;\n",
       "    }\n",
       "\n",
       "    .dataframe tbody tr th {\n",
       "        vertical-align: top;\n",
       "    }\n",
       "\n",
       "    .dataframe thead th {\n",
       "        text-align: right;\n",
       "    }\n",
       "</style>\n",
       "<table border=\"1\" class=\"dataframe\">\n",
       "  <thead>\n",
       "    <tr style=\"text-align: right;\">\n",
       "      <th></th>\n",
       "      <th>Codi d'expedient</th>\n",
       "      <th>Descripció tipus de vehicle</th>\n",
       "      <th>Descripció model</th>\n",
       "      <th>Descripció marca</th>\n",
       "      <th>Descripció color</th>\n",
       "      <th>Descripció carnet</th>\n",
       "      <th>Antiguitat carnet</th>\n",
       "    </tr>\n",
       "  </thead>\n",
       "  <tbody>\n",
       "    <tr>\n",
       "      <th>0</th>\n",
       "      <td>2016S004659</td>\n",
       "      <td>Camión &gt; 3,5 Tm</td>\n",
       "      <td>370</td>\n",
       "      <td>RENAULT</td>\n",
       "      <td>Blanc</td>\n",
       "      <td>C</td>\n",
       "      <td>11</td>\n",
       "    </tr>\n",
       "    <tr>\n",
       "      <th>1</th>\n",
       "      <td>2016S008630</td>\n",
       "      <td>Turismo</td>\n",
       "      <td>A6</td>\n",
       "      <td>AUDI</td>\n",
       "      <td>Blanc</td>\n",
       "      <td>B</td>\n",
       "      <td>12</td>\n",
       "    </tr>\n",
       "    <tr>\n",
       "      <th>2</th>\n",
       "      <td>2016S008630</td>\n",
       "      <td>Turismo</td>\n",
       "      <td>LS 400</td>\n",
       "      <td>LEXUS</td>\n",
       "      <td>Altres</td>\n",
       "      <td>B</td>\n",
       "      <td>66</td>\n",
       "    </tr>\n",
       "    <tr>\n",
       "      <th>3</th>\n",
       "      <td>2016S009877</td>\n",
       "      <td>Motocicleta</td>\n",
       "      <td>Desconegut</td>\n",
       "      <td>HONDA</td>\n",
       "      <td>Negre</td>\n",
       "      <td>A</td>\n",
       "      <td>9</td>\n",
       "    </tr>\n",
       "    <tr>\n",
       "      <th>4</th>\n",
       "      <td>2016S009877</td>\n",
       "      <td>Turismo</td>\n",
       "      <td>FORTWO</td>\n",
       "      <td>SMART</td>\n",
       "      <td>Blanc</td>\n",
       "      <td>B</td>\n",
       "      <td>21</td>\n",
       "    </tr>\n",
       "  </tbody>\n",
       "</table>\n",
       "</div>"
      ],
      "text/plain": [
       "  Codi d'expedient Descripció tipus de vehicle Descripció model  \\\n",
       "0  2016S004659                 Camión > 3,5 Tm              370   \n",
       "1  2016S008630                         Turismo               A6   \n",
       "2  2016S008630                         Turismo           LS 400   \n",
       "3  2016S009877                     Motocicleta       Desconegut   \n",
       "4  2016S009877                         Turismo           FORTWO   \n",
       "\n",
       "  Descripció marca Descripció color Descripció carnet Antiguitat carnet  \n",
       "0          RENAULT            Blanc                 C                11  \n",
       "1             AUDI            Blanc                 B                12  \n",
       "2            LEXUS           Altres                 B                66  \n",
       "3            HONDA            Negre                 A                 9  \n",
       "4            SMART            Blanc                 B                21  "
      ]
     },
     "execution_count": 10,
     "metadata": {},
     "output_type": "execute_result"
    }
   ],
   "source": [
    "veh16 = vehiculo16.iloc[:,[0,17,18,19,20,21,22]]\n",
    "veh16.head()"
   ]
  },
  {
   "cell_type": "code",
   "execution_count": 11,
   "metadata": {},
   "outputs": [
    {
     "data": {
      "text/html": [
       "<div>\n",
       "<style scoped>\n",
       "    .dataframe tbody tr th:only-of-type {\n",
       "        vertical-align: middle;\n",
       "    }\n",
       "\n",
       "    .dataframe tbody tr th {\n",
       "        vertical-align: top;\n",
       "    }\n",
       "\n",
       "    .dataframe thead th {\n",
       "        text-align: right;\n",
       "    }\n",
       "</style>\n",
       "<table border=\"1\" class=\"dataframe\">\n",
       "  <thead>\n",
       "    <tr style=\"text-align: right;\">\n",
       "      <th></th>\n",
       "      <th>Codi d'expedient</th>\n",
       "      <th>Descripció tipus de vehicle</th>\n",
       "      <th>Descripció model</th>\n",
       "      <th>Descripció marca</th>\n",
       "      <th>Descripció color</th>\n",
       "      <th>Descripció carnet</th>\n",
       "      <th>Antiguitat carnet</th>\n",
       "    </tr>\n",
       "  </thead>\n",
       "  <tbody>\n",
       "    <tr>\n",
       "      <th>0</th>\n",
       "      <td>2017S000001</td>\n",
       "      <td>Turismo</td>\n",
       "      <td>ONE</td>\n",
       "      <td>MINI</td>\n",
       "      <td>Gris</td>\n",
       "      <td>B</td>\n",
       "      <td>21</td>\n",
       "    </tr>\n",
       "    <tr>\n",
       "      <th>1</th>\n",
       "      <td>2017S000002</td>\n",
       "      <td>Motocicleta</td>\n",
       "      <td>ELECTRA GLIDE ULTRA CLASSIC</td>\n",
       "      <td>HARLEY DAVIDSON</td>\n",
       "      <td>Negre</td>\n",
       "      <td>A</td>\n",
       "      <td>31</td>\n",
       "    </tr>\n",
       "    <tr>\n",
       "      <th>2</th>\n",
       "      <td>2017S000002</td>\n",
       "      <td>Turismo</td>\n",
       "      <td>MEGANE</td>\n",
       "      <td>RENAULT</td>\n",
       "      <td>Gris</td>\n",
       "      <td>Desconegut</td>\n",
       "      <td>Desconegut</td>\n",
       "    </tr>\n",
       "    <tr>\n",
       "      <th>3</th>\n",
       "      <td>2017S000003</td>\n",
       "      <td>Turismo</td>\n",
       "      <td>525</td>\n",
       "      <td>BMW</td>\n",
       "      <td>Blau</td>\n",
       "      <td>B</td>\n",
       "      <td>3</td>\n",
       "    </tr>\n",
       "    <tr>\n",
       "      <th>4</th>\n",
       "      <td>2017S000004</td>\n",
       "      <td>Motocicleta</td>\n",
       "      <td>AGILITY 125</td>\n",
       "      <td>KYMCO</td>\n",
       "      <td>Negre</td>\n",
       "      <td>B</td>\n",
       "      <td>5</td>\n",
       "    </tr>\n",
       "  </tbody>\n",
       "</table>\n",
       "</div>"
      ],
      "text/plain": [
       "  Codi d'expedient Descripció tipus de vehicle             Descripció model  \\\n",
       "0  2017S000001                         Turismo                          ONE   \n",
       "1  2017S000002                     Motocicleta  ELECTRA GLIDE ULTRA CLASSIC   \n",
       "2  2017S000002                         Turismo                       MEGANE   \n",
       "3  2017S000003                         Turismo                          525   \n",
       "4  2017S000004                     Motocicleta                  AGILITY 125   \n",
       "\n",
       "  Descripció marca Descripció color Descripció carnet Antiguitat carnet  \n",
       "0             MINI             Gris                 B                21  \n",
       "1  HARLEY DAVIDSON            Negre                 A                31  \n",
       "2          RENAULT             Gris        Desconegut        Desconegut  \n",
       "3              BMW             Blau                 B                 3  \n",
       "4            KYMCO            Negre                 B                 5  "
      ]
     },
     "execution_count": 11,
     "metadata": {},
     "output_type": "execute_result"
    }
   ],
   "source": [
    "veh17 = vehiculo17.iloc[:,[0,17,18,19,20,21,22]]\n",
    "veh17.head()"
   ]
  },
  {
   "cell_type": "markdown",
   "metadata": {},
   "source": [
    "Los nombres de las columnas deben ser traducidos a español y mantener la misma nomenclatura que las otras limpiezas antes de poder juntar"
   ]
  },
  {
   "cell_type": "code",
   "execution_count": 12,
   "metadata": {},
   "outputs": [
    {
     "name": "stderr",
     "output_type": "stream",
     "text": [
      "C:\\Users\\Mario\\Anaconda3\\lib\\site-packages\\pandas\\core\\frame.py:3781: SettingWithCopyWarning: \n",
      "A value is trying to be set on a copy of a slice from a DataFrame\n",
      "\n",
      "See the caveats in the documentation: http://pandas.pydata.org/pandas-docs/stable/indexing.html#indexing-view-versus-copy\n",
      "  return super(DataFrame, self).rename(**kwargs)\n"
     ]
    },
    {
     "data": {
      "text/html": [
       "<div>\n",
       "<style scoped>\n",
       "    .dataframe tbody tr th:only-of-type {\n",
       "        vertical-align: middle;\n",
       "    }\n",
       "\n",
       "    .dataframe tbody tr th {\n",
       "        vertical-align: top;\n",
       "    }\n",
       "\n",
       "    .dataframe thead th {\n",
       "        text-align: right;\n",
       "    }\n",
       "</style>\n",
       "<table border=\"1\" class=\"dataframe\">\n",
       "  <thead>\n",
       "    <tr style=\"text-align: right;\">\n",
       "      <th></th>\n",
       "      <th>Num_expediente</th>\n",
       "      <th>Tipo_vehiculo</th>\n",
       "      <th>Modelo</th>\n",
       "      <th>Marca</th>\n",
       "      <th>Color</th>\n",
       "      <th>Tipo_carnet</th>\n",
       "      <th>Antiguedad_carnet</th>\n",
       "    </tr>\n",
       "  </thead>\n",
       "  <tbody>\n",
       "    <tr>\n",
       "      <th>0</th>\n",
       "      <td>2015S004912</td>\n",
       "      <td>Turismo</td>\n",
       "      <td>ALMERA</td>\n",
       "      <td>NISSAN</td>\n",
       "      <td>Gris</td>\n",
       "      <td>B</td>\n",
       "      <td>36</td>\n",
       "    </tr>\n",
       "    <tr>\n",
       "      <th>1</th>\n",
       "      <td>2015S002169</td>\n",
       "      <td>Turismo</td>\n",
       "      <td>ASTRA</td>\n",
       "      <td>OPEL</td>\n",
       "      <td>Gris</td>\n",
       "      <td>B</td>\n",
       "      <td>1</td>\n",
       "    </tr>\n",
       "    <tr>\n",
       "      <th>2</th>\n",
       "      <td>2015S003045</td>\n",
       "      <td>Turismo</td>\n",
       "      <td>SAXO</td>\n",
       "      <td>CITROEN</td>\n",
       "      <td>Blanc</td>\n",
       "      <td>B</td>\n",
       "      <td>3</td>\n",
       "    </tr>\n",
       "    <tr>\n",
       "      <th>3</th>\n",
       "      <td>2015S002476</td>\n",
       "      <td>Turismo</td>\n",
       "      <td>JAZZ</td>\n",
       "      <td>HONDA</td>\n",
       "      <td>Gris</td>\n",
       "      <td>B</td>\n",
       "      <td>2</td>\n",
       "    </tr>\n",
       "    <tr>\n",
       "      <th>4</th>\n",
       "      <td>2015S009751</td>\n",
       "      <td>Motocicleta</td>\n",
       "      <td>AGILITY 125</td>\n",
       "      <td>KYMCO</td>\n",
       "      <td>Negre</td>\n",
       "      <td>B</td>\n",
       "      <td>4</td>\n",
       "    </tr>\n",
       "  </tbody>\n",
       "</table>\n",
       "</div>"
      ],
      "text/plain": [
       "  Num_expediente Tipo_vehiculo       Modelo    Marca  Color Tipo_carnet  \\\n",
       "0    2015S004912       Turismo       ALMERA   NISSAN   Gris           B   \n",
       "1    2015S002169       Turismo        ASTRA     OPEL   Gris           B   \n",
       "2    2015S003045       Turismo         SAXO  CITROEN  Blanc           B   \n",
       "3    2015S002476       Turismo         JAZZ    HONDA   Gris           B   \n",
       "4    2015S009751   Motocicleta  AGILITY 125    KYMCO  Negre           B   \n",
       "\n",
       "  Antiguedad_carnet  \n",
       "0                36  \n",
       "1                 1  \n",
       "2                 3  \n",
       "3                 2  \n",
       "4                 4  "
      ]
     },
     "execution_count": 12,
     "metadata": {},
     "output_type": "execute_result"
    }
   ],
   "source": [
    "veh15.rename(columns={\"Codi d expedient\":'Num_expediente',\"Descripció tipus de vehicle\":\"Tipo_vehiculo\",\"Descripció model\": \"Modelo\",\"Descripció marca\":\"Marca\",\"Descripció color\":\"Color\",'Descripció carnet':'Tipo_carnet', \"Antiguitat carnet\":\"Antiguedad_carnet\"},\n",
    "                      inplace=True)\n",
    "veh15.head()"
   ]
  },
  {
   "cell_type": "code",
   "execution_count": 13,
   "metadata": {},
   "outputs": [
    {
     "name": "stderr",
     "output_type": "stream",
     "text": [
      "C:\\Users\\Mario\\Anaconda3\\lib\\site-packages\\pandas\\core\\frame.py:3781: SettingWithCopyWarning: \n",
      "A value is trying to be set on a copy of a slice from a DataFrame\n",
      "\n",
      "See the caveats in the documentation: http://pandas.pydata.org/pandas-docs/stable/indexing.html#indexing-view-versus-copy\n",
      "  return super(DataFrame, self).rename(**kwargs)\n"
     ]
    },
    {
     "data": {
      "text/html": [
       "<div>\n",
       "<style scoped>\n",
       "    .dataframe tbody tr th:only-of-type {\n",
       "        vertical-align: middle;\n",
       "    }\n",
       "\n",
       "    .dataframe tbody tr th {\n",
       "        vertical-align: top;\n",
       "    }\n",
       "\n",
       "    .dataframe thead th {\n",
       "        text-align: right;\n",
       "    }\n",
       "</style>\n",
       "<table border=\"1\" class=\"dataframe\">\n",
       "  <thead>\n",
       "    <tr style=\"text-align: right;\">\n",
       "      <th></th>\n",
       "      <th>Num_expediente</th>\n",
       "      <th>Tipo_vehiculo</th>\n",
       "      <th>Modelo</th>\n",
       "      <th>Marca</th>\n",
       "      <th>Color</th>\n",
       "      <th>Tipo_carnet</th>\n",
       "      <th>Antiguedad_carnet</th>\n",
       "    </tr>\n",
       "  </thead>\n",
       "  <tbody>\n",
       "    <tr>\n",
       "      <th>0</th>\n",
       "      <td>2016S004659</td>\n",
       "      <td>Camión &gt; 3,5 Tm</td>\n",
       "      <td>370</td>\n",
       "      <td>RENAULT</td>\n",
       "      <td>Blanc</td>\n",
       "      <td>C</td>\n",
       "      <td>11</td>\n",
       "    </tr>\n",
       "    <tr>\n",
       "      <th>1</th>\n",
       "      <td>2016S008630</td>\n",
       "      <td>Turismo</td>\n",
       "      <td>A6</td>\n",
       "      <td>AUDI</td>\n",
       "      <td>Blanc</td>\n",
       "      <td>B</td>\n",
       "      <td>12</td>\n",
       "    </tr>\n",
       "    <tr>\n",
       "      <th>2</th>\n",
       "      <td>2016S008630</td>\n",
       "      <td>Turismo</td>\n",
       "      <td>LS 400</td>\n",
       "      <td>LEXUS</td>\n",
       "      <td>Altres</td>\n",
       "      <td>B</td>\n",
       "      <td>66</td>\n",
       "    </tr>\n",
       "    <tr>\n",
       "      <th>3</th>\n",
       "      <td>2016S009877</td>\n",
       "      <td>Motocicleta</td>\n",
       "      <td>Desconegut</td>\n",
       "      <td>HONDA</td>\n",
       "      <td>Negre</td>\n",
       "      <td>A</td>\n",
       "      <td>9</td>\n",
       "    </tr>\n",
       "    <tr>\n",
       "      <th>4</th>\n",
       "      <td>2016S009877</td>\n",
       "      <td>Turismo</td>\n",
       "      <td>FORTWO</td>\n",
       "      <td>SMART</td>\n",
       "      <td>Blanc</td>\n",
       "      <td>B</td>\n",
       "      <td>21</td>\n",
       "    </tr>\n",
       "  </tbody>\n",
       "</table>\n",
       "</div>"
      ],
      "text/plain": [
       "    Num_expediente    Tipo_vehiculo      Modelo    Marca   Color Tipo_carnet  \\\n",
       "0  2016S004659      Camión > 3,5 Tm         370  RENAULT   Blanc           C   \n",
       "1  2016S008630              Turismo          A6     AUDI   Blanc           B   \n",
       "2  2016S008630              Turismo      LS 400    LEXUS  Altres           B   \n",
       "3  2016S009877          Motocicleta  Desconegut    HONDA   Negre           A   \n",
       "4  2016S009877              Turismo      FORTWO    SMART   Blanc           B   \n",
       "\n",
       "  Antiguedad_carnet  \n",
       "0                11  \n",
       "1                12  \n",
       "2                66  \n",
       "3                 9  \n",
       "4                21  "
      ]
     },
     "execution_count": 13,
     "metadata": {},
     "output_type": "execute_result"
    }
   ],
   "source": [
    "veh16.rename(columns={\"Codi d'expedient\":'Num_expediente',\"Descripció tipus de vehicle\":\"Tipo_vehiculo\",\"Descripció model\": \"Modelo\",\"Descripció marca\":\"Marca\",\"Descripció color\":\"Color\",'Descripció carnet':'Tipo_carnet', \"Antiguitat carnet\":\"Antiguedad_carnet\"},\n",
    "                      inplace=True)\n",
    "veh16.head()"
   ]
  },
  {
   "cell_type": "code",
   "execution_count": 14,
   "metadata": {},
   "outputs": [
    {
     "name": "stderr",
     "output_type": "stream",
     "text": [
      "C:\\Users\\Mario\\Anaconda3\\lib\\site-packages\\pandas\\core\\frame.py:3781: SettingWithCopyWarning: \n",
      "A value is trying to be set on a copy of a slice from a DataFrame\n",
      "\n",
      "See the caveats in the documentation: http://pandas.pydata.org/pandas-docs/stable/indexing.html#indexing-view-versus-copy\n",
      "  return super(DataFrame, self).rename(**kwargs)\n"
     ]
    },
    {
     "data": {
      "text/html": [
       "<div>\n",
       "<style scoped>\n",
       "    .dataframe tbody tr th:only-of-type {\n",
       "        vertical-align: middle;\n",
       "    }\n",
       "\n",
       "    .dataframe tbody tr th {\n",
       "        vertical-align: top;\n",
       "    }\n",
       "\n",
       "    .dataframe thead th {\n",
       "        text-align: right;\n",
       "    }\n",
       "</style>\n",
       "<table border=\"1\" class=\"dataframe\">\n",
       "  <thead>\n",
       "    <tr style=\"text-align: right;\">\n",
       "      <th></th>\n",
       "      <th>Num_expediente</th>\n",
       "      <th>Tipo_vehiculo</th>\n",
       "      <th>Modelo</th>\n",
       "      <th>Marca</th>\n",
       "      <th>Color</th>\n",
       "      <th>Tipo_carnet</th>\n",
       "      <th>Antiguedad_carnet</th>\n",
       "    </tr>\n",
       "  </thead>\n",
       "  <tbody>\n",
       "    <tr>\n",
       "      <th>0</th>\n",
       "      <td>2017S000001</td>\n",
       "      <td>Turismo</td>\n",
       "      <td>ONE</td>\n",
       "      <td>MINI</td>\n",
       "      <td>Gris</td>\n",
       "      <td>B</td>\n",
       "      <td>21</td>\n",
       "    </tr>\n",
       "    <tr>\n",
       "      <th>1</th>\n",
       "      <td>2017S000002</td>\n",
       "      <td>Motocicleta</td>\n",
       "      <td>ELECTRA GLIDE ULTRA CLASSIC</td>\n",
       "      <td>HARLEY DAVIDSON</td>\n",
       "      <td>Negre</td>\n",
       "      <td>A</td>\n",
       "      <td>31</td>\n",
       "    </tr>\n",
       "    <tr>\n",
       "      <th>2</th>\n",
       "      <td>2017S000002</td>\n",
       "      <td>Turismo</td>\n",
       "      <td>MEGANE</td>\n",
       "      <td>RENAULT</td>\n",
       "      <td>Gris</td>\n",
       "      <td>Desconegut</td>\n",
       "      <td>Desconegut</td>\n",
       "    </tr>\n",
       "    <tr>\n",
       "      <th>3</th>\n",
       "      <td>2017S000003</td>\n",
       "      <td>Turismo</td>\n",
       "      <td>525</td>\n",
       "      <td>BMW</td>\n",
       "      <td>Blau</td>\n",
       "      <td>B</td>\n",
       "      <td>3</td>\n",
       "    </tr>\n",
       "    <tr>\n",
       "      <th>4</th>\n",
       "      <td>2017S000004</td>\n",
       "      <td>Motocicleta</td>\n",
       "      <td>AGILITY 125</td>\n",
       "      <td>KYMCO</td>\n",
       "      <td>Negre</td>\n",
       "      <td>B</td>\n",
       "      <td>5</td>\n",
       "    </tr>\n",
       "  </tbody>\n",
       "</table>\n",
       "</div>"
      ],
      "text/plain": [
       "    Num_expediente Tipo_vehiculo                       Modelo  \\\n",
       "0  2017S000001           Turismo                          ONE   \n",
       "1  2017S000002       Motocicleta  ELECTRA GLIDE ULTRA CLASSIC   \n",
       "2  2017S000002           Turismo                       MEGANE   \n",
       "3  2017S000003           Turismo                          525   \n",
       "4  2017S000004       Motocicleta                  AGILITY 125   \n",
       "\n",
       "             Marca  Color Tipo_carnet Antiguedad_carnet  \n",
       "0             MINI   Gris           B                21  \n",
       "1  HARLEY DAVIDSON  Negre           A                31  \n",
       "2          RENAULT   Gris  Desconegut        Desconegut  \n",
       "3              BMW   Blau           B                 3  \n",
       "4            KYMCO  Negre           B                 5  "
      ]
     },
     "execution_count": 14,
     "metadata": {},
     "output_type": "execute_result"
    }
   ],
   "source": [
    "veh17.rename(columns={\"Codi d'expedient\":'Num_expediente',\"Descripció tipus de vehicle\":\"Tipo_vehiculo\",\"Descripció model\": \"Modelo\",\"Descripció marca\":\"Marca\",\"Descripció color\":\"Color\",'Descripció carnet':'Tipo_carnet', \"Antiguitat carnet\":\"Antiguedad_carnet\"},\n",
    "                      inplace=True)\n",
    "veh17.head()"
   ]
  },
  {
   "cell_type": "markdown",
   "metadata": {},
   "source": [
    "Juntamos las bases de datos"
   ]
  },
  {
   "cell_type": "code",
   "execution_count": 15,
   "metadata": {},
   "outputs": [
    {
     "data": {
      "text/html": [
       "<div>\n",
       "<style scoped>\n",
       "    .dataframe tbody tr th:only-of-type {\n",
       "        vertical-align: middle;\n",
       "    }\n",
       "\n",
       "    .dataframe tbody tr th {\n",
       "        vertical-align: top;\n",
       "    }\n",
       "\n",
       "    .dataframe thead th {\n",
       "        text-align: right;\n",
       "    }\n",
       "</style>\n",
       "<table border=\"1\" class=\"dataframe\">\n",
       "  <thead>\n",
       "    <tr style=\"text-align: right;\">\n",
       "      <th></th>\n",
       "      <th>Num_expediente</th>\n",
       "      <th>Tipo_vehiculo</th>\n",
       "      <th>Modelo</th>\n",
       "      <th>Marca</th>\n",
       "      <th>Color</th>\n",
       "      <th>Tipo_carnet</th>\n",
       "      <th>Antiguedad_carnet</th>\n",
       "    </tr>\n",
       "  </thead>\n",
       "  <tbody>\n",
       "    <tr>\n",
       "      <th>0</th>\n",
       "      <td>2015S004912</td>\n",
       "      <td>Turismo</td>\n",
       "      <td>ALMERA</td>\n",
       "      <td>NISSAN</td>\n",
       "      <td>Gris</td>\n",
       "      <td>B</td>\n",
       "      <td>36</td>\n",
       "    </tr>\n",
       "    <tr>\n",
       "      <th>1</th>\n",
       "      <td>2015S002169</td>\n",
       "      <td>Turismo</td>\n",
       "      <td>ASTRA</td>\n",
       "      <td>OPEL</td>\n",
       "      <td>Gris</td>\n",
       "      <td>B</td>\n",
       "      <td>1</td>\n",
       "    </tr>\n",
       "    <tr>\n",
       "      <th>2</th>\n",
       "      <td>2015S003045</td>\n",
       "      <td>Turismo</td>\n",
       "      <td>SAXO</td>\n",
       "      <td>CITROEN</td>\n",
       "      <td>Blanc</td>\n",
       "      <td>B</td>\n",
       "      <td>3</td>\n",
       "    </tr>\n",
       "    <tr>\n",
       "      <th>3</th>\n",
       "      <td>2015S002476</td>\n",
       "      <td>Turismo</td>\n",
       "      <td>JAZZ</td>\n",
       "      <td>HONDA</td>\n",
       "      <td>Gris</td>\n",
       "      <td>B</td>\n",
       "      <td>2</td>\n",
       "    </tr>\n",
       "    <tr>\n",
       "      <th>4</th>\n",
       "      <td>2015S009751</td>\n",
       "      <td>Motocicleta</td>\n",
       "      <td>AGILITY 125</td>\n",
       "      <td>KYMCO</td>\n",
       "      <td>Negre</td>\n",
       "      <td>B</td>\n",
       "      <td>4</td>\n",
       "    </tr>\n",
       "  </tbody>\n",
       "</table>\n",
       "</div>"
      ],
      "text/plain": [
       "  Num_expediente Tipo_vehiculo       Modelo    Marca  Color Tipo_carnet  \\\n",
       "0    2015S004912       Turismo       ALMERA   NISSAN   Gris           B   \n",
       "1    2015S002169       Turismo        ASTRA     OPEL   Gris           B   \n",
       "2    2015S003045       Turismo         SAXO  CITROEN  Blanc           B   \n",
       "3    2015S002476       Turismo         JAZZ    HONDA   Gris           B   \n",
       "4    2015S009751   Motocicleta  AGILITY 125    KYMCO  Negre           B   \n",
       "\n",
       "  Antiguedad_carnet  \n",
       "0                36  \n",
       "1                 1  \n",
       "2                 3  \n",
       "3                 2  \n",
       "4                 4  "
      ]
     },
     "execution_count": 15,
     "metadata": {},
     "output_type": "execute_result"
    }
   ],
   "source": [
    "vehiculos = veh15.append(veh16, ignore_index=True, verify_integrity=True, sort=None)\n",
    "vehiculos.head()"
   ]
  },
  {
   "cell_type": "code",
   "execution_count": 16,
   "metadata": {},
   "outputs": [
    {
     "data": {
      "text/html": [
       "<div>\n",
       "<style scoped>\n",
       "    .dataframe tbody tr th:only-of-type {\n",
       "        vertical-align: middle;\n",
       "    }\n",
       "\n",
       "    .dataframe tbody tr th {\n",
       "        vertical-align: top;\n",
       "    }\n",
       "\n",
       "    .dataframe thead th {\n",
       "        text-align: right;\n",
       "    }\n",
       "</style>\n",
       "<table border=\"1\" class=\"dataframe\">\n",
       "  <thead>\n",
       "    <tr style=\"text-align: right;\">\n",
       "      <th></th>\n",
       "      <th>Num_expediente</th>\n",
       "      <th>Tipo_vehiculo</th>\n",
       "      <th>Modelo</th>\n",
       "      <th>Marca</th>\n",
       "      <th>Color</th>\n",
       "      <th>Tipo_carnet</th>\n",
       "      <th>Antiguedad_carnet</th>\n",
       "    </tr>\n",
       "  </thead>\n",
       "  <tbody>\n",
       "    <tr>\n",
       "      <th>0</th>\n",
       "      <td>2015S004912</td>\n",
       "      <td>Turismo</td>\n",
       "      <td>ALMERA</td>\n",
       "      <td>NISSAN</td>\n",
       "      <td>Gris</td>\n",
       "      <td>B</td>\n",
       "      <td>36</td>\n",
       "    </tr>\n",
       "    <tr>\n",
       "      <th>1</th>\n",
       "      <td>2015S002169</td>\n",
       "      <td>Turismo</td>\n",
       "      <td>ASTRA</td>\n",
       "      <td>OPEL</td>\n",
       "      <td>Gris</td>\n",
       "      <td>B</td>\n",
       "      <td>1</td>\n",
       "    </tr>\n",
       "    <tr>\n",
       "      <th>2</th>\n",
       "      <td>2015S003045</td>\n",
       "      <td>Turismo</td>\n",
       "      <td>SAXO</td>\n",
       "      <td>CITROEN</td>\n",
       "      <td>Blanc</td>\n",
       "      <td>B</td>\n",
       "      <td>3</td>\n",
       "    </tr>\n",
       "    <tr>\n",
       "      <th>3</th>\n",
       "      <td>2015S002476</td>\n",
       "      <td>Turismo</td>\n",
       "      <td>JAZZ</td>\n",
       "      <td>HONDA</td>\n",
       "      <td>Gris</td>\n",
       "      <td>B</td>\n",
       "      <td>2</td>\n",
       "    </tr>\n",
       "    <tr>\n",
       "      <th>4</th>\n",
       "      <td>2015S009751</td>\n",
       "      <td>Motocicleta</td>\n",
       "      <td>AGILITY 125</td>\n",
       "      <td>KYMCO</td>\n",
       "      <td>Negre</td>\n",
       "      <td>B</td>\n",
       "      <td>4</td>\n",
       "    </tr>\n",
       "  </tbody>\n",
       "</table>\n",
       "</div>"
      ],
      "text/plain": [
       "  Num_expediente Tipo_vehiculo       Modelo    Marca  Color Tipo_carnet  \\\n",
       "0    2015S004912       Turismo       ALMERA   NISSAN   Gris           B   \n",
       "1    2015S002169       Turismo        ASTRA     OPEL   Gris           B   \n",
       "2    2015S003045       Turismo         SAXO  CITROEN  Blanc           B   \n",
       "3    2015S002476       Turismo         JAZZ    HONDA   Gris           B   \n",
       "4    2015S009751   Motocicleta  AGILITY 125    KYMCO  Negre           B   \n",
       "\n",
       "  Antiguedad_carnet  \n",
       "0                36  \n",
       "1                 1  \n",
       "2                 3  \n",
       "3                 2  \n",
       "4                 4  "
      ]
     },
     "execution_count": 16,
     "metadata": {},
     "output_type": "execute_result"
    }
   ],
   "source": [
    "vehiculos = vehiculos.append(veh17, ignore_index=True, verify_integrity=True, sort=None)\n",
    "vehiculos.head()"
   ]
  },
  {
   "cell_type": "markdown",
   "metadata": {},
   "source": [
    "Corroboramos que se haya realizado"
   ]
  },
  {
   "cell_type": "code",
   "execution_count": 17,
   "metadata": {},
   "outputs": [
    {
     "data": {
      "text/plain": [
       "Num_expediente       object\n",
       "Tipo_vehiculo        object\n",
       "Modelo               object\n",
       "Marca                object\n",
       "Color                object\n",
       "Tipo_carnet          object\n",
       "Antiguedad_carnet    object\n",
       "dtype: object"
      ]
     },
     "execution_count": 17,
     "metadata": {},
     "output_type": "execute_result"
    }
   ],
   "source": [
    "vehiculos.shape\n",
    "vehiculos.dtypes"
   ]
  },
  {
   "cell_type": "markdown",
   "metadata": {},
   "source": [
    "Limpieza datos de Num_expediente"
   ]
  },
  {
   "cell_type": "code",
   "execution_count": 18,
   "metadata": {},
   "outputs": [
    {
     "data": {
      "text/plain": [
       "array(['2015S004912', '2015S002169', '2015S003045', ...,\n",
       "       '2017S010783    ', '2017S010784    ', '2017S010785    '],\n",
       "      dtype=object)"
      ]
     },
     "execution_count": 18,
     "metadata": {},
     "output_type": "execute_result"
    }
   ],
   "source": [
    "vehiculos.Num_expediente.unique()"
   ]
  },
  {
   "cell_type": "markdown",
   "metadata": {},
   "source": [
    "Se puede ver que muchos tienen espacios, a continuación se eliminarán:"
   ]
  },
  {
   "cell_type": "code",
   "execution_count": 19,
   "metadata": {},
   "outputs": [],
   "source": [
    "#def eliminar_espacios(fila):\n",
    "#    return (fila.Num_expediente).strip()\n",
    "\n",
    "#vehiculos['Num_expediente'] = vehiculos.apply(eliminar_espacios, axis=1)\n"
   ]
  },
  {
   "cell_type": "code",
   "execution_count": 20,
   "metadata": {},
   "outputs": [
    {
     "data": {
      "text/plain": [
       "array(['2015S004912', '2015S002169', '2015S003045', ...,\n",
       "       '2017S010783    ', '2017S010784    ', '2017S010785    '],\n",
       "      dtype=object)"
      ]
     },
     "execution_count": 20,
     "metadata": {},
     "output_type": "execute_result"
    }
   ],
   "source": [
    "vehiculos.Num_expediente.unique()"
   ]
  },
  {
   "cell_type": "markdown",
   "metadata": {},
   "source": [
    "Ahora se verá los distintos tipos de vehículos: "
   ]
  },
  {
   "cell_type": "code",
   "execution_count": 21,
   "metadata": {},
   "outputs": [
    {
     "data": {
      "text/plain": [
       "array(['Turismo', 'Motocicleta', 'Taxi', 'Autobús', 'Furgoneta',\n",
       "       'Bicicleta', 'Ciclomotor', 'Microbus <=17 plazas',\n",
       "       'Tranvía o tren', 'Camión <= 3,5 Tm', 'Camión > 3,5 Tm',\n",
       "       'Otros vehíc. a motor', 'Tractocamión', 'Autocar',\n",
       "       'Cuadriciclo <75cc', 'Autocaravana', 'Autobús articulado',\n",
       "       'Todo terreno', 'Maquinaria de obras', 'Cuadriciclo >=75cc',\n",
       "       'Carro', nan, 'Turisme', 'Camió rígid <= 3,5 tones',\n",
       "       'Autobús articulat', 'Camió rígid > 3,5 tones', 'Tractor camió',\n",
       "       'Altres vehicles sense motor', 'Altres vehicles amb motor',\n",
       "       \"Maquinària d'obres i serveis\", 'Tren o tramvia', 'Tot terreny',\n",
       "       'Quadricicle > 75 cc', 'Quadricicle < 75 cc', 'Desconegut',\n",
       "       'Microbus <= 17'], dtype=object)"
      ]
     },
     "execution_count": 21,
     "metadata": {},
     "output_type": "execute_result"
    }
   ],
   "source": [
    "vehiculos.Tipo_vehiculo.unique()"
   ]
  },
  {
   "cell_type": "markdown",
   "metadata": {},
   "source": [
    "Se puede ver que hay muchos nombres similares y también hay unos en español y en catalán. Ejemplo: \"Camión <= 3,5 Tm\" es lo mismo que \"Camió rígid <= 3,5 tones\". A continuación se limpian estos datos:"
   ]
  },
  {
   "cell_type": "code",
   "execution_count": 22,
   "metadata": {},
   "outputs": [
    {
     "data": {
      "text/html": [
       "<div>\n",
       "<style scoped>\n",
       "    .dataframe tbody tr th:only-of-type {\n",
       "        vertical-align: middle;\n",
       "    }\n",
       "\n",
       "    .dataframe tbody tr th {\n",
       "        vertical-align: top;\n",
       "    }\n",
       "\n",
       "    .dataframe thead th {\n",
       "        text-align: right;\n",
       "    }\n",
       "</style>\n",
       "<table border=\"1\" class=\"dataframe\">\n",
       "  <thead>\n",
       "    <tr style=\"text-align: right;\">\n",
       "      <th></th>\n",
       "      <th>Num_expediente</th>\n",
       "      <th>Tipo_vehiculo</th>\n",
       "      <th>Modelo</th>\n",
       "      <th>Marca</th>\n",
       "      <th>Color</th>\n",
       "      <th>Tipo_carnet</th>\n",
       "      <th>Antiguedad_carnet</th>\n",
       "    </tr>\n",
       "  </thead>\n",
       "  <tbody>\n",
       "    <tr>\n",
       "      <th>0</th>\n",
       "      <td>2015S004912</td>\n",
       "      <td>Turismo</td>\n",
       "      <td>ALMERA</td>\n",
       "      <td>NISSAN</td>\n",
       "      <td>Gris</td>\n",
       "      <td>B</td>\n",
       "      <td>36</td>\n",
       "    </tr>\n",
       "    <tr>\n",
       "      <th>1</th>\n",
       "      <td>2015S002169</td>\n",
       "      <td>Turismo</td>\n",
       "      <td>ASTRA</td>\n",
       "      <td>OPEL</td>\n",
       "      <td>Gris</td>\n",
       "      <td>B</td>\n",
       "      <td>1</td>\n",
       "    </tr>\n",
       "    <tr>\n",
       "      <th>2</th>\n",
       "      <td>2015S003045</td>\n",
       "      <td>Turismo</td>\n",
       "      <td>SAXO</td>\n",
       "      <td>CITROEN</td>\n",
       "      <td>Blanc</td>\n",
       "      <td>B</td>\n",
       "      <td>3</td>\n",
       "    </tr>\n",
       "    <tr>\n",
       "      <th>3</th>\n",
       "      <td>2015S002476</td>\n",
       "      <td>Turismo</td>\n",
       "      <td>JAZZ</td>\n",
       "      <td>HONDA</td>\n",
       "      <td>Gris</td>\n",
       "      <td>B</td>\n",
       "      <td>2</td>\n",
       "    </tr>\n",
       "    <tr>\n",
       "      <th>4</th>\n",
       "      <td>2015S009751</td>\n",
       "      <td>Motocicleta</td>\n",
       "      <td>AGILITY 125</td>\n",
       "      <td>KYMCO</td>\n",
       "      <td>Negre</td>\n",
       "      <td>B</td>\n",
       "      <td>4</td>\n",
       "    </tr>\n",
       "  </tbody>\n",
       "</table>\n",
       "</div>"
      ],
      "text/plain": [
       "  Num_expediente Tipo_vehiculo       Modelo    Marca  Color Tipo_carnet  \\\n",
       "0    2015S004912       Turismo       ALMERA   NISSAN   Gris           B   \n",
       "1    2015S002169       Turismo        ASTRA     OPEL   Gris           B   \n",
       "2    2015S003045       Turismo         SAXO  CITROEN  Blanc           B   \n",
       "3    2015S002476       Turismo         JAZZ    HONDA   Gris           B   \n",
       "4    2015S009751   Motocicleta  AGILITY 125    KYMCO  Negre           B   \n",
       "\n",
       "  Antiguedad_carnet  \n",
       "0                36  \n",
       "1                 1  \n",
       "2                 3  \n",
       "3                 2  \n",
       "4                 4  "
      ]
     },
     "execution_count": 22,
     "metadata": {},
     "output_type": "execute_result"
    }
   ],
   "source": [
    "def tipovehiculo(a):\n",
    "    if a.Tipo_vehiculo == 'Turisme':\n",
    "        b='Turismo'\n",
    "    elif a.Tipo_vehiculo == 'Autobús articulat':\n",
    "        b='Autobús articulado'\n",
    "    elif a.Tipo_vehiculo == 'Carro':\n",
    "        b='Turismo'\n",
    "    elif a.Tipo_vehiculo == 'Altres vehicles sense motor':\n",
    "        b='Otros vehíc. sin motor'\n",
    "    elif a.Tipo_vehiculo == 'Altres vehicles amb motor':\n",
    "        b='Otros vehíc. a motor'\n",
    "    elif a.Tipo_vehiculo == 'Quadricicle > 75 cc':\n",
    "        b='Cuadriciclo >=75cc'\n",
    "    elif a.Tipo_vehiculo == 'Quadricicle < 75 cc':\n",
    "        b='Cuadriciclo <75cc'\n",
    "    elif a.Tipo_vehiculo == 'Camió rígid > 3,5 tones':\n",
    "        b='Camión > 3,5 Tm'\n",
    "    elif a.Tipo_vehiculo == 'Camió rígid <= 3,5 tones':\n",
    "        b='Camión <= 3,5 Tm'\n",
    "    elif a.Tipo_vehiculo == 'Tren o tramvia':\n",
    "        b='Tranvía o tren'\n",
    "    elif a.Tipo_vehiculo == \"Maquinària d'obres i serveis\":\n",
    "        b='Maquinaria de obras'\n",
    "    elif a.Tipo_vehiculo == 'Tractor camió':\n",
    "        b='Tractocamión'\n",
    "    elif a.Tipo_vehiculo == 'Tot terreny':\n",
    "        b='Todo terreno'\n",
    "    elif a.Tipo_vehiculo == 'Desconegut':\n",
    "        b='Desconocido'\n",
    "    elif a.Tipo_vehiculo == 'Microbus <= 17':\n",
    "        b='Microbus <=17 plazas'\n",
    "    elif a.Tipo_vehiculo == 'Autocar':\n",
    "        b='Autobús'\n",
    "    else: b = a.Tipo_vehiculo\n",
    "    return b\n",
    "   \n",
    "vehiculos['Tipo_vehiculo'] = vehiculos.apply(tipovehiculo, axis=1)\n",
    "vehiculos.head()"
   ]
  },
  {
   "cell_type": "markdown",
   "metadata": {},
   "source": [
    "Se verifican los cambios:"
   ]
  },
  {
   "cell_type": "code",
   "execution_count": 23,
   "metadata": {},
   "outputs": [
    {
     "data": {
      "text/plain": [
       "array(['Turismo', 'Motocicleta', 'Taxi', 'Autobús', 'Furgoneta',\n",
       "       'Bicicleta', 'Ciclomotor', 'Microbus <=17 plazas',\n",
       "       'Tranvía o tren', 'Camión <= 3,5 Tm', 'Camión > 3,5 Tm',\n",
       "       'Otros vehíc. a motor', 'Tractocamión', 'Cuadriciclo <75cc',\n",
       "       'Autocaravana', 'Autobús articulado', 'Todo terreno',\n",
       "       'Maquinaria de obras', 'Cuadriciclo >=75cc', nan,\n",
       "       'Otros vehíc. sin motor', 'Desconocido'], dtype=object)"
      ]
     },
     "execution_count": 23,
     "metadata": {},
     "output_type": "execute_result"
    }
   ],
   "source": [
    "vehiculos.Tipo_vehiculo.unique()"
   ]
  },
  {
   "cell_type": "markdown",
   "metadata": {},
   "source": [
    "Ahora se verán los datos para el Modelo del carro para después limpiarlos. En este caso los 0 se toman como desconocidos."
   ]
  },
  {
   "cell_type": "code",
   "execution_count": 24,
   "metadata": {},
   "outputs": [
    {
     "data": {
      "text/plain": [
       "array(['ALMERA', 'ASTRA', 'SAXO', ..., 'RENAULT', 'FZ6ÑN', 'LIBERTY S'],\n",
       "      dtype=object)"
      ]
     },
     "execution_count": 24,
     "metadata": {},
     "output_type": "execute_result"
    }
   ],
   "source": [
    "vehiculos.Modelo.unique()"
   ]
  },
  {
   "cell_type": "code",
   "execution_count": 25,
   "metadata": {},
   "outputs": [
    {
     "data": {
      "text/html": [
       "<div>\n",
       "<style scoped>\n",
       "    .dataframe tbody tr th:only-of-type {\n",
       "        vertical-align: middle;\n",
       "    }\n",
       "\n",
       "    .dataframe tbody tr th {\n",
       "        vertical-align: top;\n",
       "    }\n",
       "\n",
       "    .dataframe thead th {\n",
       "        text-align: right;\n",
       "    }\n",
       "</style>\n",
       "<table border=\"1\" class=\"dataframe\">\n",
       "  <thead>\n",
       "    <tr style=\"text-align: right;\">\n",
       "      <th></th>\n",
       "      <th>Num_expediente</th>\n",
       "      <th>Tipo_vehiculo</th>\n",
       "      <th>Modelo</th>\n",
       "      <th>Marca</th>\n",
       "      <th>Color</th>\n",
       "      <th>Tipo_carnet</th>\n",
       "      <th>Antiguedad_carnet</th>\n",
       "    </tr>\n",
       "  </thead>\n",
       "  <tbody>\n",
       "    <tr>\n",
       "      <th>0</th>\n",
       "      <td>2015S004912</td>\n",
       "      <td>Turismo</td>\n",
       "      <td>ALMERA</td>\n",
       "      <td>NISSAN</td>\n",
       "      <td>Gris</td>\n",
       "      <td>B</td>\n",
       "      <td>36</td>\n",
       "    </tr>\n",
       "    <tr>\n",
       "      <th>1</th>\n",
       "      <td>2015S002169</td>\n",
       "      <td>Turismo</td>\n",
       "      <td>ASTRA</td>\n",
       "      <td>OPEL</td>\n",
       "      <td>Gris</td>\n",
       "      <td>B</td>\n",
       "      <td>1</td>\n",
       "    </tr>\n",
       "    <tr>\n",
       "      <th>2</th>\n",
       "      <td>2015S003045</td>\n",
       "      <td>Turismo</td>\n",
       "      <td>SAXO</td>\n",
       "      <td>CITROEN</td>\n",
       "      <td>Blanc</td>\n",
       "      <td>B</td>\n",
       "      <td>3</td>\n",
       "    </tr>\n",
       "    <tr>\n",
       "      <th>3</th>\n",
       "      <td>2015S002476</td>\n",
       "      <td>Turismo</td>\n",
       "      <td>JAZZ</td>\n",
       "      <td>HONDA</td>\n",
       "      <td>Gris</td>\n",
       "      <td>B</td>\n",
       "      <td>2</td>\n",
       "    </tr>\n",
       "    <tr>\n",
       "      <th>4</th>\n",
       "      <td>2015S009751</td>\n",
       "      <td>Motocicleta</td>\n",
       "      <td>AGILITY 125</td>\n",
       "      <td>KYMCO</td>\n",
       "      <td>Negre</td>\n",
       "      <td>B</td>\n",
       "      <td>4</td>\n",
       "    </tr>\n",
       "  </tbody>\n",
       "</table>\n",
       "</div>"
      ],
      "text/plain": [
       "  Num_expediente Tipo_vehiculo       Modelo    Marca  Color Tipo_carnet  \\\n",
       "0    2015S004912       Turismo       ALMERA   NISSAN   Gris           B   \n",
       "1    2015S002169       Turismo        ASTRA     OPEL   Gris           B   \n",
       "2    2015S003045       Turismo         SAXO  CITROEN  Blanc           B   \n",
       "3    2015S002476       Turismo         JAZZ    HONDA   Gris           B   \n",
       "4    2015S009751   Motocicleta  AGILITY 125    KYMCO  Negre           B   \n",
       "\n",
       "  Antiguedad_carnet  \n",
       "0                36  \n",
       "1                 1  \n",
       "2                 3  \n",
       "3                 2  \n",
       "4                 4  "
      ]
     },
     "execution_count": 25,
     "metadata": {},
     "output_type": "execute_result"
    }
   ],
   "source": [
    "def modelo(a):\n",
    "    if a.Modelo == '---':\n",
    "        b='Desconocido'\n",
    "    elif a.Modelo == 'Desconegut':\n",
    "        b='Desconocido'\n",
    "    elif a.Modelo == '0':\n",
    "        b='Desconocido'\n",
    "    else: b = a.Modelo\n",
    "    return b\n",
    "vehiculos['Modelo'] = vehiculos.apply(modelo, axis=1)\n",
    "vehiculos.head()"
   ]
  },
  {
   "cell_type": "markdown",
   "metadata": {},
   "source": [
    "Se revisará la marca de los carros y verificar que no hayan repetidos."
   ]
  },
  {
   "cell_type": "code",
   "execution_count": 26,
   "metadata": {},
   "outputs": [
    {
     "data": {
      "text/plain": [
       "array(['NISSAN', 'OPEL', 'CITROEN', 'HONDA', 'KYMCO', 'TOYOTA', 'SKODA',\n",
       "       'MAN', 'SAAB', 'IRISBUS', 'PEUGEOT', 'SEAT', 'BICING', 'BULTACO',\n",
       "       'FIAT', 'KIA', 'KAWASAKI', 'VOLKSWAGEN', 'YAMAHA', 'Desconegut',\n",
       "       'SUZUKI', 'RENAULT', 'APRILIA', 'SYM', 'MERCEDES', 'FORD',\n",
       "       'DUCATI', 'IVECO FIAT', 'AUDI', 'DERBI', 'BMW', 'DAELIM',\n",
       "       'PIAGGIO', 'MAZDA', 'ISUZU', 'CHEVROLET', 'HYOSUNG', 'ALFA ROMEO',\n",
       "       'JEEP', 'DAEWOO', 'HARLEY DAVIDSON', 'MICRO-VETT', 'ROVER',\n",
       "       'VESPA', 'GME (General Motors)', 'RIEJU', 'DAF-HERMANNS',\n",
       "       'DECATHLON', 'ORBEA', 'GIANTCO', 'KTM', 'MERCEDES-BENZ', 'LEXUS',\n",
       "       'MINI', 'SMART', 'HYUNDAI', 'VOLVO', 'DENNIS', 'DACIA',\n",
       "       'MITSUBISHI', 'AIXAM', 'BH', 'MBK', 'SCANIA', 'TRIUMPH', 'JAGUAR',\n",
       "       'YIBEN', 'YIYING', 'GILERA', 'VAN HOOL', 'GENERIC', 'SSANGYONG',\n",
       "       'DODGE', 'BTWIN', 'VDL BOVA', 'LAND ROVER', 'LINDE', 'CPI',\n",
       "       'KEEWAY', 'LINHAI', 'CHRYSLER', 'SUBARU', 'ALSTOM', 'BENELLI',\n",
       "       'PORSCHE', 'AIYUMO', 'LML', 'MONTY', 'TGB', 'MONTESA',\n",
       "       'JONWAY ITALIA', 'AUSA', 'DAHON', 'GUZZI', 'MALAGUTI', 'CSR',\n",
       "       'AYATS', 'ROLLS-ROYCE', 'GOVECS', 'INFINITI', 'MTR', 'CITADIS',\n",
       "       'LANCIA', 'V MOTO', 'HUSQVARNA', 'KSR', 'RAVO', 'MICROCAR',\n",
       "       'CONOR', 'HAMM', 'MG', 'BETA', 'ITALJET', 'SETRA', 'SANYANG',\n",
       "       'BUELL', 'TATA', 'PEGASO', 'IRIZAR', 'HAOTIAN', 'MASH', 'DAIMLER',\n",
       "       'ROYAL ENFIELD', 'BSA', 'LEONART', 'GUOBEN', 'FMC',\n",
       "       'MOTOR HISPANIA', 'XINGYUE', 'IPV', 'QINGQI', 'AUSTIN', 'PGO',\n",
       "       'RIDE', 'SUNSUNDEGUI', 'VECTRIX', 'ZNEN', 'TRUEBA', 'LAMBRETTA',\n",
       "       'ZONGSHEN', 'SUMCO', 'HANWAY', 'BYD', 'BRAMMO', 'TRIGGER',\n",
       "       'MV AUGUSTA', 'CHATENET', 'CADILLAC', 'KENROD', 'CAGIVA',\n",
       "       'ASTON MARTIN', 'CLIPIC', 'Moto GAC', 'STILL', 'ERIDER', 'OSSA',\n",
       "       'SUPER EUROPA', 'MOTORMANIA', 'JINLUN', 'BTM', 'SAMADA',\n",
       "       'MONKEY BIKES', 'KEMMEL', 'MATHIEU-YNO', 'COOLTRA', 'SCOMADI',\n",
       "       'FAIRWAY', 'M.Z.', 'ALEXANDER DENNIS', 'GINYS AMB MOTOR', 'E-TON',\n",
       "       'MASERATI', 'FERRARI', 'GRISLEY', 'MAHINDRA', 'SORIBERICA', nan,\n",
       "       'SANGLAS', 'EMCO', 'SCHMITZ', 'SECMA', 'PIONEER', 'AVIA', 'SCUTUM',\n",
       "       'FAZTEK', 'TECNUVE', 'SOLARIS', 'S.Y.M', 'A.U.D.I.',\n",
       "       'ES DESCONEIX', 'B.M.W.', 'GOWINN', 'FACTORY BIKE', 'M.A.N.',\n",
       "       'GALLOPER', 'HUMMER', 'BERGADANA', 'MERCEDES B', 'K.T.M.',\n",
       "       'BAOTIAN', 'GARELLI', 'MAC CORMICK', 'CATERHAM', 'EVF SPA',\n",
       "       'A U D I', 'FYM', 'BELLIER', 'GOING GREEN', 'HM', 'TORROT',\n",
       "       'A.U.S.A.', 'CARROCERA CASTR', 'MONDIAL', 'DAIHATSU', 'NEOPLAN',\n",
       "       'TALBOT', 'MECEDES', 'LOHR', 'MAURICIO', 'TISONG', 'Brixton',\n",
       "       'WUYANG', 'M A N', 'JDM', 'ALDY', 'VICTORY MOTOR D'], dtype=object)"
      ]
     },
     "execution_count": 26,
     "metadata": {},
     "output_type": "execute_result"
    }
   ],
   "source": [
    "vehiculos.Marca.unique()"
   ]
  },
  {
   "cell_type": "markdown",
   "metadata": {},
   "source": [
    "Se puede ver que hay varias marcas escritas de la misma forma. Cómo por ejemplo \"Audi\". A continuación se modificarán aquellas marcas repetidas:"
   ]
  },
  {
   "cell_type": "code",
   "execution_count": 27,
   "metadata": {},
   "outputs": [
    {
     "data": {
      "text/html": [
       "<div>\n",
       "<style scoped>\n",
       "    .dataframe tbody tr th:only-of-type {\n",
       "        vertical-align: middle;\n",
       "    }\n",
       "\n",
       "    .dataframe tbody tr th {\n",
       "        vertical-align: top;\n",
       "    }\n",
       "\n",
       "    .dataframe thead th {\n",
       "        text-align: right;\n",
       "    }\n",
       "</style>\n",
       "<table border=\"1\" class=\"dataframe\">\n",
       "  <thead>\n",
       "    <tr style=\"text-align: right;\">\n",
       "      <th></th>\n",
       "      <th>Num_expediente</th>\n",
       "      <th>Tipo_vehiculo</th>\n",
       "      <th>Modelo</th>\n",
       "      <th>Marca</th>\n",
       "      <th>Color</th>\n",
       "      <th>Tipo_carnet</th>\n",
       "      <th>Antiguedad_carnet</th>\n",
       "    </tr>\n",
       "  </thead>\n",
       "  <tbody>\n",
       "    <tr>\n",
       "      <th>0</th>\n",
       "      <td>2015S004912</td>\n",
       "      <td>Turismo</td>\n",
       "      <td>ALMERA</td>\n",
       "      <td>NISSAN</td>\n",
       "      <td>Gris</td>\n",
       "      <td>B</td>\n",
       "      <td>36</td>\n",
       "    </tr>\n",
       "    <tr>\n",
       "      <th>1</th>\n",
       "      <td>2015S002169</td>\n",
       "      <td>Turismo</td>\n",
       "      <td>ASTRA</td>\n",
       "      <td>OPEL</td>\n",
       "      <td>Gris</td>\n",
       "      <td>B</td>\n",
       "      <td>1</td>\n",
       "    </tr>\n",
       "    <tr>\n",
       "      <th>2</th>\n",
       "      <td>2015S003045</td>\n",
       "      <td>Turismo</td>\n",
       "      <td>SAXO</td>\n",
       "      <td>CITROEN</td>\n",
       "      <td>Blanc</td>\n",
       "      <td>B</td>\n",
       "      <td>3</td>\n",
       "    </tr>\n",
       "    <tr>\n",
       "      <th>3</th>\n",
       "      <td>2015S002476</td>\n",
       "      <td>Turismo</td>\n",
       "      <td>JAZZ</td>\n",
       "      <td>HONDA</td>\n",
       "      <td>Gris</td>\n",
       "      <td>B</td>\n",
       "      <td>2</td>\n",
       "    </tr>\n",
       "    <tr>\n",
       "      <th>4</th>\n",
       "      <td>2015S009751</td>\n",
       "      <td>Motocicleta</td>\n",
       "      <td>AGILITY 125</td>\n",
       "      <td>KYMCO</td>\n",
       "      <td>Negre</td>\n",
       "      <td>B</td>\n",
       "      <td>4</td>\n",
       "    </tr>\n",
       "  </tbody>\n",
       "</table>\n",
       "</div>"
      ],
      "text/plain": [
       "  Num_expediente Tipo_vehiculo       Modelo    Marca  Color Tipo_carnet  \\\n",
       "0    2015S004912       Turismo       ALMERA   NISSAN   Gris           B   \n",
       "1    2015S002169       Turismo        ASTRA     OPEL   Gris           B   \n",
       "2    2015S003045       Turismo         SAXO  CITROEN  Blanc           B   \n",
       "3    2015S002476       Turismo         JAZZ    HONDA   Gris           B   \n",
       "4    2015S009751   Motocicleta  AGILITY 125    KYMCO  Negre           B   \n",
       "\n",
       "  Antiguedad_carnet  \n",
       "0                36  \n",
       "1                 1  \n",
       "2                 3  \n",
       "3                 2  \n",
       "4                 4  "
      ]
     },
     "execution_count": 27,
     "metadata": {},
     "output_type": "execute_result"
    }
   ],
   "source": [
    "def marca(a):\n",
    "    if a.Marca == 'M.A.N.':\n",
    "        b='MAN'\n",
    "    elif a.Marca == 'A U D I':\n",
    "        b='AUDI'\n",
    "    elif a.Marca == 'M A N':\n",
    "        b='MAN'\n",
    "    elif a.Marca == 'A.U.D.I.':\n",
    "        b='AUDI'\n",
    "    elif a.Marca == 'B.M.W.':\n",
    "        b='BMW'\n",
    "    elif a.Marca == 'ES DESCONEIX':\n",
    "        b='Desconocido'\n",
    "    elif a.Marca == 'K.T.M.':\n",
    "        b='KTM'\n",
    "    elif a.Marca == 'S.Y.M':\n",
    "        b='SYM'\n",
    "    elif a.Marca == 'MECEDES':\n",
    "        b='MERCEDES-BENZ'\n",
    "    elif a.Marca == 'MERCEDES B':\n",
    "        b='MERCEDES-BENZ'\n",
    "    elif a.Marca == 'MERCEDES':\n",
    "        b='MERCEDES-BENZ'\n",
    "    elif a.Marca == 'Desconegut':\n",
    "        b='Desconocido'\n",
    "    elif a.Marca == 'A.U.S.A.':\n",
    "        b='AUSA'\n",
    "    else: b = a.Marca\n",
    "    return b\n",
    "   \n",
    "vehiculos['Marca'] = vehiculos.apply(marca, axis=1)\n",
    "vehiculos.head()"
   ]
  },
  {
   "cell_type": "markdown",
   "metadata": {},
   "source": [
    "A continuación se visualizan los colores."
   ]
  },
  {
   "cell_type": "code",
   "execution_count": 28,
   "metadata": {},
   "outputs": [
    {
     "data": {
      "text/plain": [
       "array(['Gris', 'Blanc', 'Negre', 'Negre/Groc', 'Vermell', 'Blau',\n",
       "       'Desconegut', 'Altres', 'Verd', 'Groc', 'Marró', 'granate',\n",
       "       'Platejat', 'Daurat', 'Taronja', 'Beige', 'Violeta', 'Rosa', nan],\n",
       "      dtype=object)"
      ]
     },
     "execution_count": 28,
     "metadata": {},
     "output_type": "execute_result"
    }
   ],
   "source": [
    "vehiculos.Color.unique()"
   ]
  },
  {
   "cell_type": "markdown",
   "metadata": {},
   "source": [
    "Los colores están en catalán y a continuación se traducen a español:"
   ]
  },
  {
   "cell_type": "code",
   "execution_count": 29,
   "metadata": {},
   "outputs": [
    {
     "data": {
      "text/html": [
       "<div>\n",
       "<style scoped>\n",
       "    .dataframe tbody tr th:only-of-type {\n",
       "        vertical-align: middle;\n",
       "    }\n",
       "\n",
       "    .dataframe tbody tr th {\n",
       "        vertical-align: top;\n",
       "    }\n",
       "\n",
       "    .dataframe thead th {\n",
       "        text-align: right;\n",
       "    }\n",
       "</style>\n",
       "<table border=\"1\" class=\"dataframe\">\n",
       "  <thead>\n",
       "    <tr style=\"text-align: right;\">\n",
       "      <th></th>\n",
       "      <th>Num_expediente</th>\n",
       "      <th>Tipo_vehiculo</th>\n",
       "      <th>Modelo</th>\n",
       "      <th>Marca</th>\n",
       "      <th>Color</th>\n",
       "      <th>Tipo_carnet</th>\n",
       "      <th>Antiguedad_carnet</th>\n",
       "    </tr>\n",
       "  </thead>\n",
       "  <tbody>\n",
       "    <tr>\n",
       "      <th>0</th>\n",
       "      <td>2015S004912</td>\n",
       "      <td>Turismo</td>\n",
       "      <td>ALMERA</td>\n",
       "      <td>NISSAN</td>\n",
       "      <td>Gris</td>\n",
       "      <td>B</td>\n",
       "      <td>36</td>\n",
       "    </tr>\n",
       "    <tr>\n",
       "      <th>1</th>\n",
       "      <td>2015S002169</td>\n",
       "      <td>Turismo</td>\n",
       "      <td>ASTRA</td>\n",
       "      <td>OPEL</td>\n",
       "      <td>Gris</td>\n",
       "      <td>B</td>\n",
       "      <td>1</td>\n",
       "    </tr>\n",
       "    <tr>\n",
       "      <th>2</th>\n",
       "      <td>2015S003045</td>\n",
       "      <td>Turismo</td>\n",
       "      <td>SAXO</td>\n",
       "      <td>CITROEN</td>\n",
       "      <td>Blanco</td>\n",
       "      <td>B</td>\n",
       "      <td>3</td>\n",
       "    </tr>\n",
       "    <tr>\n",
       "      <th>3</th>\n",
       "      <td>2015S002476</td>\n",
       "      <td>Turismo</td>\n",
       "      <td>JAZZ</td>\n",
       "      <td>HONDA</td>\n",
       "      <td>Gris</td>\n",
       "      <td>B</td>\n",
       "      <td>2</td>\n",
       "    </tr>\n",
       "    <tr>\n",
       "      <th>4</th>\n",
       "      <td>2015S009751</td>\n",
       "      <td>Motocicleta</td>\n",
       "      <td>AGILITY 125</td>\n",
       "      <td>KYMCO</td>\n",
       "      <td>Negro</td>\n",
       "      <td>B</td>\n",
       "      <td>4</td>\n",
       "    </tr>\n",
       "  </tbody>\n",
       "</table>\n",
       "</div>"
      ],
      "text/plain": [
       "  Num_expediente Tipo_vehiculo       Modelo    Marca   Color Tipo_carnet  \\\n",
       "0    2015S004912       Turismo       ALMERA   NISSAN    Gris           B   \n",
       "1    2015S002169       Turismo        ASTRA     OPEL    Gris           B   \n",
       "2    2015S003045       Turismo         SAXO  CITROEN  Blanco           B   \n",
       "3    2015S002476       Turismo         JAZZ    HONDA    Gris           B   \n",
       "4    2015S009751   Motocicleta  AGILITY 125    KYMCO   Negro           B   \n",
       "\n",
       "  Antiguedad_carnet  \n",
       "0                36  \n",
       "1                 1  \n",
       "2                 3  \n",
       "3                 2  \n",
       "4                 4  "
      ]
     },
     "execution_count": 29,
     "metadata": {},
     "output_type": "execute_result"
    }
   ],
   "source": [
    "def color(a):\n",
    "    if a.Color == 'Blanc':\n",
    "        b='Blanco'\n",
    "    elif a.Color == 'Negre':\n",
    "        b='Negro'\n",
    "    elif a.Color == 'Negre/Groc':\n",
    "        b='Negro/Amarillo'\n",
    "    elif a.Color == 'Vermell':\n",
    "        b='Rojo'\n",
    "    elif a.Color == 'Blau':\n",
    "        b='Azul'\n",
    "    elif a.Color == 'Desconegut':\n",
    "        b='Desconocido'\n",
    "    elif a.Color == 'Altres':\n",
    "        b='Otros'\n",
    "    elif a.Color == 'Verd':\n",
    "        b='Verde'\n",
    "    elif a.Color == 'Groc':\n",
    "        b='Amarillo'\n",
    "    elif a.Color == 'Marró':\n",
    "        b='Marrón'\n",
    "    elif a.Color == 'Platejat':\n",
    "        b='Plateado'\n",
    "    elif a.Color == 'Daurat':\n",
    "        b='Dorado'\n",
    "    elif a.Color == 'Taronja':\n",
    "        b='Naranja'\n",
    "    else: b = a.Color\n",
    "    return b\n",
    "   \n",
    "vehiculos['Color'] = vehiculos.apply(color, axis=1)\n",
    "vehiculos.head()"
   ]
  },
  {
   "cell_type": "markdown",
   "metadata": {},
   "source": [
    "Se verifican los cambios:"
   ]
  },
  {
   "cell_type": "code",
   "execution_count": 30,
   "metadata": {},
   "outputs": [
    {
     "data": {
      "text/plain": [
       "array(['Gris', 'Blanco', 'Negro', 'Negro/Amarillo', 'Rojo', 'Azul',\n",
       "       'Desconocido', 'Otros', 'Verde', 'Amarillo', 'Marrón', 'granate',\n",
       "       'Plateado', 'Dorado', 'Naranja', 'Beige', 'Violeta', 'Rosa', nan],\n",
       "      dtype=object)"
      ]
     },
     "execution_count": 30,
     "metadata": {},
     "output_type": "execute_result"
    }
   ],
   "source": [
    "vehiculos.Color.unique()"
   ]
  },
  {
   "cell_type": "markdown",
   "metadata": {},
   "source": [
    "A continuación se visualizan los tipos de carnet en la base de datos:"
   ]
  },
  {
   "cell_type": "code",
   "execution_count": 31,
   "metadata": {},
   "outputs": [
    {
     "data": {
      "text/plain": [
       "array(['B', 'BTP', 'D', 'A', 'A1', 'Desconegut', 'AM', 'A2', 'C', 'E C',\n",
       "       'C1', 'E C1', 'Llicència', 'B1', 'E D', 'D1', 'E B', nan, 'E D1',\n",
       "       'Es desconeix', 'Sense permís'], dtype=object)"
      ]
     },
     "execution_count": 31,
     "metadata": {},
     "output_type": "execute_result"
    }
   ],
   "source": [
    "vehiculos.Tipo_carnet.unique()"
   ]
  },
  {
   "cell_type": "markdown",
   "metadata": {},
   "source": [
    "Hay tipos de carnet que tienen las letras escritas al revés de cómo aparecen en la parte trasera de las licencias. También aparece \"Llicència\" y se toma como desconocido."
   ]
  },
  {
   "cell_type": "code",
   "execution_count": 32,
   "metadata": {},
   "outputs": [
    {
     "data": {
      "text/html": [
       "<div>\n",
       "<style scoped>\n",
       "    .dataframe tbody tr th:only-of-type {\n",
       "        vertical-align: middle;\n",
       "    }\n",
       "\n",
       "    .dataframe tbody tr th {\n",
       "        vertical-align: top;\n",
       "    }\n",
       "\n",
       "    .dataframe thead th {\n",
       "        text-align: right;\n",
       "    }\n",
       "</style>\n",
       "<table border=\"1\" class=\"dataframe\">\n",
       "  <thead>\n",
       "    <tr style=\"text-align: right;\">\n",
       "      <th></th>\n",
       "      <th>Num_expediente</th>\n",
       "      <th>Tipo_vehiculo</th>\n",
       "      <th>Modelo</th>\n",
       "      <th>Marca</th>\n",
       "      <th>Color</th>\n",
       "      <th>Tipo_carnet</th>\n",
       "      <th>Antiguedad_carnet</th>\n",
       "    </tr>\n",
       "  </thead>\n",
       "  <tbody>\n",
       "    <tr>\n",
       "      <th>0</th>\n",
       "      <td>2015S004912</td>\n",
       "      <td>Turismo</td>\n",
       "      <td>ALMERA</td>\n",
       "      <td>NISSAN</td>\n",
       "      <td>Gris</td>\n",
       "      <td>B</td>\n",
       "      <td>36</td>\n",
       "    </tr>\n",
       "    <tr>\n",
       "      <th>1</th>\n",
       "      <td>2015S002169</td>\n",
       "      <td>Turismo</td>\n",
       "      <td>ASTRA</td>\n",
       "      <td>OPEL</td>\n",
       "      <td>Gris</td>\n",
       "      <td>B</td>\n",
       "      <td>1</td>\n",
       "    </tr>\n",
       "    <tr>\n",
       "      <th>2</th>\n",
       "      <td>2015S003045</td>\n",
       "      <td>Turismo</td>\n",
       "      <td>SAXO</td>\n",
       "      <td>CITROEN</td>\n",
       "      <td>Blanco</td>\n",
       "      <td>B</td>\n",
       "      <td>3</td>\n",
       "    </tr>\n",
       "    <tr>\n",
       "      <th>3</th>\n",
       "      <td>2015S002476</td>\n",
       "      <td>Turismo</td>\n",
       "      <td>JAZZ</td>\n",
       "      <td>HONDA</td>\n",
       "      <td>Gris</td>\n",
       "      <td>B</td>\n",
       "      <td>2</td>\n",
       "    </tr>\n",
       "    <tr>\n",
       "      <th>4</th>\n",
       "      <td>2015S009751</td>\n",
       "      <td>Motocicleta</td>\n",
       "      <td>AGILITY 125</td>\n",
       "      <td>KYMCO</td>\n",
       "      <td>Negro</td>\n",
       "      <td>B</td>\n",
       "      <td>4</td>\n",
       "    </tr>\n",
       "  </tbody>\n",
       "</table>\n",
       "</div>"
      ],
      "text/plain": [
       "  Num_expediente Tipo_vehiculo       Modelo    Marca   Color Tipo_carnet  \\\n",
       "0    2015S004912       Turismo       ALMERA   NISSAN    Gris           B   \n",
       "1    2015S002169       Turismo        ASTRA     OPEL    Gris           B   \n",
       "2    2015S003045       Turismo         SAXO  CITROEN  Blanco           B   \n",
       "3    2015S002476       Turismo         JAZZ    HONDA    Gris           B   \n",
       "4    2015S009751   Motocicleta  AGILITY 125    KYMCO   Negro           B   \n",
       "\n",
       "  Antiguedad_carnet  \n",
       "0                36  \n",
       "1                 1  \n",
       "2                 3  \n",
       "3                 2  \n",
       "4                 4  "
      ]
     },
     "execution_count": 32,
     "metadata": {},
     "output_type": "execute_result"
    }
   ],
   "source": [
    "def carnet(a):\n",
    "    if a.Tipo_carnet == 'E C1':\n",
    "        b='C1E'\n",
    "    elif a.Tipo_carnet == 'E D':\n",
    "        b='DE'\n",
    "    elif a.Tipo_carnet == 'E B':\n",
    "        b='BE'\n",
    "    elif a.Tipo_carnet == 'E C':\n",
    "        b='CE'\n",
    "    elif a.Tipo_carnet == 'E D1':\n",
    "        b='D1E'\n",
    "    elif a.Tipo_carnet == 'Desconegut':\n",
    "        b='Desconocido'\n",
    "    elif a.Tipo_carnet == 'Es desconeix':\n",
    "        b='Desconocido'\n",
    "    elif a.Tipo_carnet == 'Sense permís':\n",
    "        b='Sin permiso'\n",
    "    elif a.Tipo_carnet == 'Llicència':\n",
    "        b='Desconocido'\n",
    "    else: b = a.Tipo_carnet\n",
    "    return b\n",
    "   \n",
    "vehiculos['Tipo_carnet'] = vehiculos.apply(carnet, axis=1)\n",
    "vehiculos.head()"
   ]
  },
  {
   "cell_type": "markdown",
   "metadata": {},
   "source": [
    "A continuación se revisa la antiguedad del carnet:"
   ]
  },
  {
   "cell_type": "code",
   "execution_count": 33,
   "metadata": {},
   "outputs": [
    {
     "data": {
      "text/plain": [
       "array(['36', '1', '3', '2', '4', '16', '6', '17', '26', '5', '19', '24',\n",
       "       '20', '15', '10', 'Desconegut', '28', '9', '25', '7', '8', '0',\n",
       "       '21', '47', '12', '18', '32', '11', '30', '13', '14', '29', '42',\n",
       "       '40', '39', '23', '27', '22', '34', '31', '49', '35', '37', '43',\n",
       "       '48', '33', '53', '51', '46', '41', '-70', '38', '56', '50', '54',\n",
       "       '45', '52', '44', '-947', '57', '55', '58', '71', '-41', '63',\n",
       "       '60', '61', '-48', '59', '-47', '-45', '65', '67', '-2', '-28',\n",
       "       '69', '1018', '62', '-72', '66', '64', '73', '-5', '1818', '-46',\n",
       "       '-484', '68', nan, '-972', '-189'], dtype=object)"
      ]
     },
     "execution_count": 33,
     "metadata": {},
     "output_type": "execute_result"
    }
   ],
   "source": [
    "vehiculos.Antiguedad_carnet.unique()"
   ]
  },
  {
   "cell_type": "markdown",
   "metadata": {},
   "source": [
    "Se puede visualizar que hay datos negativos y también con más de mil años. A continuación se limpian todos los datos negativos y edades con más de 120 años y se toman como valores desconocidos:"
   ]
  },
  {
   "cell_type": "code",
   "execution_count": 34,
   "metadata": {},
   "outputs": [
    {
     "data": {
      "text/html": [
       "<div>\n",
       "<style scoped>\n",
       "    .dataframe tbody tr th:only-of-type {\n",
       "        vertical-align: middle;\n",
       "    }\n",
       "\n",
       "    .dataframe tbody tr th {\n",
       "        vertical-align: top;\n",
       "    }\n",
       "\n",
       "    .dataframe thead th {\n",
       "        text-align: right;\n",
       "    }\n",
       "</style>\n",
       "<table border=\"1\" class=\"dataframe\">\n",
       "  <thead>\n",
       "    <tr style=\"text-align: right;\">\n",
       "      <th></th>\n",
       "      <th>Num_expediente</th>\n",
       "      <th>Tipo_vehiculo</th>\n",
       "      <th>Modelo</th>\n",
       "      <th>Marca</th>\n",
       "      <th>Color</th>\n",
       "      <th>Tipo_carnet</th>\n",
       "      <th>Antiguedad_carnet</th>\n",
       "    </tr>\n",
       "  </thead>\n",
       "  <tbody>\n",
       "    <tr>\n",
       "      <th>0</th>\n",
       "      <td>2015S004912</td>\n",
       "      <td>Turismo</td>\n",
       "      <td>ALMERA</td>\n",
       "      <td>NISSAN</td>\n",
       "      <td>Gris</td>\n",
       "      <td>B</td>\n",
       "      <td>36</td>\n",
       "    </tr>\n",
       "    <tr>\n",
       "      <th>1</th>\n",
       "      <td>2015S002169</td>\n",
       "      <td>Turismo</td>\n",
       "      <td>ASTRA</td>\n",
       "      <td>OPEL</td>\n",
       "      <td>Gris</td>\n",
       "      <td>B</td>\n",
       "      <td>1</td>\n",
       "    </tr>\n",
       "    <tr>\n",
       "      <th>2</th>\n",
       "      <td>2015S003045</td>\n",
       "      <td>Turismo</td>\n",
       "      <td>SAXO</td>\n",
       "      <td>CITROEN</td>\n",
       "      <td>Blanco</td>\n",
       "      <td>B</td>\n",
       "      <td>3</td>\n",
       "    </tr>\n",
       "    <tr>\n",
       "      <th>3</th>\n",
       "      <td>2015S002476</td>\n",
       "      <td>Turismo</td>\n",
       "      <td>JAZZ</td>\n",
       "      <td>HONDA</td>\n",
       "      <td>Gris</td>\n",
       "      <td>B</td>\n",
       "      <td>2</td>\n",
       "    </tr>\n",
       "    <tr>\n",
       "      <th>4</th>\n",
       "      <td>2015S009751</td>\n",
       "      <td>Motocicleta</td>\n",
       "      <td>AGILITY 125</td>\n",
       "      <td>KYMCO</td>\n",
       "      <td>Negro</td>\n",
       "      <td>B</td>\n",
       "      <td>4</td>\n",
       "    </tr>\n",
       "  </tbody>\n",
       "</table>\n",
       "</div>"
      ],
      "text/plain": [
       "  Num_expediente Tipo_vehiculo       Modelo    Marca   Color Tipo_carnet  \\\n",
       "0    2015S004912       Turismo       ALMERA   NISSAN    Gris           B   \n",
       "1    2015S002169       Turismo        ASTRA     OPEL    Gris           B   \n",
       "2    2015S003045       Turismo         SAXO  CITROEN  Blanco           B   \n",
       "3    2015S002476       Turismo         JAZZ    HONDA    Gris           B   \n",
       "4    2015S009751   Motocicleta  AGILITY 125    KYMCO   Negro           B   \n",
       "\n",
       "  Antiguedad_carnet  \n",
       "0                36  \n",
       "1                 1  \n",
       "2                 3  \n",
       "3                 2  \n",
       "4                 4  "
      ]
     },
     "execution_count": 34,
     "metadata": {},
     "output_type": "execute_result"
    }
   ],
   "source": [
    "def antiguedad(a):\n",
    "    if a.Antiguedad_carnet == '-947':\n",
    "        b='Desconocido'\n",
    "    elif a.Antiguedad_carnet == '1018':\n",
    "        b='Desconocido'\n",
    "    elif a.Antiguedad_carnet == '-70':\n",
    "        b='Desconocido'\n",
    "    elif a.Antiguedad_carnet == '-41':\n",
    "        b='Desconocido'\n",
    "    elif a.Antiguedad_carnet == '-48':\n",
    "        b='Desconocido'\n",
    "    elif a.Antiguedad_carnet == 'Desconegut':\n",
    "        b='Desconocido'\n",
    "    elif a.Antiguedad_carnet == '-47':\n",
    "        b='Desconocido'\n",
    "    elif a.Antiguedad_carnet == '-45':\n",
    "        b='Desconocido'\n",
    "    elif a.Antiguedad_carnet == '-2':\n",
    "        b='Desconocido'\n",
    "    elif a.Antiguedad_carnet == '-28':\n",
    "        b='Desconocido'\n",
    "    elif a.Antiguedad_carnet == '-72':\n",
    "        b='Desconocido'\n",
    "    elif a.Antiguedad_carnet == '-5':\n",
    "        b='Desconocido'      \n",
    "    elif a.Antiguedad_carnet == '1818':\n",
    "        b='Desconocido'\n",
    "    elif a.Antiguedad_carnet == '-46':\n",
    "        b='Desconocido'\n",
    "    elif a.Antiguedad_carnet == '-484':\n",
    "        b='Desconocido'\n",
    "    elif a.Antiguedad_carnet == '-972':\n",
    "        b='Desconocido'\n",
    "    elif a.Antiguedad_carnet == '-189':\n",
    "        b='Desconocido'\n",
    "    else: b = a.Antiguedad_carnet\n",
    "    return b\n",
    "   \n",
    "vehiculos['Antiguedad_carnet'] = vehiculos.apply(antiguedad, axis=1)\n",
    "vehiculos.head()"
   ]
  },
  {
   "cell_type": "markdown",
   "metadata": {},
   "source": [
    "Se verifican los cambios:"
   ]
  },
  {
   "cell_type": "code",
   "execution_count": 35,
   "metadata": {},
   "outputs": [
    {
     "data": {
      "text/plain": [
       "array(['36', '1', '3', '2', '4', '16', '6', '17', '26', '5', '19', '24',\n",
       "       '20', '15', '10', 'Desconocido', '28', '9', '25', '7', '8', '0',\n",
       "       '21', '47', '12', '18', '32', '11', '30', '13', '14', '29', '42',\n",
       "       '40', '39', '23', '27', '22', '34', '31', '49', '35', '37', '43',\n",
       "       '48', '33', '53', '51', '46', '41', '38', '56', '50', '54', '45',\n",
       "       '52', '44', '57', '55', '58', '71', '63', '60', '61', '59', '65',\n",
       "       '67', '69', '62', '66', '64', '73', '68', nan], dtype=object)"
      ]
     },
     "execution_count": 35,
     "metadata": {},
     "output_type": "execute_result"
    }
   ],
   "source": [
    "vehiculos.Antiguedad_carnet.unique()"
   ]
  },
  {
   "cell_type": "markdown",
   "metadata": {},
   "source": [
    "A continuación se exporta en formato csv:"
   ]
  },
  {
   "cell_type": "code",
   "execution_count": 36,
   "metadata": {},
   "outputs": [],
   "source": [
    "vehiculos.to_csv(\"vehiculos.csv\",index=0, encoding=\"utf-8\")"
   ]
  },
  {
   "cell_type": "markdown",
   "metadata": {},
   "source": [
    "A continuación se importa el nuevo csv para verificar que se hayan exportado los datos de manera correcta: "
   ]
  },
  {
   "cell_type": "code",
   "execution_count": 37,
   "metadata": {},
   "outputs": [],
   "source": [
    "prueba=pd.read_csv('vehiculos.csv', index_col=False)"
   ]
  },
  {
   "cell_type": "code",
   "execution_count": 38,
   "metadata": {},
   "outputs": [
    {
     "data": {
      "text/html": [
       "<div>\n",
       "<style scoped>\n",
       "    .dataframe tbody tr th:only-of-type {\n",
       "        vertical-align: middle;\n",
       "    }\n",
       "\n",
       "    .dataframe tbody tr th {\n",
       "        vertical-align: top;\n",
       "    }\n",
       "\n",
       "    .dataframe thead th {\n",
       "        text-align: right;\n",
       "    }\n",
       "</style>\n",
       "<table border=\"1\" class=\"dataframe\">\n",
       "  <thead>\n",
       "    <tr style=\"text-align: right;\">\n",
       "      <th></th>\n",
       "      <th>Num_expediente</th>\n",
       "      <th>Tipo_vehiculo</th>\n",
       "      <th>Modelo</th>\n",
       "      <th>Marca</th>\n",
       "      <th>Color</th>\n",
       "      <th>Tipo_carnet</th>\n",
       "      <th>Antiguedad_carnet</th>\n",
       "    </tr>\n",
       "  </thead>\n",
       "  <tbody>\n",
       "    <tr>\n",
       "      <th>0</th>\n",
       "      <td>2015S004912</td>\n",
       "      <td>Turismo</td>\n",
       "      <td>ALMERA</td>\n",
       "      <td>NISSAN</td>\n",
       "      <td>Gris</td>\n",
       "      <td>B</td>\n",
       "      <td>36</td>\n",
       "    </tr>\n",
       "    <tr>\n",
       "      <th>1</th>\n",
       "      <td>2015S002169</td>\n",
       "      <td>Turismo</td>\n",
       "      <td>ASTRA</td>\n",
       "      <td>OPEL</td>\n",
       "      <td>Gris</td>\n",
       "      <td>B</td>\n",
       "      <td>1</td>\n",
       "    </tr>\n",
       "    <tr>\n",
       "      <th>2</th>\n",
       "      <td>2015S003045</td>\n",
       "      <td>Turismo</td>\n",
       "      <td>SAXO</td>\n",
       "      <td>CITROEN</td>\n",
       "      <td>Blanco</td>\n",
       "      <td>B</td>\n",
       "      <td>3</td>\n",
       "    </tr>\n",
       "    <tr>\n",
       "      <th>3</th>\n",
       "      <td>2015S002476</td>\n",
       "      <td>Turismo</td>\n",
       "      <td>JAZZ</td>\n",
       "      <td>HONDA</td>\n",
       "      <td>Gris</td>\n",
       "      <td>B</td>\n",
       "      <td>2</td>\n",
       "    </tr>\n",
       "    <tr>\n",
       "      <th>4</th>\n",
       "      <td>2015S009751</td>\n",
       "      <td>Motocicleta</td>\n",
       "      <td>AGILITY 125</td>\n",
       "      <td>KYMCO</td>\n",
       "      <td>Negro</td>\n",
       "      <td>B</td>\n",
       "      <td>4</td>\n",
       "    </tr>\n",
       "  </tbody>\n",
       "</table>\n",
       "</div>"
      ],
      "text/plain": [
       "  Num_expediente Tipo_vehiculo       Modelo    Marca   Color Tipo_carnet  \\\n",
       "0    2015S004912       Turismo       ALMERA   NISSAN    Gris           B   \n",
       "1    2015S002169       Turismo        ASTRA     OPEL    Gris           B   \n",
       "2    2015S003045       Turismo         SAXO  CITROEN  Blanco           B   \n",
       "3    2015S002476       Turismo         JAZZ    HONDA    Gris           B   \n",
       "4    2015S009751   Motocicleta  AGILITY 125    KYMCO   Negro           B   \n",
       "\n",
       "  Antiguedad_carnet  \n",
       "0                36  \n",
       "1                 1  \n",
       "2                 3  \n",
       "3                 2  \n",
       "4                 4  "
      ]
     },
     "execution_count": 38,
     "metadata": {},
     "output_type": "execute_result"
    }
   ],
   "source": [
    "prueba.head()"
   ]
  },
  {
   "cell_type": "code",
   "execution_count": 39,
   "metadata": {},
   "outputs": [
    {
     "data": {
      "text/html": [
       "<div>\n",
       "<style scoped>\n",
       "    .dataframe tbody tr th:only-of-type {\n",
       "        vertical-align: middle;\n",
       "    }\n",
       "\n",
       "    .dataframe tbody tr th {\n",
       "        vertical-align: top;\n",
       "    }\n",
       "\n",
       "    .dataframe thead th {\n",
       "        text-align: right;\n",
       "    }\n",
       "</style>\n",
       "<table border=\"1\" class=\"dataframe\">\n",
       "  <thead>\n",
       "    <tr style=\"text-align: right;\">\n",
       "      <th></th>\n",
       "      <th>Num_expediente</th>\n",
       "      <th>Tipo_vehiculo</th>\n",
       "      <th>Modelo</th>\n",
       "      <th>Marca</th>\n",
       "      <th>Color</th>\n",
       "      <th>Tipo_carnet</th>\n",
       "      <th>Antiguedad_carnet</th>\n",
       "    </tr>\n",
       "  </thead>\n",
       "  <tbody>\n",
       "    <tr>\n",
       "      <th>58437</th>\n",
       "      <td>2017S010782</td>\n",
       "      <td>Turismo</td>\n",
       "      <td>IBIZA</td>\n",
       "      <td>SEAT</td>\n",
       "      <td>Blanco</td>\n",
       "      <td>Desconocido</td>\n",
       "      <td>Desconocido</td>\n",
       "    </tr>\n",
       "    <tr>\n",
       "      <th>58438</th>\n",
       "      <td>2017S010783</td>\n",
       "      <td>Motocicleta</td>\n",
       "      <td>SCOOPY 125</td>\n",
       "      <td>HONDA</td>\n",
       "      <td>Negro</td>\n",
       "      <td>B</td>\n",
       "      <td>11</td>\n",
       "    </tr>\n",
       "    <tr>\n",
       "      <th>58439</th>\n",
       "      <td>2017S010783</td>\n",
       "      <td>Taxi</td>\n",
       "      <td>PRIUS</td>\n",
       "      <td>TOYOTA</td>\n",
       "      <td>Desconocido</td>\n",
       "      <td>BTP</td>\n",
       "      <td>35</td>\n",
       "    </tr>\n",
       "    <tr>\n",
       "      <th>58440</th>\n",
       "      <td>2017S010784</td>\n",
       "      <td>Taxi</td>\n",
       "      <td>CADDY</td>\n",
       "      <td>VOLKSWAGEN</td>\n",
       "      <td>Negro/Amarillo</td>\n",
       "      <td>B</td>\n",
       "      <td>5</td>\n",
       "    </tr>\n",
       "    <tr>\n",
       "      <th>58441</th>\n",
       "      <td>2017S010785</td>\n",
       "      <td>Taxi</td>\n",
       "      <td>OCTAVIA</td>\n",
       "      <td>SKODA</td>\n",
       "      <td>Negro/Amarillo</td>\n",
       "      <td>Desconocido</td>\n",
       "      <td>Desconocido</td>\n",
       "    </tr>\n",
       "  </tbody>\n",
       "</table>\n",
       "</div>"
      ],
      "text/plain": [
       "        Num_expediente Tipo_vehiculo      Modelo       Marca           Color  \\\n",
       "58437  2017S010782           Turismo       IBIZA        SEAT          Blanco   \n",
       "58438  2017S010783       Motocicleta  SCOOPY 125       HONDA           Negro   \n",
       "58439  2017S010783              Taxi       PRIUS      TOYOTA     Desconocido   \n",
       "58440  2017S010784              Taxi       CADDY  VOLKSWAGEN  Negro/Amarillo   \n",
       "58441  2017S010785              Taxi     OCTAVIA       SKODA  Negro/Amarillo   \n",
       "\n",
       "       Tipo_carnet Antiguedad_carnet  \n",
       "58437  Desconocido       Desconocido  \n",
       "58438            B                11  \n",
       "58439          BTP                35  \n",
       "58440            B                 5  \n",
       "58441  Desconocido       Desconocido  "
      ]
     },
     "execution_count": 39,
     "metadata": {},
     "output_type": "execute_result"
    }
   ],
   "source": [
    "prueba.tail()"
   ]
  }
 ],
 "metadata": {
  "kernelspec": {
   "display_name": "Python 3",
   "language": "python",
   "name": "python3"
  },
  "language_info": {
   "codemirror_mode": {
    "name": "ipython",
    "version": 3
   },
   "file_extension": ".py",
   "mimetype": "text/x-python",
   "name": "python",
   "nbconvert_exporter": "python",
   "pygments_lexer": "ipython3",
   "version": "3.7.0"
  }
 },
 "nbformat": 4,
 "nbformat_minor": 2
}
